{
 "cells": [
  {
   "cell_type": "markdown",
   "metadata": {
    "collapsed": false,
    "jupyter": {
     "outputs_hidden": false
    },
    "pycharm": {
     "name": "#%% md\n"
    }
   },
   "source": [
    "# Pianist classification using melodic and rhythmic features"
   ]
  },
  {
   "cell_type": "markdown",
   "metadata": {
    "collapsed": false,
    "jupyter": {
     "outputs_hidden": false
    },
    "pycharm": {
     "name": "#%% md\n"
    }
   },
   "source": [
    "## Import dependencies and set constants, etc."
   ]
  },
  {
   "cell_type": "code",
   "execution_count": 43,
   "metadata": {
    "collapsed": false,
    "jupyter": {
     "outputs_hidden": false
    },
    "pycharm": {
     "name": "#%%\n"
    }
   },
   "outputs": [],
   "source": [
    "import os\n",
    "from collections import Counter\n",
    "\n",
    "import numpy as np\n",
    "import pandas as pd\n",
    "import matplotlib.pyplot as plt\n",
    "import seaborn as sns\n",
    "from librosa import load\n",
    "from soundfile import write\n",
    "from tqdm.notebook import tqdm\n",
    "from joblib import Parallel, delayed\n",
    "\n",
    "import src.visualise.visualise_utils as vutils\n",
    "from src import utils\n",
    "from src.detect.midi_utils import *\n",
    "from src.features.melody_features import *\n",
    "from src.features.rhythm_features import *"
   ]
  },
  {
   "cell_type": "code",
   "execution_count": 2,
   "metadata": {},
   "outputs": [],
   "source": [
    "SEED = 42"
   ]
  },
  {
   "cell_type": "code",
   "execution_count": 3,
   "metadata": {
    "collapsed": false,
    "jupyter": {
     "outputs_hidden": false
    },
    "pycharm": {
     "name": "#%%\n"
    }
   },
   "outputs": [],
   "source": [
    "smallest_n_gram = 3\n",
    "largest_n_gram = 3\n",
    "n_tracks_min = 10\n",
    "MAX_INTERVAL = 12"
   ]
  },
  {
   "cell_type": "markdown",
   "metadata": {
    "collapsed": false,
    "jupyter": {
     "outputs_hidden": false
    },
    "pycharm": {
     "name": "#%% md\n"
    }
   },
   "source": [
    "## Pre-processing"
   ]
  },
  {
   "cell_type": "code",
   "execution_count": 4,
   "metadata": {
    "collapsed": false,
    "jupyter": {
     "outputs_hidden": false
    },
    "pycharm": {
     "name": "#%%\n"
    }
   },
   "outputs": [],
   "source": [
    "# Get filepaths for processing\n",
    "root = f'{utils.get_project_root()}/data/cambridge-jazz-trio-database-v02/'"
   ]
  },
  {
   "cell_type": "code",
   "execution_count": 5,
   "metadata": {
    "collapsed": false,
    "jupyter": {
     "outputs_hidden": false
    },
    "pycharm": {
     "name": "#%%\n"
    }
   },
   "outputs": [],
   "source": [
    "# Load in onsets and beats for each track\n",
    "oms = utils.load_corpus_from_files(root)"
   ]
  },
  {
   "cell_type": "code",
   "execution_count": 6,
   "metadata": {
    "collapsed": false,
    "jupyter": {
     "outputs_hidden": false
    },
    "pycharm": {
     "name": "#%%\n"
    }
   },
   "outputs": [],
   "source": [
    "# Extract melody for each track\n",
    "mms = [\n",
    "    MelodyMaker(\n",
    "        f'{root}/{om.item[\"fname\"]}/piano_midi.mid', \n",
    "        beats=om.ons['mix'], \n",
    "        downbeats=om.ons['downbeats_auto'], \n",
    "        tempo=om.item['tempo'], \n",
    "        time_signature=om.item['time_signature']\n",
    "    ) for om in oms\n",
    "]"
   ]
  },
  {
   "cell_type": "markdown",
   "metadata": {
    "collapsed": false,
    "jupyter": {
     "outputs_hidden": false
    },
    "pycharm": {
     "name": "#%% md\n"
    }
   },
   "source": [
    "## Create histogram of pitch classes for one random track"
   ]
  },
  {
   "cell_type": "code",
   "execution_count": 9,
   "metadata": {
    "collapsed": false,
    "jupyter": {
     "outputs_hidden": false
    },
    "pycharm": {
     "name": "#%%\n"
    }
   },
   "outputs": [
    {
     "data": {
      "image/png": "[encoded data removed]",
      "text/plain": [
       "<Figure size 640x480 with 1 Axes>"
      ]
     },
     "metadata": {},
     "output_type": "display_data"
    }
   ],
   "source": [
    "# Create a histogram for the pitch classes in one track\n",
    "# Extract the melody for our first track\n",
    "track = mms[10]\n",
    "mel = list(track.extract_melody())\n",
    "# Count the pitch classes\n",
    "pitch_classes = Counter([m.note for m in mel])\n",
    "# Sort the pitch classes in order of the piano keys\n",
    "sorted_pitches = {i: pitch_classes[i] for i in utils.ALL_PITCHES}\n",
    "# Create the bar chart\n",
    "colors = [vutils.WHITE if '#' not in i else vutils.BLACK for i in utils.ALL_PITCHES]\n",
    "plt.bar(sorted_pitches.keys(), sorted_pitches.values(), color=colors, edgecolor=vutils.BLACK)\n",
    "plt.title(oms[10].item['track_name'] + ' — ' + oms[10].item['pianist'])\n",
    "plt.show()"
   ]
  },
  {
   "cell_type": "markdown",
   "metadata": {
    "collapsed": false,
    "jupyter": {
     "outputs_hidden": false
    },
    "pycharm": {
     "name": "#%% md\n"
    }
   },
   "source": [
    "## N-gram extraction"
   ]
  },
  {
   "cell_type": "markdown",
   "metadata": {
    "collapsed": false,
    "jupyter": {
     "outputs_hidden": false
    },
    "pycharm": {
     "name": "#%% md\n"
    }
   },
   "source": [
    "### Extract all desired n-grams"
   ]
  },
  {
   "cell_type": "code",
   "execution_count": 10,
   "metadata": {
    "collapsed": false,
    "jupyter": {
     "outputs_hidden": false
    },
    "pycharm": {
     "name": "#%%\n"
    }
   },
   "outputs": [
    {
     "data": {
      "application/vnd.jupyter.widget-view+json": {
       "model_id": "ac1a6d6c172248398645fc7436f7c27e",
       "version_major": 2,
       "version_minor": 0
      },
      "text/plain": [
       "  0%|          | 0/1294 [00:00<?, ?it/s]"
      ]
     },
     "metadata": {},
     "output_type": "display_data"
    }
   ],
   "source": [
    "res = {}\n",
    "for melody, onsets in tqdm(zip(mms, oms), total=len(mms)):\n",
    "    mel = list(melody.extract_melody())\n",
    "    sequence = list(melody.extract_intervals(mel))\n",
    "    if len(sequence) < 2:\n",
    "        continue\n",
    "    for start in range(len(sequence)):\n",
    "        for n in range(smallest_n_gram, largest_n_gram + 1):\n",
    "            n_gram = tuple([i.interval for i in sequence[start: start + n]])\n",
    "            n_gram_str = str(n_gram)\n",
    "            if any(abs(interval) > MAX_INTERVAL for interval in n_gram):\n",
    "                continue\n",
    "            if len(n_gram) == n:\n",
    "                if n_gram not in res.keys():\n",
    "                    res[n_gram] = {\n",
    "                        'tracks': set(),\n",
    "                        'pianists': set(),\n",
    "                        'uses': 0,\n",
    "                        'n': len(n_gram)\n",
    "                    }\n",
    "                res[n_gram]['tracks'].add(onsets.item['mbz_id'])\n",
    "                res[n_gram]['pianists'].add(onsets.item['pianist'])\n",
    "                res[n_gram]['uses'] += 1"
   ]
  },
  {
   "cell_type": "markdown",
   "metadata": {},
   "source": [
    "### Filter to get ngrams that only appear in at least three tracks"
   ]
  },
  {
   "cell_type": "code",
   "execution_count": 11,
   "metadata": {
    "collapsed": false,
    "jupyter": {
     "outputs_hidden": false
    },
    "pycharm": {
     "name": "#%%\n"
    }
   },
   "outputs": [],
   "source": [
    "valid_ngrams = set(ng for ng, vals in res.items() if len(vals['tracks']) >= n_tracks_min)"
   ]
  },
  {
   "cell_type": "code",
   "execution_count": 12,
   "metadata": {},
   "outputs": [
    {
     "name": "stdout",
     "output_type": "stream",
     "text": [
      "Num n-grams before filtering: 14255\n",
      "Num n-grams after filtering: 8879\n"
     ]
    }
   ],
   "source": [
    "print('Num n-grams before filtering:', len(res.items()))\n",
    "print('Num n-grams after filtering:', len(valid_ngrams))"
   ]
  },
  {
   "cell_type": "markdown",
   "metadata": {
    "collapsed": false,
    "jupyter": {
     "outputs_hidden": false
    },
    "pycharm": {
     "name": "#%% md\n"
    }
   },
   "source": [
    "### Extract only valid n-grams from entire solos (no chunks)"
   ]
  },
  {
   "cell_type": "code",
   "execution_count": 13,
   "metadata": {},
   "outputs": [],
   "source": [
    "def extract_valid_ngs(track, metadata):\n",
    "    valid_dict = {ng: 0 for ng in valid_ngrams}\n",
    "    mel = list(track.extract_melody())\n",
    "    sequence = list(track.extract_intervals(mel))\n",
    "    track_res = {\n",
    "        'pianist': metadata.item['pianist'], \n",
    "        'track_name': metadata.item['track_name'], \n",
    "        'mbz_id': metadata.item['mbz_id'], \n",
    "        **valid_dict\n",
    "    }\n",
    "    for start in range(len(sequence)):\n",
    "        for n in range(smallest_n_gram, largest_n_gram + 1):\n",
    "            n_gram = tuple([i.interval for i in sequence[start: start + n]])\n",
    "            if len(n_gram) == n:\n",
    "                if n_gram not in valid_ngrams:\n",
    "                    continue\n",
    "                track_res[n_gram] += 1\n",
    "    return track_res"
   ]
  },
  {
   "cell_type": "code",
   "execution_count": 14,
   "metadata": {},
   "outputs": [
    {
     "name": "stderr",
     "output_type": "stream",
     "text": [
      "[Parallel(n_jobs=-1)]: Using backend LokyBackend with 24 concurrent workers.\n",
      "[Parallel(n_jobs=-1)]: Done  24 tasks      | elapsed:    3.3s\n",
      "[Parallel(n_jobs=-1)]: Done 114 tasks      | elapsed:    4.3s\n",
      "[Parallel(n_jobs=-1)]: Done 240 tasks      | elapsed:    5.8s\n",
      "[Parallel(n_jobs=-1)]: Done 402 tasks      | elapsed:    7.7s\n",
      "[Parallel(n_jobs=-1)]: Done 600 tasks      | elapsed:    9.9s\n",
      "[Parallel(n_jobs=-1)]: Done 834 tasks      | elapsed:   12.5s\n",
      "[Parallel(n_jobs=-1)]: Done 1104 tasks      | elapsed:   15.6s\n",
      "[Parallel(n_jobs=-1)]: Done 1294 out of 1294 | elapsed:   17.8s finished\n"
     ]
    }
   ],
   "source": [
    "with Parallel(n_jobs=-1, verbose=5) as par:\n",
    "    all_ngs = par(delayed(extract_valid_ngs)(t, m) for t, m in zip(mms, oms))"
   ]
  },
  {
   "cell_type": "markdown",
   "metadata": {
    "collapsed": false,
    "jupyter": {
     "outputs_hidden": false
    },
    "pycharm": {
     "name": "#%% md\n"
    }
   },
   "source": [
    "To ensure repeatable outputs, we need to ensure that our samples and features always follow the same order"
   ]
  },
  {
   "cell_type": "code",
   "execution_count": 15,
   "metadata": {},
   "outputs": [],
   "source": [
    "df = (\n",
    "    pd.DataFrame(all_ngs)\n",
    "    .set_index(['pianist', 'track_name', 'mbz_id'])\n",
    "    .sort_index()\n",
    ")"
   ]
  },
  {
   "cell_type": "code",
   "execution_count": 16,
   "metadata": {
    "collapsed": false,
    "jupyter": {
     "outputs_hidden": false
    },
    "pycharm": {
     "name": "#%%\n"
    }
   },
   "outputs": [
    {
     "name": "stdout",
     "output_type": "stream",
     "text": [
      "(1294, 8879)\n"
     ]
    }
   ],
   "source": [
    "print(df.shape)"
   ]
  },
  {
   "cell_type": "markdown",
   "metadata": {},
   "source": [
    "## Plot descriptive statistics for all n-grams "
   ]
  },
  {
   "cell_type": "markdown",
   "metadata": {},
   "source": [
    "### Plot ten most common n-grams in terms of overall uses and number of pianists"
   ]
  },
  {
   "cell_type": "code",
   "execution_count": 17,
   "metadata": {},
   "outputs": [],
   "source": [
    "big10 = (\n",
    "    df.sum()\n",
    "    .sort_values(ascending=False)\n",
    "    .head(15)\n",
    "    .reset_index(drop=False)\n",
    "    .rename(columns={'index': 'ngram', 0: 'count'})\n",
    ")\n",
    "big10['ngram'] = big10['ngram'].astype(str)"
   ]
  },
  {
   "cell_type": "code",
   "execution_count": 18,
   "metadata": {},
   "outputs": [],
   "source": [
    "big10vals = big10['ngram'].values"
   ]
  },
  {
   "cell_type": "code",
   "execution_count": 19,
   "metadata": {},
   "outputs": [],
   "source": [
    "npianists = (\n",
    "    df.groupby(level=0)\n",
    "    [df.columns]\n",
    "    .sum()\n",
    "    .astype(bool)\n",
    "    .astype(int)\n",
    "    .sum()\n",
    "    .reset_index(drop=False)\n",
    "    .rename(columns={'index': 'ngram', 0: 'pianists'})\n",
    ")\n",
    "npianists['ngram'] = npianists['ngram'].astype(str)\n",
    "npianists['pianists'] = ((npianists['pianists'] / df.index.get_level_values(0).nunique()) * 100).astype(int)"
   ]
  },
  {
   "cell_type": "code",
   "execution_count": 20,
   "metadata": {},
   "outputs": [],
   "source": [
    "mostplayed = npianists[npianists['ngram'].isin(big10vals)]['pianists'].values"
   ]
  },
  {
   "cell_type": "code",
   "execution_count": 73,
   "metadata": {},
   "outputs": [
    {
     "data": {
      "image/png": "[encoded data removed]",
      "text/plain": [
       "<Figure size 940x940 with 1 Axes>"
      ]
     },
     "metadata": {},
     "output_type": "display_data"
    }
   ],
   "source": [
    "plt.rcParams.update({'font.size': vutils.FONTSIZE})\n",
    "fig, ax = plt.subplots(nrows=1, ncols=1, figsize=(vutils.WIDTH / 2, vutils.WIDTH / 2), sharey=True)\n",
    "g = sns.barplot(\n",
    "    data=big10, x='count', y='ngram', orient='h', hue='ngram', legend=False, palette='viridis', ax=ax,\n",
    "    linewidth=vutils.LINEWIDTH, edgecolor=vutils.BLACK\n",
    ")\n",
    "for cont, lab in zip(g.containers, mostplayed):\n",
    "    ax.bar_label(container=cont, labels=[f'{lab}%'])\n",
    "ax.set(ylabel='$N$-gram', xlabel='Count', xlim=(0, ax.get_xlim()[1] + 500))\n",
    "ax.grid(axis='x', zorder=0, **vutils.GRID_KWS)\n",
    "plt.setp(ax.spines.values(), linewidth=vutils.LINEWIDTH)\n",
    "ax.tick_params(axis='both', width=vutils.TICKWIDTH)\n",
    "fig.tight_layout()\n",
    "fig.savefig(f'{utils.get_project_root()}/reports/figures/ngram_plots/barplot_most_used_3grams.png')\n",
    "plt.show()"
   ]
  },
  {
   "cell_type": "markdown",
   "metadata": {},
   "source": [
    "## Which n-grams are most representative of Bill Evans?\n",
    "- For all tracks, we assign a value of 1 = Evans, 0 = not Evans, which we'll try and predict\n",
    "- We then split the dataset into 5 folds, with 4:1 test-train split (with folds stratified such that the number of BE/non-BE tracks are equal)\n",
    "- We fit a logistic regression to each fold, and extract the coefficients from this\n",
    "- We average the coefficients across all folds, and extract odds ratios\n",
    "- This gives us the direction of each n-gram: if positive, it is more likely to be predictive of Bill Evans"
   ]
  },
  {
   "cell_type": "code",
   "execution_count": 22,
   "metadata": {},
   "outputs": [],
   "source": [
    "from sklearn.model_selection import StratifiedKFold, train_test_split\n",
    "from sklearn.linear_model import LogisticRegression\n",
    "from sklearn.metrics import accuracy_score, roc_auc_score\n",
    "from sklearn.preprocessing import StandardScaler"
   ]
  },
  {
   "cell_type": "code",
   "execution_count": 23,
   "metadata": {},
   "outputs": [],
   "source": [
    "X = df.values\n",
    "y = np.array([0 if i != 'Bill Evans' else 1 for i in df.index.get_level_values(0)])"
   ]
  },
  {
   "cell_type": "code",
   "execution_count": 24,
   "metadata": {},
   "outputs": [
    {
     "data": {
      "text/plain": [
       "(1294, 8879)"
      ]
     },
     "execution_count": 24,
     "metadata": {},
     "output_type": "execute_result"
    }
   ],
   "source": [
    "# Need to scale the data for svms (i.e. Z-score)?\n",
    "X_scale = StandardScaler().fit_transform(X)\n",
    "X_scale.shape"
   ]
  },
  {
   "cell_type": "code",
   "execution_count": 25,
   "metadata": {},
   "outputs": [],
   "source": [
    "def fit(permutation):\n",
    "    X_train, X_test, y_train, y_test = train_test_split(X, y, stratify=y, test_size=0.2, random_state=permutation)\n",
    "    estimator = LogisticRegression(random_state=SEED, penalty='l2', solver='lbfgs')\n",
    "    estimator.fit(X_train, y_train)\n",
    "    y_predict = estimator.predict(X_test)\n",
    "    return accuracy_score(y_test, y_predict), roc_auc_score(y_test, y_predict), estimator.coef_"
   ]
  },
  {
   "cell_type": "code",
   "execution_count": 26,
   "metadata": {},
   "outputs": [
    {
     "name": "stderr",
     "output_type": "stream",
     "text": [
      "[Parallel(n_jobs=-1)]: Using backend LokyBackend with 24 concurrent workers.\n",
      "[Parallel(n_jobs=-1)]: Done  24 tasks      | elapsed:    9.2s\n",
      "[Parallel(n_jobs=-1)]: Done 114 tasks      | elapsed:   41.2s\n",
      "[Parallel(n_jobs=-1)]: Done 240 tasks      | elapsed:  1.4min\n",
      "[Parallel(n_jobs=-1)]: Done 402 tasks      | elapsed:  2.3min\n",
      "[Parallel(n_jobs=-1)]: Done 600 tasks      | elapsed:  3.5min\n",
      "[Parallel(n_jobs=-1)]: Done 834 tasks      | elapsed:  4.8min\n",
      "[Parallel(n_jobs=-1)]: Done 1000 out of 1000 | elapsed:  5.7min finished\n"
     ]
    }
   ],
   "source": [
    "with Parallel(n_jobs=-1, verbose=5) as par:\n",
    "    accs, rocs, coefs = zip(*par(delayed(fit)(i) for i in range(1000)))"
   ]
  },
  {
   "cell_type": "code",
   "execution_count": 27,
   "metadata": {},
   "outputs": [],
   "source": [
    "cdf = pd.DataFrame(np.exp(np.vstack(coefs)))\n",
    "cdf.columns = df.columns\n",
    "# Stupid pandas.agg not working correctly when you have arguments: https://stackoverflow.com/questions/68091853/\n",
    "res = (\n",
    "    pd.DataFrame([dict(ng=col, mean=cdf[col].mean(), low=np.quantile(cdf[col], 0.025), high=np.quantile(cdf[col], 0.975)) for col in cdf.columns])\n",
    "    .sort_values(by='mean')\n",
    "    .reset_index(drop=True)\n",
    ")"
   ]
  },
  {
   "cell_type": "markdown",
   "metadata": {},
   "source": [
    "### Visualise the ten most and least \"Bill Evans\"-y n-grams"
   ]
  },
  {
   "cell_type": "code",
   "execution_count": 53,
   "metadata": {},
   "outputs": [],
   "source": [
    "most_be = pd.concat([res.head(10), pd.DataFrame([dict(ng='', mean=np.nan, low=np.nan, high=np.nan)]), res.tail(10)]).reset_index(drop=True)\n",
    "# most_be['ng'] = most_be['ng'].astype(str)\n",
    "most_be['low'] = most_be['mean'] - most_be['low']\n",
    "most_be['high'] = most_be['high'] - most_be['mean']\n",
    "most_be['hue'] = most_be['mean'] < 1"
   ]
  },
  {
   "cell_type": "code",
   "execution_count": 62,
   "metadata": {},
   "outputs": [],
   "source": [
    "most_be['proportion'] = np.nan\n",
    "for i, row in most_be.iterrows():\n",
    "    if row['ng'] == '':\n",
    "        continue\n",
    "    grp = df.groupby(level=0)[[row['ng']]]\n",
    "    sums = df.groupby(level=0).sum().sum(axis=1)\n",
    "    prop = (grp.sum().squeeze() / sums) * 100\n",
    "    nonbe = prop[prop.index != 'Bill Evans'].mean()\n",
    "    be = prop[prop.index == 'Bill Evans'].iloc[0]\n",
    "    most_be.loc[i, 'proportion'] = f'{round(be / nonbe, 1)}x'"
   ]
  },
  {
   "cell_type": "code",
   "execution_count": 71,
   "metadata": {},
   "outputs": [
    {
     "name": "stderr",
     "output_type": "stream",
     "text": [
      "WARNING:matplotlib.text:posx and posy should be finite values\n",
      "WARNING:matplotlib.text:posx and posy should be finite values\n",
      "WARNING:matplotlib.text:posx and posy should be finite values\n",
      "WARNING:matplotlib.text:posx and posy should be finite values\n"
     ]
    },
    {
     "data": {
      "image/png": "[encoded data removed]",
      "text/plain": [
       "<Figure size 940x940 with 1 Axes>"
      ]
     },
     "metadata": {},
     "output_type": "display_data"
    }
   ],
   "source": [
    "fig, ax = plt.subplots(1, 1, figsize=(vutils.WIDTH / 2, vutils.WIDTH / 2))\n",
    "most_be['ng_s'] = most_be['ng'].astype(str)\n",
    "ax.errorbar(\n",
    "    x=most_be['mean'], y=most_be['ng_s'], xerr=[most_be['low'], most_be['high']], lw=vutils.LINEWIDTH, \n",
    "    color=vutils.BLACK, capsize=4, zorder=0, elinewidth=vutils.LINEWIDTH, ls='none'\n",
    ")\n",
    "sns.scatterplot(\n",
    "    data=most_be, x='mean', y='ng_s', ax=ax, hue='hue', palette=[vutils.GREEN, vutils.RED], \n",
    "    legend=False, s=100, edgecolor=vutils.BLACK, zorder=10\n",
    ")\n",
    "ax.set(xlabel='Odds ratio (95% CI)', ylabel='$N$-gram', xlim=(0, 2), ylim=(21, -1.5))\n",
    "ax.grid(axis='x', zorder=0, **vutils.GRID_KWS)\n",
    "ax.axhline(10, 0, 1, linewidth=vutils.LINEWIDTH, color=vutils.BLACK, alpha=vutils.ALPHA, ls='dashed')\n",
    "ax.axvline(1, 0, 1, linewidth=vutils.LINEWIDTH, color=vutils.BLACK)\n",
    "ax.text(1.5, -0.5, 'More likely to be Evans →→→', fontsize=15, ha='center', va='bottom')\n",
    "ax.text(0.5, -0.5, '←←← Less likely to be Evans', fontsize=15, ha='center', va='bottom')\n",
    "\n",
    "for idx, row in most_be.iterrows():\n",
    "    ax.text(row['mean'] + 0.2 if row['mean'] > 1 else row['mean'] - 0.15, idx, row['proportion'], ha='center')\n",
    "\n",
    "plt.setp(ax.spines.values(), linewidth=vutils.LINEWIDTH)\n",
    "ax.tick_params(axis='both', width=vutils.TICKWIDTH)\n",
    "fig.tight_layout()\n",
    "fig.savefig(f'{utils.get_project_root()}/reports/figures/ngram_plots/stripplot_evans_3gram_oddsratios.png')\n",
    "plt.show()"
   ]
  },
  {
   "cell_type": "code",
   "execution_count": 30,
   "metadata": {},
   "outputs": [
    {
     "name": "stdout",
     "output_type": "stream",
     "text": [
      "5.091919602359708\n"
     ]
    }
   ],
   "source": []
  },
  {
   "cell_type": "markdown",
   "metadata": {},
   "source": [
    "### Audiate examples"
   ]
  },
  {
   "cell_type": "code",
   "execution_count": 46,
   "metadata": {},
   "outputs": [],
   "source": [
    "def get_audio(audio_fname, sta, sto, pad_secs: int = 1, overlap_secs: float = 0.1):\n",
    "    sta *= utils.SAMPLE_RATE\n",
    "    sto *= utils.SAMPLE_RATE\n",
    "    sta -= (overlap_secs * utils.SAMPLE_RATE)\n",
    "    sto += (overlap_secs * utils.SAMPLE_RATE)\n",
    "    audio, _ = load(audio_fname, sr=utils.SAMPLE_RATE)\n",
    "    trunc = audio[int(sta): int(sto)]\n",
    "    return np.hstack((trunc, np.zeros(utils.SAMPLE_RATE * pad_secs)))\n",
    "\n",
    "def extract_audio_from_ngram(mmake, audio_fname, desired_ng: tuple):\n",
    "    mel = list(mmake.extract_melody())\n",
    "    sequence = list(mmake.extract_intervals(mel))\n",
    "    track_audio = []\n",
    "    for start in range(len(sequence)):\n",
    "        for n in range(smallest_n_gram, largest_n_gram + 1):\n",
    "            trunc = sequence[start: start + n]\n",
    "            n_gram = tuple([i.interval for i in trunc])\n",
    "            if n_gram == desired_ng:\n",
    "                start = trunc[0].start\n",
    "                end = trunc[-1].start + trunc[-1].ioi\n",
    "                extracted = get_audio(audio_fname, start, end)\n",
    "                track_audio.extend(extracted.tolist())\n",
    "    return track_audio\n",
    "\n",
    "def write_audio(out_fname, audio_list):\n",
    "    with open(out_fname, 'wb') as f:\n",
    "        write(f, np.hstack(audio_list), utils.SAMPLE_RATE)"
   ]
  },
  {
   "cell_type": "code",
   "execution_count": 47,
   "metadata": {},
   "outputs": [
    {
     "name": "stderr",
     "output_type": "stream",
     "text": [
      "[Parallel(n_jobs=-1)]: Using backend LokyBackend with 24 concurrent workers.\n",
      "[Parallel(n_jobs=-1)]: Done  24 tasks      | elapsed:    0.4s\n",
      "[Parallel(n_jobs=-1)]: Done 254 out of 254 | elapsed:    3.2s finished\n"
     ]
    }
   ],
   "source": [
    "with Parallel(n_jobs=-1, verbose=5) as par:\n",
    "    all_audio_maj7 = par(delayed(extract_audio_from_ngram)(\n",
    "        mm, f'{utils.get_project_root()}/data/raw/audio/{meta.item[\"fname\"]}.wav', (-4, -3, -4)\n",
    "    ) for mm, meta in zip(mms, oms) if meta.item['bandleader'] == 'Bill Evans')\n",
    "write_audio(f'{utils.get_project_root()}/evans_maj7.wav', all_audio_maj7)"
   ]
  },
  {
   "cell_type": "code",
   "execution_count": 49,
   "metadata": {},
   "outputs": [
    {
     "name": "stderr",
     "output_type": "stream",
     "text": [
      "[Parallel(n_jobs=-1)]: Using backend LokyBackend with 24 concurrent workers.\n",
      "[Parallel(n_jobs=-1)]: Done  24 tasks      | elapsed:    3.6s\n",
      "[Parallel(n_jobs=-1)]: Done 114 tasks      | elapsed:    8.7s\n",
      "[Parallel(n_jobs=-1)]: Done 254 out of 254 | elapsed:   16.1s finished\n"
     ]
    }
   ],
   "source": [
    "with Parallel(n_jobs=-1, verbose=5) as par:\n",
    "    all_audio_min7 = par(delayed(extract_audio_from_ngram)(\n",
    "        mm, f'{utils.get_project_root()}/data/raw/audio/{meta.item[\"fname\"]}.wav', (-3, -4, -3)\n",
    "    ) for mm, meta in zip(mms, oms) if meta.item['bandleader'] == 'Bill Evans')\n",
    "write_audio(f'{utils.get_project_root()}/evans_min7.wav', all_audio_min7)"
   ]
  },
  {
   "cell_type": "markdown",
   "metadata": {
    "collapsed": false,
    "jupyter": {
     "outputs_hidden": false
    },
    "pycharm": {
     "name": "#%% md\n"
    }
   },
   "source": [
    "### Model fitting"
   ]
  },
  {
   "cell_type": "markdown",
   "metadata": {
    "collapsed": false,
    "jupyter": {
     "outputs_hidden": false
    },
    "pycharm": {
     "name": "#%% md\n"
    }
   },
   "source": [
    "Tree-based methods\n",
    "- Random Forest ✅\n",
    "- Gradient-Boosted Trees ✅\n",
    "\n",
    "Non-Tree based ML:\n",
    "- SVM ✅\n",
    "- Naive Bayes\n",
    "- Multiclass logistic regression\n",
    "\n",
    "DL\n",
    "- Perceptron (ANN)"
   ]
  },
  {
   "cell_type": "code",
   "execution_count": null,
   "metadata": {
    "collapsed": false,
    "jupyter": {
     "outputs_hidden": false
    },
    "pycharm": {
     "name": "#%%\n"
    }
   },
   "outputs": [],
   "source": [
    "from sklearn.model_selection import StratifiedKFold\n",
    "from sklearn.metrics import accuracy_score, confusion_matrix"
   ]
  },
  {
   "cell_type": "code",
   "execution_count": null,
   "metadata": {
    "collapsed": false,
    "jupyter": {
     "outputs_hidden": false
    },
    "pycharm": {
     "name": "#%%\n"
    }
   },
   "outputs": [],
   "source": [
    "# Split the data into predictors and response\n",
    "X = tracks.iloc[:, 3:].to_numpy()\n",
    "y = tracks.iloc[:, 0].to_numpy()\n",
    "# Express n-gram numbers as percentage of total track\n",
    "X = np.true_divide(X, X.sum(axis=1, keepdims=True))"
   ]
  },
  {
   "cell_type": "code",
   "execution_count": null,
   "metadata": {
    "collapsed": false,
    "jupyter": {
     "outputs_hidden": false
    },
    "pycharm": {
     "name": "#%%\n"
    }
   },
   "outputs": [],
   "source": [
    "def initial_fit(estimator):\n",
    "    accs = []\n",
    "    for train_idx, test_idx in tqdm(cv.split(X, y)):\n",
    "        X_train, y_train = X[train_idx], y[train_idx]\n",
    "        X_test, y_test = X[test_idx], y[test_idx]\n",
    "        estimator.fit(X_train, y_train)\n",
    "        y_predict = estimator.predict(X_test)\n",
    "        acc = accuracy_score(y_test, y_predict)\n",
    "        accs.append(acc)\n",
    "    return np.mean(accs)"
   ]
  },
  {
   "cell_type": "code",
   "execution_count": null,
   "metadata": {
    "collapsed": false,
    "jupyter": {
     "outputs_hidden": false
    },
    "pycharm": {
     "name": "#%%\n"
    }
   },
   "outputs": [],
   "source": [
    "cv = StratifiedKFold(random_state=42, n_splits=5, shuffle=True)"
   ]
  },
  {
   "cell_type": "markdown",
   "metadata": {
    "collapsed": false,
    "jupyter": {
     "outputs_hidden": false
    },
    "pycharm": {
     "name": "#%% md\n"
    }
   },
   "source": [
    "### Random Forest"
   ]
  },
  {
   "cell_type": "code",
   "execution_count": null,
   "metadata": {
    "collapsed": false,
    "jupyter": {
     "outputs_hidden": false
    },
    "pycharm": {
     "name": "#%%\n"
    }
   },
   "outputs": [],
   "source": [
    "from sklearn.ensemble import RandomForestClassifier"
   ]
  },
  {
   "cell_type": "code",
   "execution_count": null,
   "metadata": {
    "collapsed": false,
    "jupyter": {
     "outputs_hidden": false
    },
    "pycharm": {
     "name": "#%%\n"
    }
   },
   "outputs": [],
   "source": [
    "rf = RandomForestClassifier(random_state=42, n_jobs=-1, verbose=False)"
   ]
  },
  {
   "cell_type": "code",
   "execution_count": null,
   "metadata": {
    "collapsed": false,
    "jupyter": {
     "outputs_hidden": false
    },
    "pycharm": {
     "name": "#%%\n"
    }
   },
   "outputs": [],
   "source": [
    "# Testing using default parameters\n",
    "rf_acc = initial_fit(rf)\n",
    "print(rf_acc)"
   ]
  },
  {
   "cell_type": "markdown",
   "metadata": {
    "collapsed": false,
    "jupyter": {
     "outputs_hidden": false
    },
    "pycharm": {
     "name": "#%% md\n"
    }
   },
   "source": [
    "- 58% using only n-grams contained in at least 3 solos\n",
    "- 50% using all n-grams!"
   ]
  },
  {
   "cell_type": "markdown",
   "metadata": {
    "collapsed": false,
    "jupyter": {
     "outputs_hidden": false
    },
    "pycharm": {
     "name": "#%% md\n"
    }
   },
   "source": [
    "### Gradient boosted trees"
   ]
  },
  {
   "cell_type": "code",
   "execution_count": null,
   "metadata": {
    "collapsed": false,
    "jupyter": {
     "outputs_hidden": false
    },
    "pycharm": {
     "name": "#%%\n"
    }
   },
   "outputs": [],
   "source": [
    "from sklearn.ensemble import GradientBoostingClassifier"
   ]
  },
  {
   "cell_type": "code",
   "execution_count": null,
   "metadata": {
    "collapsed": false,
    "jupyter": {
     "outputs_hidden": false
    },
    "pycharm": {
     "name": "#%%\n"
    }
   },
   "outputs": [],
   "source": [
    "gbc = GradientBoostingClassifier(random_state=42, verbose=0, max_features='sqrt')"
   ]
  },
  {
   "cell_type": "code",
   "execution_count": null,
   "metadata": {
    "collapsed": false,
    "jupyter": {
     "outputs_hidden": false
    },
    "pycharm": {
     "name": "#%%\n"
    }
   },
   "outputs": [],
   "source": [
    "# Testing using default parameters\n",
    "gbc_acc = initial_fit(gbc)\n",
    "print(gbc_acc)"
   ]
  },
  {
   "cell_type": "markdown",
   "metadata": {
    "collapsed": false,
    "jupyter": {
     "outputs_hidden": false
    },
    "pycharm": {
     "name": "#%% md\n"
    }
   },
   "source": [
    "### Support Vector Machines"
   ]
  },
  {
   "cell_type": "code",
   "execution_count": null,
   "metadata": {
    "collapsed": false,
    "jupyter": {
     "outputs_hidden": false
    },
    "pycharm": {
     "name": "#%%\n"
    }
   },
   "outputs": [],
   "source": [
    "from sklearn.svm import SVC"
   ]
  },
  {
   "cell_type": "code",
   "execution_count": null,
   "metadata": {
    "collapsed": false,
    "jupyter": {
     "outputs_hidden": false
    },
    "pycharm": {
     "name": "#%%\n"
    }
   },
   "outputs": [],
   "source": [
    "svc = SVC(random_state=42, decision_function_shape='ovo', verbose=0)"
   ]
  },
  {
   "cell_type": "code",
   "execution_count": null,
   "metadata": {
    "collapsed": false,
    "jupyter": {
     "outputs_hidden": false
    },
    "pycharm": {
     "name": "#%%\n"
    }
   },
   "outputs": [],
   "source": [
    "# Need to scale the data for svms (i.e. Z-score)\n",
    "from sklearn.preprocessing import StandardScaler\n",
    "X_scale = StandardScaler().fit_transform(X, y)"
   ]
  },
  {
   "cell_type": "code",
   "execution_count": null,
   "metadata": {
    "collapsed": false,
    "jupyter": {
     "outputs_hidden": false
    },
    "pycharm": {
     "name": "#%%\n"
    }
   },
   "outputs": [],
   "source": [
    "# Testing using default parameters\n",
    "svc_acc = initial_fit(svc)\n",
    "print(svc_acc)"
   ]
  },
  {
   "cell_type": "markdown",
   "metadata": {
    "collapsed": false,
    "jupyter": {
     "outputs_hidden": false
    },
    "pycharm": {
     "name": "#%% md\n"
    }
   },
   "source": [
    "Without tuning, RF outperforms gradient boosted trees and SVC"
   ]
  },
  {
   "cell_type": "markdown",
   "metadata": {
    "collapsed": false,
    "jupyter": {
     "outputs_hidden": false
    },
    "pycharm": {
     "name": "#%% md\n"
    }
   },
   "source": [
    "## Initial hyperparameter optimisation\n",
    "Find some sensible values to use prior to RF feature selection"
   ]
  },
  {
   "cell_type": "code",
   "execution_count": null,
   "metadata": {
    "collapsed": false,
    "jupyter": {
     "outputs_hidden": false
    },
    "pycharm": {
     "name": "#%%\n"
    }
   },
   "outputs": [],
   "source": [
    "from sklearn.model_selection import RandomizedSearchCV"
   ]
  },
  {
   "cell_type": "code",
   "execution_count": null,
   "metadata": {
    "collapsed": false,
    "jupyter": {
     "outputs_hidden": false
    },
    "pycharm": {
     "name": "#%%\n"
    }
   },
   "outputs": [],
   "source": [
    "# These are the parameters we'll sample from when optimizing\n",
    "test_params = dict(\n",
    "    # the loss function to use when splitting a node\n",
    "    criterion=['gini', 'entropy', 'log_loss'],\n",
    "    # The number of trees to grow in the forest\n",
    "    n_estimators=[i for i in range(10, 200, 10)],\n",
    "    # Max number of features considered for splitting a node\n",
    "    max_features=[None, 'sqrt', 'log2'],\n",
    "    # Max number of levels in each tree\n",
    "    max_depth=[None, *[i for i in range(1, 51, 10)]],\n",
    "    # Minimum number of samples required to split a node\n",
    "    min_samples_split=[i for i in range(2, 11)],\n",
    "    # Minimum number of samples required at each leaf node\n",
    "    min_samples_leaf=[i for i in range(1, 11)],\n",
    "    # Whether to sample data points with our without replacement\n",
    "    bootstrap=[True, False],\n",
    ")"
   ]
  },
  {
   "cell_type": "code",
   "execution_count": null,
   "metadata": {
    "collapsed": false,
    "jupyter": {
     "outputs_hidden": false
    },
    "pycharm": {
     "name": "#%%\n"
    }
   },
   "outputs": [],
   "source": [
    "rf = RandomForestClassifier(random_state=42, n_jobs=-1, verbose=False)\n",
    "rs = RandomizedSearchCV(rf, param_distributions=test_params, cv=cv, random_state=42, n_iter=1000, verbose=5)"
   ]
  },
  {
   "cell_type": "code",
   "execution_count": null,
   "metadata": {
    "collapsed": false,
    "jupyter": {
     "outputs_hidden": false
    },
    "pycharm": {
     "name": "#%%\n"
    }
   },
   "outputs": [],
   "source": [
    "rs.fit(X, y)"
   ]
  },
  {
   "cell_type": "code",
   "execution_count": null,
   "metadata": {
    "collapsed": false,
    "jupyter": {
     "outputs_hidden": false
    },
    "pycharm": {
     "name": "#%%\n"
    }
   },
   "outputs": [],
   "source": [
    "rs.best_params_"
   ]
  },
  {
   "cell_type": "code",
   "execution_count": null,
   "metadata": {
    "collapsed": false,
    "jupyter": {
     "outputs_hidden": false
    },
    "pycharm": {
     "name": "#%%\n"
    }
   },
   "outputs": [],
   "source": [
    "# {'n_estimators': 170,\n",
    " # 'min_samples_split': 10,\n",
    " # 'min_samples_leaf': 2,\n",
    " # 'max_features': 'sqrt',\n",
    " # 'max_depth': 21,\n",
    " # 'criterion': 'gini',\n",
    " # 'bootstrap': False}"
   ]
  },
  {
   "cell_type": "code",
   "execution_count": null,
   "metadata": {
    "collapsed": false,
    "jupyter": {
     "outputs_hidden": false
    },
    "pycharm": {
     "name": "#%%\n"
    }
   },
   "outputs": [],
   "source": [
    "# Hard-coded results from running the above\n",
    "initial_params = {'n_estimators': 190,\n",
    "                  'min_samples_split': 8,\n",
    "                  'min_samples_leaf': 3,\n",
    "                  'max_features': 'sqrt',\n",
    "                  'max_depth': 41,\n",
    "                  'criterion': 'gini',\n",
    "                  'bootstrap': False}"
   ]
  },
  {
   "cell_type": "markdown",
   "metadata": {
    "collapsed": false,
    "jupyter": {
     "outputs_hidden": false
    },
    "pycharm": {
     "name": "#%% md\n"
    }
   },
   "source": [
    "## Feature selection from random forest\n",
    "Considering only the *n*th percentile of most important features "
   ]
  },
  {
   "cell_type": "code",
   "execution_count": null,
   "metadata": {
    "collapsed": false,
    "jupyter": {
     "outputs_hidden": false
    },
    "pycharm": {
     "name": "#%%\n"
    }
   },
   "outputs": [],
   "source": [
    "rf_initial = RandomForestClassifier(random_state=42, n_jobs=-1, verbose=False, **initial_params)"
   ]
  },
  {
   "cell_type": "code",
   "execution_count": null,
   "metadata": {
    "collapsed": false,
    "jupyter": {
     "outputs_hidden": false
    },
    "pycharm": {
     "name": "#%%\n"
    }
   },
   "outputs": [],
   "source": [
    "def get_importances(X_, y_, est = None) -> float:\n",
    "    if est is None:\n",
    "        est = rf_initial\n",
    "    imports = []\n",
    "    for train_idx, test_idx in cv.split(X_, y_):\n",
    "        X_train, y_train = X_[train_idx], y_[train_idx]\n",
    "        X_test, y_test = X_[test_idx], y_[test_idx]\n",
    "        rf_initial.fit(X_train, y_train)\n",
    "        imports.append(rf_initial.feature_importances_)\n",
    "    return imports\n",
    "\n",
    "def get_most_important_feature_idxs(imports, n: int = 95):\n",
    "    means = np.mean(np.vstack(imports), axis=0)\n",
    "    order = means.argsort()\n",
    "    ranks = order.argsort()\n",
    "    perc = (len(ranks) / 100) * n\n",
    "    to_keep = np.argwhere(ranks > perc)[:, 0]\n",
    "    return to_keep\n",
    "\n",
    "def get_accuracy(X_d, y_):\n",
    "    accs = []\n",
    "    for train_idx, test_idx in cv.split(X_d, y_):\n",
    "        X_train, y_train = X_d[train_idx], y_[train_idx]\n",
    "        X_test, y_test = X_d[test_idx], y_[test_idx]\n",
    "        rf_initial.fit(X_train, y_train)\n",
    "        y_predict = rf_initial.predict(X_test)\n",
    "        acc = accuracy_score(y_test, y_predict)\n",
    "        accs.append(acc)\n",
    "    return np.mean(accs)\n",
    "\n",
    "\n",
    "measures = []\n",
    "imports = get_importances(X, y)\n",
    "for n in tqdm(range(0, 95, 1)):\n",
    "    n_imports = get_most_important_feature_idxs(imports, n)\n",
    "    measures.append((100 - n, get_accuracy(X[:, n_imports], y)))"
   ]
  },
  {
   "cell_type": "code",
   "execution_count": null,
   "metadata": {
    "collapsed": false,
    "jupyter": {
     "outputs_hidden": false
    },
    "pycharm": {
     "name": "#%%\n"
    }
   },
   "outputs": [],
   "source": [
    "measures_df = pd.DataFrame(measures)\n",
    "plt.plot(measures_df[0], measures_df[1])\n",
    "plt.ylabel('Mean accuracy across all folds ($k$=5)')\n",
    "plt.xlabel('% of all features considered')\n",
    "plt.title('Values show smoothed averages (window=10%)')"
   ]
  },
  {
   "cell_type": "code",
   "execution_count": null,
   "metadata": {
    "collapsed": false,
    "jupyter": {
     "outputs_hidden": false
    },
    "pycharm": {
     "name": "#%%\n"
    }
   },
   "outputs": [],
   "source": [
    "perc_features_to_keep = measures_df.iloc[measures_df[1].sort_values(ascending=False).index[1], 0]\n",
    "# perc_features_to_keep = 34\n",
    "n_imports = get_most_important_feature_idxs(imports, 100 - perc_features_to_keep)"
   ]
  },
  {
   "cell_type": "code",
   "execution_count": null,
   "metadata": {
    "collapsed": false,
    "jupyter": {
     "outputs_hidden": false
    },
    "pycharm": {
     "name": "#%%\n"
    }
   },
   "outputs": [],
   "source": [
    "X_min_features = X[:, n_imports]\n",
    "print(get_accuracy(X_min_features, y), perc_features_to_keep)"
   ]
  },
  {
   "cell_type": "markdown",
   "metadata": {
    "collapsed": false,
    "jupyter": {
     "outputs_hidden": false
    },
    "pycharm": {
     "name": "#%% md\n"
    }
   },
   "source": [
    "We only need to include the ~33% most important features to obtain similar accuracy when compared to including all predictors"
   ]
  },
  {
   "cell_type": "markdown",
   "metadata": {
    "collapsed": false,
    "jupyter": {
     "outputs_hidden": false
    },
    "pycharm": {
     "name": "#%% md\n"
    }
   },
   "source": [
    "## Final hyperparameter optimisation\n",
    "\n",
    "**TODO**"
   ]
  },
  {
   "cell_type": "markdown",
   "metadata": {
    "collapsed": false,
    "jupyter": {
     "outputs_hidden": false
    },
    "pycharm": {
     "name": "#%% md\n"
    }
   },
   "source": [
    "## Plot confusion matrix"
   ]
  },
  {
   "cell_type": "code",
   "execution_count": null,
   "metadata": {
    "collapsed": false,
    "jupyter": {
     "outputs_hidden": false
    },
    "pycharm": {
     "name": "#%%\n"
    }
   },
   "outputs": [],
   "source": [
    "preds = []\n",
    "acts = []\n",
    "ids = []\n",
    "for train_idx, test_idx in tqdm(cv.split(X_min_features, y)):\n",
    "    X_train, y_train = X_min_features[train_idx], y[train_idx]\n",
    "    X_test, y_test = X_min_features[test_idx], y[test_idx]\n",
    "    rf_initial.fit(X_train, y_train)\n",
    "    y_predict = rf_initial.predict(X_test)\n",
    "    preds.extend(y_predict)\n",
    "    acts.extend(y_test)\n",
    "    ids.extend(tracks.iloc[test_idx, 2].values)"
   ]
  },
  {
   "cell_type": "code",
   "execution_count": null,
   "metadata": {
    "collapsed": false,
    "jupyter": {
     "outputs_hidden": false
    },
    "pycharm": {
     "name": "#%%\n"
    }
   },
   "outputs": [],
   "source": [
    "pred_df = (\n",
    "    pd.concat([pd.Series(ids), pd.Series(acts), pd.Series(preds)], axis=1)\n",
    "    .rename(columns={0: 'mbz_id', 1: 'actual', 2: 'predicted'})\n",
    "    .apply(lambda x: [i.split(' ')[-1] for i in x])\n",
    "    .sort_values(by='actual')\n",
    "    .reset_index(drop=True)\n",
    ")"
   ]
  },
  {
   "cell_type": "code",
   "execution_count": null,
   "metadata": {
    "collapsed": false,
    "jupyter": {
     "outputs_hidden": false
    },
    "pycharm": {
     "name": "#%%\n"
    }
   },
   "outputs": [],
   "source": [
    "import seaborn as sns\n",
    "labs = pred_df['actual'].unique()\n",
    "cm = confusion_matrix(pred_df['actual'], pred_df['predicted'], normalize='true')\n",
    "g = sns.heatmap(cm, cmap='Reds', annot=True, fmt='.2f')\n",
    "g.set_xticks(g.get_xticks(), labels=labs, rotation=90)\n",
    "g.set_yticks(g.get_yticks(), labels=labs, rotation=00)\n",
    "g.set(xlabel='Predicted', ylabel='Actual')"
   ]
  },
  {
   "cell_type": "markdown",
   "metadata": {
    "collapsed": false,
    "jupyter": {
     "outputs_hidden": false
    },
    "pycharm": {
     "name": "#%% md\n"
    }
   },
   "source": [
    "## Most indicative n-gram for each particular pianist\n",
    "- Fit binary classifier - i.e. is it John Hicks vs someone else? - and extract feature importances\n",
    "    - How to get direction (i.e. this n-gram definitely makes it Hicks, or means its definitely not Hicks?)\n",
    "    - Possibly -- extract *n* most important n-grams from binary random forest, fit logistic regression using these, check log odds?"
   ]
  },
  {
   "cell_type": "code",
   "execution_count": null,
   "metadata": {
    "collapsed": false,
    "jupyter": {
     "outputs_hidden": false
    },
    "pycharm": {
     "name": "#%%\n"
    }
   },
   "outputs": [],
   "source": [
    "from sklearn.linear_model import LogisticRegression\n",
    "from sklearn.model_selection import train_test_split"
   ]
  },
  {
   "cell_type": "code",
   "execution_count": null,
   "metadata": {
    "collapsed": false,
    "jupyter": {
     "outputs_hidden": false
    },
    "pycharm": {
     "name": "#%%\n"
    }
   },
   "outputs": [],
   "source": [
    "pianist_labels, y_int = np.unique(y, return_inverse=True)"
   ]
  },
  {
   "cell_type": "code",
   "execution_count": null,
   "metadata": {
    "collapsed": false,
    "jupyter": {
     "outputs_hidden": false
    },
    "pycharm": {
     "name": "#%%\n"
    }
   },
   "outputs": [],
   "source": [
    "from joblib import Parallel, delayed\n",
    "from sklearn.exceptions import ConvergenceWarning\n",
    "import warnings\n",
    "\n",
    "# We don't care that the model won't converge now and will bruteforce this later by increasing max_iter\n",
    "warnings.simplefilter('ignore', ConvergenceWarning, )\n",
    "\n",
    "fs = []\n",
    "accs = []\n",
    "c_range = range(10, 100)\n",
    "\n",
    "\n",
    "def predict(c_):\n",
    "    lr = LogisticRegression(C=c_, penalty='l2', random_state=42, solver='lbfgs', multi_class='ovr', n_jobs=1, max_iter=100)\n",
    "    accs = []\n",
    "    fs = []\n",
    "    for train_idx, test_idx in cv.split(X_min_features, y_int):\n",
    "        X_train, y_train = X_min_features[train_idx], y_int[train_idx]\n",
    "        X_test, y_test = X_min_features[test_idx], y_int[test_idx]\n",
    "        lr.fit(X_train, y_train)\n",
    "        yhat = lr.predict(X_test)\n",
    "        f = f1_score(y_test, yhat, average='macro')\n",
    "        acc = accuracy_score(y_test, yhat)\n",
    "        fs.append(f)\n",
    "        accs.append(acc)\n",
    "    return c_, np.mean(f), np.mean(acc)\n",
    "\n",
    "with Parallel(n_jobs=-1, verbose=5) as par:\n",
    "    cv_res = par(delayed(predict)(c) for c in range(5, 100))"
   ]
  },
  {
   "cell_type": "code",
   "execution_count": null,
   "metadata": {
    "collapsed": false,
    "jupyter": {
     "outputs_hidden": false
    },
    "pycharm": {
     "name": "#%%\n"
    }
   },
   "outputs": [],
   "source": [
    "best_c = 58\n",
    "print(predict(c_=best_c))"
   ]
  },
  {
   "cell_type": "code",
   "execution_count": null,
   "metadata": {
    "collapsed": false,
    "jupyter": {
     "outputs_hidden": false
    },
    "pycharm": {
     "name": "#%%\n"
    }
   },
   "outputs": [],
   "source": [
    "cols = tracks.columns[3:]\n",
    "for p in range(10):\n",
    "    pianist = pianist_labels[p]\n",
    "    best = cols[n_imports[np.argmax(np.square(lr.coef_[p, :]))]]\n",
    "    worst = cols[n_imports[np.argmin(np.square(lr.coef_[p, :]))]]\n",
    "    print(pianist, best, worst)\n",
    "    print(tracks[tracks['pianist'] == pianist][best].sum())\n",
    "    print(tracks[best].sum())\n",
    "    print(tracks[tracks['pianist'] == pianist][worst].sum())\n",
    "    print(tracks[worst].sum())\n",
    "    # print(X_min_features[np.argmin(np.square(lr.coef_[p, :]))])"
   ]
  },
  {
   "cell_type": "code",
   "execution_count": null,
   "metadata": {
    "collapsed": false,
    "jupyter": {
     "outputs_hidden": false
    },
    "pycharm": {
     "name": "#%%\n"
    }
   },
   "outputs": [],
   "source": [
    "lr = LogisticRegression(C=best_c, penalty='l2', random_state=42, solver='lbfgs', multi_class='multinomial', n_jobs=1, max_iter=100)\n",
    "lr.fit(X_min_features, y_int)"
   ]
  },
  {
   "cell_type": "markdown",
   "metadata": {
    "collapsed": false,
    "jupyter": {
     "outputs_hidden": false
    },
    "pycharm": {
     "name": "#%% md\n"
    }
   },
   "source": [
    "## Integrating rhythmic features\n"
   ]
  },
  {
   "cell_type": "code",
   "execution_count": null,
   "metadata": {
    "collapsed": false,
    "jupyter": {
     "outputs_hidden": false
    },
    "pycharm": {
     "name": "#%%\n"
    }
   },
   "outputs": [],
   "source": [
    "rhythm = pd.read_csv(f'{utils.get_project_root()}/notebooks/prediction/rhythm_features.csv', index_col=0).reset_index(drop=True)\n",
    "rhythm['mbz_id'].dtype"
   ]
  },
  {
   "cell_type": "code",
   "execution_count": null,
   "metadata": {
    "collapsed": false,
    "jupyter": {
     "outputs_hidden": false
    },
    "pycharm": {
     "name": "#%%\n"
    }
   },
   "outputs": [],
   "source": [
    "X_sort = np.hstack((\n",
    "    tracks.sort_values('mbz_id').reset_index(drop=True).iloc[:, 3:].to_numpy()[:, n_imports],\n",
    "    rhythm.iloc[:, 3:].to_numpy()\n",
    "))\n",
    "y_sort = tracks.sort_values('mbz_id').reset_index(drop=True).iloc[:, 0].to_numpy()"
   ]
  },
  {
   "cell_type": "code",
   "execution_count": null,
   "metadata": {
    "collapsed": false,
    "jupyter": {
     "outputs_hidden": false
    },
    "pycharm": {
     "name": "#%%\n"
    }
   },
   "outputs": [],
   "source": [
    "imports = get_importances(X_sort, y_sort)\n",
    "measures = []\n",
    "for n in tqdm(range(0, 95, 1)):\n",
    "    n_imports = get_most_important_feature_idxs(imports, n)\n",
    "    ac = get_accuracy(X_sort[:, n_imports], y_sort)\n",
    "    print(n, ac)\n",
    "    measures.append((100 - n, ac))"
   ]
  },
  {
   "cell_type": "code",
   "execution_count": null,
   "metadata": {
    "collapsed": false,
    "jupyter": {
     "outputs_hidden": false
    },
    "pycharm": {
     "name": "#%%\n"
    }
   },
   "outputs": [],
   "source": []
  },
  {
   "cell_type": "code",
   "execution_count": null,
   "metadata": {},
   "outputs": [],
   "source": [
    "from joblib import Parallel, delayed\n",
    "from sklearn.exceptions import ConvergenceWarning\n",
    "import warnings\n",
    "\n",
    "# We don't care that the model won't converge now and will bruteforce this later by increasing max_iter\n",
    "warnings.simplefilter('ignore', ConvergenceWarning, )\n",
    "\n",
    "fs = []\n",
    "accs = []\n",
    "c_range = range(10, 100)\n",
    "\n",
    "\n",
    "def predict(c_):\n",
    "    lr = LogisticRegression(C=c_, penalty='l2', random_state=42, solver='lbfgs', multi_class='ovr', n_jobs=1, max_iter=100)\n",
    "    accs = []\n",
    "    fs = []\n",
    "    for train_idx, test_idx in cv.split(X_min_features, y_int):\n",
    "        X_train, y_train = X_min_features[train_idx], y_int[train_idx]\n",
    "        X_test, y_test = X_min_features[test_idx], y_int[test_idx]\n",
    "        lr.fit(X_train, y_train)\n",
    "        yhat = lr.predict(X_test)\n",
    "        f = f1_score(y_test, yhat, average='macro')\n",
    "        acc = accuracy_score(y_test, yhat)\n",
    "        fs.append(f)\n",
    "        accs.append(acc)\n",
    "    return c_, np.mean(f), np.mean(acc)\n",
    "\n",
    "with Parallel(n_jobs=-1, verbose=5) as par:\n",
    "    cv_res = par(delayed(predict)(c) for c in range(5, 100))"
   ]
  },
  {
   "cell_type": "code",
   "execution_count": null,
   "metadata": {},
   "outputs": [],
   "source": [
    "best_c = 58\n",
    "print(predict(c_=best_c))"
   ]
  },
  {
   "cell_type": "code",
   "execution_count": null,
   "metadata": {},
   "outputs": [],
   "source": [
    "cols = tracks.columns[3:]\n",
    "for p in range(10):\n",
    "    pianist = pianist_labels[p]\n",
    "    best = cols[n_imports[np.argmax(np.square(lr.coef_[p, :]))]]\n",
    "    worst = cols[n_imports[np.argmin(np.square(lr.coef_[p, :]))]]\n",
    "    print(pianist, best, worst)\n",
    "    print(tracks[tracks['pianist'] == pianist][best].sum())\n",
    "    print(tracks[best].sum())\n",
    "    print(tracks[tracks['pianist'] == pianist][worst].sum())\n",
    "    print(tracks[worst].sum())\n",
    "    # print(X_min_features[np.argmin(np.square(lr.coef_[p, :]))])"
   ]
  },
  {
   "cell_type": "code",
   "execution_count": null,
   "metadata": {},
   "outputs": [],
   "source": [
    "lr = LogisticRegression(C=best_c, penalty='l2', random_state=42, solver='lbfgs', multi_class='multinomial', n_jobs=1, max_iter=100)\n",
    "lr.fit(X_min_features, y_int)"
   ]
  },
  {
   "cell_type": "markdown",
   "metadata": {
    "jp-MarkdownHeadingCollapsed": true
   },
   "source": [
    "## Integrating rhythmic features\n"
   ]
  },
  {
   "cell_type": "code",
   "execution_count": null,
   "metadata": {},
   "outputs": [],
   "source": [
    "rhythm = pd.read_csv(f'{utils.get_project_root()}/notebooks/prediction/rhythm_features.csv', index_col=0).reset_index(drop=True)\n",
    "rhythm['mbz_id'].dtype"
   ]
  },
  {
   "cell_type": "code",
   "execution_count": null,
   "metadata": {},
   "outputs": [],
   "source": [
    "X_sort = np.hstack((\n",
    "    tracks.sort_values('mbz_id').reset_index(drop=True).iloc[:, 3:].to_numpy()[:, n_imports],\n",
    "    rhythm.iloc[:, 3:].to_numpy()\n",
    "))\n",
    "y_sort = tracks.sort_values('mbz_id').reset_index(drop=True).iloc[:, 0].to_numpy()"
   ]
  },
  {
   "cell_type": "code",
   "execution_count": null,
   "metadata": {},
   "outputs": [],
   "source": [
    "imports = get_importances(X_sort, y_sort)\n",
    "measures = []\n",
    "for n in tqdm(range(0, 95, 1)):\n",
    "    n_imports = get_most_important_feature_idxs(imports, n)\n",
    "    ac = get_accuracy(X_sort[:, n_imports], y_sort)\n",
    "    print(n, ac)\n",
    "    measures.append((100 - n, ac))"
   ]
  },
  {
   "cell_type": "code",
   "execution_count": null,
   "metadata": {},
   "outputs": [],
   "source": []
  }
 ],
 "metadata": {
  "colab": {
   "provenance": []
  },
  "kernelspec": {
   "display_name": "Python 3 (ipykernel)",
   "language": "python",
   "name": "python3"
  },
  "language_info": {
   "codemirror_mode": {
    "name": "ipython",
    "version": 3
   },
   "file_extension": ".py",
   "mimetype": "text/x-python",
   "name": "python",
   "nbconvert_exporter": "python",
   "pygments_lexer": "ipython3",
   "version": "3.10.12"
  }
 },
 "nbformat": 4,
 "nbformat_minor": 4
}
