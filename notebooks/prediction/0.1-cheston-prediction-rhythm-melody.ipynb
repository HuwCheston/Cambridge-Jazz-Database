{
 "cells": [
  {
   "cell_type": "markdown",
   "source": [
    "# Pianist classification using melodic and rhythmic features"
   ],
   "metadata": {
    "collapsed": false,
    "pycharm": {
     "name": "#%% md\n"
    },
    "id": "p9at4uEKC7Co"
   }
  },
  {
   "cell_type": "markdown",
   "source": [
    "## Import dependencies and set constants, etc."
   ],
   "metadata": {
    "collapsed": false,
    "pycharm": {
     "name": "#%% md\n"
    },
    "id": "HH9EUvtGC7Cp"
   }
  },
  {
   "cell_type": "code",
   "execution_count": 1,
   "outputs": [],
   "source": [
    "import os\n",
    "from collections import Counter\n",
    "\n",
    "import numpy as np\n",
    "import pandas as pd\n",
    "import matplotlib.pyplot as plt\n",
    "import seaborn as sns\n",
    "from tqdm.notebook import tqdm\n",
    "\n",
    "from src import utils\n",
    "from src.detect.midi_utils import *\n",
    "from src.features.melody_features import *\n",
    "from src.features.rhythm_features import *"
   ],
   "metadata": {
    "pycharm": {
     "name": "#%%\n"
    },
    "id": "gsvOmlt7C7Cq",
    "ExecuteTime": {
     "end_time": "2024-04-02T13:25:33.477769050Z",
     "start_time": "2024-04-02T13:23:24.053630054Z"
    }
   }
  },
  {
   "cell_type": "code",
   "execution_count": 2,
   "outputs": [],
   "source": [
    "smallest_n_gram = 3\n",
    "largest_n_gram = 10"
   ],
   "metadata": {
    "pycharm": {
     "name": "#%%\n"
    },
    "id": "f1ry-nUQC7Cr",
    "ExecuteTime": {
     "end_time": "2024-04-02T12:41:53.852730189Z",
     "start_time": "2024-04-02T12:41:53.831127569Z"
    }
   }
  },
  {
   "cell_type": "markdown",
   "source": [
    "## Pre-processing"
   ],
   "metadata": {
    "collapsed": false,
    "pycharm": {
     "name": "#%% md\n"
    },
    "id": "MutjAO2AC7Cr"
   }
  },
  {
   "cell_type": "code",
   "execution_count": 3,
   "outputs": [],
   "source": [
    "# Get filepaths for processing\n",
    "root = f'{utils.get_project_root()}/data/cambridge-jazz-trio-database-v01/corpus_chronology'\n",
    "files = [os.path.join(root, f) for f in os.listdir(root)]"
   ],
   "metadata": {
    "pycharm": {
     "name": "#%%\n"
    },
    "id": "9wOWuGzpC7Cr",
    "ExecuteTime": {
     "end_time": "2024-04-02T12:41:55.215439211Z",
     "start_time": "2024-04-02T12:41:55.211705402Z"
    }
   }
  },
  {
   "cell_type": "code",
   "execution_count": 4,
   "outputs": [
    {
     "name": "stderr",
     "output_type": "stream",
     "text": [
      "/home/huwcheston/PycharmProjects/Cambridge-Jazz-Trio-Database/src/utils.py:710: UserWarning: genfromtxt: Empty input file: \"/home/huwcheston/PycharmProjects/Cambridge-Jazz-Trio-Database/data/cambridge-jazz-trio-database-v01/corpus_chronology/petersono-honeydripper-brownrthigpene-1962-b498d90e/bass.csv\"\n",
      "  om.ons[instr] = np.genfromtxt(rf'{trackpath}/{instr}.csv', delimiter=',')\n",
      "/home/huwcheston/PycharmProjects/Cambridge-Jazz-Trio-Database/src/utils.py:710: UserWarning: genfromtxt: Empty input file: \"/home/huwcheston/PycharmProjects/Cambridge-Jazz-Trio-Database/data/cambridge-jazz-trio-database-v01/corpus_chronology/evansb-allofyou-gomezezigmunde-1976-acbb08b7/bass.csv\"\n",
      "  om.ons[instr] = np.genfromtxt(rf'{trackpath}/{instr}.csv', delimiter=',')\n",
      "/home/huwcheston/PycharmProjects/Cambridge-Jazz-Trio-Database/src/utils.py:710: UserWarning: genfromtxt: Empty input file: \"/home/huwcheston/PycharmProjects/Cambridge-Jazz-Trio-Database/data/cambridge-jazz-trio-database-v01/corpus_chronology/mancej-jumpingtheblues-bettskwilliamsj-1995-f7727cf3/bass.csv\"\n",
      "  om.ons[instr] = np.genfromtxt(rf'{trackpath}/{instr}.csv', delimiter=',')\n",
      "/home/huwcheston/PycharmProjects/Cambridge-Jazz-Trio-Database/src/utils.py:710: UserWarning: genfromtxt: Empty input file: \"/home/huwcheston/PycharmProjects/Cambridge-Jazz-Trio-Database/data/cambridge-jazz-trio-database-v01/corpus_chronology/petersono-homeagain-brownrthigpene-1960-daeab74d/bass.csv\"\n",
      "  om.ons[instr] = np.genfromtxt(rf'{trackpath}/{instr}.csv', delimiter=',')\n",
      "/home/huwcheston/PycharmProjects/Cambridge-Jazz-Trio-Database/src/utils.py:710: UserWarning: genfromtxt: Empty input file: \"/home/huwcheston/PycharmProjects/Cambridge-Jazz-Trio-Database/data/cambridge-jazz-trio-database-v01/corpus_chronology/jamala-likesomeoneinlove-nasserjfournierv-1966-c56d6b55/bass.csv\"\n",
      "  om.ons[instr] = np.genfromtxt(rf'{trackpath}/{instr}.csv', delimiter=',')\n",
      "/home/huwcheston/PycharmProjects/Cambridge-Jazz-Trio-Database/src/utils.py:710: UserWarning: genfromtxt: Empty input file: \"/home/huwcheston/PycharmProjects/Cambridge-Jazz-Trio-Database/data/cambridge-jazz-trio-database-v01/corpus_chronology/petersono-comedancewithme-brownrthigpene-1959-59a6e2f2/piano.csv\"\n",
      "  om.ons[instr] = np.genfromtxt(rf'{trackpath}/{instr}.csv', delimiter=',')\n",
      "/home/huwcheston/PycharmProjects/Cambridge-Jazz-Trio-Database/src/utils.py:710: UserWarning: genfromtxt: Empty input file: \"/home/huwcheston/PycharmProjects/Cambridge-Jazz-Trio-Database/data/cambridge-jazz-trio-database-v01/corpus_chronology/jamala-yougotomyhead-crosbyifournierv-1960-5a0737d3/bass.csv\"\n",
      "  om.ons[instr] = np.genfromtxt(rf'{trackpath}/{instr}.csv', delimiter=',')\n",
      "/home/huwcheston/PycharmProjects/Cambridge-Jazz-Trio-Database/src/utils.py:710: UserWarning: genfromtxt: Empty input file: \"/home/huwcheston/PycharmProjects/Cambridge-Jazz-Trio-Database/data/cambridge-jazz-trio-database-v01/corpus_chronology/powellb-satindoll-bibigfieldsk-1961-cf73bbe5/bass.csv\"\n",
      "  om.ons[instr] = np.genfromtxt(rf'{trackpath}/{instr}.csv', delimiter=',')\n",
      "/home/huwcheston/PycharmProjects/Cambridge-Jazz-Trio-Database/src/utils.py:710: UserWarning: genfromtxt: Empty input file: \"/home/huwcheston/PycharmProjects/Cambridge-Jazz-Trio-Database/data/cambridge-jazz-trio-database-v01/corpus_chronology/jamala-poorbutterfly-crosbyifournierv-1958-94f90cba/piano.csv\"\n",
      "  om.ons[instr] = np.genfromtxt(rf'{trackpath}/{instr}.csv', delimiter=',')\n",
      "/home/huwcheston/PycharmProjects/Cambridge-Jazz-Trio-Database/src/utils.py:710: UserWarning: genfromtxt: Empty input file: \"/home/huwcheston/PycharmProjects/Cambridge-Jazz-Trio-Database/data/cambridge-jazz-trio-database-v01/corpus_chronology/evansb-oneforhelen-gomezedejohnettej-1967-94d467a6/bass.csv\"\n",
      "  om.ons[instr] = np.genfromtxt(rf'{trackpath}/{instr}.csv', delimiter=',')\n"
     ]
    }
   ],
   "source": [
    "# Load in onsets and beats for each track\n",
    "oms = [utils.load_track_from_files(f) for f in files]"
   ],
   "metadata": {
    "pycharm": {
     "name": "#%%\n"
    },
    "id": "EhUp5MsFC7Cr",
    "outputId": "1beb6b4f-dd77-4db9-b220-29a43a7bb801",
    "ExecuteTime": {
     "end_time": "2024-04-02T12:41:57.775670800Z",
     "start_time": "2024-04-02T12:41:56.036032343Z"
    }
   }
  },
  {
   "cell_type": "code",
   "execution_count": 5,
   "outputs": [],
   "source": [
    "# Extract melody for each track\n",
    "mms = [MelodyMaker(os.path.join(fp, 'piano_midi.mid'), om) for fp, om in zip(files, oms)]"
   ],
   "metadata": {
    "pycharm": {
     "name": "#%%\n"
    },
    "id": "NsijlG8vC7Cs",
    "ExecuteTime": {
     "end_time": "2024-04-02T12:42:10.633840909Z",
     "start_time": "2024-04-02T12:41:57.777047829Z"
    }
   }
  },
  {
   "cell_type": "markdown",
   "source": [
    "## Create histogram of pitch classes for one track"
   ],
   "metadata": {
    "collapsed": false,
    "pycharm": {
     "name": "#%% md\n"
    },
    "id": "wnl-zfarC7Cs"
   }
  },
  {
   "cell_type": "code",
   "execution_count": 7,
   "outputs": [
    {
     "data": {
      "text/plain": "<Figure size 640x480 with 1 Axes>",
      "image/png": "[encoded data removed]"
     },
     "metadata": {},
     "output_type": "display_data"
    }
   ],
   "source": [
    "# Create a histogram for the pitch classes in one track\n",
    "# Extract the melody for our first track\n",
    "mel = list(mms[105].extract_melody())\n",
    "# Count the pitch classes\n",
    "pitch_classes = Counter([m.note for m in mel])\n",
    "# Sort the pitch classes in order of the piano keys\n",
    "sorted_pitches = {i: pitch_classes[i] for i in utils.ALL_PITCHES}\n",
    "# Create the bar chart\n",
    "plt.bar(sorted_pitches.keys(), sorted_pitches.values())\n",
    "plt.title(oms[105].item['track_name'] + ' — ' + oms[105].item['pianist'])\n",
    "plt.show()"
   ],
   "metadata": {
    "pycharm": {
     "name": "#%%\n"
    },
    "id": "m9ck7k-vC7Ct",
    "outputId": "4ca34114-c3f9-430d-9cdf-e268eab68ec1",
    "ExecuteTime": {
     "end_time": "2024-04-02T11:12:38.388850777Z",
     "start_time": "2024-04-02T11:12:38.205957599Z"
    }
   }
  },
  {
   "cell_type": "markdown",
   "source": [
    "## Visualise tonalness across all chunks"
   ],
   "metadata": {
    "collapsed": false,
    "pycharm": {
     "name": "#%% md\n"
    },
    "id": "bxX8LmjFC7Ct"
   }
  },
  {
   "cell_type": "code",
   "execution_count": null,
   "outputs": [],
   "source": [
    "tonalness = []\n",
    "for melody, onsets in zip(mms, oms):\n",
    "    mel = list(melody.extract_melody())\n",
    "    for chunk in melody.chunk_melody(mel):\n",
    "        if len(chunk) < 2:\n",
    "            continue\n",
    "        ton = TonalityExtractor(chunk)\n",
    "        tonalness.append(dict(**onsets.item, **ton.summary_dict))"
   ],
   "metadata": {
    "pycharm": {
     "name": "#%%\n"
    },
    "id": "OzZ4jIQJC7Ct"
   }
  },
  {
   "cell_type": "code",
   "execution_count": null,
   "outputs": [],
   "source": [
    "ton_df = pd.DataFrame(tonalness)"
   ],
   "metadata": {
    "pycharm": {
     "name": "#%%\n"
    },
    "id": "lzjgz1mPC7Ct"
   }
  },
  {
   "cell_type": "code",
   "execution_count": null,
   "outputs": [
    {
     "data": {
      "text/plain": "<Figure size 1000x1000 with 10 Axes>",
      "image/png": "[encoded data removed]"
     },
     "metadata": {},
     "output_type": "display_data"
    }
   ],
   "source": [
    "fig, ax = plt.subplots(nrows=5, ncols=2, figsize=(10, 10))\n",
    "for a, (idx, grp) in zip(ax.flatten(), ton_df.groupby('pianist')):\n",
    "    sns.histplot(grp['tonalness'], ax=a)\n",
    "    a.set(title=idx, xlim=(0, 1), ylabel='', xlabel='', xticklabels=[])\n",
    "plt.suptitle('Tonalness across all chunks')\n",
    "plt.tight_layout()\n",
    "plt.show()"
   ],
   "metadata": {
    "pycharm": {
     "name": "#%%\n"
    },
    "id": "zbWgSBJxC7Ct",
    "outputId": "cc162dd3-9a63-4d8a-850c-2e02db2a079a"
   }
  },
  {
   "cell_type": "markdown",
   "source": [
    "## N-gram extraction"
   ],
   "metadata": {
    "collapsed": false,
    "pycharm": {
     "name": "#%% md\n"
    },
    "id": "nDU12FeOC7Cu"
   }
  },
  {
   "cell_type": "markdown",
   "source": [
    "### Extract n-grams which appear in more than 3 solos"
   ],
   "metadata": {
    "collapsed": false,
    "pycharm": {
     "name": "#%% md\n"
    }
   }
  },
  {
   "cell_type": "code",
   "execution_count": 6,
   "outputs": [
    {
     "data": {
      "text/plain": "0it [00:00, ?it/s]",
      "application/vnd.jupyter.widget-view+json": {
       "version_major": 2,
       "version_minor": 0,
       "model_id": "fa6172097ff04f47932569fcd36263c4"
      }
     },
     "metadata": {},
     "output_type": "display_data"
    }
   ],
   "source": [
    "res = {}\n",
    "for melody, onsets in tqdm(zip(mms, oms)):\n",
    "    mel = list(melody.extract_melody())\n",
    "    sequence = list(melody.extract_intervals(mel))\n",
    "    if len(sequence) < 2:\n",
    "        continue\n",
    "    for start in range(len(sequence)):\n",
    "        for n in range(smallest_n_gram, largest_n_gram + 1):\n",
    "            n_gram = tuple([i.interval for i in sequence[start: start + n]])\n",
    "            if len(n_gram) == n:\n",
    "                if str(n_gram) not in res.keys():\n",
    "                    res[str(n_gram)] = {\n",
    "                        'tracks': set(),\n",
    "                        'pianists': set(),\n",
    "                        'uses': 0,\n",
    "                        'n': len(n_gram)\n",
    "                    } \n",
    "                res[str(n_gram)]['tracks'].add(onsets.item['mbz_id'])\n",
    "                res[str(n_gram)]['pianists'].add(onsets.item['pianist'])\n",
    "                res[str(n_gram)]['uses'] += 1"
   ],
   "metadata": {
    "pycharm": {
     "name": "#%%\n"
    },
    "colab": {
     "referenced_widgets": [
      "63b0d47a6f1a487895712d6f0cd499cc"
     ]
    },
    "id": "QJNnlURUC7Cv",
    "outputId": "e406bbb5-5bb1-4ae6-b74a-d12cf6f3b725",
    "ExecuteTime": {
     "end_time": "2024-04-02T12:42:47.729639349Z",
     "start_time": "2024-04-02T12:42:10.638249342Z"
    }
   }
  },
  {
   "cell_type": "code",
   "outputs": [],
   "source": [
    "valid_ngrams = set(ng for ng, vals in res.items() if len(vals['tracks']) >= 3)"
   ],
   "metadata": {
    "collapsed": false,
    "ExecuteTime": {
     "end_time": "2024-04-02T12:42:47.884412850Z",
     "start_time": "2024-04-02T12:42:47.735910588Z"
    },
    "pycharm": {
     "name": "#%%\n"
    }
   },
   "execution_count": 7
  },
  {
   "cell_type": "markdown",
   "source": [
    "### Create audio extract for most played 5-gram"
   ],
   "metadata": {
    "collapsed": false,
    "pycharm": {
     "name": "#%% md\n"
    }
   }
  },
  {
   "cell_type": "code",
   "outputs": [],
   "source": [
    "desired_n = 5\n",
    "most_played_count = max(vals['uses'] for vals in res.values() if vals['n'] == desired_n)\n",
    "most_played_ngram = [ng for ng, vals in res.items() if vals['uses'] == most_played_count and vals['n'] == desired_n][0]"
   ],
   "metadata": {
    "collapsed": false,
    "ExecuteTime": {
     "end_time": "2024-04-02T12:39:25.159317354Z",
     "start_time": "2024-04-02T12:39:25.008633371Z"
    },
    "pycharm": {
     "name": "#%%\n"
    }
   },
   "execution_count": 8
  },
  {
   "cell_type": "code",
   "outputs": [
    {
     "data": {
      "text/plain": "0it [00:00, ?it/s]",
      "application/vnd.jupyter.widget-view+json": {
       "version_major": 2,
       "version_minor": 0,
       "model_id": "16ab624aaf394c628a72a21cac42133f"
      }
     },
     "metadata": {},
     "output_type": "display_data"
    }
   ],
   "source": [
    "import librosa\n",
    "\n",
    "big_audio = []\n",
    "for melody, onsets in tqdm(zip(mms, oms)):\n",
    "    mel = list(melody.extract_melody())\n",
    "    sequence = list(melody.extract_intervals(mel))\n",
    "    if len(sequence) < 2:\n",
    "        continue\n",
    "    timestamps = []\n",
    "    for start in range(len(sequence)):\n",
    "        n_gram = tuple([i.interval for i in sequence[start: start + desired_n]])\n",
    "        if len(n_gram) == desired_n and str(n_gram) == most_played_ngram:\n",
    "            ts_start, ts_end = sequence[start].start, sequence[start + desired_n].start\n",
    "            timestamps.append((ts_start, ts_end))\n",
    "    if len(timestamps) == 0:\n",
    "        continue\n",
    "    audio, _ = librosa.load(f'{utils.get_project_root()}/data/raw/audio/{onsets.item[\"fname\"]}.{utils.AUDIO_FILE_FMT}', sr=utils.SAMPLE_RATE, mono=True)\n",
    "    for start, end in timestamps:\n",
    "        start_aud = int(utils.SAMPLE_RATE * start)\n",
    "        end_aud = int(utils.SAMPLE_RATE * end)\n",
    "        audio_cut = audio[start_aud: end_aud]\n",
    "        audio_pad = np.concatenate((audio_cut, np.zeros(utils.SAMPLE_RATE // 2)))\n",
    "        big_audio.append(audio_pad)"
   ],
   "metadata": {
    "collapsed": false,
    "ExecuteTime": {
     "end_time": "2024-04-02T12:21:09.296806275Z",
     "start_time": "2024-04-02T12:20:35.618999853Z"
    },
    "pycharm": {
     "name": "#%%\n"
    }
   },
   "execution_count": 88
  },
  {
   "cell_type": "code",
   "outputs": [],
   "source": [
    "import soundfile as sf\n",
    "big_conc = np.concatenate(big_audio, axis=0)\n",
    "with open(f'{utils.get_project_root()}/big5.wav', 'wb') as fp:\n",
    "    sf.write(fp, np.concatenate(big_audio), utils.SAMPLE_RATE)"
   ],
   "metadata": {
    "collapsed": false,
    "ExecuteTime": {
     "end_time": "2024-04-02T12:21:10.462079723Z",
     "start_time": "2024-04-02T12:21:10.214924957Z"
    },
    "pycharm": {
     "name": "#%%\n"
    }
   },
   "execution_count": 89
  },
  {
   "cell_type": "markdown",
   "source": [
    "### Extract only valid n-grams from all solos"
   ],
   "metadata": {
    "collapsed": false,
    "pycharm": {
     "name": "#%% md\n"
    }
   }
  },
  {
   "cell_type": "code",
   "outputs": [
    {
     "data": {
      "text/plain": "0it [00:00, ?it/s]",
      "application/vnd.jupyter.widget-view+json": {
       "version_major": 2,
       "version_minor": 0,
       "model_id": "4a5f4f4a7c1445eeaef11e2e9f61b19b"
      }
     },
     "metadata": {},
     "output_type": "display_data"
    }
   ],
   "source": [
    "ngrams = []\n",
    "valid_dict = {ng: 0 for ng in valid_ngrams}\n",
    "for melody, onsets in tqdm(zip(mms, oms)):\n",
    "    mel = list(melody.extract_melody())\n",
    "    sequence = list(melody.extract_intervals(mel))\n",
    "    if len(sequence) < 2:\n",
    "        continue\n",
    "    track_results = {'pianist': onsets.item['pianist'], 'track_name': onsets.item['track_name'], **valid_dict}\n",
    "    for start in range(len(sequence)):\n",
    "        for n in range(smallest_n_gram, largest_n_gram + 1):\n",
    "            n_gram = tuple([i.interval for i in sequence[start: start + n]])\n",
    "            if len(n_gram) == n:\n",
    "                n_gram = str(n_gram)\n",
    "                if n_gram not in valid_ngrams:\n",
    "                    continue\n",
    "                track_results[n_gram] += 1\n",
    "    ngrams.append(track_results)"
   ],
   "metadata": {
    "collapsed": false,
    "ExecuteTime": {
     "end_time": "2024-04-02T12:43:20.759095711Z",
     "start_time": "2024-04-02T12:42:51.943319971Z"
    },
    "pycharm": {
     "name": "#%%\n"
    }
   },
   "execution_count": 8
  },
  {
   "cell_type": "code",
   "outputs": [],
   "source": [
    "tracks = pd.DataFrame(ngrams)"
   ],
   "metadata": {
    "collapsed": false,
    "ExecuteTime": {
     "end_time": "2024-04-02T12:44:40.855412091Z",
     "start_time": "2024-04-02T12:44:35.922667518Z"
    },
    "pycharm": {
     "name": "#%%\n"
    }
   },
   "execution_count": 11
  },
  {
   "cell_type": "markdown",
   "source": [
    "### Model fitting"
   ],
   "metadata": {
    "collapsed": false,
    "pycharm": {
     "name": "#%% md\n"
    }
   }
  },
  {
   "cell_type": "markdown",
   "source": [
    "To try:\n",
    "Tree-based methods\n",
    "- Random Forest\n",
    "- Gradient-Boosted Trees\n",
    "\n",
    "Classification:\n",
    "- SVM\n",
    "- Naive Bayes\n",
    "- Multiclass logistic regression"
   ],
   "metadata": {
    "collapsed": false,
    "pycharm": {
     "name": "#%% md\n"
    }
   }
  },
  {
   "cell_type": "markdown",
   "source": [
    "### Random Forest"
   ],
   "metadata": {
    "collapsed": false,
    "pycharm": {
     "name": "#%% md\n"
    }
   }
  },
  {
   "cell_type": "code",
   "outputs": [],
   "source": [
    "from sklearn.model_selection import StratifiedKFold, GridSearchCV\n",
    "from sklearn.metrics import accuracy_score\n",
    "from sklearn.ensemble import RandomForestClassifier"
   ],
   "metadata": {
    "collapsed": false,
    "ExecuteTime": {
     "end_time": "2024-04-02T13:18:42.884269568Z",
     "start_time": "2024-04-02T13:18:42.638617615Z"
    },
    "pycharm": {
     "name": "#%%\n"
    }
   },
   "execution_count": 25
  },
  {
   "cell_type": "code",
   "outputs": [],
   "source": [
    "# These are the parameters we'll sample from when optimizing\n",
    "test_params = dict(\n",
    "    # The criterion to use when splitting a node\n",
    "    criterion=['gini', 'entropy', 'log_loss'],\n",
    "    # The number of trees to grow in the forest\n",
    "    n_estimators=[i for i in range(10, 1001, 1)],\n",
    "    # Max number of features considered for splitting a node\n",
    "    max_features=['sqrt', 'log2'],\n",
    "    # Max number of levels in each tree\n",
    "    max_depth=[i for i in range(1, 101, 1)],\n",
    "    # Minimum number of samples required to split a node\n",
    "    min_samples_split=[i for i in range(2, 11)],\n",
    "    # Minimum number of samples required at each leaf node\n",
    "    min_samples_leaf=[i for i in range(1, 11)],\n",
    ")"
   ],
   "metadata": {
    "collapsed": false,
    "ExecuteTime": {
     "end_time": "2024-04-02T13:18:42.889620238Z",
     "start_time": "2024-04-02T13:18:42.887232592Z"
    },
    "pycharm": {
     "name": "#%%\n"
    }
   },
   "execution_count": 26
  },
  {
   "cell_type": "code",
   "outputs": [],
   "source": [
    "X = tracks.iloc[:, 2:].to_numpy()\n",
    "y = tracks.iloc[:, 0].to_numpy()"
   ],
   "metadata": {
    "collapsed": false,
    "ExecuteTime": {
     "end_time": "2024-04-02T13:17:07.099241664Z",
     "start_time": "2024-04-02T13:17:07.086615791Z"
    },
    "pycharm": {
     "name": "#%%\n"
    }
   },
   "execution_count": 22
  },
  {
   "cell_type": "code",
   "outputs": [],
   "source": [
    "rf = RandomForestClassifier(random_state=42)\n",
    "cv = StratifiedKFold(n_splits=5, shuffle=True, random_state=42)\n",
    "gs = GridSearchCV(estimator=rf, param_grid=test_params, cv=cv, n_jobs=-1, verbose=10, scoring=accuracy_score)"
   ],
   "metadata": {
    "collapsed": false,
    "ExecuteTime": {
     "end_time": "2024-04-02T13:19:13.324257027Z",
     "start_time": "2024-04-02T13:19:13.322654035Z"
    },
    "pycharm": {
     "name": "#%%\n"
    }
   },
   "execution_count": 27
  },
  {
   "cell_type": "code",
   "outputs": [],
   "source": [
    "gs.fit(X, y)"
   ],
   "metadata": {
    "collapsed": false,
    "pycharm": {
     "name": "#%%\n"
    }
   }
  }
 ],
 "metadata": {
  "kernelspec": {
   "display_name": "Python 3",
   "language": "python",
   "name": "python3"
  },
  "language_info": {
   "codemirror_mode": {
    "name": "ipython",
    "version": 2
   },
   "file_extension": ".py",
   "mimetype": "text/x-python",
   "name": "python",
   "nbconvert_exporter": "python",
   "pygments_lexer": "ipython2",
   "version": "2.7.6"
  },
  "colab": {
   "provenance": []
  }
 },
 "nbformat": 4,
 "nbformat_minor": 0
}