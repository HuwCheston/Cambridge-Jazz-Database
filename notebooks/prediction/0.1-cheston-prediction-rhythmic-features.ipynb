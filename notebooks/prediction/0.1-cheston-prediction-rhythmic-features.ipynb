{
 "cells": [
  {
   "cell_type": "markdown",
   "metadata": {
    "collapsed": false,
    "jupyter": {
     "outputs_hidden": false
    },
    "pycharm": {
     "name": "#%% md\n"
    }
   },
   "source": [
    "# Random forest for pianist classification"
   ]
  },
  {
   "cell_type": "markdown",
   "metadata": {
    "collapsed": false,
    "jupyter": {
     "outputs_hidden": false
    },
    "pycharm": {
     "name": "#%% md\n"
    }
   },
   "source": [
    "## Import dependencies, set constants etc."
   ]
  },
  {
   "cell_type": "code",
   "execution_count": 9,
   "metadata": {
    "collapsed": false,
    "jupyter": {
     "outputs_hidden": false
    },
    "pycharm": {
     "name": "#%%\n"
    }
   },
   "outputs": [],
   "source": [
    "import matplotlib.pyplot as plt\n",
    "import numpy as np\n",
    "import os\n",
    "import pandas as pd\n",
    "import scipy.stats as stats\n",
    "import statsmodels.api as sm\n",
    "import statsmodels.formula.api as smf\n",
    "from joblib import Parallel, delayed, dump\n",
    "from sklearn.ensemble import RandomForestClassifier\n",
    "from sklearn.inspection import permutation_importance\n",
    "from sklearn.inspection._permutation_importance import _weights_scorer, _create_importances_bunch\n",
    "from sklearn.metrics import accuracy_score, roc_auc_score\n",
    "from sklearn.metrics import check_scoring\n",
    "from sklearn.model_selection import StratifiedKFold, ParameterSampler, train_test_split\n",
    "from sklearn.utils import check_random_state\n",
    "from statsmodels.stats.outliers_influence import variance_inflation_factor\n",
    "\n",
    "import src.visualise.visualise_utils as vutils\n",
    "from src import utils\n",
    "from src.detect.detect_utils import OnsetMaker\n",
    "from src.features.rhythm_features import *\n",
    "from src.visualise.random_forest_plots import *"
   ]
  },
  {
   "cell_type": "code",
   "execution_count": 10,
   "metadata": {
    "collapsed": false,
    "jupyter": {
     "outputs_hidden": false
    },
    "pycharm": {
     "name": "#%%\n"
    }
   },
   "outputs": [],
   "source": [
    "# These variables are used for the optimization process\n",
    "SEED = 42\n",
    "N_FOLDS = 5\n",
    "N_JOBS = -1\n",
    "# Number of iterations to use in random sampling\n",
    "N_ITER = 10000"
   ]
  },
  {
   "cell_type": "code",
   "execution_count": 11,
   "metadata": {
    "collapsed": false,
    "jupyter": {
     "outputs_hidden": false
    },
    "pycharm": {
     "name": "#%%\n"
    }
   },
   "outputs": [],
   "source": [
    "# Set the seed in NumPy for consistent results across function calls\n",
    "np.random.seed(SEED)"
   ]
  },
  {
   "cell_type": "markdown",
   "metadata": {
    "collapsed": false,
    "jupyter": {
     "outputs_hidden": false
    },
    "pycharm": {
     "name": "#%% md\n"
    }
   },
   "source": [
    "## Define predictor and prediction variables, get mappings"
   ]
  },
  {
   "cell_type": "code",
   "execution_count": 12,
   "metadata": {
    "collapsed": false,
    "jupyter": {
     "outputs_hidden": false
    },
    "pycharm": {
     "name": "#%%\n"
    }
   },
   "outputs": [],
   "source": [
    "# Define target/prediction variables\n",
    "EXOG_INS = 'piano'\n",
    "PREDICTION = 'pianist'"
   ]
  },
  {
   "cell_type": "code",
   "execution_count": 13,
   "metadata": {
    "collapsed": false,
    "jupyter": {
     "outputs_hidden": false
    },
    "pycharm": {
     "name": "#%%\n"
    }
   },
   "outputs": [],
   "source": [
    "# These are the underlying categories each predictor belongs to\n",
    "PREDICTORS_CATEGORIES = {\n",
    "    'Swing': ['bur_log_mean', 'bur_log_std'],\n",
    "    'Complexity': ['lz77_mean', 'lz77_std', 'n_onsets_mean', 'n_onsets_std'],\n",
    "    'Feel': ['bass_prop_async_nanmean', 'drums_prop_async_nanmean', 'bass_prop_async_nanstd', 'drums_prop_async_nanstd'],\n",
    "    'Interaction': ['self_coupling', 'coupling_drums', 'coupling_bass', 'coupling_piano_drums', 'coupling_piano_bass'],\n",
    "    'Tempo': ['rolling_std_median', 'tempo', 'tempo_slope',]\n",
    "}\n",
    "PREDICTORS = [it for sl in list(PREDICTORS_CATEGORIES.values()) for it in sl]"
   ]
  },
  {
   "cell_type": "code",
   "execution_count": 14,
   "metadata": {
    "collapsed": false,
    "jupyter": {
     "outputs_hidden": false
    },
    "pycharm": {
     "name": "#%%\n"
    }
   },
   "outputs": [],
   "source": [
    "# This creates a dictionary for mapping a predictor onto its category\n",
    "CATEGORY_MAPPING = {}\n",
    "for pred in PREDICTORS:\n",
    "    for category in PREDICTORS_CATEGORIES.keys():\n",
    "        if pred in PREDICTORS_CATEGORIES[category]:\n",
    "            CATEGORY_MAPPING[pred] = category"
   ]
  },
  {
   "cell_type": "markdown",
   "metadata": {
    "collapsed": false,
    "jupyter": {
     "outputs_hidden": false
    },
    "pycharm": {
     "name": "#%% md\n"
    }
   },
   "source": [
    "## Load in data\n",
    "\n",
    "First, we load in our list of `src.detect.detect_utils.OnsetMaker` classes. These contain the location of detected onsets and beats, as well as additional metadata."
   ]
  },
  {
   "cell_type": "code",
   "execution_count": 19,
   "metadata": {
    "collapsed": false,
    "jupyter": {
     "outputs_hidden": false
    },
    "pycharm": {
     "name": "#%%\n"
    }
   },
   "outputs": [
    {
     "name": "stderr",
     "output_type": "stream",
     "text": [
      "/home/hwc31/Cambridge-Jazz-Trio-Database/src/utils.py:710: UserWarning: genfromtxt: Empty input file: \"/home/hwc31/Cambridge-Jazz-Trio-Database/data/cambridge-jazz-trio-database-v01/corpus_chronology/mancej-jumpingtheblues-bettskwilliamsj-1995-f7727cf3/bass.csv\"\n",
      "  om.ons[instr] = np.genfromtxt(rf'{trackpath}/{instr}.csv', delimiter=',')\n",
      "/home/hwc31/Cambridge-Jazz-Trio-Database/src/utils.py:710: UserWarning: genfromtxt: Empty input file: \"/home/hwc31/Cambridge-Jazz-Trio-Database/data/cambridge-jazz-trio-database-v01/corpus_chronology/jamala-poorbutterfly-crosbyifournierv-1958-94f90cba/piano.csv\"\n",
      "  om.ons[instr] = np.genfromtxt(rf'{trackpath}/{instr}.csv', delimiter=',')\n",
      "/home/hwc31/Cambridge-Jazz-Trio-Database/src/utils.py:710: UserWarning: genfromtxt: Empty input file: \"/home/hwc31/Cambridge-Jazz-Trio-Database/data/cambridge-jazz-trio-database-v01/corpus_chronology/jamala-likesomeoneinlove-nasserjfournierv-1966-c56d6b55/bass.csv\"\n",
      "  om.ons[instr] = np.genfromtxt(rf'{trackpath}/{instr}.csv', delimiter=',')\n",
      "/home/hwc31/Cambridge-Jazz-Trio-Database/src/utils.py:710: UserWarning: genfromtxt: Empty input file: \"/home/hwc31/Cambridge-Jazz-Trio-Database/data/cambridge-jazz-trio-database-v01/corpus_chronology/petersono-homeagain-brownrthigpene-1960-daeab74d/bass.csv\"\n",
      "  om.ons[instr] = np.genfromtxt(rf'{trackpath}/{instr}.csv', delimiter=',')\n",
      "/home/hwc31/Cambridge-Jazz-Trio-Database/src/utils.py:710: UserWarning: genfromtxt: Empty input file: \"/home/hwc31/Cambridge-Jazz-Trio-Database/data/cambridge-jazz-trio-database-v01/corpus_chronology/petersono-comedancewithme-brownrthigpene-1959-59a6e2f2/piano.csv\"\n",
      "  om.ons[instr] = np.genfromtxt(rf'{trackpath}/{instr}.csv', delimiter=',')\n",
      "/home/hwc31/Cambridge-Jazz-Trio-Database/src/utils.py:710: UserWarning: genfromtxt: Empty input file: \"/home/hwc31/Cambridge-Jazz-Trio-Database/data/cambridge-jazz-trio-database-v01/corpus_chronology/powellb-satindoll-bibigfieldsk-1961-cf73bbe5/bass.csv\"\n",
      "  om.ons[instr] = np.genfromtxt(rf'{trackpath}/{instr}.csv', delimiter=',')\n",
      "/home/hwc31/Cambridge-Jazz-Trio-Database/src/utils.py:710: UserWarning: genfromtxt: Empty input file: \"/home/hwc31/Cambridge-Jazz-Trio-Database/data/cambridge-jazz-trio-database-v01/corpus_chronology/petersono-honeydripper-brownrthigpene-1962-b498d90e/bass.csv\"\n",
      "  om.ons[instr] = np.genfromtxt(rf'{trackpath}/{instr}.csv', delimiter=',')\n",
      "/home/hwc31/Cambridge-Jazz-Trio-Database/src/utils.py:710: UserWarning: genfromtxt: Empty input file: \"/home/hwc31/Cambridge-Jazz-Trio-Database/data/cambridge-jazz-trio-database-v01/corpus_chronology/evansb-oneforhelen-gomezedejohnettej-1967-94d467a6/bass.csv\"\n",
      "  om.ons[instr] = np.genfromtxt(rf'{trackpath}/{instr}.csv', delimiter=',')\n",
      "/home/hwc31/Cambridge-Jazz-Trio-Database/src/utils.py:710: UserWarning: genfromtxt: Empty input file: \"/home/hwc31/Cambridge-Jazz-Trio-Database/data/cambridge-jazz-trio-database-v01/corpus_chronology/jamala-yougotomyhead-crosbyifournierv-1960-5a0737d3/bass.csv\"\n",
      "  om.ons[instr] = np.genfromtxt(rf'{trackpath}/{instr}.csv', delimiter=',')\n",
      "/home/hwc31/Cambridge-Jazz-Trio-Database/src/utils.py:710: UserWarning: genfromtxt: Empty input file: \"/home/hwc31/Cambridge-Jazz-Trio-Database/data/cambridge-jazz-trio-database-v01/corpus_chronology/evansb-allofyou-gomezezigmunde-1976-acbb08b7/bass.csv\"\n",
      "  om.ons[instr] = np.genfromtxt(rf'{trackpath}/{instr}.csv', delimiter=',')\n"
     ]
    }
   ],
   "source": [
    "# Get filepaths for processing\n",
    "root = f'{utils.get_project_root()}/data/cambridge-jazz-trio-database-v01/corpus_chronology'\n",
    "files = [os.path.join(root, f) for f in os.listdir(root)]\n",
    "# Load in onsets and beats for each track\n",
    "onsets = [utils.load_track_from_files(f) for f in files]"
   ]
  },
  {
   "cell_type": "markdown",
   "metadata": {
    "collapsed": false,
    "jupyter": {
     "outputs_hidden": false
    },
    "pycharm": {
     "name": "#%% md\n"
    }
   },
   "source": [
    "## Extract features\n",
    "\n",
    "Now, we can extract our desired feature from each OnsetMaker class."
   ]
  },
  {
   "cell_type": "code",
   "execution_count": 20,
   "metadata": {
    "collapsed": false,
    "jupyter": {
     "outputs_hidden": false
    },
    "pycharm": {
     "name": "#%%\n"
    }
   },
   "outputs": [],
   "source": [
    "def get_feature_data(feature_cls, cols, extra_str = '', **cls_kwargs):\n",
    "    \"\"\"Creates a class with given kwargs and returns the desired key-value pairs from its summary dictionary\"\"\"\n",
    "    cls = feature_cls(**cls_kwargs)\n",
    "    return {k + extra_str: v for k, v in cls.summary_dict.items() if k in cols}"
   ]
  },
  {
   "cell_type": "code",
   "execution_count": 21,
   "metadata": {
    "collapsed": false,
    "jupyter": {
     "outputs_hidden": false
    },
    "pycharm": {
     "name": "#%%\n"
    }
   },
   "outputs": [],
   "source": [
    "def process_track(track: OnsetMaker) -> dict:\n",
    "    \"\"\"Processes a single track, extracting all required features, and returns a dictionary\"\"\"\n",
    "    # Convert the summary dictionary (dictionary of arrays) to a dataframe\n",
    "    summary_dict = pd.DataFrame(track.summary_dict)\n",
    "    # These are the positions of downbeats, i.e. the first beat of a measure\n",
    "    downbeats = track.ons['downbeats_manual']\n",
    "    # The tempo and time signature of the track\n",
    "    tempo = track.tempo\n",
    "    time_signature = track.item['time_signature']\n",
    "    # Subset to get my onsets and partner onsets as separate dataframes\n",
    "    my_onsets = track.ons[EXOG_INS]\n",
    "    my_beats = summary_dict[EXOG_INS]\n",
    "    their_beats = summary_dict[[i for i in utils.INSTRUMENTS_TO_PERFORMER_ROLES.keys() if i != EXOG_INS]]\n",
    "    # BEAT-UPBEAT RATIO\n",
    "    bur = get_feature_data(\n",
    "        BeatUpbeatRatio, ['bur_log_mean', 'bur_log_std', 'bur_log_count_nonzero'],\n",
    "        my_onsets=my_onsets, my_beats=my_beats, clean_outliers=True\n",
    "    )\n",
    "    # PHASE CORRECTION\n",
    "    pc = get_feature_data(\n",
    "        PhaseCorrection, ['self_coupling', 'coupling_bass', 'coupling_drums', 'nobs'],\n",
    "        my_beats=my_beats, their_beats=their_beats, order=1\n",
    "    )\n",
    "    # PHASE CORRECTION - PARTNER\n",
    "    # In comparison to the 'full' phase correction model, we only need to get a few columns here\n",
    "    pcb = get_feature_data(\n",
    "        PhaseCorrection, ['coupling_piano', 'nobs'], extra_str='_bass',\n",
    "        my_beats=summary_dict['bass'], their_beats=summary_dict[['piano', 'drums']], order=1\n",
    "    )\n",
    "    pcd = get_feature_data(\n",
    "        PhaseCorrection, ['coupling_piano', 'nobs'], extra_str='_drums',\n",
    "        my_beats=summary_dict['drums'], their_beats=summary_dict[['piano', 'bass']], order=1\n",
    "    )\n",
    "    # PROPORTIONAL ASYNCHRONY\n",
    "    pa = get_feature_data(\n",
    "        ProportionalAsynchrony, ['prop_async_count_nonzero', 'bass_prop_async_nanmean', 'drums_prop_async_nanmean', 'bass_prop_async_nanstd', 'drums_prop_async_nanstd'],\n",
    "        summary_df=summary_dict, my_instr_name=EXOG_INS\n",
    "    )\n",
    "    # IOI COMPLEXITY\n",
    "    ioi = get_feature_data(\n",
    "        IOIComplexity, ['lz77_mean', 'lz77_std', 'n_onsets_mean', 'n_onsets_std', 'window_count', 'ioi_count'],\n",
    "        my_onsets=my_onsets, downbeats=downbeats, tempo=tempo, time_signature=time_signature\n",
    "    )\n",
    "    # TEMPO SLOPE\n",
    "    ts = get_feature_data(\n",
    "        TempoSlope, ['tempo_slope', 'tempo_drift'],\n",
    "        my_beats=pd.concat([my_beats, their_beats], axis=1).mean(axis=1)\n",
    "    )\n",
    "    # TEMPO STABILITY\n",
    "    tstab = get_feature_data(\n",
    "        RollingIOISummaryStats, ['rolling_std_count_nonzero', 'rolling_std_median'],\n",
    "        my_onsets=my_beats, downbeats=downbeats, bar_period=4\n",
    "    )\n",
    "    # Return a single dictionary that combines the summary dictionary for all the features\n",
    "    return dict(**track.item, **bur, **pc, **pcb, **pcd, **pa, **ioi, **ts, **tstab, tempo=tempo)"
   ]
  },
  {
   "cell_type": "markdown",
   "metadata": {
    "collapsed": false,
    "jupyter": {
     "outputs_hidden": false
    },
    "pycharm": {
     "name": "#%% md\n"
    }
   },
   "source": [
    "Now, we extract features from all tracks in parallel (should take < 5 minutes)"
   ]
  },
  {
   "cell_type": "code",
   "execution_count": 22,
   "metadata": {
    "collapsed": false,
    "jupyter": {
     "outputs_hidden": false
    },
    "pycharm": {
     "name": "#%%\n"
    }
   },
   "outputs": [
    {
     "name": "stderr",
     "output_type": "stream",
     "text": [
      "[Parallel(n_jobs=-1)]: Using backend LokyBackend with 24 concurrent workers.\n",
      "[Parallel(n_jobs=-1)]: Done  24 tasks      | elapsed:    3.2s\n",
      "[Parallel(n_jobs=-1)]: Done 114 tasks      | elapsed:    7.6s\n",
      "[Parallel(n_jobs=-1)]: Done 240 tasks      | elapsed:   13.7s\n",
      "[Parallel(n_jobs=-1)]: Done 300 out of 300 | elapsed:   16.9s finished\n"
     ]
    }
   ],
   "source": [
    "with Parallel(n_jobs=-1, verbose=5) as parallel:\n",
    "    res = parallel(delayed(process_track)(t) for t in onsets)"
   ]
  },
  {
   "cell_type": "markdown",
   "metadata": {
    "collapsed": false,
    "jupyter": {
     "outputs_hidden": false
    },
    "pycharm": {
     "name": "#%% md\n"
    }
   },
   "source": [
    "We can now convert all of these features to a dataframe, sort by the pianist in the recording, and print a few rows."
   ]
  },
  {
   "cell_type": "code",
   "execution_count": 23,
   "metadata": {
    "collapsed": false,
    "jupyter": {
     "outputs_hidden": false
    },
    "pycharm": {
     "name": "#%%\n"
    }
   },
   "outputs": [],
   "source": [
    "df = pd.DataFrame(res).sort_values('pianist').reset_index(drop=True)"
   ]
  },
  {
   "cell_type": "code",
   "execution_count": 24,
   "metadata": {
    "collapsed": false,
    "jupyter": {
     "outputs_hidden": false
    },
    "pycharm": {
     "name": "#%%\n"
    }
   },
   "outputs": [
    {
     "name": "stdout",
     "output_type": "stream",
     "text": [
      "             track_name                                         album_name  \\\n",
      "0        Poor Butterfly          Complete Live at the Pershing Lounge 1958   \n",
      "1  Like Someone In Love  Emerald City Nights Live At The Penthouse 1965...   \n",
      "2         Where Are You                          In Search of Momentum 110   \n",
      "3             Tater Pie                                  Chicago Revisited   \n",
      "4           Whisper Not                                         Extensions   \n",
      "\n",
      "  recording_year      pianist            channel_overrides  \\\n",
      "0           1958  Ahmad Jamal                           {}   \n",
      "1           1966  Ahmad Jamal                           {}   \n",
      "2           2002  Ahmad Jamal                           {}   \n",
      "3           1992  Ahmad Jamal                           {}   \n",
      "4           1965  Ahmad Jamal  {'bass': 'l', 'drums': 'r'}   \n",
      "\n",
      "                                 mbz_id                             notes  \\\n",
      "0  94f90cba-f3c7-4a05-b86a-e30fd9ebe989      rim clicks have to be sticks   \n",
      "1  c56d6b55-e630-4a83-8fd5-70f016bd42b1                                     \n",
      "2  a1295aa8-78ab-4234-a8a9-f05c1916d2d8                                     \n",
      "3  3d395a12-1079-4c55-905c-b4578e9b0e9d  v short solo into unison passage   \n",
      "4  dc92588c-d38a-432c-9195-03ccce38e746                                     \n",
      "\n",
      "   time_signature  first_downbeat  rating_bass_audio  rating_bass_detection  \\\n",
      "0               4            6.79                NaN                    NaN   \n",
      "1               4            9.63                NaN                    NaN   \n",
      "2               4            8.38                NaN                    NaN   \n",
      "3               4           12.46                NaN                    NaN   \n",
      "4               4            8.42                NaN                    NaN   \n",
      "\n",
      "   rating_drums_audio  rating_drums_detection  rating_mix  rating_piano_audio  \\\n",
      "0                 NaN                     NaN         NaN                 NaN   \n",
      "1                 NaN                     NaN         NaN                 NaN   \n",
      "2                 NaN                     NaN         NaN                 NaN   \n",
      "3                 NaN                     NaN         NaN                 NaN   \n",
      "4                 NaN                     NaN         NaN                 NaN   \n",
      "\n",
      "   rating_piano_detection rating_comments  has_annotations  \\\n",
      "0                     NaN             NaN            False   \n",
      "1                     NaN             NaN            False   \n",
      "2                     NaN             NaN            False   \n",
      "3                     NaN             NaN            False   \n",
      "4                     NaN             NaN            False   \n",
      "\n",
      "                                               links excerpt_duration  \\\n",
      "0  {'external': ['https://www.youtube.com/watch?v...            00:50   \n",
      "1  {'external': ['https://www.youtube.com/watch?v...            00:44   \n",
      "2  {'external': ['https://www.youtube.com/watch?v...            03:06   \n",
      "3  {'external': ['https://www.youtube.com/watch?v...            00:34   \n",
      "4  {'external': ['https://www.youtube.com/watch?v...            01:19   \n",
      "\n",
      "                           timestamps log  \\\n",
      "0  {'start': '02:17', 'end': '03:07'}  []   \n",
      "1  {'start': '03:06', 'end': '03:50'}  []   \n",
      "2  {'start': '01:24', 'end': '04:30'}  []   \n",
      "3  {'start': '03:04', 'end': '03:38'}  []   \n",
      "4  {'start': '00:42', 'end': '02:01'}  []   \n",
      "\n",
      "                                           musicians  \\\n",
      "0  {'pianist': 'Ahmad Jamal', 'bassist': 'Israel ...   \n",
      "1  {'pianist': 'Ahmad Jamal', 'bassist': 'Jamil N...   \n",
      "2  {'pianist': 'Ahmad Jamal', 'bassist': 'James C...   \n",
      "3  {'pianist': 'Ahmad Jamal', 'bassist': 'John He...   \n",
      "4  {'pianist': 'Ahmad Jamal', 'bassist': 'Jamil N...   \n",
      "\n",
      "                                              photos  \\\n",
      "0  {'musicians': {'pianist': None, 'bassist': Non...   \n",
      "1  {'musicians': {'pianist': None, 'bassist': Non...   \n",
      "2  {'musicians': {'pianist': None, 'bassist': Non...   \n",
      "3  {'musicians': {'pianist': None, 'bassist': Non...   \n",
      "4  {'musicians': {'pianist': None, 'bassist': Non...   \n",
      "\n",
      "                                               fname  bur_log_mean  \\\n",
      "0  jamala-poorbutterfly-crosbyifournierv-1958-94f...           NaN   \n",
      "1  jamala-likesomeoneinlove-nasserjfournierv-1966...      0.325757   \n",
      "2  jamala-whereareyou-cammackjmuhammadi-2002-a129...      0.180555   \n",
      "3        jamala-taterpie-heardjisraely-1992-3d395a12      0.121974   \n",
      "4   jamala-whispernot-nasserjfournierv-1965-dc92588c      0.712225   \n",
      "\n",
      "   bur_log_std  bur_log_count_nonzero  coupling_bass  coupling_drums  \\\n",
      "0          NaN                      0            NaN             NaN   \n",
      "1     0.702128                      9            NaN             NaN   \n",
      "2     0.817893                    124       0.235178        0.916245   \n",
      "3     0.827975                     32       0.345430        0.751494   \n",
      "4     0.720419                     28       1.314505        0.480038   \n",
      "\n",
      "   self_coupling  nobs  coupling_piano_bass  nobs_bass  coupling_piano_drums  \\\n",
      "0            NaN   NaN                  NaN        NaN                   NaN   \n",
      "1            NaN   NaN                  NaN        NaN                   NaN   \n",
      "2      -0.520223  89.0             0.081562      161.0              0.119725   \n",
      "3      -0.541854  25.0             0.449643       34.0              0.131012   \n",
      "4      -0.597237  17.0             0.097762       55.0             -0.074945   \n",
      "\n",
      "   nobs_drums  prop_async_count_nonzero  bass_prop_async_nanmean  \\\n",
      "0         NaN                         0                      NaN   \n",
      "1         NaN                        32                      NaN   \n",
      "2       202.0                       355                 0.008551   \n",
      "3        39.0                        84                 0.026085   \n",
      "4        57.0                        80                 0.011973   \n",
      "\n",
      "   drums_prop_async_nanmean  bass_prop_async_nanstd  drums_prop_async_nanstd  \\\n",
      "0                       NaN                     NaN                      NaN   \n",
      "1                  0.013005                     NaN                 0.010223   \n",
      "2                  0.016082                0.005224                 0.008087   \n",
      "3                  0.007612                0.001841                 0.005471   \n",
      "4                  0.014747                0.005210                 0.005494   \n",
      "\n",
      "   window_count  ioi_count  lz77_mean  lz77_std  n_onsets_mean  n_onsets_std  \\\n",
      "0             0          0        NaN       NaN            NaN           NaN   \n",
      "1            15         96   9.266667  2.840188      20.400000      8.666850   \n",
      "2           132        902  11.174242  1.943854      25.507576      7.448035   \n",
      "3            27        169  10.444444  1.648620      21.444444      4.263741   \n",
      "4            49        208   7.489796  2.777307      14.061224      7.318379   \n",
      "\n",
      "   tempo_slope  tempo_drift  rolling_std_median  rolling_std_count_nonzero  \\\n",
      "0    -0.030976     0.058693                 NaN                          0   \n",
      "1    -0.125792     0.104719            0.207528                         15   \n",
      "2    -0.014056     0.009137            0.222306                        132   \n",
      "3     0.014004     0.132928            0.169640                         27   \n",
      "4    -0.006388     0.023552            0.135688                         47   \n",
      "\n",
      "        tempo  \n",
      "0  140.064796  \n",
      "1  140.917863  \n",
      "2  175.652227  \n",
      "3  212.784304  \n",
      "4  183.926501  \n"
     ]
    }
   ],
   "source": [
    "print(df.head())"
   ]
  },
  {
   "cell_type": "markdown",
   "metadata": {
    "collapsed": false,
    "jupyter": {
     "outputs_hidden": false
    },
    "pycharm": {
     "name": "#%% md\n"
    }
   },
   "source": [
    "## Plot correlations between features\n",
    "Before we clean outliers, we should plot the correlations between the raw values"
   ]
  },
  {
   "cell_type": "code",
   "execution_count": 25,
   "metadata": {
    "collapsed": false,
    "jupyter": {
     "outputs_hidden": false
    },
    "pycharm": {
     "name": "#%%\n"
    }
   },
   "outputs": [
    {
     "data": {
      "text/plain": [
       "bur_log_mean                 2\n",
       "bur_log_std                  2\n",
       "lz77_mean                    2\n",
       "lz77_std                     2\n",
       "n_onsets_mean                2\n",
       "n_onsets_std                 2\n",
       "bass_prop_async_nanmean     11\n",
       "drums_prop_async_nanmean     2\n",
       "bass_prop_async_nanstd      12\n",
       "drums_prop_async_nanstd      3\n",
       "self_coupling               19\n",
       "coupling_drums              19\n",
       "coupling_bass               19\n",
       "coupling_piano_drums        18\n",
       "coupling_piano_bass         21\n",
       "rolling_std_median           2\n",
       "tempo                        0\n",
       "tempo_slope                  0\n",
       "dtype: int64"
      ]
     },
     "execution_count": 25,
     "metadata": {},
     "output_type": "execute_result"
    }
   ],
   "source": [
    "df[PREDICTORS].isna().sum()"
   ]
  },
  {
   "cell_type": "code",
   "execution_count": 26,
   "metadata": {
    "collapsed": false,
    "jupyter": {
     "outputs_hidden": false
    },
    "pycharm": {
     "name": "#%%\n"
    }
   },
   "outputs": [
    {
     "name": "stderr",
     "output_type": "stream",
     "text": [
      "/home/hwc31/.virtualenvs/Cambridge-Jazz-Trio-Database/lib/python3.10/site-packages/seaborn/matrix.py:260: FutureWarning: Format strings passed to MaskedConstant are ignored, but in future may error or produce different behavior\n",
      "  annotation = (\"{:\" + self.fmt + \"}\").format(val)\n"
     ]
    },
    {
     "ename": "ValueError",
     "evalue": "could not convert string to float: '--'",
     "output_type": "error",
     "traceback": [
      "\u001b[0;31m---------------------------------------------------------------------------\u001b[0m",
      "\u001b[0;31mValueError\u001b[0m                                Traceback (most recent call last)",
      "Cell \u001b[0;32mIn[26], line 1\u001b[0m\n\u001b[0;32m----> 1\u001b[0m \u001b[43mHeatMapFeatureCorrelation\u001b[49m\u001b[43m(\u001b[49m\u001b[43mdf\u001b[49m\u001b[43m[\u001b[49m\u001b[43mPREDICTORS\u001b[49m\u001b[43m]\u001b[49m\u001b[43m)\u001b[49m\u001b[38;5;241;43m.\u001b[39;49m\u001b[43mcreate_plot\u001b[49m\u001b[43m(\u001b[49m\u001b[43m)\u001b[49m\n\u001b[1;32m      2\u001b[0m plt\u001b[38;5;241m.\u001b[39mshow()\n",
      "File \u001b[0;32m~/Cambridge-Jazz-Trio-Database/src/visualise/visualise_utils.py:57\u001b[0m, in \u001b[0;36mplot_decorator.<locals>.wrapper\u001b[0;34m(*args, **kwargs)\u001b[0m\n\u001b[1;32m     55\u001b[0m     output \u001b[38;5;241m=\u001b[39m args[\u001b[38;5;241m0\u001b[39m]\u001b[38;5;241m.\u001b[39moutput_dir  \u001b[38;5;66;03m# Will be None anyway if no output_dir ever passed to class\u001b[39;00m\n\u001b[1;32m     56\u001b[0m \u001b[38;5;66;03m# Create the plot and return the figure\u001b[39;00m\n\u001b[0;32m---> 57\u001b[0m fig, fname \u001b[38;5;241m=\u001b[39m \u001b[43mplotter\u001b[49m\u001b[43m(\u001b[49m\u001b[38;5;241;43m*\u001b[39;49m\u001b[43margs\u001b[49m\u001b[43m,\u001b[49m\u001b[43m \u001b[49m\u001b[38;5;241;43m*\u001b[39;49m\u001b[38;5;241;43m*\u001b[39;49m\u001b[43mkwargs\u001b[49m\u001b[43m)\u001b[49m\n\u001b[1;32m     58\u001b[0m \u001b[38;5;66;03m# If we've provided an output directory, create a folder and save the plot within it\u001b[39;00m\n\u001b[1;32m     59\u001b[0m \u001b[38;5;28;01mif\u001b[39;00m output \u001b[38;5;129;01mis\u001b[39;00m \u001b[38;5;129;01mnot\u001b[39;00m \u001b[38;5;28;01mNone\u001b[39;00m:\n\u001b[1;32m     60\u001b[0m     \u001b[38;5;66;03m# Iterate through all filetypes and save the plot as each type\u001b[39;00m\n",
      "File \u001b[0;32m~/Cambridge-Jazz-Trio-Database/src/visualise/visualise_utils.py:94\u001b[0m, in \u001b[0;36mBasePlot.create_plot\u001b[0;34m(self)\u001b[0m\n\u001b[1;32m     92\u001b[0m \u001b[38;5;250m\u001b[39m\u001b[38;5;124;03m\"\"\"Calls plot creation, axis formatting, and figure formatting classes, then saves in the decorator\"\"\"\u001b[39;00m\n\u001b[1;32m     93\u001b[0m \u001b[38;5;28mself\u001b[39m\u001b[38;5;241m.\u001b[39m_create_plot()\n\u001b[0;32m---> 94\u001b[0m \u001b[38;5;28;43mself\u001b[39;49m\u001b[38;5;241;43m.\u001b[39;49m\u001b[43m_format_ax\u001b[49m\u001b[43m(\u001b[49m\u001b[43m)\u001b[49m\n\u001b[1;32m     95\u001b[0m \u001b[38;5;28mself\u001b[39m\u001b[38;5;241m.\u001b[39m_format_fig()\n\u001b[1;32m     96\u001b[0m fname \u001b[38;5;241m=\u001b[39m \u001b[38;5;124mrf\u001b[39m\u001b[38;5;124m'\u001b[39m\u001b[38;5;132;01m{\u001b[39;00m\u001b[38;5;28mself\u001b[39m\u001b[38;5;241m.\u001b[39moutput_dir\u001b[38;5;132;01m}\u001b[39;00m\u001b[38;5;124m\\\u001b[39m\u001b[38;5;132;01m{\u001b[39;00m\u001b[38;5;28mself\u001b[39m\u001b[38;5;241m.\u001b[39mfigure_title\u001b[38;5;132;01m}\u001b[39;00m\u001b[38;5;124m'\u001b[39m\n",
      "File \u001b[0;32m~/Cambridge-Jazz-Trio-Database/src/visualise/random_forest_plots.py:184\u001b[0m, in \u001b[0;36mHeatMapFeatureCorrelation._format_ax\u001b[0;34m(self)\u001b[0m\n\u001b[1;32m    182\u001b[0m \u001b[38;5;28mself\u001b[39m\u001b[38;5;241m.\u001b[39max\u001b[38;5;241m.\u001b[39mtick_params(axis\u001b[38;5;241m=\u001b[39m\u001b[38;5;124m'\u001b[39m\u001b[38;5;124mboth\u001b[39m\u001b[38;5;124m'\u001b[39m, width\u001b[38;5;241m=\u001b[39mvutils\u001b[38;5;241m.\u001b[39mTICKWIDTH, color\u001b[38;5;241m=\u001b[39mvutils\u001b[38;5;241m.\u001b[39mBLACK)\n\u001b[1;32m    183\u001b[0m \u001b[38;5;28mself\u001b[39m\u001b[38;5;241m.\u001b[39m_format_cax()\n\u001b[0;32m--> 184\u001b[0m \u001b[38;5;28;43mself\u001b[39;49m\u001b[38;5;241;43m.\u001b[39;49m\u001b[43m_format_corr_labels\u001b[49m\u001b[43m(\u001b[49m\u001b[43m)\u001b[49m\n\u001b[1;32m    185\u001b[0m \u001b[38;5;28mself\u001b[39m\u001b[38;5;241m.\u001b[39m_add_text_to_triangle()\n\u001b[1;32m    186\u001b[0m \u001b[38;5;28mself\u001b[39m\u001b[38;5;241m.\u001b[39m_format_tick_labels()\n",
      "File \u001b[0;32m~/Cambridge-Jazz-Trio-Database/src/visualise/random_forest_plots.py:151\u001b[0m, in \u001b[0;36mHeatMapFeatureCorrelation._format_corr_labels\u001b[0;34m(self, lim)\u001b[0m\n\u001b[1;32m    149\u001b[0m \u001b[38;5;250m\u001b[39m\u001b[38;5;124;03m\"\"\"Hides correlation text if values of `r` below given absolute limit `lim`\"\"\"\u001b[39;00m\n\u001b[1;32m    150\u001b[0m \u001b[38;5;28;01mfor\u001b[39;00m t \u001b[38;5;129;01min\u001b[39;00m \u001b[38;5;28mself\u001b[39m\u001b[38;5;241m.\u001b[39max\u001b[38;5;241m.\u001b[39mtexts:\n\u001b[0;32m--> 151\u001b[0m     \u001b[38;5;28;01mif\u001b[39;00m \u001b[38;5;28mabs\u001b[39m(\u001b[38;5;28;43mfloat\u001b[39;49m\u001b[43m(\u001b[49m\u001b[43mt\u001b[49m\u001b[38;5;241;43m.\u001b[39;49m\u001b[43mget_text\u001b[49m\u001b[43m(\u001b[49m\u001b[43m)\u001b[49m\u001b[43m)\u001b[49m) \u001b[38;5;241m>\u001b[39m lim:\n\u001b[1;32m    152\u001b[0m         t\u001b[38;5;241m.\u001b[39mset_text(t\u001b[38;5;241m.\u001b[39mget_text())\n\u001b[1;32m    153\u001b[0m     \u001b[38;5;28;01melse\u001b[39;00m:\n",
      "\u001b[0;31mValueError\u001b[0m: could not convert string to float: '--'"
     ]
    },
    {
     "data": {
      "image/png": "[encoded data removed]",
      "text/plain": [
       "<Figure size 1880x1880 with 2 Axes>"
      ]
     },
     "metadata": {},
     "output_type": "display_data"
    }
   ],
   "source": [
    "HeatMapFeatureCorrelation(df[PREDICTORS]).create_plot()\n",
    "plt.show()"
   ]
  },
  {
   "cell_type": "markdown",
   "metadata": {
    "collapsed": false,
    "jupyter": {
     "outputs_hidden": false
    },
    "pycharm": {
     "name": "#%% md\n"
    }
   },
   "source": [
    "## Clean dataset\n",
    "### Identify outliers\n",
    "When cleaning the dataset, we first need to identify outlying values in our features. We set outlying values to `np.nan` so that we can set them to the overall average later, rather than removing the track completely. To start, we clean `self_coupling`, `coupling_bass`, or `coupling_drums` when `nobs < 30`: this means that we have fewer than 10 terms for each of our 3 predictors in the regression."
   ]
  },
  {
   "cell_type": "code",
   "execution_count": 27,
   "metadata": {
    "collapsed": false,
    "jupyter": {
     "outputs_hidden": false
    },
    "pycharm": {
     "name": "#%%\n"
    }
   },
   "outputs": [],
   "source": [
    "clean = df.copy(deep=True)"
   ]
  },
  {
   "cell_type": "code",
   "execution_count": 28,
   "metadata": {
    "collapsed": false,
    "jupyter": {
     "outputs_hidden": false
    },
    "pycharm": {
     "name": "#%%\n"
    }
   },
   "outputs": [],
   "source": [
    "for col in ['self_coupling', 'coupling_bass', 'coupling_drums']:\n",
    "    # If we have NaN obs, it's because the model failed to compile, so replace this with 0\n",
    "    clean[f'nobs'] = clean[f'nobs'].fillna(0)\n",
    "    clean.loc[clean['nobs'] < 30, col] = np.nan"
   ]
  },
  {
   "cell_type": "markdown",
   "metadata": {
    "collapsed": false,
    "jupyter": {
     "outputs_hidden": false
    },
    "pycharm": {
     "name": "#%% md\n"
    }
   },
   "source": [
    "For the same reason, we clean `coupling_bass_piano` (i.e. bass coupling to piano) when `nobs_bass < 30` (sim. for `coupling_drums_piano` and `nobs_drums`)"
   ]
  },
  {
   "cell_type": "code",
   "execution_count": 29,
   "metadata": {
    "collapsed": false,
    "jupyter": {
     "outputs_hidden": false
    },
    "pycharm": {
     "name": "#%%\n"
    }
   },
   "outputs": [],
   "source": [
    "for col in ['bass', 'drums']:\n",
    "    # If we have NaN obs, it's because the model failed to compile, so replace this with 0\n",
    "    clean[f'nobs_{col}'] = clean[f'nobs_{col}'].fillna(0)\n",
    "    clean.loc[clean[f'nobs_{col}'] < 30, f'coupling_piano_{col}'] = np.nan"
   ]
  },
  {
   "cell_type": "markdown",
   "metadata": {
    "collapsed": false,
    "jupyter": {
     "outputs_hidden": false
    },
    "pycharm": {
     "name": "#%% md\n"
    }
   },
   "source": [
    "We clean `bur_log_mean` and `bur_log)std` when `-2 <= average_bur <= 2` (these are the values discussed by Corcoran and Frieler) OR `bur_log_count_nonzero < 15` (we have fewer than 15 BURs in the track)."
   ]
  },
  {
   "cell_type": "code",
   "execution_count": 30,
   "metadata": {
    "collapsed": false,
    "jupyter": {
     "outputs_hidden": false
    },
    "pycharm": {
     "name": "#%%\n"
    }
   },
   "outputs": [],
   "source": [
    "for col in ['bur_log_mean', 'bur_log_std']:\n",
    "    clean.loc[clean['bur_log_mean'] < -2, col] = np.nan\n",
    "    clean.loc[clean['bur_log_mean'] > 2, col] = np.nan\n",
    "    clean.loc[clean['bur_log_count_nonzero'] < 15, col] = np.nan"
   ]
  },
  {
   "cell_type": "markdown",
   "metadata": {
    "collapsed": false,
    "jupyter": {
     "outputs_hidden": false
    },
    "pycharm": {
     "name": "#%% md\n"
    }
   },
   "source": [
    "We clean `bass/drums_prop_async` when `piano_prop_async_count_nonzero < 15`, i.e. we have fewer than 15 beat asynchronies"
   ]
  },
  {
   "cell_type": "code",
   "execution_count": 31,
   "metadata": {
    "collapsed": false,
    "jupyter": {
     "outputs_hidden": false
    },
    "pycharm": {
     "name": "#%%\n"
    }
   },
   "outputs": [],
   "source": [
    "for col in ['bass', 'drums']:\n",
    "    clean.loc[clean['prop_async_count_nonzero'] < 10, f'{col}_prop_async_nanmean'] = np.nan\n",
    "    clean.loc[clean['prop_async_count_nonzero'] < 10, f'{col}_prop_async_nanstd'] = np.nan"
   ]
  },
  {
   "cell_type": "markdown",
   "metadata": {
    "collapsed": false,
    "jupyter": {
     "outputs_hidden": false
    },
    "pycharm": {
     "name": "#%% md\n"
    }
   },
   "source": [
    "We clean `tempo_slope` and `tempo_drift` when `tempo_slope.abs() < 0.15`, i.e. we accelerated (or decelerated) by more than 0.15 beats-per-minute-per-second. This is the upper limit of values suggested to be realistic for jazz ensembles in the control condition of our previous experiment."
   ]
  },
  {
   "cell_type": "code",
   "execution_count": 32,
   "metadata": {
    "collapsed": false,
    "jupyter": {
     "outputs_hidden": false
    },
    "pycharm": {
     "name": "#%%\n"
    }
   },
   "outputs": [],
   "source": [
    "clean.loc[clean['tempo_slope'].abs() > 0.15, 'tempo_slope'] = np.nan\n",
    "clean.loc[clean['tempo_slope'].abs() > 0.15, 'tempo_drift'] = np.nan"
   ]
  },
  {
   "cell_type": "markdown",
   "metadata": {
    "collapsed": false,
    "jupyter": {
     "outputs_hidden": false
    },
    "pycharm": {
     "name": "#%% md\n"
    }
   },
   "source": [
    "We clean `rolling_std_median` when `rolling_std_median > 0.4`, i.e. the median standard deviation for a four-second window of 1/4 note beats is greater than 40 milliseconds. This is the upper limit of values for this variable from our earlier experiment."
   ]
  },
  {
   "cell_type": "code",
   "execution_count": 33,
   "metadata": {
    "collapsed": false,
    "jupyter": {
     "outputs_hidden": false
    },
    "pycharm": {
     "name": "#%%\n"
    }
   },
   "outputs": [],
   "source": [
    "clean.loc[clean['rolling_std_median'] > 0.4, 'rolling_std_median'] = np.nan"
   ]
  },
  {
   "cell_type": "markdown",
   "metadata": {
    "collapsed": false,
    "jupyter": {
     "outputs_hidden": false
    },
    "pycharm": {
     "name": "#%% md\n"
    }
   },
   "source": [
    "## Get number of missing values per predictor\n",
    "Let's see how many missing values we have per predictor variable"
   ]
  },
  {
   "cell_type": "code",
   "execution_count": 34,
   "metadata": {
    "collapsed": false,
    "jupyter": {
     "outputs_hidden": false
    },
    "pycharm": {
     "name": "#%%\n"
    }
   },
   "outputs": [],
   "source": [
    "COL_MAPPING = {\n",
    "    'bur_log_mean': 'Beat-upbeat ratio, mean',\n",
    "    'bur_log_std': 'Beat-upbeat ratio, std.',\n",
    "    'lz77_mean': 'Compression score, mean',\n",
    "    'lz77_std': 'Compression score, std',\n",
    "    'n_onsets_mean': 'Onset density, mean',\n",
    "    'n_onsets_std': 'Onset density, std',\n",
    "    'bass_prop_async_nanmean': 'Piano→Bass, async mean',\n",
    "    'bass_prop_async_nanstd': 'Piano→Bass, async std.',\n",
    "    'drums_prop_async_nanmean': 'Piano→Drums, async mean',\n",
    "    'drums_prop_async_nanstd': 'Piano→Drums, async std.',\n",
    "    'coupling_bass': 'Piano→Bass, coupling',\n",
    "    'coupling_piano_bass': 'Bass→Piano, coupling',\n",
    "    'coupling_drums': 'Piano→Drums, coupling',\n",
    "    'coupling_piano_drums': 'Drums→Piano, coupling',\n",
    "    'self_coupling': 'Piano→Piano, coupling',\n",
    "    'rolling_std_median': 'Tempo stability',\n",
    "    'tempo': 'Tempo average',\n",
    "    'tempo_slope': 'Tempo slope',\n",
    "}"
   ]
  },
  {
   "cell_type": "code",
   "execution_count": 35,
   "metadata": {
    "collapsed": false,
    "jupyter": {
     "outputs_hidden": false
    },
    "pycharm": {
     "name": "#%%\n"
    }
   },
   "outputs": [
    {
     "name": "stdout",
     "output_type": "stream",
     "text": [
      "                       index    0          cat\n",
      "0               bur_log_mean   19        Swing\n",
      "1                bur_log_std   19        Swing\n",
      "2                  lz77_mean    2   Complexity\n",
      "3                   lz77_std    2   Complexity\n",
      "4              n_onsets_mean    2   Complexity\n",
      "5               n_onsets_std    2   Complexity\n",
      "6    bass_prop_async_nanmean   12         Feel\n",
      "7   drums_prop_async_nanmean    3         Feel\n",
      "8     bass_prop_async_nanstd   12         Feel\n",
      "9    drums_prop_async_nanstd    3         Feel\n",
      "10             self_coupling  128  Interaction\n",
      "11            coupling_drums  128  Interaction\n",
      "12             coupling_bass  128  Interaction\n",
      "13      coupling_piano_drums   71  Interaction\n",
      "14       coupling_piano_bass   95  Interaction\n",
      "15        rolling_std_median    8        Tempo\n",
      "16                     tempo    0        Tempo\n",
      "17               tempo_slope   24        Tempo\n"
     ]
    }
   ],
   "source": [
    "miss = clean[PREDICTORS].isna().sum().reset_index()\n",
    "miss['cat'] = miss['index'].map(CATEGORY_MAPPING)\n",
    "print(miss)"
   ]
  },
  {
   "cell_type": "code",
   "execution_count": 36,
   "metadata": {
    "collapsed": false,
    "jupyter": {
     "outputs_hidden": false
    },
    "pycharm": {
     "name": "#%%\n"
    }
   },
   "outputs": [
    {
     "name": "stdout",
     "output_type": "stream",
     "text": [
      "cat\n",
      "Complexity     0.006667\n",
      "Feel           0.025000\n",
      "Interaction    0.366667\n",
      "Swing          0.063333\n",
      "Tempo          0.035556\n",
      "Name: 0, dtype: float64\n"
     ]
    }
   ],
   "source": [
    "print(miss.groupby('cat')[0].mean() / 300)"
   ]
  },
  {
   "cell_type": "code",
   "execution_count": 37,
   "metadata": {
    "collapsed": false,
    "jupyter": {
     "outputs_hidden": false
    },
    "pycharm": {
     "name": "#%%\n"
    }
   },
   "outputs": [
    {
     "data": {
      "text/html": [
       "<div>\n",
       "<style scoped>\n",
       "    .dataframe tbody tr th:only-of-type {\n",
       "        vertical-align: middle;\n",
       "    }\n",
       "\n",
       "    .dataframe tbody tr th {\n",
       "        vertical-align: top;\n",
       "    }\n",
       "\n",
       "    .dataframe thead th {\n",
       "        text-align: right;\n",
       "    }\n",
       "</style>\n",
       "<table border=\"1\" class=\"dataframe\">\n",
       "  <thead>\n",
       "    <tr style=\"text-align: right;\">\n",
       "      <th></th>\n",
       "      <th>track_name</th>\n",
       "      <th>album_name</th>\n",
       "      <th>recording_year</th>\n",
       "      <th>pianist</th>\n",
       "      <th>channel_overrides</th>\n",
       "      <th>mbz_id</th>\n",
       "      <th>notes</th>\n",
       "      <th>time_signature</th>\n",
       "      <th>first_downbeat</th>\n",
       "      <th>rating_bass_audio</th>\n",
       "      <th>rating_bass_detection</th>\n",
       "      <th>rating_drums_audio</th>\n",
       "      <th>rating_drums_detection</th>\n",
       "      <th>rating_mix</th>\n",
       "      <th>rating_piano_audio</th>\n",
       "      <th>rating_piano_detection</th>\n",
       "      <th>rating_comments</th>\n",
       "      <th>has_annotations</th>\n",
       "      <th>links</th>\n",
       "      <th>excerpt_duration</th>\n",
       "      <th>timestamps</th>\n",
       "      <th>log</th>\n",
       "      <th>musicians</th>\n",
       "      <th>photos</th>\n",
       "      <th>fname</th>\n",
       "      <th>bur_log_mean</th>\n",
       "      <th>bur_log_std</th>\n",
       "      <th>bur_log_count_nonzero</th>\n",
       "      <th>coupling_bass</th>\n",
       "      <th>coupling_drums</th>\n",
       "      <th>self_coupling</th>\n",
       "      <th>nobs</th>\n",
       "      <th>coupling_piano_bass</th>\n",
       "      <th>nobs_bass</th>\n",
       "      <th>coupling_piano_drums</th>\n",
       "      <th>nobs_drums</th>\n",
       "      <th>prop_async_count_nonzero</th>\n",
       "      <th>bass_prop_async_nanmean</th>\n",
       "      <th>drums_prop_async_nanmean</th>\n",
       "      <th>bass_prop_async_nanstd</th>\n",
       "      <th>drums_prop_async_nanstd</th>\n",
       "      <th>window_count</th>\n",
       "      <th>ioi_count</th>\n",
       "      <th>lz77_mean</th>\n",
       "      <th>lz77_std</th>\n",
       "      <th>n_onsets_mean</th>\n",
       "      <th>n_onsets_std</th>\n",
       "      <th>tempo_slope</th>\n",
       "      <th>tempo_drift</th>\n",
       "      <th>rolling_std_median</th>\n",
       "      <th>rolling_std_count_nonzero</th>\n",
       "      <th>tempo</th>\n",
       "    </tr>\n",
       "  </thead>\n",
       "  <tbody>\n",
       "    <tr>\n",
       "      <th>0</th>\n",
       "      <td>Poor Butterfly</td>\n",
       "      <td>Complete Live at the Pershing Lounge 1958</td>\n",
       "      <td>1958</td>\n",
       "      <td>Ahmad Jamal</td>\n",
       "      <td>{}</td>\n",
       "      <td>94f90cba-f3c7-4a05-b86a-e30fd9ebe989</td>\n",
       "      <td>rim clicks have to be sticks</td>\n",
       "      <td>4</td>\n",
       "      <td>6.79</td>\n",
       "      <td>NaN</td>\n",
       "      <td>NaN</td>\n",
       "      <td>NaN</td>\n",
       "      <td>NaN</td>\n",
       "      <td>NaN</td>\n",
       "      <td>NaN</td>\n",
       "      <td>NaN</td>\n",
       "      <td>NaN</td>\n",
       "      <td>False</td>\n",
       "      <td>{'external': ['https://www.youtube.com/watch?v...</td>\n",
       "      <td>00:50</td>\n",
       "      <td>{'start': '02:17', 'end': '03:07'}</td>\n",
       "      <td>[]</td>\n",
       "      <td>{'pianist': 'Ahmad Jamal', 'bassist': 'Israel ...</td>\n",
       "      <td>{'musicians': {'pianist': None, 'bassist': Non...</td>\n",
       "      <td>jamala-poorbutterfly-crosbyifournierv-1958-94f...</td>\n",
       "      <td>NaN</td>\n",
       "      <td>NaN</td>\n",
       "      <td>0</td>\n",
       "      <td>NaN</td>\n",
       "      <td>NaN</td>\n",
       "      <td>NaN</td>\n",
       "      <td>0.0</td>\n",
       "      <td>NaN</td>\n",
       "      <td>0.0</td>\n",
       "      <td>NaN</td>\n",
       "      <td>0.0</td>\n",
       "      <td>0</td>\n",
       "      <td>NaN</td>\n",
       "      <td>NaN</td>\n",
       "      <td>NaN</td>\n",
       "      <td>NaN</td>\n",
       "      <td>0</td>\n",
       "      <td>0</td>\n",
       "      <td>NaN</td>\n",
       "      <td>NaN</td>\n",
       "      <td>NaN</td>\n",
       "      <td>NaN</td>\n",
       "      <td>-0.030976</td>\n",
       "      <td>0.058693</td>\n",
       "      <td>NaN</td>\n",
       "      <td>0</td>\n",
       "      <td>140.064796</td>\n",
       "    </tr>\n",
       "    <tr>\n",
       "      <th>1</th>\n",
       "      <td>Like Someone In Love</td>\n",
       "      <td>Emerald City Nights Live At The Penthouse 1965...</td>\n",
       "      <td>1966</td>\n",
       "      <td>Ahmad Jamal</td>\n",
       "      <td>{}</td>\n",
       "      <td>c56d6b55-e630-4a83-8fd5-70f016bd42b1</td>\n",
       "      <td></td>\n",
       "      <td>4</td>\n",
       "      <td>9.63</td>\n",
       "      <td>NaN</td>\n",
       "      <td>NaN</td>\n",
       "      <td>NaN</td>\n",
       "      <td>NaN</td>\n",
       "      <td>NaN</td>\n",
       "      <td>NaN</td>\n",
       "      <td>NaN</td>\n",
       "      <td>NaN</td>\n",
       "      <td>False</td>\n",
       "      <td>{'external': ['https://www.youtube.com/watch?v...</td>\n",
       "      <td>00:44</td>\n",
       "      <td>{'start': '03:06', 'end': '03:50'}</td>\n",
       "      <td>[]</td>\n",
       "      <td>{'pianist': 'Ahmad Jamal', 'bassist': 'Jamil N...</td>\n",
       "      <td>{'musicians': {'pianist': None, 'bassist': Non...</td>\n",
       "      <td>jamala-likesomeoneinlove-nasserjfournierv-1966...</td>\n",
       "      <td>NaN</td>\n",
       "      <td>NaN</td>\n",
       "      <td>9</td>\n",
       "      <td>NaN</td>\n",
       "      <td>NaN</td>\n",
       "      <td>NaN</td>\n",
       "      <td>0.0</td>\n",
       "      <td>NaN</td>\n",
       "      <td>0.0</td>\n",
       "      <td>NaN</td>\n",
       "      <td>0.0</td>\n",
       "      <td>32</td>\n",
       "      <td>NaN</td>\n",
       "      <td>0.013005</td>\n",
       "      <td>NaN</td>\n",
       "      <td>0.010223</td>\n",
       "      <td>15</td>\n",
       "      <td>96</td>\n",
       "      <td>9.266667</td>\n",
       "      <td>2.840188</td>\n",
       "      <td>20.400000</td>\n",
       "      <td>8.666850</td>\n",
       "      <td>-0.125792</td>\n",
       "      <td>0.104719</td>\n",
       "      <td>0.207528</td>\n",
       "      <td>15</td>\n",
       "      <td>140.917863</td>\n",
       "    </tr>\n",
       "    <tr>\n",
       "      <th>2</th>\n",
       "      <td>Where Are You</td>\n",
       "      <td>In Search of Momentum 110</td>\n",
       "      <td>2002</td>\n",
       "      <td>Ahmad Jamal</td>\n",
       "      <td>{}</td>\n",
       "      <td>a1295aa8-78ab-4234-a8a9-f05c1916d2d8</td>\n",
       "      <td></td>\n",
       "      <td>4</td>\n",
       "      <td>8.38</td>\n",
       "      <td>NaN</td>\n",
       "      <td>NaN</td>\n",
       "      <td>NaN</td>\n",
       "      <td>NaN</td>\n",
       "      <td>NaN</td>\n",
       "      <td>NaN</td>\n",
       "      <td>NaN</td>\n",
       "      <td>NaN</td>\n",
       "      <td>False</td>\n",
       "      <td>{'external': ['https://www.youtube.com/watch?v...</td>\n",
       "      <td>03:06</td>\n",
       "      <td>{'start': '01:24', 'end': '04:30'}</td>\n",
       "      <td>[]</td>\n",
       "      <td>{'pianist': 'Ahmad Jamal', 'bassist': 'James C...</td>\n",
       "      <td>{'musicians': {'pianist': None, 'bassist': Non...</td>\n",
       "      <td>jamala-whereareyou-cammackjmuhammadi-2002-a129...</td>\n",
       "      <td>0.180555</td>\n",
       "      <td>0.817893</td>\n",
       "      <td>124</td>\n",
       "      <td>0.235178</td>\n",
       "      <td>0.916245</td>\n",
       "      <td>-0.520223</td>\n",
       "      <td>89.0</td>\n",
       "      <td>0.081562</td>\n",
       "      <td>161.0</td>\n",
       "      <td>0.119725</td>\n",
       "      <td>202.0</td>\n",
       "      <td>355</td>\n",
       "      <td>0.008551</td>\n",
       "      <td>0.016082</td>\n",
       "      <td>0.005224</td>\n",
       "      <td>0.008087</td>\n",
       "      <td>132</td>\n",
       "      <td>902</td>\n",
       "      <td>11.174242</td>\n",
       "      <td>1.943854</td>\n",
       "      <td>25.507576</td>\n",
       "      <td>7.448035</td>\n",
       "      <td>-0.014056</td>\n",
       "      <td>0.009137</td>\n",
       "      <td>0.222306</td>\n",
       "      <td>132</td>\n",
       "      <td>175.652227</td>\n",
       "    </tr>\n",
       "    <tr>\n",
       "      <th>3</th>\n",
       "      <td>Tater Pie</td>\n",
       "      <td>Chicago Revisited</td>\n",
       "      <td>1992</td>\n",
       "      <td>Ahmad Jamal</td>\n",
       "      <td>{}</td>\n",
       "      <td>3d395a12-1079-4c55-905c-b4578e9b0e9d</td>\n",
       "      <td>v short solo into unison passage</td>\n",
       "      <td>4</td>\n",
       "      <td>12.46</td>\n",
       "      <td>NaN</td>\n",
       "      <td>NaN</td>\n",
       "      <td>NaN</td>\n",
       "      <td>NaN</td>\n",
       "      <td>NaN</td>\n",
       "      <td>NaN</td>\n",
       "      <td>NaN</td>\n",
       "      <td>NaN</td>\n",
       "      <td>False</td>\n",
       "      <td>{'external': ['https://www.youtube.com/watch?v...</td>\n",
       "      <td>00:34</td>\n",
       "      <td>{'start': '03:04', 'end': '03:38'}</td>\n",
       "      <td>[]</td>\n",
       "      <td>{'pianist': 'Ahmad Jamal', 'bassist': 'John He...</td>\n",
       "      <td>{'musicians': {'pianist': None, 'bassist': Non...</td>\n",
       "      <td>jamala-taterpie-heardjisraely-1992-3d395a12</td>\n",
       "      <td>0.121974</td>\n",
       "      <td>0.827975</td>\n",
       "      <td>32</td>\n",
       "      <td>NaN</td>\n",
       "      <td>NaN</td>\n",
       "      <td>NaN</td>\n",
       "      <td>25.0</td>\n",
       "      <td>0.449643</td>\n",
       "      <td>34.0</td>\n",
       "      <td>0.131012</td>\n",
       "      <td>39.0</td>\n",
       "      <td>84</td>\n",
       "      <td>0.026085</td>\n",
       "      <td>0.007612</td>\n",
       "      <td>0.001841</td>\n",
       "      <td>0.005471</td>\n",
       "      <td>27</td>\n",
       "      <td>169</td>\n",
       "      <td>10.444444</td>\n",
       "      <td>1.648620</td>\n",
       "      <td>21.444444</td>\n",
       "      <td>4.263741</td>\n",
       "      <td>0.014004</td>\n",
       "      <td>0.132928</td>\n",
       "      <td>0.169640</td>\n",
       "      <td>27</td>\n",
       "      <td>212.784304</td>\n",
       "    </tr>\n",
       "    <tr>\n",
       "      <th>4</th>\n",
       "      <td>Whisper Not</td>\n",
       "      <td>Extensions</td>\n",
       "      <td>1965</td>\n",
       "      <td>Ahmad Jamal</td>\n",
       "      <td>{'bass': 'l', 'drums': 'r'}</td>\n",
       "      <td>dc92588c-d38a-432c-9195-03ccce38e746</td>\n",
       "      <td></td>\n",
       "      <td>4</td>\n",
       "      <td>8.42</td>\n",
       "      <td>NaN</td>\n",
       "      <td>NaN</td>\n",
       "      <td>NaN</td>\n",
       "      <td>NaN</td>\n",
       "      <td>NaN</td>\n",
       "      <td>NaN</td>\n",
       "      <td>NaN</td>\n",
       "      <td>NaN</td>\n",
       "      <td>False</td>\n",
       "      <td>{'external': ['https://www.youtube.com/watch?v...</td>\n",
       "      <td>01:19</td>\n",
       "      <td>{'start': '00:42', 'end': '02:01'}</td>\n",
       "      <td>[]</td>\n",
       "      <td>{'pianist': 'Ahmad Jamal', 'bassist': 'Jamil N...</td>\n",
       "      <td>{'musicians': {'pianist': None, 'bassist': Non...</td>\n",
       "      <td>jamala-whispernot-nasserjfournierv-1965-dc92588c</td>\n",
       "      <td>0.712225</td>\n",
       "      <td>0.720419</td>\n",
       "      <td>28</td>\n",
       "      <td>NaN</td>\n",
       "      <td>NaN</td>\n",
       "      <td>NaN</td>\n",
       "      <td>17.0</td>\n",
       "      <td>0.097762</td>\n",
       "      <td>55.0</td>\n",
       "      <td>-0.074945</td>\n",
       "      <td>57.0</td>\n",
       "      <td>80</td>\n",
       "      <td>0.011973</td>\n",
       "      <td>0.014747</td>\n",
       "      <td>0.005210</td>\n",
       "      <td>0.005494</td>\n",
       "      <td>49</td>\n",
       "      <td>208</td>\n",
       "      <td>7.489796</td>\n",
       "      <td>2.777307</td>\n",
       "      <td>14.061224</td>\n",
       "      <td>7.318379</td>\n",
       "      <td>-0.006388</td>\n",
       "      <td>0.023552</td>\n",
       "      <td>0.135688</td>\n",
       "      <td>47</td>\n",
       "      <td>183.926501</td>\n",
       "    </tr>\n",
       "    <tr>\n",
       "      <th>5</th>\n",
       "      <td>Star Eyes</td>\n",
       "      <td>Ahmad Jamal Eight Classic Albums</td>\n",
       "      <td>1960</td>\n",
       "      <td>Ahmad Jamal</td>\n",
       "      <td>{'bass': 'l'}</td>\n",
       "      <td>72ca799a-f235-46b1-beb3-224c7869fe0b</td>\n",
       "      <td></td>\n",
       "      <td>4</td>\n",
       "      <td>4.06</td>\n",
       "      <td>1.0</td>\n",
       "      <td>2.0</td>\n",
       "      <td>3.0</td>\n",
       "      <td>3.0</td>\n",
       "      <td>3.0</td>\n",
       "      <td>1.0</td>\n",
       "      <td>1.0</td>\n",
       "      <td>NaN</td>\n",
       "      <td>False</td>\n",
       "      <td>{'external': ['https://www.youtube.com/watch?v...</td>\n",
       "      <td>01:48</td>\n",
       "      <td>{'start': '02:37', 'end': '04:25'}</td>\n",
       "      <td>[]</td>\n",
       "      <td>{'pianist': 'Ahmad Jamal', 'bassist': 'Israel ...</td>\n",
       "      <td>{'musicians': {'pianist': None, 'bassist': Non...</td>\n",
       "      <td>jamala-stareyes-crosbyifournierv-1960-72ca799a</td>\n",
       "      <td>NaN</td>\n",
       "      <td>NaN</td>\n",
       "      <td>10</td>\n",
       "      <td>NaN</td>\n",
       "      <td>NaN</td>\n",
       "      <td>NaN</td>\n",
       "      <td>3.0</td>\n",
       "      <td>NaN</td>\n",
       "      <td>13.0</td>\n",
       "      <td>NaN</td>\n",
       "      <td>22.0</td>\n",
       "      <td>31</td>\n",
       "      <td>0.017624</td>\n",
       "      <td>0.016378</td>\n",
       "      <td>0.013055</td>\n",
       "      <td>0.014350</td>\n",
       "      <td>42</td>\n",
       "      <td>136</td>\n",
       "      <td>6.119048</td>\n",
       "      <td>2.769189</td>\n",
       "      <td>11.809524</td>\n",
       "      <td>7.150774</td>\n",
       "      <td>-0.067575</td>\n",
       "      <td>0.010422</td>\n",
       "      <td>0.143351</td>\n",
       "      <td>23</td>\n",
       "      <td>153.692171</td>\n",
       "    </tr>\n",
       "    <tr>\n",
       "      <th>6</th>\n",
       "      <td>Daahoud</td>\n",
       "      <td>Chicago Revisited</td>\n",
       "      <td>1992</td>\n",
       "      <td>Ahmad Jamal</td>\n",
       "      <td>{}</td>\n",
       "      <td>0297e792-4bca-406c-8076-5e2a47c094c4</td>\n",
       "      <td>v short solo into unison passage</td>\n",
       "      <td>4</td>\n",
       "      <td>8.37</td>\n",
       "      <td>1.0</td>\n",
       "      <td>3.0</td>\n",
       "      <td>3.0</td>\n",
       "      <td>3.0</td>\n",
       "      <td>3.0</td>\n",
       "      <td>1.0</td>\n",
       "      <td>1.0</td>\n",
       "      <td>NaN</td>\n",
       "      <td>False</td>\n",
       "      <td>{'external': ['https://www.youtube.com/watch?v...</td>\n",
       "      <td>00:39</td>\n",
       "      <td>{'start': '00:36', 'end': '01:15'}</td>\n",
       "      <td>[]</td>\n",
       "      <td>{'pianist': 'Ahmad Jamal', 'bassist': 'John He...</td>\n",
       "      <td>{'musicians': {'pianist': None, 'bassist': Non...</td>\n",
       "      <td>jamala-daahoud-heardjisraely-1992-0297e792</td>\n",
       "      <td>NaN</td>\n",
       "      <td>NaN</td>\n",
       "      <td>10</td>\n",
       "      <td>NaN</td>\n",
       "      <td>NaN</td>\n",
       "      <td>NaN</td>\n",
       "      <td>5.0</td>\n",
       "      <td>NaN</td>\n",
       "      <td>6.0</td>\n",
       "      <td>NaN</td>\n",
       "      <td>8.0</td>\n",
       "      <td>50</td>\n",
       "      <td>0.020034</td>\n",
       "      <td>0.009355</td>\n",
       "      <td>0.006922</td>\n",
       "      <td>0.006374</td>\n",
       "      <td>26</td>\n",
       "      <td>100</td>\n",
       "      <td>7.769231</td>\n",
       "      <td>3.326352</td>\n",
       "      <td>12.615385</td>\n",
       "      <td>7.261278</td>\n",
       "      <td>NaN</td>\n",
       "      <td>0.113917</td>\n",
       "      <td>0.130969</td>\n",
       "      <td>24</td>\n",
       "      <td>214.485980</td>\n",
       "    </tr>\n",
       "    <tr>\n",
       "      <th>7</th>\n",
       "      <td>Franks Tune</td>\n",
       "      <td>At the Top Poinciana Revisited</td>\n",
       "      <td>1967</td>\n",
       "      <td>Ahmad Jamal</td>\n",
       "      <td>{'drums': 'l', 'bass': 'r'}</td>\n",
       "      <td>7eb113ca-372e-41e7-a2da-e89302edf71f</td>\n",
       "      <td></td>\n",
       "      <td>4</td>\n",
       "      <td>9.86</td>\n",
       "      <td>NaN</td>\n",
       "      <td>NaN</td>\n",
       "      <td>NaN</td>\n",
       "      <td>NaN</td>\n",
       "      <td>NaN</td>\n",
       "      <td>NaN</td>\n",
       "      <td>NaN</td>\n",
       "      <td>NaN</td>\n",
       "      <td>False</td>\n",
       "      <td>{'external': ['https://www.youtube.com/watch?v...</td>\n",
       "      <td>01:15</td>\n",
       "      <td>{'start': '01:25', 'end': '02:40'}</td>\n",
       "      <td>[]</td>\n",
       "      <td>{'pianist': 'Ahmad Jamal', 'bassist': 'Jamil N...</td>\n",
       "      <td>{'musicians': {'pianist': None, 'bassist': Non...</td>\n",
       "      <td>jamala-frankstune-nasserjgantf-1967-7eb113ca</td>\n",
       "      <td>0.398099</td>\n",
       "      <td>0.786722</td>\n",
       "      <td>30</td>\n",
       "      <td>0.547399</td>\n",
       "      <td>0.724491</td>\n",
       "      <td>-0.301518</td>\n",
       "      <td>31.0</td>\n",
       "      <td>0.554272</td>\n",
       "      <td>33.0</td>\n",
       "      <td>0.193436</td>\n",
       "      <td>72.0</td>\n",
       "      <td>98</td>\n",
       "      <td>0.008922</td>\n",
       "      <td>0.016520</td>\n",
       "      <td>0.003997</td>\n",
       "      <td>0.008521</td>\n",
       "      <td>44</td>\n",
       "      <td>256</td>\n",
       "      <td>9.727273</td>\n",
       "      <td>3.215975</td>\n",
       "      <td>19.750000</td>\n",
       "      <td>7.912677</td>\n",
       "      <td>-0.034571</td>\n",
       "      <td>0.034164</td>\n",
       "      <td>0.167206</td>\n",
       "      <td>43</td>\n",
       "      <td>164.322663</td>\n",
       "    </tr>\n",
       "    <tr>\n",
       "      <th>8</th>\n",
       "      <td>All the Things You Are</td>\n",
       "      <td>Chicago Revisited</td>\n",
       "      <td>1992</td>\n",
       "      <td>Ahmad Jamal</td>\n",
       "      <td>{}</td>\n",
       "      <td>5d32f8fa-b63c-416f-8d20-ec96620e5960</td>\n",
       "      <td></td>\n",
       "      <td>4</td>\n",
       "      <td>15.23</td>\n",
       "      <td>NaN</td>\n",
       "      <td>NaN</td>\n",
       "      <td>NaN</td>\n",
       "      <td>NaN</td>\n",
       "      <td>NaN</td>\n",
       "      <td>NaN</td>\n",
       "      <td>NaN</td>\n",
       "      <td>NaN</td>\n",
       "      <td>False</td>\n",
       "      <td>{'external': ['https://www.youtube.com/watch?v...</td>\n",
       "      <td>01:31</td>\n",
       "      <td>{'start': '04:44', 'end': '06:15'}</td>\n",
       "      <td>[]</td>\n",
       "      <td>{'pianist': 'Ahmad Jamal', 'bassist': 'John He...</td>\n",
       "      <td>{'musicians': {'pianist': None, 'bassist': Non...</td>\n",
       "      <td>jamala-allthethingsyouare-heardjisraely-1992-5...</td>\n",
       "      <td>0.245720</td>\n",
       "      <td>0.784642</td>\n",
       "      <td>40</td>\n",
       "      <td>NaN</td>\n",
       "      <td>NaN</td>\n",
       "      <td>NaN</td>\n",
       "      <td>14.0</td>\n",
       "      <td>0.414843</td>\n",
       "      <td>31.0</td>\n",
       "      <td>0.172492</td>\n",
       "      <td>47.0</td>\n",
       "      <td>154</td>\n",
       "      <td>0.022101</td>\n",
       "      <td>0.015276</td>\n",
       "      <td>-0.000073</td>\n",
       "      <td>0.003173</td>\n",
       "      <td>65</td>\n",
       "      <td>330</td>\n",
       "      <td>9.461538</td>\n",
       "      <td>2.404923</td>\n",
       "      <td>18.753846</td>\n",
       "      <td>6.314742</td>\n",
       "      <td>0.057846</td>\n",
       "      <td>0.031792</td>\n",
       "      <td>0.259129</td>\n",
       "      <td>65</td>\n",
       "      <td>180.485456</td>\n",
       "    </tr>\n",
       "    <tr>\n",
       "      <th>9</th>\n",
       "      <td>We Live in Two Diffirent Worlds</td>\n",
       "      <td>Ahmad Jamal at the Blackhawk</td>\n",
       "      <td>1961</td>\n",
       "      <td>Ahmad Jamal</td>\n",
       "      <td>{}</td>\n",
       "      <td>d2b55232-3da7-4e58-89b9-9718097202a6</td>\n",
       "      <td>cut before unison passage</td>\n",
       "      <td>4</td>\n",
       "      <td>8.53</td>\n",
       "      <td>NaN</td>\n",
       "      <td>NaN</td>\n",
       "      <td>NaN</td>\n",
       "      <td>NaN</td>\n",
       "      <td>NaN</td>\n",
       "      <td>NaN</td>\n",
       "      <td>NaN</td>\n",
       "      <td>NaN</td>\n",
       "      <td>False</td>\n",
       "      <td>{'external': ['https://www.youtube.com/watch?v...</td>\n",
       "      <td>00:46</td>\n",
       "      <td>{'start': '02:02', 'end': '02:48'}</td>\n",
       "      <td>[]</td>\n",
       "      <td>{'pianist': 'Ahmad Jamal', 'bassist': 'Israel ...</td>\n",
       "      <td>{'musicians': {'pianist': None, 'bassist': Non...</td>\n",
       "      <td>jamala-weliveintwodiffirent-crosbyifournierv-1...</td>\n",
       "      <td>NaN</td>\n",
       "      <td>NaN</td>\n",
       "      <td>10</td>\n",
       "      <td>NaN</td>\n",
       "      <td>NaN</td>\n",
       "      <td>NaN</td>\n",
       "      <td>3.0</td>\n",
       "      <td>NaN</td>\n",
       "      <td>5.0</td>\n",
       "      <td>NaN</td>\n",
       "      <td>14.0</td>\n",
       "      <td>60</td>\n",
       "      <td>0.015332</td>\n",
       "      <td>0.017609</td>\n",
       "      <td>0.004615</td>\n",
       "      <td>0.010791</td>\n",
       "      <td>26</td>\n",
       "      <td>155</td>\n",
       "      <td>9.692308</td>\n",
       "      <td>2.810968</td>\n",
       "      <td>19.884615</td>\n",
       "      <td>8.677912</td>\n",
       "      <td>0.059565</td>\n",
       "      <td>0.059959</td>\n",
       "      <td>0.300694</td>\n",
       "      <td>26</td>\n",
       "      <td>159.399586</td>\n",
       "    </tr>\n",
       "  </tbody>\n",
       "</table>\n",
       "</div>"
      ],
      "text/plain": [
       "                        track_name  \\\n",
       "0                   Poor Butterfly   \n",
       "1             Like Someone In Love   \n",
       "2                    Where Are You   \n",
       "3                        Tater Pie   \n",
       "4                      Whisper Not   \n",
       "5                        Star Eyes   \n",
       "6                          Daahoud   \n",
       "7                      Franks Tune   \n",
       "8           All the Things You Are   \n",
       "9  We Live in Two Diffirent Worlds   \n",
       "\n",
       "                                          album_name recording_year  \\\n",
       "0          Complete Live at the Pershing Lounge 1958           1958   \n",
       "1  Emerald City Nights Live At The Penthouse 1965...           1966   \n",
       "2                          In Search of Momentum 110           2002   \n",
       "3                                  Chicago Revisited           1992   \n",
       "4                                         Extensions           1965   \n",
       "5                   Ahmad Jamal Eight Classic Albums           1960   \n",
       "6                                  Chicago Revisited           1992   \n",
       "7                     At the Top Poinciana Revisited           1967   \n",
       "8                                  Chicago Revisited           1992   \n",
       "9                       Ahmad Jamal at the Blackhawk           1961   \n",
       "\n",
       "       pianist            channel_overrides  \\\n",
       "0  Ahmad Jamal                           {}   \n",
       "1  Ahmad Jamal                           {}   \n",
       "2  Ahmad Jamal                           {}   \n",
       "3  Ahmad Jamal                           {}   \n",
       "4  Ahmad Jamal  {'bass': 'l', 'drums': 'r'}   \n",
       "5  Ahmad Jamal                {'bass': 'l'}   \n",
       "6  Ahmad Jamal                           {}   \n",
       "7  Ahmad Jamal  {'drums': 'l', 'bass': 'r'}   \n",
       "8  Ahmad Jamal                           {}   \n",
       "9  Ahmad Jamal                           {}   \n",
       "\n",
       "                                 mbz_id                             notes  \\\n",
       "0  94f90cba-f3c7-4a05-b86a-e30fd9ebe989      rim clicks have to be sticks   \n",
       "1  c56d6b55-e630-4a83-8fd5-70f016bd42b1                                     \n",
       "2  a1295aa8-78ab-4234-a8a9-f05c1916d2d8                                     \n",
       "3  3d395a12-1079-4c55-905c-b4578e9b0e9d  v short solo into unison passage   \n",
       "4  dc92588c-d38a-432c-9195-03ccce38e746                                     \n",
       "5  72ca799a-f235-46b1-beb3-224c7869fe0b                                     \n",
       "6  0297e792-4bca-406c-8076-5e2a47c094c4  v short solo into unison passage   \n",
       "7  7eb113ca-372e-41e7-a2da-e89302edf71f                                     \n",
       "8  5d32f8fa-b63c-416f-8d20-ec96620e5960                                     \n",
       "9  d2b55232-3da7-4e58-89b9-9718097202a6         cut before unison passage   \n",
       "\n",
       "   time_signature  first_downbeat  rating_bass_audio  rating_bass_detection  \\\n",
       "0               4            6.79                NaN                    NaN   \n",
       "1               4            9.63                NaN                    NaN   \n",
       "2               4            8.38                NaN                    NaN   \n",
       "3               4           12.46                NaN                    NaN   \n",
       "4               4            8.42                NaN                    NaN   \n",
       "5               4            4.06                1.0                    2.0   \n",
       "6               4            8.37                1.0                    3.0   \n",
       "7               4            9.86                NaN                    NaN   \n",
       "8               4           15.23                NaN                    NaN   \n",
       "9               4            8.53                NaN                    NaN   \n",
       "\n",
       "   rating_drums_audio  rating_drums_detection  rating_mix  rating_piano_audio  \\\n",
       "0                 NaN                     NaN         NaN                 NaN   \n",
       "1                 NaN                     NaN         NaN                 NaN   \n",
       "2                 NaN                     NaN         NaN                 NaN   \n",
       "3                 NaN                     NaN         NaN                 NaN   \n",
       "4                 NaN                     NaN         NaN                 NaN   \n",
       "5                 3.0                     3.0         3.0                 1.0   \n",
       "6                 3.0                     3.0         3.0                 1.0   \n",
       "7                 NaN                     NaN         NaN                 NaN   \n",
       "8                 NaN                     NaN         NaN                 NaN   \n",
       "9                 NaN                     NaN         NaN                 NaN   \n",
       "\n",
       "   rating_piano_detection rating_comments  has_annotations  \\\n",
       "0                     NaN             NaN            False   \n",
       "1                     NaN             NaN            False   \n",
       "2                     NaN             NaN            False   \n",
       "3                     NaN             NaN            False   \n",
       "4                     NaN             NaN            False   \n",
       "5                     1.0             NaN            False   \n",
       "6                     1.0             NaN            False   \n",
       "7                     NaN             NaN            False   \n",
       "8                     NaN             NaN            False   \n",
       "9                     NaN             NaN            False   \n",
       "\n",
       "                                               links excerpt_duration  \\\n",
       "0  {'external': ['https://www.youtube.com/watch?v...            00:50   \n",
       "1  {'external': ['https://www.youtube.com/watch?v...            00:44   \n",
       "2  {'external': ['https://www.youtube.com/watch?v...            03:06   \n",
       "3  {'external': ['https://www.youtube.com/watch?v...            00:34   \n",
       "4  {'external': ['https://www.youtube.com/watch?v...            01:19   \n",
       "5  {'external': ['https://www.youtube.com/watch?v...            01:48   \n",
       "6  {'external': ['https://www.youtube.com/watch?v...            00:39   \n",
       "7  {'external': ['https://www.youtube.com/watch?v...            01:15   \n",
       "8  {'external': ['https://www.youtube.com/watch?v...            01:31   \n",
       "9  {'external': ['https://www.youtube.com/watch?v...            00:46   \n",
       "\n",
       "                           timestamps log  \\\n",
       "0  {'start': '02:17', 'end': '03:07'}  []   \n",
       "1  {'start': '03:06', 'end': '03:50'}  []   \n",
       "2  {'start': '01:24', 'end': '04:30'}  []   \n",
       "3  {'start': '03:04', 'end': '03:38'}  []   \n",
       "4  {'start': '00:42', 'end': '02:01'}  []   \n",
       "5  {'start': '02:37', 'end': '04:25'}  []   \n",
       "6  {'start': '00:36', 'end': '01:15'}  []   \n",
       "7  {'start': '01:25', 'end': '02:40'}  []   \n",
       "8  {'start': '04:44', 'end': '06:15'}  []   \n",
       "9  {'start': '02:02', 'end': '02:48'}  []   \n",
       "\n",
       "                                           musicians  \\\n",
       "0  {'pianist': 'Ahmad Jamal', 'bassist': 'Israel ...   \n",
       "1  {'pianist': 'Ahmad Jamal', 'bassist': 'Jamil N...   \n",
       "2  {'pianist': 'Ahmad Jamal', 'bassist': 'James C...   \n",
       "3  {'pianist': 'Ahmad Jamal', 'bassist': 'John He...   \n",
       "4  {'pianist': 'Ahmad Jamal', 'bassist': 'Jamil N...   \n",
       "5  {'pianist': 'Ahmad Jamal', 'bassist': 'Israel ...   \n",
       "6  {'pianist': 'Ahmad Jamal', 'bassist': 'John He...   \n",
       "7  {'pianist': 'Ahmad Jamal', 'bassist': 'Jamil N...   \n",
       "8  {'pianist': 'Ahmad Jamal', 'bassist': 'John He...   \n",
       "9  {'pianist': 'Ahmad Jamal', 'bassist': 'Israel ...   \n",
       "\n",
       "                                              photos  \\\n",
       "0  {'musicians': {'pianist': None, 'bassist': Non...   \n",
       "1  {'musicians': {'pianist': None, 'bassist': Non...   \n",
       "2  {'musicians': {'pianist': None, 'bassist': Non...   \n",
       "3  {'musicians': {'pianist': None, 'bassist': Non...   \n",
       "4  {'musicians': {'pianist': None, 'bassist': Non...   \n",
       "5  {'musicians': {'pianist': None, 'bassist': Non...   \n",
       "6  {'musicians': {'pianist': None, 'bassist': Non...   \n",
       "7  {'musicians': {'pianist': None, 'bassist': Non...   \n",
       "8  {'musicians': {'pianist': None, 'bassist': Non...   \n",
       "9  {'musicians': {'pianist': None, 'bassist': Non...   \n",
       "\n",
       "                                               fname  bur_log_mean  \\\n",
       "0  jamala-poorbutterfly-crosbyifournierv-1958-94f...           NaN   \n",
       "1  jamala-likesomeoneinlove-nasserjfournierv-1966...           NaN   \n",
       "2  jamala-whereareyou-cammackjmuhammadi-2002-a129...      0.180555   \n",
       "3        jamala-taterpie-heardjisraely-1992-3d395a12      0.121974   \n",
       "4   jamala-whispernot-nasserjfournierv-1965-dc92588c      0.712225   \n",
       "5     jamala-stareyes-crosbyifournierv-1960-72ca799a           NaN   \n",
       "6         jamala-daahoud-heardjisraely-1992-0297e792           NaN   \n",
       "7       jamala-frankstune-nasserjgantf-1967-7eb113ca      0.398099   \n",
       "8  jamala-allthethingsyouare-heardjisraely-1992-5...      0.245720   \n",
       "9  jamala-weliveintwodiffirent-crosbyifournierv-1...           NaN   \n",
       "\n",
       "   bur_log_std  bur_log_count_nonzero  coupling_bass  coupling_drums  \\\n",
       "0          NaN                      0            NaN             NaN   \n",
       "1          NaN                      9            NaN             NaN   \n",
       "2     0.817893                    124       0.235178        0.916245   \n",
       "3     0.827975                     32            NaN             NaN   \n",
       "4     0.720419                     28            NaN             NaN   \n",
       "5          NaN                     10            NaN             NaN   \n",
       "6          NaN                     10            NaN             NaN   \n",
       "7     0.786722                     30       0.547399        0.724491   \n",
       "8     0.784642                     40            NaN             NaN   \n",
       "9          NaN                     10            NaN             NaN   \n",
       "\n",
       "   self_coupling  nobs  coupling_piano_bass  nobs_bass  coupling_piano_drums  \\\n",
       "0            NaN   0.0                  NaN        0.0                   NaN   \n",
       "1            NaN   0.0                  NaN        0.0                   NaN   \n",
       "2      -0.520223  89.0             0.081562      161.0              0.119725   \n",
       "3            NaN  25.0             0.449643       34.0              0.131012   \n",
       "4            NaN  17.0             0.097762       55.0             -0.074945   \n",
       "5            NaN   3.0                  NaN       13.0                   NaN   \n",
       "6            NaN   5.0                  NaN        6.0                   NaN   \n",
       "7      -0.301518  31.0             0.554272       33.0              0.193436   \n",
       "8            NaN  14.0             0.414843       31.0              0.172492   \n",
       "9            NaN   3.0                  NaN        5.0                   NaN   \n",
       "\n",
       "   nobs_drums  prop_async_count_nonzero  bass_prop_async_nanmean  \\\n",
       "0         0.0                         0                      NaN   \n",
       "1         0.0                        32                      NaN   \n",
       "2       202.0                       355                 0.008551   \n",
       "3        39.0                        84                 0.026085   \n",
       "4        57.0                        80                 0.011973   \n",
       "5        22.0                        31                 0.017624   \n",
       "6         8.0                        50                 0.020034   \n",
       "7        72.0                        98                 0.008922   \n",
       "8        47.0                       154                 0.022101   \n",
       "9        14.0                        60                 0.015332   \n",
       "\n",
       "   drums_prop_async_nanmean  bass_prop_async_nanstd  drums_prop_async_nanstd  \\\n",
       "0                       NaN                     NaN                      NaN   \n",
       "1                  0.013005                     NaN                 0.010223   \n",
       "2                  0.016082                0.005224                 0.008087   \n",
       "3                  0.007612                0.001841                 0.005471   \n",
       "4                  0.014747                0.005210                 0.005494   \n",
       "5                  0.016378                0.013055                 0.014350   \n",
       "6                  0.009355                0.006922                 0.006374   \n",
       "7                  0.016520                0.003997                 0.008521   \n",
       "8                  0.015276               -0.000073                 0.003173   \n",
       "9                  0.017609                0.004615                 0.010791   \n",
       "\n",
       "   window_count  ioi_count  lz77_mean  lz77_std  n_onsets_mean  n_onsets_std  \\\n",
       "0             0          0        NaN       NaN            NaN           NaN   \n",
       "1            15         96   9.266667  2.840188      20.400000      8.666850   \n",
       "2           132        902  11.174242  1.943854      25.507576      7.448035   \n",
       "3            27        169  10.444444  1.648620      21.444444      4.263741   \n",
       "4            49        208   7.489796  2.777307      14.061224      7.318379   \n",
       "5            42        136   6.119048  2.769189      11.809524      7.150774   \n",
       "6            26        100   7.769231  3.326352      12.615385      7.261278   \n",
       "7            44        256   9.727273  3.215975      19.750000      7.912677   \n",
       "8            65        330   9.461538  2.404923      18.753846      6.314742   \n",
       "9            26        155   9.692308  2.810968      19.884615      8.677912   \n",
       "\n",
       "   tempo_slope  tempo_drift  rolling_std_median  rolling_std_count_nonzero  \\\n",
       "0    -0.030976     0.058693                 NaN                          0   \n",
       "1    -0.125792     0.104719            0.207528                         15   \n",
       "2    -0.014056     0.009137            0.222306                        132   \n",
       "3     0.014004     0.132928            0.169640                         27   \n",
       "4    -0.006388     0.023552            0.135688                         47   \n",
       "5    -0.067575     0.010422            0.143351                         23   \n",
       "6          NaN     0.113917            0.130969                         24   \n",
       "7    -0.034571     0.034164            0.167206                         43   \n",
       "8     0.057846     0.031792            0.259129                         65   \n",
       "9     0.059565     0.059959            0.300694                         26   \n",
       "\n",
       "        tempo  \n",
       "0  140.064796  \n",
       "1  140.917863  \n",
       "2  175.652227  \n",
       "3  212.784304  \n",
       "4  183.926501  \n",
       "5  153.692171  \n",
       "6  214.485980  \n",
       "7  164.322663  \n",
       "8  180.485456  \n",
       "9  159.399586  "
      ]
     },
     "execution_count": 37,
     "metadata": {},
     "output_type": "execute_result"
    }
   ],
   "source": [
    "clean.head(10)"
   ]
  },
  {
   "cell_type": "code",
   "execution_count": 38,
   "metadata": {
    "collapsed": false,
    "jupyter": {
     "outputs_hidden": false
    },
    "pycharm": {
     "name": "#%%\n"
    }
   },
   "outputs": [
    {
     "data": {
      "image/png": "[encoded data removed]",
      "text/plain": [
       "<Figure size 940x940 with 1 Axes>"
      ]
     },
     "metadata": {},
     "output_type": "display_data"
    }
   ],
   "source": [
    "CountPlotMissingValues(clean[PREDICTORS], CATEGORY_MAPPING).create_plot()\n",
    "plt.show()"
   ]
  },
  {
   "cell_type": "markdown",
   "metadata": {
    "collapsed": false,
    "jupyter": {
     "outputs_hidden": false
    },
    "pycharm": {
     "name": "#%% md\n"
    }
   },
   "source": [
    "### Impute missing values based on feature average\n",
    "We can now set missing values to the average for that feature across the entire dataset."
   ]
  },
  {
   "cell_type": "code",
   "execution_count": 39,
   "metadata": {
    "collapsed": false,
    "jupyter": {
     "outputs_hidden": false
    },
    "pycharm": {
     "name": "#%%\n"
    }
   },
   "outputs": [],
   "source": [
    "X = clean[PREDICTORS].fillna(clean[PREDICTORS].mean())"
   ]
  },
  {
   "cell_type": "code",
   "execution_count": 40,
   "metadata": {
    "collapsed": false,
    "jupyter": {
     "outputs_hidden": false
    },
    "pycharm": {
     "name": "#%%\n"
    }
   },
   "outputs": [
    {
     "data": {
      "text/html": [
       "<div>\n",
       "<style scoped>\n",
       "    .dataframe tbody tr th:only-of-type {\n",
       "        vertical-align: middle;\n",
       "    }\n",
       "\n",
       "    .dataframe tbody tr th {\n",
       "        vertical-align: top;\n",
       "    }\n",
       "\n",
       "    .dataframe thead th {\n",
       "        text-align: right;\n",
       "    }\n",
       "</style>\n",
       "<table border=\"1\" class=\"dataframe\">\n",
       "  <thead>\n",
       "    <tr style=\"text-align: right;\">\n",
       "      <th></th>\n",
       "      <th>bur_log_mean</th>\n",
       "      <th>bur_log_std</th>\n",
       "      <th>lz77_mean</th>\n",
       "      <th>lz77_std</th>\n",
       "      <th>n_onsets_mean</th>\n",
       "      <th>n_onsets_std</th>\n",
       "      <th>bass_prop_async_nanmean</th>\n",
       "      <th>drums_prop_async_nanmean</th>\n",
       "      <th>bass_prop_async_nanstd</th>\n",
       "      <th>drums_prop_async_nanstd</th>\n",
       "      <th>self_coupling</th>\n",
       "      <th>coupling_drums</th>\n",
       "      <th>coupling_bass</th>\n",
       "      <th>coupling_piano_drums</th>\n",
       "      <th>coupling_piano_bass</th>\n",
       "      <th>rolling_std_median</th>\n",
       "      <th>tempo</th>\n",
       "      <th>tempo_slope</th>\n",
       "    </tr>\n",
       "  </thead>\n",
       "  <tbody>\n",
       "    <tr>\n",
       "      <th>bur_log_mean</th>\n",
       "      <td>1.000000</td>\n",
       "      <td>0.023783</td>\n",
       "      <td>0.041095</td>\n",
       "      <td>0.161561</td>\n",
       "      <td>0.111858</td>\n",
       "      <td>0.211373</td>\n",
       "      <td>0.109891</td>\n",
       "      <td>0.027445</td>\n",
       "      <td>0.021965</td>\n",
       "      <td>0.081154</td>\n",
       "      <td>0.036609</td>\n",
       "      <td>0.105727</td>\n",
       "      <td>-0.004847</td>\n",
       "      <td>-0.104420</td>\n",
       "      <td>0.009612</td>\n",
       "      <td>0.287052</td>\n",
       "      <td>-0.478671</td>\n",
       "      <td>-0.089226</td>\n",
       "    </tr>\n",
       "    <tr>\n",
       "      <th>bur_log_std</th>\n",
       "      <td>0.023783</td>\n",
       "      <td>1.000000</td>\n",
       "      <td>0.244752</td>\n",
       "      <td>0.100573</td>\n",
       "      <td>0.350735</td>\n",
       "      <td>0.273306</td>\n",
       "      <td>-0.025379</td>\n",
       "      <td>-0.084539</td>\n",
       "      <td>0.327741</td>\n",
       "      <td>0.407635</td>\n",
       "      <td>0.184870</td>\n",
       "      <td>0.213059</td>\n",
       "      <td>0.063113</td>\n",
       "      <td>-0.222993</td>\n",
       "      <td>-0.171394</td>\n",
       "      <td>0.253061</td>\n",
       "      <td>-0.569539</td>\n",
       "      <td>-0.262706</td>\n",
       "    </tr>\n",
       "    <tr>\n",
       "      <th>lz77_mean</th>\n",
       "      <td>0.041095</td>\n",
       "      <td>0.244752</td>\n",
       "      <td>1.000000</td>\n",
       "      <td>-0.582117</td>\n",
       "      <td>0.861500</td>\n",
       "      <td>-0.268689</td>\n",
       "      <td>0.076048</td>\n",
       "      <td>-0.035046</td>\n",
       "      <td>0.136428</td>\n",
       "      <td>0.099194</td>\n",
       "      <td>0.053057</td>\n",
       "      <td>0.147420</td>\n",
       "      <td>-0.048267</td>\n",
       "      <td>-0.098009</td>\n",
       "      <td>-0.051004</td>\n",
       "      <td>0.263386</td>\n",
       "      <td>-0.301522</td>\n",
       "      <td>0.052998</td>\n",
       "    </tr>\n",
       "    <tr>\n",
       "      <th>lz77_std</th>\n",
       "      <td>0.161561</td>\n",
       "      <td>0.100573</td>\n",
       "      <td>-0.582117</td>\n",
       "      <td>1.000000</td>\n",
       "      <td>-0.365285</td>\n",
       "      <td>0.815524</td>\n",
       "      <td>-0.046882</td>\n",
       "      <td>-0.070843</td>\n",
       "      <td>0.008033</td>\n",
       "      <td>0.079786</td>\n",
       "      <td>0.085757</td>\n",
       "      <td>0.020402</td>\n",
       "      <td>-0.009943</td>\n",
       "      <td>-0.013879</td>\n",
       "      <td>-0.010720</td>\n",
       "      <td>0.017084</td>\n",
       "      <td>-0.192703</td>\n",
       "      <td>-0.133105</td>\n",
       "    </tr>\n",
       "    <tr>\n",
       "      <th>n_onsets_mean</th>\n",
       "      <td>0.111858</td>\n",
       "      <td>0.350735</td>\n",
       "      <td>0.861500</td>\n",
       "      <td>-0.365285</td>\n",
       "      <td>1.000000</td>\n",
       "      <td>0.023730</td>\n",
       "      <td>0.011558</td>\n",
       "      <td>-0.088717</td>\n",
       "      <td>0.136169</td>\n",
       "      <td>0.155745</td>\n",
       "      <td>0.115969</td>\n",
       "      <td>0.203515</td>\n",
       "      <td>-0.066836</td>\n",
       "      <td>-0.079407</td>\n",
       "      <td>-0.056865</td>\n",
       "      <td>0.148304</td>\n",
       "      <td>-0.552648</td>\n",
       "      <td>-0.035297</td>\n",
       "    </tr>\n",
       "    <tr>\n",
       "      <th>n_onsets_std</th>\n",
       "      <td>0.211373</td>\n",
       "      <td>0.273306</td>\n",
       "      <td>-0.268689</td>\n",
       "      <td>0.815524</td>\n",
       "      <td>0.023730</td>\n",
       "      <td>1.000000</td>\n",
       "      <td>-0.070061</td>\n",
       "      <td>-0.125504</td>\n",
       "      <td>0.063671</td>\n",
       "      <td>0.111693</td>\n",
       "      <td>0.109569</td>\n",
       "      <td>0.087607</td>\n",
       "      <td>-0.064340</td>\n",
       "      <td>-0.071587</td>\n",
       "      <td>-0.043647</td>\n",
       "      <td>0.086381</td>\n",
       "      <td>-0.481210</td>\n",
       "      <td>-0.191055</td>\n",
       "    </tr>\n",
       "    <tr>\n",
       "      <th>bass_prop_async_nanmean</th>\n",
       "      <td>0.109891</td>\n",
       "      <td>-0.025379</td>\n",
       "      <td>0.076048</td>\n",
       "      <td>-0.046882</td>\n",
       "      <td>0.011558</td>\n",
       "      <td>-0.070061</td>\n",
       "      <td>1.000000</td>\n",
       "      <td>0.422543</td>\n",
       "      <td>0.366270</td>\n",
       "      <td>0.193774</td>\n",
       "      <td>0.016178</td>\n",
       "      <td>-0.066147</td>\n",
       "      <td>0.149305</td>\n",
       "      <td>-0.106844</td>\n",
       "      <td>-0.060109</td>\n",
       "      <td>0.291059</td>\n",
       "      <td>-0.080852</td>\n",
       "      <td>-0.089086</td>\n",
       "    </tr>\n",
       "    <tr>\n",
       "      <th>drums_prop_async_nanmean</th>\n",
       "      <td>0.027445</td>\n",
       "      <td>-0.084539</td>\n",
       "      <td>-0.035046</td>\n",
       "      <td>-0.070843</td>\n",
       "      <td>-0.088717</td>\n",
       "      <td>-0.125504</td>\n",
       "      <td>0.422543</td>\n",
       "      <td>1.000000</td>\n",
       "      <td>0.228394</td>\n",
       "      <td>0.192800</td>\n",
       "      <td>0.014833</td>\n",
       "      <td>-0.031501</td>\n",
       "      <td>0.030995</td>\n",
       "      <td>-0.119702</td>\n",
       "      <td>-0.106059</td>\n",
       "      <td>0.185899</td>\n",
       "      <td>-0.043930</td>\n",
       "      <td>-0.141394</td>\n",
       "    </tr>\n",
       "    <tr>\n",
       "      <th>bass_prop_async_nanstd</th>\n",
       "      <td>0.021965</td>\n",
       "      <td>0.327741</td>\n",
       "      <td>0.136428</td>\n",
       "      <td>0.008033</td>\n",
       "      <td>0.136169</td>\n",
       "      <td>0.063671</td>\n",
       "      <td>0.366270</td>\n",
       "      <td>0.228394</td>\n",
       "      <td>1.000000</td>\n",
       "      <td>0.589656</td>\n",
       "      <td>0.155206</td>\n",
       "      <td>0.077507</td>\n",
       "      <td>0.225267</td>\n",
       "      <td>-0.341522</td>\n",
       "      <td>-0.382695</td>\n",
       "      <td>0.275559</td>\n",
       "      <td>-0.244437</td>\n",
       "      <td>-0.249679</td>\n",
       "    </tr>\n",
       "    <tr>\n",
       "      <th>drums_prop_async_nanstd</th>\n",
       "      <td>0.081154</td>\n",
       "      <td>0.407635</td>\n",
       "      <td>0.099194</td>\n",
       "      <td>0.079786</td>\n",
       "      <td>0.155745</td>\n",
       "      <td>0.111693</td>\n",
       "      <td>0.193774</td>\n",
       "      <td>0.192800</td>\n",
       "      <td>0.589656</td>\n",
       "      <td>1.000000</td>\n",
       "      <td>0.138755</td>\n",
       "      <td>0.254064</td>\n",
       "      <td>0.009367</td>\n",
       "      <td>-0.428103</td>\n",
       "      <td>-0.318067</td>\n",
       "      <td>0.310387</td>\n",
       "      <td>-0.357435</td>\n",
       "      <td>-0.176553</td>\n",
       "    </tr>\n",
       "    <tr>\n",
       "      <th>self_coupling</th>\n",
       "      <td>0.036609</td>\n",
       "      <td>0.184870</td>\n",
       "      <td>0.053057</td>\n",
       "      <td>0.085757</td>\n",
       "      <td>0.115969</td>\n",
       "      <td>0.109569</td>\n",
       "      <td>0.016178</td>\n",
       "      <td>0.014833</td>\n",
       "      <td>0.155206</td>\n",
       "      <td>0.138755</td>\n",
       "      <td>1.000000</td>\n",
       "      <td>0.342857</td>\n",
       "      <td>0.092193</td>\n",
       "      <td>0.006271</td>\n",
       "      <td>-0.023047</td>\n",
       "      <td>0.070612</td>\n",
       "      <td>-0.161638</td>\n",
       "      <td>-0.126677</td>\n",
       "    </tr>\n",
       "    <tr>\n",
       "      <th>coupling_drums</th>\n",
       "      <td>0.105727</td>\n",
       "      <td>0.213059</td>\n",
       "      <td>0.147420</td>\n",
       "      <td>0.020402</td>\n",
       "      <td>0.203515</td>\n",
       "      <td>0.087607</td>\n",
       "      <td>-0.066147</td>\n",
       "      <td>-0.031501</td>\n",
       "      <td>0.077507</td>\n",
       "      <td>0.254064</td>\n",
       "      <td>0.342857</td>\n",
       "      <td>1.000000</td>\n",
       "      <td>-0.594062</td>\n",
       "      <td>-0.188189</td>\n",
       "      <td>-0.162317</td>\n",
       "      <td>0.082529</td>\n",
       "      <td>-0.243329</td>\n",
       "      <td>-0.068211</td>\n",
       "    </tr>\n",
       "    <tr>\n",
       "      <th>coupling_bass</th>\n",
       "      <td>-0.004847</td>\n",
       "      <td>0.063113</td>\n",
       "      <td>-0.048267</td>\n",
       "      <td>-0.009943</td>\n",
       "      <td>-0.066836</td>\n",
       "      <td>-0.064340</td>\n",
       "      <td>0.149305</td>\n",
       "      <td>0.030995</td>\n",
       "      <td>0.225267</td>\n",
       "      <td>0.009367</td>\n",
       "      <td>0.092193</td>\n",
       "      <td>-0.594062</td>\n",
       "      <td>1.000000</td>\n",
       "      <td>-0.006979</td>\n",
       "      <td>0.010806</td>\n",
       "      <td>-0.077179</td>\n",
       "      <td>0.050216</td>\n",
       "      <td>0.012193</td>\n",
       "    </tr>\n",
       "    <tr>\n",
       "      <th>coupling_piano_drums</th>\n",
       "      <td>-0.104420</td>\n",
       "      <td>-0.222993</td>\n",
       "      <td>-0.098009</td>\n",
       "      <td>-0.013879</td>\n",
       "      <td>-0.079407</td>\n",
       "      <td>-0.071587</td>\n",
       "      <td>-0.106844</td>\n",
       "      <td>-0.119702</td>\n",
       "      <td>-0.341522</td>\n",
       "      <td>-0.428103</td>\n",
       "      <td>0.006271</td>\n",
       "      <td>-0.188189</td>\n",
       "      <td>-0.006979</td>\n",
       "      <td>1.000000</td>\n",
       "      <td>0.388999</td>\n",
       "      <td>-0.209011</td>\n",
       "      <td>0.205184</td>\n",
       "      <td>0.153624</td>\n",
       "    </tr>\n",
       "    <tr>\n",
       "      <th>coupling_piano_bass</th>\n",
       "      <td>0.009612</td>\n",
       "      <td>-0.171394</td>\n",
       "      <td>-0.051004</td>\n",
       "      <td>-0.010720</td>\n",
       "      <td>-0.056865</td>\n",
       "      <td>-0.043647</td>\n",
       "      <td>-0.060109</td>\n",
       "      <td>-0.106059</td>\n",
       "      <td>-0.382695</td>\n",
       "      <td>-0.318067</td>\n",
       "      <td>-0.023047</td>\n",
       "      <td>-0.162317</td>\n",
       "      <td>0.010806</td>\n",
       "      <td>0.388999</td>\n",
       "      <td>1.000000</td>\n",
       "      <td>-0.097227</td>\n",
       "      <td>0.103850</td>\n",
       "      <td>0.116255</td>\n",
       "    </tr>\n",
       "    <tr>\n",
       "      <th>rolling_std_median</th>\n",
       "      <td>0.287052</td>\n",
       "      <td>0.253061</td>\n",
       "      <td>0.263386</td>\n",
       "      <td>0.017084</td>\n",
       "      <td>0.148304</td>\n",
       "      <td>0.086381</td>\n",
       "      <td>0.291059</td>\n",
       "      <td>0.185899</td>\n",
       "      <td>0.275559</td>\n",
       "      <td>0.310387</td>\n",
       "      <td>0.070612</td>\n",
       "      <td>0.082529</td>\n",
       "      <td>-0.077179</td>\n",
       "      <td>-0.209011</td>\n",
       "      <td>-0.097227</td>\n",
       "      <td>1.000000</td>\n",
       "      <td>-0.373873</td>\n",
       "      <td>-0.062839</td>\n",
       "    </tr>\n",
       "    <tr>\n",
       "      <th>tempo</th>\n",
       "      <td>-0.478671</td>\n",
       "      <td>-0.569539</td>\n",
       "      <td>-0.301522</td>\n",
       "      <td>-0.192703</td>\n",
       "      <td>-0.552648</td>\n",
       "      <td>-0.481210</td>\n",
       "      <td>-0.080852</td>\n",
       "      <td>-0.043930</td>\n",
       "      <td>-0.244437</td>\n",
       "      <td>-0.357435</td>\n",
       "      <td>-0.161638</td>\n",
       "      <td>-0.243329</td>\n",
       "      <td>0.050216</td>\n",
       "      <td>0.205184</td>\n",
       "      <td>0.103850</td>\n",
       "      <td>-0.373873</td>\n",
       "      <td>1.000000</td>\n",
       "      <td>0.281890</td>\n",
       "    </tr>\n",
       "    <tr>\n",
       "      <th>tempo_slope</th>\n",
       "      <td>-0.089226</td>\n",
       "      <td>-0.262706</td>\n",
       "      <td>0.052998</td>\n",
       "      <td>-0.133105</td>\n",
       "      <td>-0.035297</td>\n",
       "      <td>-0.191055</td>\n",
       "      <td>-0.089086</td>\n",
       "      <td>-0.141394</td>\n",
       "      <td>-0.249679</td>\n",
       "      <td>-0.176553</td>\n",
       "      <td>-0.126677</td>\n",
       "      <td>-0.068211</td>\n",
       "      <td>0.012193</td>\n",
       "      <td>0.153624</td>\n",
       "      <td>0.116255</td>\n",
       "      <td>-0.062839</td>\n",
       "      <td>0.281890</td>\n",
       "      <td>1.000000</td>\n",
       "    </tr>\n",
       "  </tbody>\n",
       "</table>\n",
       "</div>"
      ],
      "text/plain": [
       "                          bur_log_mean  bur_log_std  lz77_mean  lz77_std  \\\n",
       "bur_log_mean                  1.000000     0.023783   0.041095  0.161561   \n",
       "bur_log_std                   0.023783     1.000000   0.244752  0.100573   \n",
       "lz77_mean                     0.041095     0.244752   1.000000 -0.582117   \n",
       "lz77_std                      0.161561     0.100573  -0.582117  1.000000   \n",
       "n_onsets_mean                 0.111858     0.350735   0.861500 -0.365285   \n",
       "n_onsets_std                  0.211373     0.273306  -0.268689  0.815524   \n",
       "bass_prop_async_nanmean       0.109891    -0.025379   0.076048 -0.046882   \n",
       "drums_prop_async_nanmean      0.027445    -0.084539  -0.035046 -0.070843   \n",
       "bass_prop_async_nanstd        0.021965     0.327741   0.136428  0.008033   \n",
       "drums_prop_async_nanstd       0.081154     0.407635   0.099194  0.079786   \n",
       "self_coupling                 0.036609     0.184870   0.053057  0.085757   \n",
       "coupling_drums                0.105727     0.213059   0.147420  0.020402   \n",
       "coupling_bass                -0.004847     0.063113  -0.048267 -0.009943   \n",
       "coupling_piano_drums         -0.104420    -0.222993  -0.098009 -0.013879   \n",
       "coupling_piano_bass           0.009612    -0.171394  -0.051004 -0.010720   \n",
       "rolling_std_median            0.287052     0.253061   0.263386  0.017084   \n",
       "tempo                        -0.478671    -0.569539  -0.301522 -0.192703   \n",
       "tempo_slope                  -0.089226    -0.262706   0.052998 -0.133105   \n",
       "\n",
       "                          n_onsets_mean  n_onsets_std  \\\n",
       "bur_log_mean                   0.111858      0.211373   \n",
       "bur_log_std                    0.350735      0.273306   \n",
       "lz77_mean                      0.861500     -0.268689   \n",
       "lz77_std                      -0.365285      0.815524   \n",
       "n_onsets_mean                  1.000000      0.023730   \n",
       "n_onsets_std                   0.023730      1.000000   \n",
       "bass_prop_async_nanmean        0.011558     -0.070061   \n",
       "drums_prop_async_nanmean      -0.088717     -0.125504   \n",
       "bass_prop_async_nanstd         0.136169      0.063671   \n",
       "drums_prop_async_nanstd        0.155745      0.111693   \n",
       "self_coupling                  0.115969      0.109569   \n",
       "coupling_drums                 0.203515      0.087607   \n",
       "coupling_bass                 -0.066836     -0.064340   \n",
       "coupling_piano_drums          -0.079407     -0.071587   \n",
       "coupling_piano_bass           -0.056865     -0.043647   \n",
       "rolling_std_median             0.148304      0.086381   \n",
       "tempo                         -0.552648     -0.481210   \n",
       "tempo_slope                   -0.035297     -0.191055   \n",
       "\n",
       "                          bass_prop_async_nanmean  drums_prop_async_nanmean  \\\n",
       "bur_log_mean                             0.109891                  0.027445   \n",
       "bur_log_std                             -0.025379                 -0.084539   \n",
       "lz77_mean                                0.076048                 -0.035046   \n",
       "lz77_std                                -0.046882                 -0.070843   \n",
       "n_onsets_mean                            0.011558                 -0.088717   \n",
       "n_onsets_std                            -0.070061                 -0.125504   \n",
       "bass_prop_async_nanmean                  1.000000                  0.422543   \n",
       "drums_prop_async_nanmean                 0.422543                  1.000000   \n",
       "bass_prop_async_nanstd                   0.366270                  0.228394   \n",
       "drums_prop_async_nanstd                  0.193774                  0.192800   \n",
       "self_coupling                            0.016178                  0.014833   \n",
       "coupling_drums                          -0.066147                 -0.031501   \n",
       "coupling_bass                            0.149305                  0.030995   \n",
       "coupling_piano_drums                    -0.106844                 -0.119702   \n",
       "coupling_piano_bass                     -0.060109                 -0.106059   \n",
       "rolling_std_median                       0.291059                  0.185899   \n",
       "tempo                                   -0.080852                 -0.043930   \n",
       "tempo_slope                             -0.089086                 -0.141394   \n",
       "\n",
       "                          bass_prop_async_nanstd  drums_prop_async_nanstd  \\\n",
       "bur_log_mean                            0.021965                 0.081154   \n",
       "bur_log_std                             0.327741                 0.407635   \n",
       "lz77_mean                               0.136428                 0.099194   \n",
       "lz77_std                                0.008033                 0.079786   \n",
       "n_onsets_mean                           0.136169                 0.155745   \n",
       "n_onsets_std                            0.063671                 0.111693   \n",
       "bass_prop_async_nanmean                 0.366270                 0.193774   \n",
       "drums_prop_async_nanmean                0.228394                 0.192800   \n",
       "bass_prop_async_nanstd                  1.000000                 0.589656   \n",
       "drums_prop_async_nanstd                 0.589656                 1.000000   \n",
       "self_coupling                           0.155206                 0.138755   \n",
       "coupling_drums                          0.077507                 0.254064   \n",
       "coupling_bass                           0.225267                 0.009367   \n",
       "coupling_piano_drums                   -0.341522                -0.428103   \n",
       "coupling_piano_bass                    -0.382695                -0.318067   \n",
       "rolling_std_median                      0.275559                 0.310387   \n",
       "tempo                                  -0.244437                -0.357435   \n",
       "tempo_slope                            -0.249679                -0.176553   \n",
       "\n",
       "                          self_coupling  coupling_drums  coupling_bass  \\\n",
       "bur_log_mean                   0.036609        0.105727      -0.004847   \n",
       "bur_log_std                    0.184870        0.213059       0.063113   \n",
       "lz77_mean                      0.053057        0.147420      -0.048267   \n",
       "lz77_std                       0.085757        0.020402      -0.009943   \n",
       "n_onsets_mean                  0.115969        0.203515      -0.066836   \n",
       "n_onsets_std                   0.109569        0.087607      -0.064340   \n",
       "bass_prop_async_nanmean        0.016178       -0.066147       0.149305   \n",
       "drums_prop_async_nanmean       0.014833       -0.031501       0.030995   \n",
       "bass_prop_async_nanstd         0.155206        0.077507       0.225267   \n",
       "drums_prop_async_nanstd        0.138755        0.254064       0.009367   \n",
       "self_coupling                  1.000000        0.342857       0.092193   \n",
       "coupling_drums                 0.342857        1.000000      -0.594062   \n",
       "coupling_bass                  0.092193       -0.594062       1.000000   \n",
       "coupling_piano_drums           0.006271       -0.188189      -0.006979   \n",
       "coupling_piano_bass           -0.023047       -0.162317       0.010806   \n",
       "rolling_std_median             0.070612        0.082529      -0.077179   \n",
       "tempo                         -0.161638       -0.243329       0.050216   \n",
       "tempo_slope                   -0.126677       -0.068211       0.012193   \n",
       "\n",
       "                          coupling_piano_drums  coupling_piano_bass  \\\n",
       "bur_log_mean                         -0.104420             0.009612   \n",
       "bur_log_std                          -0.222993            -0.171394   \n",
       "lz77_mean                            -0.098009            -0.051004   \n",
       "lz77_std                             -0.013879            -0.010720   \n",
       "n_onsets_mean                        -0.079407            -0.056865   \n",
       "n_onsets_std                         -0.071587            -0.043647   \n",
       "bass_prop_async_nanmean              -0.106844            -0.060109   \n",
       "drums_prop_async_nanmean             -0.119702            -0.106059   \n",
       "bass_prop_async_nanstd               -0.341522            -0.382695   \n",
       "drums_prop_async_nanstd              -0.428103            -0.318067   \n",
       "self_coupling                         0.006271            -0.023047   \n",
       "coupling_drums                       -0.188189            -0.162317   \n",
       "coupling_bass                        -0.006979             0.010806   \n",
       "coupling_piano_drums                  1.000000             0.388999   \n",
       "coupling_piano_bass                   0.388999             1.000000   \n",
       "rolling_std_median                   -0.209011            -0.097227   \n",
       "tempo                                 0.205184             0.103850   \n",
       "tempo_slope                           0.153624             0.116255   \n",
       "\n",
       "                          rolling_std_median     tempo  tempo_slope  \n",
       "bur_log_mean                        0.287052 -0.478671    -0.089226  \n",
       "bur_log_std                         0.253061 -0.569539    -0.262706  \n",
       "lz77_mean                           0.263386 -0.301522     0.052998  \n",
       "lz77_std                            0.017084 -0.192703    -0.133105  \n",
       "n_onsets_mean                       0.148304 -0.552648    -0.035297  \n",
       "n_onsets_std                        0.086381 -0.481210    -0.191055  \n",
       "bass_prop_async_nanmean             0.291059 -0.080852    -0.089086  \n",
       "drums_prop_async_nanmean            0.185899 -0.043930    -0.141394  \n",
       "bass_prop_async_nanstd              0.275559 -0.244437    -0.249679  \n",
       "drums_prop_async_nanstd             0.310387 -0.357435    -0.176553  \n",
       "self_coupling                       0.070612 -0.161638    -0.126677  \n",
       "coupling_drums                      0.082529 -0.243329    -0.068211  \n",
       "coupling_bass                      -0.077179  0.050216     0.012193  \n",
       "coupling_piano_drums               -0.209011  0.205184     0.153624  \n",
       "coupling_piano_bass                -0.097227  0.103850     0.116255  \n",
       "rolling_std_median                  1.000000 -0.373873    -0.062839  \n",
       "tempo                              -0.373873  1.000000     0.281890  \n",
       "tempo_slope                        -0.062839  0.281890     1.000000  "
      ]
     },
     "execution_count": 40,
     "metadata": {},
     "output_type": "execute_result"
    }
   ],
   "source": [
    "X.corr()"
   ]
  },
  {
   "cell_type": "markdown",
   "metadata": {
    "collapsed": false,
    "jupyter": {
     "outputs_hidden": false
    },
    "pycharm": {
     "name": "#%% md\n"
    }
   },
   "source": [
    "Let's check that we've filled all missing values"
   ]
  },
  {
   "cell_type": "code",
   "execution_count": 41,
   "metadata": {
    "collapsed": false,
    "jupyter": {
     "outputs_hidden": false
    },
    "pycharm": {
     "name": "#%%\n"
    }
   },
   "outputs": [
    {
     "name": "stdout",
     "output_type": "stream",
     "text": [
      "False\n"
     ]
    }
   ],
   "source": [
    "print(X.isna().values.any())"
   ]
  },
  {
   "cell_type": "markdown",
   "metadata": {
    "collapsed": false,
    "jupyter": {
     "outputs_hidden": false
    },
    "pycharm": {
     "name": "#%% md\n"
    }
   },
   "source": [
    "### Encode categorical prediction variable\n",
    "Next, we need to encode our predictor variable (currently a list of names) to integers."
   ]
  },
  {
   "cell_type": "code",
   "execution_count": 42,
   "metadata": {
    "collapsed": false,
    "jupyter": {
     "outputs_hidden": false
    },
    "pycharm": {
     "name": "#%%\n"
    }
   },
   "outputs": [],
   "source": [
    "# We can store the labels for later use\n",
    "pianist_labels = clean[PREDICTION].unique().tolist()\n",
    "y = clean[PREDICTION].map({val: i for i, val in enumerate(pianist_labels)})"
   ]
  },
  {
   "cell_type": "code",
   "execution_count": 57,
   "metadata": {},
   "outputs": [],
   "source": [
    "clean[[PREDICTION, 'track_name', 'mbz_id', *PREDICTORS]].sort_values(by='mbz_id').fillna(clean[PREDICTORS].mean()).to_csv(f'{utils.get_project_root()}/notebooks/rhythm_features.csv')"
   ]
  },
  {
   "cell_type": "markdown",
   "metadata": {
    "collapsed": false,
    "jupyter": {
     "outputs_hidden": false
    },
    "pycharm": {
     "name": "#%% md\n"
    }
   },
   "source": [
    "## Random Forest modelling (new)\n",
    "### Create the model class"
   ]
  },
  {
   "cell_type": "code",
   "execution_count": 43,
   "metadata": {
    "collapsed": false,
    "jupyter": {
     "outputs_hidden": false
    },
    "pycharm": {
     "name": "#%%\n"
    }
   },
   "outputs": [
    {
     "data": {
      "text/plain": [
       "{'Swing': ['bur_log_mean', 'bur_log_std'],\n",
       " 'Complexity': ['lz77_mean', 'lz77_std', 'n_onsets_mean', 'n_onsets_std'],\n",
       " 'Feel': ['bass_prop_async_nanmean',\n",
       "  'drums_prop_async_nanmean',\n",
       "  'bass_prop_async_nanstd',\n",
       "  'drums_prop_async_nanstd'],\n",
       " 'Interaction': ['self_coupling',\n",
       "  'coupling_drums',\n",
       "  'coupling_bass',\n",
       "  'coupling_piano_drums',\n",
       "  'coupling_piano_bass'],\n",
       " 'Tempo': ['rolling_std_median', 'tempo', 'tempo_slope']}"
      ]
     },
     "execution_count": 43,
     "metadata": {},
     "output_type": "execute_result"
    }
   ],
   "source": [
    "PREDICTORS_CATEGORIES"
   ]
  },
  {
   "cell_type": "code",
   "execution_count": 32,
   "metadata": {
    "collapsed": false,
    "jupyter": {
     "outputs_hidden": false
    },
    "pycharm": {
     "name": "#%%\n"
    }
   },
   "outputs": [],
   "source": [
    "class RandomForestFit:\n",
    "    \"\"\"Provides a wrapper around `StratifiedKFold` and `RandomForestClassifier`\"\"\"\n",
    "    col_idxs = [[0, 1], [2, 3, 4, 5], [6, 7, 8, 9], [10, 11, 12, 13, 14], [15, 16, 17]]\n",
    "\n",
    "    def __init__(self, params: dict = None):\n",
    "        self.params = params if params is not None else {}\n",
    "        # I think we can probably shuffle the data first.\n",
    "        # The data is unordered (not time-series), so unlikely to have a negative effect\n",
    "        self.skf = StratifiedKFold(n_splits=N_FOLDS, shuffle=True, random_state=SEED)\n",
    "        self.predicts, self.importances, self.grouped_importances = [], [], []\n",
    "        self.trees = []\n",
    "\n",
    "    def fit_model(self, x_data, y_data):\n",
    "        fits = [self._fit_model(x_data, y_data, x_idx, y_idx) for x_idx, y_idx in self.skf.split(x_data, y_data)]\n",
    "        predicts, feature_importances, grouped_importance = list(zip(*fits))\n",
    "        self.predicts = self._format_predicts_df(predicts)\n",
    "        self.importances = self._format_importances_df(feature_importances)\n",
    "        self.grouped_importances = pd.concat(grouped_importance, axis=1)\n",
    "        return self\n",
    "\n",
    "    def get_global_accuracy(self) -> float:\n",
    "        \"\"\"Returns the percentage of correct predictions\"\"\"\n",
    "        return self.predicts['correct'].value_counts(normalize=True)[True]\n",
    "\n",
    "    @staticmethod\n",
    "    def _format_importances_df(importances) -> pd.DataFrame:\n",
    "        importances_df_ = (\n",
    "            pd.concat(importances, axis=1)\n",
    "            .reset_index(drop=False)\n",
    "            .rename(columns={'index': 'feature'})\n",
    "        )\n",
    "        importances_df_['category'] = importances_df_['feature'].map(CATEGORY_MAPPING)\n",
    "        return importances_df_\n",
    "\n",
    "    @staticmethod\n",
    "    def _format_predicts_df(predicts) -> pd.DataFrame:\n",
    "        predict_df_ = (\n",
    "            pd.concat(predicts, axis=0)\n",
    "            .sort_index()\n",
    "            .rename(columns={0: 'prediction', 'pianist': 'actual'})\n",
    "        )\n",
    "        predict_df_['correct'] = predict_df_['prediction'] == predict_df_['actual']\n",
    "        for var in ['prediction', 'actual']:\n",
    "            predict_df_[var] = predict_df_[var].map({i: val for i, val in enumerate(pianist_labels)})\n",
    "        return predict_df_\n",
    "\n",
    "    def _fit_model(self, x_data, y_data, train_idx, test_idx):\n",
    "        # Get our splits for this fold\n",
    "        X_train, X_test = x_data.iloc[train_idx], x_data.iloc[test_idx]\n",
    "        y_train, y_test = y_data[train_idx], y_data[test_idx]\n",
    "        # Create the random forest model\n",
    "        rf = RandomForestClassifier(random_state=SEED, **self.params)\n",
    "        # Fit the random forest to the training data\n",
    "        rf.fit(X_train, y_train)\n",
    "        self.trees.append(rf)\n",
    "        # Predict the test data\n",
    "        y_predict = rf.predict(X_test)\n",
    "        # Get prediction probabilities\n",
    "        y_probs = rf.predict_proba(X_test)\n",
    "        # Calculate importance of individual features\n",
    "        fpi = self.permutation_importance(rf, X_test, y_test)\n",
    "        # Calculate importance of feature groups\n",
    "        gpi = self.grouped_permutation_importance(rf, X_test, y_test)\n",
    "        # Return the prediction and feature importance dataframes\n",
    "        return (\n",
    "            self._format_predict_df(y_predict, y_probs, y_test),\n",
    "            pd.DataFrame(fpi.importances, index=X.columns),\n",
    "            pd.DataFrame(gpi.importances, index=PREDICTORS_CATEGORIES.keys())\n",
    "        )\n",
    "\n",
    "    @staticmethod\n",
    "    def permutation_importance(\n",
    "            estimator, X: pd.DataFrame, y: pd.DataFrame, n_repeats: int = 10,\n",
    "            scoring: str = 'accuracy', sample_weight: float = None, max_samples: float = 1.0\n",
    "    ) -> dict:\n",
    "        return permutation_importance(\n",
    "            estimator, X, y, n_repeats=n_repeats, random_state=SEED, n_jobs=N_JOBS,\n",
    "            sample_weight=sample_weight, max_samples=max_samples, scoring=scoring\n",
    "        )\n",
    "\n",
    "    @staticmethod\n",
    "    def _format_predict_df(predict, predict_probs, actual):\n",
    "        y_probs = pd.DataFrame(predict_probs)\n",
    "        y_probs.columns = y_probs.columns.map({i: val for i, val in enumerate(pianist_labels)})\n",
    "        y_probs.index = actual.index\n",
    "        # Format the prediction series\n",
    "        y_predict_s = pd.Series(predict)\n",
    "        y_predict_s.index = actual.index\n",
    "        # Concatenate the predicted and actual pianist\n",
    "        return pd.concat([y_predict_s, actual, y_probs], axis=1)\n",
    "\n",
    "    @staticmethod\n",
    "    def _grouped_permutation_score(\n",
    "        estimator, X, y, sample_weight, col_idxs,\n",
    "        random_state, n_repeats, scorer,\n",
    "    ):\n",
    "        random_state = check_random_state(random_state)\n",
    "        X_permuted = X.copy()\n",
    "        scores = []\n",
    "        shuffling_idx = np.arange(X_permuted.shape[0])\n",
    "        for _ in range(n_repeats):\n",
    "            random_state.shuffle(shuffling_idx)\n",
    "            col = X_permuted.iloc[shuffling_idx, col_idxs]\n",
    "            col.index = X_permuted.index\n",
    "            X_permuted[X_permuted.columns[col_idxs]] = col\n",
    "            scores.append(_weights_scorer(scorer, estimator, X_permuted, y, sample_weight))\n",
    "        return np.array(scores)\n",
    "\n",
    "    def grouped_permutation_importance(\n",
    "            self, estimator, X: pd.DataFrame, y: pd.DataFrame, random_state: float = SEED,\n",
    "            n_repeats: int = 10, scoring: str = 'accuracy', sample_weight: float = None\n",
    "    ) -> dict:\n",
    "        random_state = check_random_state(random_state)\n",
    "        random_seed = random_state.randint(np.iinfo(np.int32).max + 1)\n",
    "        scorer = check_scoring(estimator, scoring)\n",
    "        baseline_score = _weights_scorer(scorer, estimator, X, y, sample_weight)\n",
    "        scores2 = [self._grouped_permutation_score(\n",
    "            estimator=estimator, X=X, y=y, col_idxs=col_idx, random_state=random_seed,\n",
    "            n_repeats=n_repeats, scorer=scorer, sample_weight=sample_weight,\n",
    "        ) for col_idx in self.col_idxs]\n",
    "        return _create_importances_bunch(baseline_score, np.array(scores2))\n"
   ]
  },
  {
   "cell_type": "markdown",
   "metadata": {
    "collapsed": false,
    "jupyter": {
     "outputs_hidden": false
    },
    "pycharm": {
     "name": "#%% md\n"
    }
   },
   "source": [
    "### Get baseline accuracy\n",
    "Here, we just guess a random pianist for each track"
   ]
  },
  {
   "cell_type": "code",
   "execution_count": null,
   "metadata": {
    "collapsed": false,
    "jupyter": {
     "outputs_hidden": false
    },
    "pycharm": {
     "name": "#%%\n"
    }
   },
   "outputs": [],
   "source": [
    "accuracy_random = accuracy_score(y, np.random.randint(y.min(), y.max(), len(y)))\n",
    "print(f\"Random guess accuracy: {accuracy_random}\")"
   ]
  },
  {
   "cell_type": "markdown",
   "metadata": {
    "collapsed": false,
    "jupyter": {
     "outputs_hidden": false
    },
    "pycharm": {
     "name": "#%% md\n"
    }
   },
   "source": [
    "As you'd expect with 10 pianists and 30 tracks per pianist, we'll be correct approximately one in ten times if we just guess the pianist at random."
   ]
  },
  {
   "cell_type": "markdown",
   "metadata": {
    "collapsed": false,
    "jupyter": {
     "outputs_hidden": false
    },
    "pycharm": {
     "name": "#%% md\n"
    }
   },
   "source": [
    "### Fit the initial model and get accuracy\n",
    "Here we just use the default parameters for fitting the model"
   ]
  },
  {
   "cell_type": "code",
   "execution_count": null,
   "metadata": {
    "collapsed": false,
    "jupyter": {
     "outputs_hidden": false
    },
    "pycharm": {
     "name": "#%%\n"
    }
   },
   "outputs": [],
   "source": [
    "rf_init = RandomForestFit().fit_model(X, y)\n",
    "print(f'Initial model accuracy: {rf_init.get_global_accuracy()}')"
   ]
  },
  {
   "cell_type": "markdown",
   "metadata": {
    "collapsed": false,
    "jupyter": {
     "outputs_hidden": false
    },
    "pycharm": {
     "name": "#%% md\n"
    }
   },
   "source": [
    "### Parameter optimization\n",
    "Now, we can try and optimize the model using a randomized search over an array of parameters"
   ]
  },
  {
   "cell_type": "code",
   "execution_count": null,
   "metadata": {
    "collapsed": false,
    "jupyter": {
     "outputs_hidden": false
    },
    "pycharm": {
     "name": "#%%\n"
    }
   },
   "outputs": [],
   "source": [
    "# These are the parameters we'll sample from when optimizing\n",
    "test_params = dict(\n",
    "    # The number of trees to grow in the forest\n",
    "    n_estimators=[i for i in range(10, 1001, 1)],\n",
    "    # Max number of features considered for splitting a node\n",
    "    max_features=[None, 'sqrt', 'log2'],\n",
    "    # Max number of levels in each tree\n",
    "    max_depth=[None, *[i for i in range(1, 101, 1)]],\n",
    "    # Minimum number of samples required to split a node\n",
    "    min_samples_split=[i for i in range(2, 11)],\n",
    "    # Minimum number of samples required at each leaf node\n",
    "    min_samples_leaf=[i for i in range(1, 11)],\n",
    "    # Whether to sample data points with our without replacement\n",
    "    bootstrap=[True, False],\n",
    ")"
   ]
  },
  {
   "cell_type": "code",
   "execution_count": null,
   "metadata": {
    "collapsed": false,
    "jupyter": {
     "outputs_hidden": false
    },
    "pycharm": {
     "name": "#%%\n"
    }
   },
   "outputs": [],
   "source": [
    "# Create the `ParameterSampler` object for the required number of iterations\n",
    "sampler = ParameterSampler(test_params, n_iter=N_ITER, random_state=SEED)"
   ]
  },
  {
   "cell_type": "code",
   "execution_count": null,
   "metadata": {
    "collapsed": false,
    "jupyter": {
     "outputs_hidden": false
    },
    "pycharm": {
     "name": "#%%\n"
    }
   },
   "outputs": [],
   "source": [
    "def get_cached_tracks() -> list:\n",
    "    \"\"\"Tries to get cached optimised parameters, returns an empty list if cannot find\"\"\"\n",
    "    try:\n",
    "        return utils.load_csv(\n",
    "            fpath=rf\"{utils.get_project_root()}\\references\\parameter_optimisation\\corpus_chronology\",\n",
    "            fname='random_forest_opt'\n",
    "        )\n",
    "    except FileNotFoundError:\n",
    "        return []"
   ]
  },
  {
   "cell_type": "code",
   "execution_count": null,
   "metadata": {
    "collapsed": false,
    "jupyter": {
     "outputs_hidden": false
    },
    "pycharm": {
     "name": "#%%\n"
    }
   },
   "outputs": [],
   "source": [
    "def create_forest(parameters: dict, iteration: int,):\n",
    "    \"\"\"Conducts one iteration of parameter optimisation, with given parameter\"\"\"\n",
    "    # Check our cache to see if we've already got results for this iteration\n",
    "    # As we use a set seed with `ParameterSampler`, we can get results with just the counter\n",
    "    cached_results = get_cached_tracks()\n",
    "    try:\n",
    "        cached_res = [o for o in cached_results if o['iteration'] == iteration][0]\n",
    "        # assert all(k in cached_res and parameters[k] == cached_res[k] for k in to_check)\n",
    "    except (IndexError, AssertionError):\n",
    "        pass\n",
    "    else:\n",
    "        return cached_res\n",
    "\n",
    "    # Create the forest model\n",
    "    forest = RandomForestFit(params=parameters)\n",
    "    # Fit the model to the data\n",
    "    forest.fit_model(X, y)\n",
    "    # Create the results dictionary and save\n",
    "    results_dict = {\n",
    "        'accuracy': forest.get_global_accuracy(),\n",
    "        'iteration': iteration,\n",
    "        **parameters\n",
    "    }\n",
    "    utils.save_csv(\n",
    "        results_dict,\n",
    "        rf\"{utils.get_project_root()}\\references\\parameter_optimisation\\corpus_chronology\",\n",
    "        'random_forest_opt'\n",
    "    )\n",
    "    # Return the fitted forest object\n",
    "    return results_dict"
   ]
  },
  {
   "cell_type": "code",
   "execution_count": null,
   "metadata": {
    "collapsed": false,
    "jupyter": {
     "outputs_hidden": false
    },
    "pycharm": {
     "name": "#%%\n"
    }
   },
   "outputs": [],
   "source": [
    "# Use lazy parallelization to create the forest and fit to the data\n",
    "with Parallel(n_jobs=N_JOBS, verbose=11) as parallel:\n",
    "    rfs_fitted = parallel(delayed(create_forest)(params, num) for num, params in enumerate(sampler))"
   ]
  },
  {
   "cell_type": "markdown",
   "metadata": {
    "collapsed": false,
    "jupyter": {
     "outputs_hidden": false
    },
    "pycharm": {
     "name": "#%% md\n"
    }
   },
   "source": [
    "### Get the optimized parameters"
   ]
  },
  {
   "cell_type": "code",
   "execution_count": null,
   "metadata": {
    "collapsed": false,
    "jupyter": {
     "outputs_hidden": false
    },
    "pycharm": {
     "name": "#%%\n"
    }
   },
   "outputs": [],
   "source": [
    "# Create a dataframe of parameters and accuracy scores\n",
    "opt_df = pd.DataFrame(rfs_fitted)\n",
    "opt_df.head()"
   ]
  },
  {
   "cell_type": "code",
   "execution_count": null,
   "metadata": {
    "collapsed": false,
    "jupyter": {
     "outputs_hidden": false
    },
    "pycharm": {
     "name": "#%%\n"
    }
   },
   "outputs": [],
   "source": [
    "# Get the parameter combination that yielded the best accuracy\n",
    "best_params = opt_df[opt_df['accuracy'] == opt_df['accuracy'].max()][test_params.keys()].to_dict('records')[0]\n",
    "best_params['max_depth'] = int(best_params['max_depth'])"
   ]
  },
  {
   "cell_type": "markdown",
   "metadata": {
    "collapsed": false,
    "jupyter": {
     "outputs_hidden": false
    },
    "pycharm": {
     "name": "#%% md\n"
    }
   },
   "source": [
    "So the optimization process doesn't have to be re-run each time, the final parameter set is given below in plain text:\n",
    "\n",
    "`{\n",
    "    'n_estimators': 50,\n",
    "    'max_features': 'log2',\n",
    "    'max_depth': 30,\n",
    "    'bootstrap': True,\n",
    "    'min_samples_leaf': 1,\n",
    "    'min_samples_split': 2\n",
    " }`"
   ]
  },
  {
   "cell_type": "markdown",
   "metadata": {
    "collapsed": false,
    "jupyter": {
     "outputs_hidden": false
    },
    "pycharm": {
     "name": "#%% md\n"
    }
   },
   "source": [
    "### Fit the optimized model and get accuracy\n",
    "Now, we use the best combination of parameters from our optimization process"
   ]
  },
  {
   "cell_type": "code",
   "execution_count": 29,
   "metadata": {
    "collapsed": false,
    "jupyter": {
     "outputs_hidden": false
    },
    "pycharm": {
     "name": "#%%\n"
    }
   },
   "outputs": [],
   "source": [
    "BEST_PARAMS = {'n_estimators': 50, 'max_features': 'log2', 'max_depth': 30, 'bootstrap': True, 'min_samples_leaf': 1, 'min_samples_split': 2}"
   ]
  },
  {
   "cell_type": "code",
   "execution_count": null,
   "metadata": {
    "collapsed": false,
    "jupyter": {
     "outputs_hidden": false
    },
    "pycharm": {
     "name": "#%%\n"
    }
   },
   "outputs": [],
   "source": [
    "rf_opt = RandomForestFit(params=BEST_PARAMS).fit_model(X, y)\n",
    "print(f'Optimized model accuracy: {rf_opt.get_global_accuracy()}')"
   ]
  },
  {
   "cell_type": "markdown",
   "metadata": {
    "collapsed": false,
    "jupyter": {
     "outputs_hidden": false
    },
    "pycharm": {
     "name": "#%% md\n"
    }
   },
   "source": [
    "## Serialise model and save"
   ]
  },
  {
   "cell_type": "code",
   "execution_count": null,
   "metadata": {
    "collapsed": false,
    "jupyter": {
     "outputs_hidden": false
    },
    "pycharm": {
     "name": "#%%\n"
    }
   },
   "outputs": [],
   "source": [
    "rf_all = RandomForestClassifier(random_state=SEED, **BEST_PARAMS)\n",
    "rf_all.fit(X, clean[PREDICTION])\n",
    "dump(rf_all, f'{utils.get_project_root()}/models/pianist_predictor.joblib')"
   ]
  },
  {
   "cell_type": "markdown",
   "metadata": {
    "collapsed": false,
    "jupyter": {
     "outputs_hidden": false
    },
    "pycharm": {
     "name": "#%% md\n"
    }
   },
   "source": [
    "# t-SNE clustering\n",
    "This is for our javascript visualisation"
   ]
  },
  {
   "cell_type": "markdown",
   "metadata": {
    "collapsed": false,
    "jupyter": {
     "outputs_hidden": false
    },
    "pycharm": {
     "name": "#%% md\n"
    }
   },
   "source": [
    "## Get predicted probabilities with leave-one-out approach"
   ]
  },
  {
   "cell_type": "code",
   "execution_count": 161,
   "metadata": {
    "collapsed": false,
    "jupyter": {
     "outputs_hidden": false
    },
    "pycharm": {
     "name": "#%%\n"
    }
   },
   "outputs": [
    {
     "name": "stdout",
     "output_type": "stream",
     "text": [
      "0\n",
      "1\n",
      "2\n",
      "3\n",
      "4\n",
      "5\n",
      "6\n",
      "7\n",
      "8\n",
      "9\n",
      "10\n",
      "11\n",
      "12\n",
      "13\n",
      "14\n",
      "15\n",
      "16\n",
      "17\n",
      "18\n",
      "19\n",
      "20\n",
      "21\n",
      "22\n",
      "23\n",
      "24\n",
      "25\n",
      "26\n",
      "27\n",
      "28\n",
      "29\n",
      "30\n",
      "31\n",
      "32\n",
      "33\n",
      "34\n",
      "35\n",
      "36\n",
      "37\n",
      "38\n",
      "39\n",
      "40\n",
      "41\n",
      "42\n",
      "43\n",
      "44\n",
      "45\n",
      "46\n",
      "47\n",
      "48\n",
      "49\n",
      "50\n",
      "51\n",
      "52\n",
      "53\n",
      "54\n",
      "55\n",
      "56\n",
      "57\n",
      "58\n",
      "59\n",
      "60\n",
      "61\n",
      "62\n",
      "63\n",
      "64\n",
      "65\n",
      "66\n",
      "67\n",
      "68\n",
      "69\n",
      "70\n",
      "71\n",
      "72\n",
      "73\n",
      "74\n",
      "75\n",
      "76\n",
      "77\n",
      "78\n",
      "79\n",
      "80\n",
      "81\n",
      "82\n",
      "83\n",
      "84\n",
      "85\n",
      "86\n",
      "87\n",
      "88\n",
      "89\n",
      "90\n",
      "91\n",
      "92\n",
      "93\n",
      "94\n",
      "95\n",
      "96\n",
      "97\n",
      "98\n",
      "99\n",
      "100\n",
      "101\n",
      "102\n",
      "103\n",
      "104\n",
      "105\n",
      "106\n",
      "107\n",
      "108\n",
      "109\n",
      "110\n",
      "111\n",
      "112\n",
      "113\n",
      "114\n",
      "115\n",
      "116\n",
      "117\n",
      "118\n",
      "119\n",
      "120\n",
      "121\n",
      "122\n",
      "123\n",
      "124\n",
      "125\n",
      "126\n",
      "127\n",
      "128\n",
      "129\n",
      "130\n",
      "131\n",
      "132\n",
      "133\n",
      "134\n",
      "135\n",
      "136\n",
      "137\n",
      "138\n",
      "139\n",
      "140\n",
      "141\n",
      "142\n",
      "143\n",
      "144\n",
      "145\n",
      "146\n",
      "147\n",
      "148\n",
      "149\n",
      "150\n",
      "151\n",
      "152\n",
      "153\n",
      "154\n",
      "155\n",
      "156\n",
      "157\n",
      "158\n",
      "159\n",
      "160\n",
      "161\n",
      "162\n",
      "163\n",
      "164\n",
      "165\n",
      "166\n",
      "167\n",
      "168\n",
      "169\n",
      "170\n",
      "171\n",
      "172\n",
      "173\n",
      "174\n",
      "175\n",
      "176\n",
      "177\n",
      "178\n",
      "179\n",
      "180\n",
      "181\n",
      "182\n",
      "183\n",
      "184\n",
      "185\n",
      "186\n",
      "187\n",
      "188\n",
      "189\n",
      "190\n",
      "191\n",
      "192\n",
      "193\n",
      "194\n",
      "195\n",
      "196\n",
      "197\n",
      "198\n",
      "199\n",
      "200\n",
      "201\n",
      "202\n",
      "203\n",
      "204\n",
      "205\n",
      "206\n",
      "207\n",
      "208\n",
      "209\n",
      "210\n",
      "211\n",
      "212\n",
      "213\n",
      "214\n",
      "215\n",
      "216\n",
      "217\n",
      "218\n",
      "219\n",
      "220\n",
      "221\n",
      "222\n",
      "223\n",
      "224\n",
      "225\n",
      "226\n",
      "227\n",
      "228\n",
      "229\n",
      "230\n",
      "231\n",
      "232\n",
      "233\n",
      "234\n",
      "235\n",
      "236\n",
      "237\n",
      "238\n",
      "239\n",
      "240\n",
      "241\n",
      "242\n",
      "243\n",
      "244\n",
      "245\n",
      "246\n",
      "247\n",
      "248\n",
      "249\n",
      "250\n",
      "251\n",
      "252\n",
      "253\n",
      "254\n",
      "255\n",
      "256\n",
      "257\n",
      "258\n",
      "259\n",
      "260\n",
      "261\n",
      "262\n",
      "263\n",
      "264\n",
      "265\n",
      "266\n",
      "267\n",
      "268\n",
      "269\n",
      "270\n",
      "271\n",
      "272\n",
      "273\n",
      "274\n",
      "275\n",
      "276\n",
      "277\n",
      "278\n",
      "279\n",
      "280\n",
      "281\n",
      "282\n",
      "283\n",
      "284\n",
      "285\n",
      "286\n",
      "287\n",
      "288\n",
      "289\n",
      "290\n",
      "291\n",
      "292\n",
      "293\n",
      "294\n",
      "295\n",
      "296\n",
      "297\n",
      "298\n",
      "299\n"
     ]
    }
   ],
   "source": [
    "from src.clean.clean_utils import return_timestamp\n",
    "\n",
    "y_ = clean[PREDICTION]\n",
    "probas = []\n",
    "for idx in range(len(X)):\n",
    "    print(idx)\n",
    "    subset = clean.iloc[idx]\n",
    "    # Get train data\n",
    "    train_X = X[~X.index.isin([idx])]\n",
    "    train_y = y_[~y_.index.isin([idx])]\n",
    "    # Get test data\n",
    "    test_X = pd.DataFrame(X.iloc[idx]).transpose()\n",
    "    # Create model\n",
    "    rf_iter = RandomForestClassifier(random_state=SEED, **BEST_PARAMS)\n",
    "    # Fit and append predicted probabilities to list\n",
    "    rf_iter.fit(train_X, train_y)\n",
    "    res_iter = {\n",
    "        'link': subset['links']['external'][0],\n",
    "        'start': return_timestamp(subset['timestamps']['start']),\n",
    "        'end': return_timestamp(subset['timestamps']['end']),\n",
    "        'fname': subset['fname'],\n",
    "        'pianist': subset['pianist'],\n",
    "        'details': f\"\"\"\"{subset['track_name']}\" ({subset['recording_year']}) – {subset['pianist']}\"\"\",\n",
    "        **{pianist_labels[num]: val for num, val in enumerate(rf_iter.predict_proba(test_X)[0].tolist())}\n",
    "    }\n",
    "    probas.append(res_iter)\n",
    "proba_df = pd.DataFrame(probas)"
   ]
  },
  {
   "cell_type": "markdown",
   "metadata": {
    "collapsed": false,
    "jupyter": {
     "outputs_hidden": false
    },
    "pycharm": {
     "name": "#%% md\n"
    }
   },
   "source": [
    "## Fit t-SNE clustering"
   ]
  },
  {
   "cell_type": "code",
   "execution_count": 162,
   "metadata": {
    "collapsed": false,
    "jupyter": {
     "outputs_hidden": false
    },
    "pycharm": {
     "name": "#%%\n"
    }
   },
   "outputs": [],
   "source": [
    "smal = []\n",
    "for lab in pianist_labels:\n",
    "    smal.append({l: 0 if lab != l else 1 for l in pianist_labels})"
   ]
  },
  {
   "cell_type": "code",
   "execution_count": 204,
   "metadata": {
    "collapsed": false,
    "jupyter": {
     "outputs_hidden": false
    },
    "pycharm": {
     "name": "#%%\n"
    }
   },
   "outputs": [],
   "source": [
    "from sklearn.manifold import TSNE\n",
    "big_df = pd.concat([proba_df, pd.DataFrame(smal)] ).reset_index(drop=True)\n",
    "X_tsne = pd.DataFrame(TSNE(perplexity=20, random_state=SEED).fit_transform(big_df[pianist_labels].to_numpy()))\n",
    "X_tsne.columns = ['x', 'y']"
   ]
  },
  {
   "cell_type": "code",
   "execution_count": 205,
   "metadata": {
    "collapsed": false,
    "jupyter": {
     "outputs_hidden": false
    },
    "pycharm": {
     "name": "#%%\n"
    }
   },
   "outputs": [
    {
     "data": {
      "image/png": "[encoded data removed]",
      "text/plain": [
       "<Figure size 640x480 with 1 Axes>"
      ]
     },
     "metadata": {},
     "output_type": "display_data"
    }
   ],
   "source": [
    "plt.scatter(X_tsne['x'], X_tsne['y'])\n",
    "plt.show()"
   ]
  },
  {
   "cell_type": "code",
   "execution_count": 203,
   "metadata": {
    "collapsed": false,
    "jupyter": {
     "outputs_hidden": false
    },
    "pycharm": {
     "name": "#%%\n"
    }
   },
   "outputs": [
    {
     "data": {
      "image/png": "[encoded data removed]",
      "text/plain": [
       "<Figure size 640x480 with 1 Axes>"
      ]
     },
     "metadata": {},
     "output_type": "display_data"
    }
   ],
   "source": [
    "plt.scatter(X_tsne['x'], X_tsne['y'])\n",
    "plt.show()"
   ]
  },
  {
   "cell_type": "code",
   "execution_count": 164,
   "metadata": {
    "collapsed": false,
    "jupyter": {
     "outputs_hidden": false
    },
    "pycharm": {
     "name": "#%%\n"
    }
   },
   "outputs": [],
   "source": [
    "from sklearn.preprocessing import MinMaxScaler\n",
    "mm = MinMaxScaler(feature_range=(10, 1080))\n",
    "X_tsne['x_'] = mm.fit_transform(X_tsne['x'].to_numpy().reshape(-1, 1))\n",
    "mm = MinMaxScaler(feature_range=(10, 480))\n",
    "X_tsne['y_'] = mm.fit_transform(X_tsne['y'].to_numpy().reshape(-1, 1))"
   ]
  },
  {
   "cell_type": "code",
   "execution_count": 165,
   "metadata": {
    "collapsed": false,
    "jupyter": {
     "outputs_hidden": false
    },
    "pycharm": {
     "name": "#%%\n"
    }
   },
   "outputs": [],
   "source": [
    "big_df['prediction'] = big_df[big_df.columns[3:]].apply(\n",
    "    lambda x: ', '.join(sorted([f'{p.split(\" \")[1]}: {int(x[p] * 100)}%' for p in pianist_labels])),\n",
    "    axis=1\n",
    ")"
   ]
  },
  {
   "cell_type": "code",
   "execution_count": 166,
   "metadata": {
    "collapsed": false,
    "jupyter": {
     "outputs_hidden": false
    },
    "pycharm": {
     "name": "#%%\n"
    }
   },
   "outputs": [],
   "source": [
    "for_render = pd.concat([big_df[['link', 'details', 'prediction', 'pianist', 'start', 'end', 'fname', *pianist_labels]], X_tsne[['x_', 'y_']]], axis=1)"
   ]
  },
  {
   "cell_type": "code",
   "execution_count": 167,
   "metadata": {
    "collapsed": false,
    "jupyter": {
     "outputs_hidden": false
    },
    "pycharm": {
     "name": "#%%\n"
    }
   },
   "outputs": [],
   "source": [
    "for_render['color'] = for_render['pianist'].map({pian: col for pian, col in zip(pianist_labels, plt.rcParams['axes.prop_cycle'].by_key()['color'])})"
   ]
  },
  {
   "cell_type": "markdown",
   "metadata": {
    "collapsed": false,
    "jupyter": {
     "outputs_hidden": false
    },
    "pycharm": {
     "name": "#%% md\n"
    }
   },
   "source": [
    "## Output HTML"
   ]
  },
  {
   "cell_type": "code",
   "execution_count": 169,
   "metadata": {
    "collapsed": false,
    "jupyter": {
     "outputs_hidden": false
    },
    "pycharm": {
     "name": "#%%\n"
    }
   },
   "outputs": [],
   "source": [
    "txt = ''\n",
    "root = \"https://raw.githubusercontent.com/HuwCheston/Cambridge-Jazz-Trio-Database/main/references/images/musicians/\"\n",
    "for idx, row in list(for_render.iterrows())[300:]:\n",
    "    lab = pianist_labels[idx - 300]\n",
    "    col = plt.rcParams['axes.prop_cycle'].by_key()['color'][idx - 300]\n",
    "    fpath = root + lab.lower().replace(' ', '_') + '.png'\n",
    "    txt += f\"\"\"<div id=item{idx+1} title=\"{idx+1}\"><img src={fpath} style=\"bottom: {int(row[\"y_\"])}px; right: {int(row[\"x_\"])}px; position: absolute; height: 60px; width: 60px;\"><p style=\"color: {col}; bottom: {int(row[\"y_\"]) - 30 if row[\"y_\"] > 235 else int(row[\"y_\"]) + 45}px; right: {int(row[\"x_\"])}px; position: absolute\">{lab}</div>\\n\"\"\"\n",
    "\n",
    "for idx, row in list(for_render.iterrows())[:300]:\n",
    "    sp = row['pianist'].split(' ')\n",
    "    ti = sp[0][0] + sp[1][0]\n",
    "    txt += f\"\"\"<div id=item{idx+1} onmouseout=\"mouseOff()\" onmouseover=\"displayTrackDetails('{row[\"details\"].replace('\"', '').replace(' (', ', ').replace(')', ' ')}', {(row[[*pianist_labels, 'Ahmad Jamal']].to_numpy() * 100).astype(int).tolist()})\" class=\"genre scanme\" onclick=\"loadYouTubeVideo('{row['link'].split('=')[-1]}', {int(row[\"x_\"])}, {int(row[\"y_\"])}, {int(row[\"start\"])}, {int(row[\"end\"])}, '{row[\"fname\"]}')\" style=\"color:{row[\"color\"]}; bottom: {int(row[\"y_\"])}px; right: {int(row[\"x_\"])}px;\" title=\"{idx+1}\"><b><i>{ti}</i></b><br></div>\\n\"\"\"\n",
    "\n",
    "with open(f'{utils.get_project_root()}/html_output.html', 'w') as f:\n",
    "    f.write(txt)"
   ]
  },
  {
   "cell_type": "markdown",
   "metadata": {
    "collapsed": false,
    "jupyter": {
     "outputs_hidden": false
    },
    "pycharm": {
     "name": "#%% md\n"
    }
   },
   "source": [
    "## Plot results\n",
    "### Plot feature importance\n",
    "Which rhythmic features are most important in defining the personal style of a particular pianist?"
   ]
  },
  {
   "cell_type": "code",
   "execution_count": null,
   "metadata": {
    "collapsed": false,
    "jupyter": {
     "outputs_hidden": false
    },
    "pycharm": {
     "name": "#%%\n"
    }
   },
   "outputs": [],
   "source": [
    "HeatMapPredictionProbDendro(rf_opt.predicts, include_images=False).create_plot()\n",
    "plt.show()"
   ]
  },
  {
   "cell_type": "markdown",
   "metadata": {
    "collapsed": false,
    "jupyter": {
     "outputs_hidden": false
    },
    "pycharm": {
     "name": "#%% md\n"
    }
   },
   "source": [
    "### Get accuracy scores\n",
    "Mean accuracy, top-k (`k=3`) accuracy, Cohen's kappa"
   ]
  },
  {
   "cell_type": "code",
   "execution_count": null,
   "metadata": {
    "collapsed": false,
    "jupyter": {
     "outputs_hidden": false
    },
    "pycharm": {
     "name": "#%%\n"
    }
   },
   "outputs": [],
   "source": [
    "from sklearn.metrics import top_k_accuracy_score, accuracy_score, cohen_kappa_score, confusion_matrix\n",
    "act = rf_opt.predicts['actual'].map({v: k for k, v in enumerate(rf_opt.predicts['actual'].unique())}).values\n",
    "pred = rf_opt.predicts['prediction'].map({v: k for k, v in enumerate(rf_opt.predicts['actual'].unique())}).values\n",
    "probs = rf_opt.predicts[pianist_labels].values\n",
    "print('Mean accuracy:', accuracy_score(act, pred))\n",
    "print('Top-k accuracy:', top_k_accuracy_score(act, probs, k=3))\n",
    "print('Cohen kappa:', cohen_kappa_score(act, pred))"
   ]
  },
  {
   "cell_type": "code",
   "execution_count": null,
   "metadata": {
    "collapsed": false,
    "jupyter": {
     "outputs_hidden": false
    },
    "pycharm": {
     "name": "#%%\n"
    }
   },
   "outputs": [],
   "source": [
    "cm = pd.DataFrame(confusion_matrix(act, pred, normalize='true'))\n",
    "cm.index = pianist_labels\n",
    "cm.columns = pianist_labels\n",
    "cm"
   ]
  },
  {
   "cell_type": "markdown",
   "metadata": {
    "collapsed": false,
    "jupyter": {
     "outputs_hidden": false
    },
    "pycharm": {
     "name": "#%% md\n"
    }
   },
   "source": [
    "### Get feature importances\n",
    "Average importance per feature, per category"
   ]
  },
  {
   "cell_type": "code",
   "execution_count": null,
   "metadata": {
    "collapsed": false,
    "jupyter": {
     "outputs_hidden": false
    },
    "pycharm": {
     "name": "#%%\n"
    }
   },
   "outputs": [],
   "source": [
    "imp_feat = (\n",
    "    rf_opt.importances.copy(deep=True)\n",
    "    .melt(id_vars=['feature', 'category'])\n",
    "    .groupby('feature')\n",
    "    ['value']\n",
    "    .mean()\n",
    "    .sort_values()\n",
    ")\n",
    "print(imp_feat * 100)"
   ]
  },
  {
   "cell_type": "code",
   "execution_count": null,
   "metadata": {
    "collapsed": false,
    "jupyter": {
     "outputs_hidden": false
    },
    "pycharm": {
     "name": "#%%\n"
    }
   },
   "outputs": [],
   "source": [
    "imp_cat = (\n",
    "    rf_opt.grouped_importances.copy(deep=True)\n",
    "    .mean(axis=1)\n",
    "    .sort_values(ascending=True)\n",
    ")\n",
    "print(imp_cat * 100)"
   ]
  },
  {
   "cell_type": "markdown",
   "metadata": {
    "collapsed": false,
    "jupyter": {
     "outputs_hidden": false
    },
    "pycharm": {
     "name": "#%% md\n"
    }
   },
   "source": [
    "## Predicting first and last recordings"
   ]
  },
  {
   "cell_type": "code",
   "execution_count": null,
   "metadata": {
    "collapsed": false,
    "jupyter": {
     "outputs_hidden": false
    },
    "pycharm": {
     "name": "#%%\n"
    }
   },
   "outputs": [],
   "source": [
    "X = clean[PREDICTORS].fillna(clean[PREDICTORS].mean())\n",
    "# We can store the labels for later use\n",
    "pianist_labels = clean[PREDICTION].unique().tolist()\n",
    "y = clean[PREDICTION].map({val: i for i, val in enumerate(pianist_labels)})"
   ]
  },
  {
   "cell_type": "code",
   "execution_count": null,
   "metadata": {
    "collapsed": false,
    "jupyter": {
     "outputs_hidden": false
    },
    "pycharm": {
     "name": "#%%\n"
    }
   },
   "outputs": [],
   "source": [
    "clean['recording_year_'] = clean['recording_year'].astype(int)"
   ]
  },
  {
   "cell_type": "code",
   "execution_count": null,
   "metadata": {
    "collapsed": false,
    "jupyter": {
     "outputs_hidden": false
    },
    "pycharm": {
     "name": "#%%\n"
    }
   },
   "outputs": [],
   "source": [
    "min_idxs = (\n",
    "    clean.sort_values(by=['pianist', 'recording_year_', 'mbz_id'], ascending=True)\n",
    "    .groupby('pianist')\n",
    "    .head(6)\n",
    "    .index\n",
    "    .sort_values()\n",
    "    .to_numpy()\n",
    ")\n",
    "max_idxs = (\n",
    "    clean.sort_values(by=['pianist', 'recording_year_', 'mbz_id'], ascending=False)\n",
    "    .groupby('pianist')\n",
    "    .head(6)\n",
    "    .index\n",
    "    .sort_values()\n",
    "    .to_numpy()\n",
    ")"
   ]
  },
  {
   "cell_type": "code",
   "execution_count": null,
   "metadata": {
    "collapsed": false,
    "jupyter": {
     "outputs_hidden": false
    },
    "pycharm": {
     "name": "#%%\n"
    }
   },
   "outputs": [],
   "source": [
    "def minmax_acc(test_idx) -> float:\n",
    "    train_idx = np.sort(np.array([*(set(X.index) - set(test_idx))]))\n",
    "    assert not set(test_idx).issubset(set(train_idx))\n",
    "    X_train, X_test = X.iloc[train_idx], X.iloc[test_idx]\n",
    "    y_train, y_test = y[train_idx], y[test_idx]\n",
    "    # Create the random forest model\n",
    "    rf_fl = RandomForestClassifier(random_state=SEED, **BEST_PARAMS)\n",
    "    # Fit the random forest to the training data\n",
    "    rf_fl.fit(X_train, y_train)\n",
    "    fl_pred = rf_fl.predict(X_test)\n",
    "    # Get accuracy for predicting the set\n",
    "    return accuracy_score(y_test, fl_pred)\n",
    "\n",
    "min_acc = minmax_acc(min_idxs)\n",
    "max_acc = minmax_acc(max_idxs)\n",
    "print(min_acc, max_acc)"
   ]
  },
  {
   "cell_type": "code",
   "execution_count": null,
   "metadata": {
    "collapsed": false,
    "jupyter": {
     "outputs_hidden": false
    },
    "pycharm": {
     "name": "#%%\n"
    }
   },
   "outputs": [],
   "source": [
    "def permute_model(rand_state):\n",
    "    X_train, X_test, y_train, y_test = train_test_split(X, y, stratify=y, test_size=0.2, random_state=rand_state)\n",
    "    # Create the random forest model\n",
    "    rf_rand = RandomForestClassifier(random_state=SEED, **BEST_PARAMS)\n",
    "    # Fit the random forest to the training data\n",
    "    rf_rand.fit(X_train, y_train)\n",
    "    rand_pred = rf_rand.predict(X_test)\n",
    "    return accuracy_score(y_test, rand_pred)"
   ]
  },
  {
   "cell_type": "code",
   "execution_count": null,
   "metadata": {
    "collapsed": false,
    "jupyter": {
     "outputs_hidden": false
    },
    "pycharm": {
     "name": "#%%\n"
    }
   },
   "outputs": [],
   "source": [
    "with Parallel(n_jobs=-1, verbose=5) as parallel:\n",
    "    accs = parallel(delayed(permute_model)(state) for state in range(vutils.N_BOOT))"
   ]
  },
  {
   "cell_type": "code",
   "execution_count": null,
   "metadata": {
    "collapsed": false,
    "jupyter": {
     "outputs_hidden": false
    },
    "pycharm": {
     "name": "#%%\n"
    }
   },
   "outputs": [],
   "source": [
    "np.std(accs)"
   ]
  },
  {
   "cell_type": "code",
   "execution_count": null,
   "metadata": {
    "collapsed": false,
    "jupyter": {
     "outputs_hidden": false
    },
    "pycharm": {
     "name": "#%%\n"
    }
   },
   "outputs": [],
   "source": [
    "HistPlotFirstLastP(accs, min_acc, max_acc).create_plot()\n",
    "plt.show()"
   ]
  },
  {
   "cell_type": "markdown",
   "metadata": {
    "collapsed": false,
    "jupyter": {
     "outputs_hidden": false
    },
    "pycharm": {
     "name": "#%% md\n"
    }
   },
   "source": [
    "## Regressions of age vs strongest predictors"
   ]
  },
  {
   "cell_type": "code",
   "execution_count": null,
   "metadata": {
    "collapsed": false,
    "jupyter": {
     "outputs_hidden": false
    },
    "pycharm": {
     "name": "#%%\n"
    }
   },
   "outputs": [],
   "source": [
    "clean['recording_year_'] = clean['recording_year'].astype(int)\n",
    "clean['career_progress'] = clean.groupby('pianist')['recording_year_'].transform(lambda g: g - g.min())\n",
    "clean['career_progress'] /= clean['career_progress'].max()\n",
    "clean['jazz_progress'] = clean['recording_year_'] - clean['recording_year_'].min()\n",
    "clean['jazz_progress'] /= clean['jazz_progress'].max()"
   ]
  },
  {
   "cell_type": "code",
   "execution_count": null,
   "metadata": {
    "collapsed": false,
    "jupyter": {
     "outputs_hidden": false
    },
    "pycharm": {
     "name": "#%%\n"
    }
   },
   "outputs": [],
   "source": [
    "import warnings\n",
    "from statsmodels.tools.sm_exceptions import ConvergenceWarning\n",
    "warnings.simplefilter('ignore', ConvergenceWarning)\n",
    "\n",
    "predictors = ['drums_prop_async_nanmean', 'tempo_slope', 'bur_log_mean', 'n_onsets_mean', 'coupling_piano_drums']\n",
    "conr = []\n",
    "marr = []\n",
    "for predict in predictors:\n",
    "    vars_ = [predict, 'pianist', 'career_progress', 'jazz_progress']\n",
    "    data = clean.copy(deep=True)\n",
    "    data[predict] = data[predict].fillna(data[predict].mean())\n",
    "    md = smf.mixedlm(f'{predict}~career_progress', groups=data['pianist'], data=data, re_formula='~career_progress').fit(method=['lbfgs'])\n",
    "    print(md.summary())\n",
    "    # Variance explained by the fixed effects: we need to use md.predict() with the underlying data to get this\n",
    "    var_fixed = md.predict().var()\n",
    "    # Variance explained by the random effects\n",
    "    var_random = float(md.cov_re.to_numpy().mean())\n",
    "    # Variance of the residuals\n",
    "    var_resid = md.scale\n",
    "    # Total variance of the model\n",
    "    total_var = var_fixed + var_random + var_resid\n",
    "    # Calculate the r2 values and append to the model\n",
    "    conr.append((var_fixed + var_random) / total_var)\n",
    "    marr.append(var_fixed / total_var)\n",
    "print('mean conditional r2', np.mean(conr) * 100, 'stdev', np.std(conr) * 100)\n",
    "print('mean marginal r2', np.mean(marr) * 100, 'stdev', np.std(marr) * 100)"
   ]
  },
  {
   "cell_type": "code",
   "execution_count": null,
   "metadata": {
    "collapsed": false,
    "jupyter": {
     "outputs_hidden": false
    },
    "pycharm": {
     "name": "#%%\n"
    }
   },
   "outputs": [],
   "source": [
    "clean.groupby('pianist')['recording_year_'].describe()"
   ]
  },
  {
   "cell_type": "code",
   "execution_count": null,
   "metadata": {
    "collapsed": false,
    "jupyter": {
     "outputs_hidden": false
    },
    "pycharm": {
     "name": "#%%\n"
    }
   },
   "outputs": [],
   "source": [
    "import seaborn as sns\n",
    "class RegPlotCareerJazzProgress(vutils.BasePlot):\n",
    "    predictors = ['drums_prop_async_nanmean', 'tempo_slope', 'bur_log_mean', 'n_onsets_mean', 'coupling_piano_drums']\n",
    "    palette = sns.color_palette('tab10')\n",
    "    palette = [palette[2], palette[4], palette[0], palette[1],   palette[3]]\n",
    "    markers = ['o', 's', 'D', '^', 'p']\n",
    "    categories = ['Feel', 'Tempo', 'Swing', 'Complexity', 'Interaction']\n",
    "    REG_KWS = dict(color=vutils.BLACK, linewidth=vutils.LINEWIDTH * 2, ls=vutils.LINESTYLE)\n",
    "    xspace = np.linspace(0, 1, 100)\n",
    "    N_JOBS = -1\n",
    "\n",
    "    def __init__(self, model_df, cat_mapping, **kwargs):\n",
    "        self.corpus_title = 'corpus_chronology'\n",
    "        self.cat_mapping = cat_mapping\n",
    "        self.df = model_df.copy(deep=True)\n",
    "        super().__init__(\n",
    "            figure_title=fr'random_forest_plots\\regplot_careerjazzprogress_{self.corpus_title}', **kwargs\n",
    "        )\n",
    "        self.fig, self.ax = plt.subplots(\n",
    "            nrows=2, ncols=3, figsize=(vutils.WIDTH, vutils.WIDTH / 2), sharex=True, sharey=False\n",
    "        )\n",
    "        self.ax.flatten()[-1].axis('off')\n",
    "\n",
    "    def get_line(self, model, mean):\n",
    "        params = model.params\n",
    "        intercept = params['Intercept']\n",
    "        jp = params['jazz_progress'] * mean\n",
    "        return [intercept + jp + (i * params['career_progress']) for i in self.xspace]\n",
    "\n",
    "    @staticmethod\n",
    "    def fit_model(data_, predict_):\n",
    "        return (\n",
    "            smf.mixedlm(\n",
    "                f'{predict_}~career_progress+jazz_progress',\n",
    "                groups=data_['pianist'],\n",
    "                data=data_,\n",
    "                re_formula='~jazz_progress'\n",
    "            ).fit(method=['lbfgs'])\n",
    "        )\n",
    "\n",
    "    def bootstrap(self, data_, predict_) -> pd.DataFrame:\n",
    "        def shuffle_data_and_fit(state):\n",
    "            samp = data_.sample(frac=1, replace=True, random_state=state)\n",
    "            mode = self.fit_model(samp, predict_)\n",
    "            return pd.Series(self.get_line(mode, np.mean(samp['jazz_progress'])))\n",
    "\n",
    "        with Parallel(n_jobs=self.N_JOBS, verbose=3) as par:\n",
    "            boots = par(delayed(shuffle_data_and_fit)(num) for num in range(vutils.N_BOOT))\n",
    "        boot_ys = pd.concat(boots, axis=1)\n",
    "        low = boot_ys.apply(lambda r: np.percentile(r, 2.5), axis=1)\n",
    "        high = boot_ys.apply(lambda r: np.percentile(r, 97.5), axis=1)\n",
    "        return pd.DataFrame(dict(x=self.xspace, low=low, high=high))\n",
    "\n",
    "    def _create_plot(self):\n",
    "        for ax, predict, col, mark in zip(self.ax.flatten(), self.predictors, self.palette, self.markers):\n",
    "            data = self.df.copy(deep=True)\n",
    "            data[predict] = data[predict].fillna(data[predict].mean())\n",
    "            md = self.fit_model(data, predict)\n",
    "            sns.scatterplot(\n",
    "                data=data, x='career_progress', y=predict, label=self.cat_mapping[predict],\n",
    "                ax=ax, color=col, marker=mark, s=100, alpha=vutils.ALPHA\n",
    "            )\n",
    "            results_y = pd.DataFrame(self.get_line(md, np.mean(data['jazz_progress'])))\n",
    "            ax.plot(self.xspace, results_y, **self.REG_KWS)\n",
    "            boot_df = self.bootstrap(data, predict)\n",
    "            ax.fill_between(boot_df['x'], boot_df['low'], boot_df['high'], color=vutils.BLACK, alpha=vutils.ALPHA)\n",
    "\n",
    "    def _format_ax(self):\n",
    "        leg, hand = [], []\n",
    "        for a, tit, col in zip(self.ax.flatten(), self.categories, self.palette):\n",
    "            l, h = a.get_legend_handles_labels()\n",
    "            leg.extend(l)\n",
    "            hand.extend(h)\n",
    "            a.get_legend().remove()\n",
    "            a.grid(axis='x', which='major', **vutils.GRID_KWS)\n",
    "            a.set_title(tit, color=col)\n",
    "            a.set_ylabel(COL_MAPPING[a.get_ylabel()], color=col)\n",
    "            a.set(xlabel='', xlim=(-0.05, 1.05))\n",
    "            plt.setp(a.spines.values(), linewidth=vutils.LINEWIDTH)\n",
    "            a.tick_params(axis='both', bottom=True, width=vutils.TICKWIDTH)\n",
    "        self.fig.legend(\n",
    "            leg, hand, loc='lower right', title='Category', frameon=True,\n",
    "            framealpha=1, edgecolor=vutils.BLACK, bbox_to_anchor=(0.9, 0.15)\n",
    "        )\n",
    "\n",
    "    def _format_fig(self):\n",
    "        self.fig.supxlabel('Career progress')\n",
    "        self.fig.subplots_adjust(left=0.07, right=0.99, bottom=0.1, top=0.95, wspace=0.25)"
   ]
  },
  {
   "cell_type": "code",
   "execution_count": null,
   "metadata": {
    "collapsed": false,
    "jupyter": {
     "outputs_hidden": false
    },
    "pycharm": {
     "name": "#%%\n"
    }
   },
   "outputs": [],
   "source": [
    "RegPlotCareerJazzProgress(clean, CATEGORY_MAPPING).create_plot()\n",
    "plt.show()"
   ]
  },
  {
   "cell_type": "markdown",
   "metadata": {
    "collapsed": false,
    "jupyter": {
     "outputs_hidden": false
    },
    "pycharm": {
     "name": "#%% md\n"
    }
   },
   "source": [
    "## Binary logistic regression of two clusters -- impressionistic vs blues"
   ]
  },
  {
   "cell_type": "code",
   "execution_count": null,
   "metadata": {
    "collapsed": false,
    "jupyter": {
     "outputs_hidden": false
    },
    "pycharm": {
     "name": "#%%\n"
    }
   },
   "outputs": [],
   "source": [
    "impression = ['Bill Evans', 'Bud Powell', 'John Hicks', 'Keith Jarrett', 'Tommy Flanagan']\n",
    "bop = ['Ahmad Jamal', 'Junior Mance', 'Kenny Barron', 'McCoy Tyner', 'Oscar Peterson']"
   ]
  },
  {
   "cell_type": "code",
   "execution_count": null,
   "metadata": {
    "collapsed": false,
    "jupyter": {
     "outputs_hidden": false
    },
    "pycharm": {
     "name": "#%%\n"
    }
   },
   "outputs": [],
   "source": [
    "clean.loc[clean['pianist'].isin(impression), 'cluster'] = 0\n",
    "clean.loc[clean['pianist'].isin(bop), 'cluster'] = 1"
   ]
  },
  {
   "cell_type": "code",
   "execution_count": null,
   "metadata": {
    "collapsed": false,
    "jupyter": {
     "outputs_hidden": false
    },
    "pycharm": {
     "name": "#%%\n"
    }
   },
   "outputs": [],
   "source": [
    "X = clean[reversed([\n",
    "    'bass_prop_async_nanmean',\n",
    "    'bass_prop_async_nanstd',\n",
    "    'drums_prop_async_nanmean',\n",
    "    'drums_prop_async_nanstd',\n",
    "    'tempo',\n",
    "    'tempo_slope',\n",
    "    'rolling_std_median',\n",
    "    'bur_log_mean',\n",
    "    'bur_log_std',\n",
    "    'n_onsets_mean',\n",
    "    'n_onsets_std',\n",
    "    'lz77_mean',\n",
    "    'lz77_std',\n",
    "    'self_coupling',\n",
    "    'coupling_bass',\n",
    "    'coupling_drums',\n",
    "    'coupling_piano_bass',\n",
    "    'coupling_piano_drums'\n",
    "])]\n",
    "X = X.fillna(X.mean()).apply(stats.zscore)\n",
    "X = sm.add_constant(X)\n",
    "y = clean['cluster'].astype(int)"
   ]
  },
  {
   "cell_type": "code",
   "execution_count": null,
   "metadata": {
    "collapsed": false,
    "jupyter": {
     "outputs_hidden": false
    },
    "pycharm": {
     "name": "#%%\n"
    }
   },
   "outputs": [],
   "source": [
    "pd.Series([variance_inflation_factor(X.values, i) for i in range(X.shape[1])], index=X.columns)"
   ]
  },
  {
   "cell_type": "code",
   "execution_count": null,
   "metadata": {
    "collapsed": false,
    "jupyter": {
     "outputs_hidden": false
    },
    "pycharm": {
     "name": "#%%\n"
    }
   },
   "outputs": [],
   "source": [
    "md = sm.Logit(y, X).fit()\n",
    "print(md.summary())"
   ]
  },
  {
   "cell_type": "code",
   "execution_count": null,
   "metadata": {
    "collapsed": false,
    "jupyter": {
     "outputs_hidden": false
    },
    "pycharm": {
     "name": "#%%\n"
    }
   },
   "outputs": [],
   "source": [
    "y_pred = md.predict(X)\n",
    "print(accuracy_score(y, y_pred.round().astype(int)))\n",
    "print(roc_auc_score(y, y_pred))\n",
    "print(roc_auc_score(y, np.random.choice([0, 1], 300)))"
   ]
  },
  {
   "cell_type": "code",
   "execution_count": null,
   "metadata": {
    "collapsed": false,
    "jupyter": {
     "outputs_hidden": false
    },
    "pycharm": {
     "name": "#%%\n"
    }
   },
   "outputs": [],
   "source": [
    "RocPlotLogRegression(y, y_pred).create_plot()\n",
    "plt.show()"
   ]
  },
  {
   "cell_type": "code",
   "execution_count": null,
   "metadata": {
    "collapsed": false,
    "jupyter": {
     "outputs_hidden": false
    },
    "pycharm": {
     "name": "#%%\n"
    }
   },
   "outputs": [],
   "source": [
    "params = pd.concat([md.params.rename('coeff'), md.conf_int().rename(columns={0: 'low', 1: 'high'})], axis=1).apply(np.exp).reset_index(drop=False)[1:]\n",
    "# params['low'] = params['coeff'] - params['low']\n",
    "# params['high'] -= params['coeff']\n",
    "params['category'] = params['index'].map(CATEGORY_MAPPING)"
   ]
  },
  {
   "cell_type": "code",
   "execution_count": null,
   "metadata": {
    "collapsed": false,
    "jupyter": {
     "outputs_hidden": false
    },
    "pycharm": {
     "name": "#%%\n"
    }
   },
   "outputs": [],
   "source": [
    "params"
   ]
  },
  {
   "cell_type": "code",
   "execution_count": null,
   "metadata": {
    "collapsed": false,
    "jupyter": {
     "outputs_hidden": false
    },
    "pycharm": {
     "name": "#%%\n"
    }
   },
   "outputs": [],
   "source": [
    "StripPlotLogitCoeffs(md, category_mapping=CATEGORY_MAPPING).create_plot()\n",
    "plt.show()"
   ]
  }
 ],
 "metadata": {
  "kernelspec": {
   "display_name": "Python 3 (ipykernel)",
   "language": "python",
   "name": "python3"
  },
  "language_info": {
   "codemirror_mode": {
    "name": "ipython",
    "version": 3
   },
   "file_extension": ".py",
   "mimetype": "text/x-python",
   "name": "python",
   "nbconvert_exporter": "python",
   "pygments_lexer": "ipython3",
   "version": "3.10.12"
  }
 },
 "nbformat": 4,
 "nbformat_minor": 4
}
