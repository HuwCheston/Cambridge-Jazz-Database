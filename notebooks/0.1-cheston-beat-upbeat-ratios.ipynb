{
 "cells": [
  {
   "cell_type": "markdown",
   "source": [
    "# Beat-Upbeat Ratio Distributions"
   ],
   "metadata": {
    "collapsed": false,
    "pycharm": {
     "name": "#%% md\n"
    }
   }
  },
  {
   "cell_type": "markdown",
   "source": [
    "## Import dependencies, set constants etc."
   ],
   "metadata": {
    "collapsed": false,
    "pycharm": {
     "name": "#%% md\n"
    }
   }
  },
  {
   "cell_type": "code",
   "execution_count": null,
   "outputs": [],
   "source": [
    "import warnings\n",
    "\n",
    "import matplotlib.pyplot as plt\n",
    "import matplotlib as mpl\n",
    "import numpy as np\n",
    "import pandas as pd\n",
    "import seaborn as sns\n",
    "import scipy.stats as stats\n",
    "import scipy.signal as signal\n",
    "import statsmodels.formula.api as smf\n",
    "from sklearn.mixture import GaussianMixture\n",
    "from statsmodels.tools.sm_exceptions import ConvergenceWarning\n",
    "\n",
    "from src import utils\n",
    "import src.visualise.visualise_utils as vutils\n",
    "from src.visualise.bur_plots import *\n",
    "from src.features.features_utils import FeatureExtractor"
   ],
   "metadata": {
    "collapsed": false,
    "pycharm": {
     "name": "#%%\n",
     "is_executing": true
    }
   }
  },
  {
   "cell_type": "code",
   "execution_count": 2,
   "outputs": [],
   "source": [
    "# These variables are used for the optimization process\n",
    "SEED = 42\n",
    "N_FOLDS = 5\n",
    "N_JOBS = -1\n",
    "N_BOOT = 999"
   ],
   "metadata": {
    "collapsed": false,
    "pycharm": {
     "name": "#%%\n"
    }
   }
  },
  {
   "cell_type": "code",
   "execution_count": 3,
   "outputs": [],
   "source": [
    "# Upper and lower bounds to use when thresholding BURs\n",
    "BUR_UPPER = 4.0\n",
    "BUR_LOWER = 0.25"
   ],
   "metadata": {
    "collapsed": false,
    "pycharm": {
     "name": "#%%\n"
    }
   }
  },
  {
   "cell_type": "code",
   "execution_count": 4,
   "outputs": [],
   "source": [
    "# Set the seed in NumPy for consistent results across function calls\n",
    "np.random.seed(SEED)"
   ],
   "metadata": {
    "collapsed": false,
    "pycharm": {
     "name": "#%%\n"
    }
   }
  },
  {
   "cell_type": "markdown",
   "source": [
    "## Load in data\n",
    "We start by loading in the data we extracted from our `corpus_chronology` in `src\\features\\extract_features.py`. This gives us a list of `FeatureExtractor` classes (defined in `src\\features\\features_utils.py`)."
   ],
   "metadata": {
    "collapsed": false,
    "pycharm": {
     "name": "#%% md\n"
    }
   }
  },
  {
   "cell_type": "code",
   "execution_count": 5,
   "outputs": [],
   "source": [
    "features: list[FeatureExtractor] = utils.unserialise_object(fr'{utils.get_project_root()}\\models\\extracted_features_corpus_chronology')"
   ],
   "metadata": {
    "collapsed": false,
    "pycharm": {
     "name": "#%%\n"
    }
   }
  },
  {
   "cell_type": "code",
   "execution_count": 6,
   "outputs": [],
   "source": [
    "res = []\n",
    "# Iterate through each track\n",
    "for track in features:\n",
    "    # Iterate through each instrument\n",
    "    for instr in utils.INSTRUMENTS_TO_PERFORMER_ROLES.keys():\n",
    "        # Iterate through each BUR by that instrument\n",
    "        for bur in track.BURs[instr].bur['burs'].dropna().to_list():\n",
    "            # Append a new dictionary\n",
    "            res.append(dict(mbz_id=track.metadata[instr]['mbz_id'], bur=np.log2(bur), instrument=instr, tempo=track.metadata[instr]['tempo'], bandleader=track.metadata[instr]['pianist']))\n",
    "burs = pd.DataFrame(res)"
   ],
   "metadata": {
    "collapsed": false,
    "pycharm": {
     "name": "#%%\n"
    }
   }
  },
  {
   "cell_type": "markdown",
   "source": [
    "## Clean data\n",
    "We drop BUR values lower than 0.25 and higher than 4 (see Corcoran & Frieler, 2021)"
   ],
   "metadata": {
    "collapsed": false,
    "pycharm": {
     "name": "#%% md\n"
    }
   }
  },
  {
   "cell_type": "code",
   "execution_count": 7,
   "outputs": [],
   "source": [
    "burs = burs[(burs['bur'] > np.log2(BUR_LOWER)) & (burs['bur'] < np.log2(BUR_UPPER))]"
   ],
   "metadata": {
    "collapsed": false,
    "pycharm": {
     "name": "#%%\n"
    }
   }
  },
  {
   "cell_type": "code",
   "execution_count": 8,
   "outputs": [
    {
     "data": {
      "text/plain": "instrument\nbass     0.056211\ndrums    0.721039\npiano    0.268612\nName: bur, dtype: float64"
     },
     "execution_count": 8,
     "metadata": {},
     "output_type": "execute_result"
    }
   ],
   "source": [
    "burs.groupby('instrument')['bur'].mean()"
   ],
   "metadata": {
    "collapsed": false,
    "pycharm": {
     "name": "#%%\n"
    }
   }
  },
  {
   "cell_type": "markdown",
   "source": [
    "Now we order our dataframe so that the instruments are in the correct order (piano -> bass -> drums)"
   ],
   "metadata": {
    "collapsed": false,
    "pycharm": {
     "name": "#%% md\n"
    }
   }
  },
  {
   "cell_type": "code",
   "execution_count": 9,
   "outputs": [],
   "source": [
    "burs = (\n",
    "    burs.set_index('instrument')\n",
    "    .loc[utils.INSTRUMENTS_TO_PERFORMER_ROLES.keys()]\n",
    "    .reset_index(drop=False)\n",
    ")"
   ],
   "metadata": {
    "collapsed": false,
    "pycharm": {
     "name": "#%%\n"
    }
   }
  },
  {
   "cell_type": "markdown",
   "source": [
    "## Plot the average BUR per instrument"
   ],
   "metadata": {
    "collapsed": false,
    "pycharm": {
     "name": "#%% md\n"
    }
   }
  },
  {
   "cell_type": "code",
   "execution_count": null,
   "outputs": [],
   "source": [
    "BarPlotBUR(burs).create_plot()\n",
    "plt.show()"
   ],
   "metadata": {
    "collapsed": false,
    "pycharm": {
     "name": "#%%\n",
     "is_executing": true
    }
   }
  },
  {
   "cell_type": "markdown",
   "source": [
    "## Compute the KDE and extract peaks"
   ],
   "metadata": {
    "collapsed": false,
    "pycharm": {
     "name": "#%% md\n"
    }
   }
  },
  {
   "cell_type": "code",
   "execution_count": 11,
   "outputs": [],
   "source": [
    "def get_peaks(data, len_data: int = 1000, **kwargs) -> np.ndarray:\n",
    "    \"\"\"Fits a kernel-density estimate to BUR data and extracts BUR peaks\"\"\"\n",
    "    # Fit the actual KDE to the data, using the default parameters\n",
    "    kde = stats.gaussian_kde(data.T, bw_method='silverman')\n",
    "    # Create a linear space of integers ranging from our lowest to our highest BUR\n",
    "    data_plot = np.linspace(data.min(), data.max(), len_data)[:, np.newaxis]\n",
    "    # Evaluate the KDE on our linear space of integers\n",
    "    kde_eval = kde.evaluate(data_plot.T)\n",
    "    # Find the peaks from our fitted KDE\n",
    "    peaks, _ = signal.find_peaks(kde_eval, **kwargs)\n",
    "    # Return the sorted peaks from our KDE: this will be an array of BUR values\n",
    "    return np.sort(data_plot[peaks].flatten())"
   ],
   "metadata": {
    "collapsed": false,
    "pycharm": {
     "name": "#%%\n"
    }
   }
  },
  {
   "cell_type": "code",
   "execution_count": 12,
   "outputs": [],
   "source": [
    "def bootstrap_peaks(data: np.array, actual_peaks: np.array, tol: float = 0.5) -> dict:\n",
    "    \"\"\"Bootstrap confidence intervals for an array of peaks\"\"\"\n",
    "    # We create a dictionary with lists for storing our bootstrapped peaks\n",
    "    boot_res = {pe: [] for pe in actual_peaks}\n",
    "    # We perform a few operations here, so we don't have to re-do them every loop\n",
    "    size = len(data)\n",
    "    data = data.flatten()\n",
    "    # For every bootstrapped sample\n",
    "    for i_ in range(1):\n",
    "        print(i_)\n",
    "        # Set the random seed\n",
    "        np.random.seed(i_)\n",
    "        # Take a random sample of our BURs, with replacement, and reshape\n",
    "        boot = np.random.choice(data, replace=True, size=size).reshape(-1, 1)\n",
    "        # Get the peaks for our bootstrapped sample\n",
    "        boot_peaks = set(get_peaks(boot))\n",
    "        # Iterate through the actual peaks of our BURs\n",
    "        for peak in actual_peaks:\n",
    "            # Try and find the closest value in our bootstrapped set\n",
    "            try:\n",
    "                closest_peak = min(boot_peaks, key=lambda x: abs(x - peak))\n",
    "            # If we've run out of bootstrapped peaks, break out and finish this sample early\n",
    "            except ValueError:\n",
    "                break\n",
    "            else:\n",
    "                # If the distance between our actual peak and the nearest bootstrapped peak exceeds our threshold\n",
    "                if abs(closest_peak - peak) > tol:\n",
    "                    # Then continue on to the next actual peak, without matching\n",
    "                    continue\n",
    "                else:\n",
    "                    # Otherwise, match our actual peak with this closest peak and remove it from the set\n",
    "                    boot_res[peak].append(closest_peak)\n",
    "                    boot_peaks.remove(closest_peak)\n",
    "    # Return a dictionary with\n",
    "    return {k: [np.nanpercentile(v, 5), np.nanpercentile(v, 95)] for k, v in boot_res.items()}"
   ],
   "metadata": {
    "collapsed": false,
    "pycharm": {
     "name": "#%%\n"
    }
   }
  },
  {
   "cell_type": "code",
   "execution_count": 13,
   "outputs": [
    {
     "name": "stdout",
     "output_type": "stream",
     "text": [
      "0\n",
      "0\n",
      "0\n"
     ]
    }
   ],
   "source": [
    "res_ = []\n",
    "for instr, grp in burs.groupby('instrument', sort=False):\n",
    "    X = grp['bur'].to_numpy().reshape(-1, 1)\n",
    "    grp_peaks = get_peaks(X)\n",
    "    ci_peaks = bootstrap_peaks(X, grp_peaks)\n",
    "    for num, (actual, (low, high)) in enumerate(ci_peaks.items()):\n",
    "        res_.append(dict(\n",
    "            instrument=instr,\n",
    "            peak_num=num,\n",
    "            peak=actual,\n",
    "            low=low,\n",
    "            high=high\n",
    "        ))\n",
    "peaks_df = pd.DataFrame(res_)"
   ],
   "metadata": {
    "collapsed": false,
    "pycharm": {
     "name": "#%%\n"
    }
   }
  },
  {
   "cell_type": "code",
   "execution_count": 14,
   "outputs": [
    {
     "data": {
      "text/plain": "  instrument  peak_num      peak       low      high  raw_peak\n0      piano         0  0.334334  0.310310  0.310310  1.260796\n1       bass         0  0.010515  0.018505  0.018505  1.007315\n2       bass         1  1.081162  1.065182  1.065182  2.115739\n3      drums         0 -0.678679 -0.678679 -0.678679  0.624737\n4      drums         1  1.163163  1.167167  1.167167  2.239479",
      "text/html": "<div>\n<style scoped>\n    .dataframe tbody tr th:only-of-type {\n        vertical-align: middle;\n    }\n\n    .dataframe tbody tr th {\n        vertical-align: top;\n    }\n\n    .dataframe thead th {\n        text-align: right;\n    }\n</style>\n<table border=\"1\" class=\"dataframe\">\n  <thead>\n    <tr style=\"text-align: right;\">\n      <th></th>\n      <th>instrument</th>\n      <th>peak_num</th>\n      <th>peak</th>\n      <th>low</th>\n      <th>high</th>\n      <th>raw_peak</th>\n    </tr>\n  </thead>\n  <tbody>\n    <tr>\n      <th>0</th>\n      <td>piano</td>\n      <td>0</td>\n      <td>0.334334</td>\n      <td>0.310310</td>\n      <td>0.310310</td>\n      <td>1.260796</td>\n    </tr>\n    <tr>\n      <th>1</th>\n      <td>bass</td>\n      <td>0</td>\n      <td>0.010515</td>\n      <td>0.018505</td>\n      <td>0.018505</td>\n      <td>1.007315</td>\n    </tr>\n    <tr>\n      <th>2</th>\n      <td>bass</td>\n      <td>1</td>\n      <td>1.081162</td>\n      <td>1.065182</td>\n      <td>1.065182</td>\n      <td>2.115739</td>\n    </tr>\n    <tr>\n      <th>3</th>\n      <td>drums</td>\n      <td>0</td>\n      <td>-0.678679</td>\n      <td>-0.678679</td>\n      <td>-0.678679</td>\n      <td>0.624737</td>\n    </tr>\n    <tr>\n      <th>4</th>\n      <td>drums</td>\n      <td>1</td>\n      <td>1.163163</td>\n      <td>1.167167</td>\n      <td>1.167167</td>\n      <td>2.239479</td>\n    </tr>\n  </tbody>\n</table>\n</div>"
     },
     "execution_count": 14,
     "metadata": {},
     "output_type": "execute_result"
    }
   ],
   "source": [
    "peaks_df['raw_peak'] = 2 ** peaks_df['peak']\n",
    "peaks_df"
   ],
   "metadata": {
    "collapsed": false,
    "pycharm": {
     "name": "#%%\n"
    }
   }
  },
  {
   "cell_type": "markdown",
   "source": [
    "## Plot the BUR distribution with density curve and peaks"
   ],
   "metadata": {
    "collapsed": false,
    "pycharm": {
     "name": "#%% md\n"
    }
   }
  },
  {
   "cell_type": "code",
   "execution_count": null,
   "outputs": [],
   "source": [
    "HistPlotBURByInstrument(burs, peaks_df).create_plot()\n",
    "plt.show()"
   ],
   "metadata": {
    "collapsed": false,
    "pycharm": {
     "name": "#%%\n",
     "is_executing": true
    }
   }
  },
  {
   "cell_type": "markdown",
   "source": [
    "## Create GMMs using given number of components"
   ],
   "metadata": {
    "collapsed": false,
    "pycharm": {
     "name": "#%% md\n"
    }
   }
  },
  {
   "cell_type": "code",
   "execution_count": 16,
   "outputs": [
    {
     "name": "stdout",
     "output_type": "stream",
     "text": [
      "[-0.34517166  1.04498657] [0.01051499 1.08116154] [0.71126845 0.28873155]\n",
      "[-0.42768708  1.03950669] [-0.67867868  1.16316316] [0.21705932 0.78294068]\n"
     ]
    }
   ],
   "source": [
    "for instr in ['bass', 'drums']:\n",
    "    data = peaks_df[peaks_df['instrument'] == instr]\n",
    "    peaks = data['peak'].to_numpy().reshape(-1, 1)\n",
    "    n_components = len(data)\n",
    "    gm = GaussianMixture(\n",
    "        random_state=42,\n",
    "        n_components=n_components,\n",
    "        means_init=peaks\n",
    "    )\n",
    "    gm.fit(burs[burs['instrument'] == instr]['bur'].to_numpy().reshape(-1, 1))\n",
    "    means = gm.means_.flatten()\n",
    "    means_init = gm.means_init.flatten()\n",
    "    weights = gm.weights_\n",
    "    print(gm.means_.flatten(), means_init, weights)"
   ],
   "metadata": {
    "collapsed": false,
    "pycharm": {
     "name": "#%%\n"
    }
   }
  },
  {
   "cell_type": "markdown",
   "source": [
    "## Model average tempo vs BUR"
   ],
   "metadata": {
    "collapsed": false,
    "pycharm": {
     "name": "#%% md\n"
    }
   }
  },
  {
   "cell_type": "code",
   "execution_count": null,
   "outputs": [],
   "source": [
    "average = burs.groupby(['instrument', 'mbz_id']).agg(dict(bur=['mean', 'count'], tempo='median', bandleader='first')).reset_index(drop=False)\n",
    "average.columns = ['_'.join(col).strip() for col in average.columns.values]\n",
    "average = average[average['bur_count'] > 15]\n",
    "average['tempo_standard'] = (average['tempo_median'] - average['tempo_median'].mean()) / average['tempo_median'].std()"
   ],
   "metadata": {
    "collapsed": false,
    "pycharm": {
     "name": "#%%\n",
     "is_executing": true
    }
   }
  },
  {
   "cell_type": "code",
   "execution_count": 109,
   "outputs": [
    {
     "name": "stdout",
     "output_type": "stream",
     "text": [
      "                                                         Mixed Linear Model Regression Results\n",
      "========================================================================================================================================================\n",
      "Model:                                             MixedLM                                 Dependent Variable:                                 bur_mean \n",
      "No. Observations:                                  751                                     Method:                                             REML     \n",
      "No. Groups:                                        10                                      Scale:                                              0.0693   \n",
      "Min. group size:                                   68                                      Log-Likelihood:                                     -100.8164\n",
      "Max. group size:                                   81                                      Converged:                                          Yes      \n",
      "Mean group size:                                   75.1                                                                                                 \n",
      "--------------------------------------------------------------------------------------------------------------------------------------------------------\n",
      "                                                                                                              Coef.  Std.Err.   z    P>|z| [0.025 0.975]\n",
      "--------------------------------------------------------------------------------------------------------------------------------------------------------\n",
      "Intercept                                                                                                      0.286    0.032  8.900 0.000  0.223  0.349\n",
      "C(instrument_, Treatment(reference='piano'))[T.bass]                                                          -0.258    0.062 -4.188 0.000 -0.379 -0.137\n",
      "C(instrument_, Treatment(reference='piano'))[T.drums]                                                          0.466    0.038 12.366 0.000  0.392  0.539\n",
      "tempo_standard                                                                                                -0.071    0.020 -3.593 0.000 -0.110 -0.032\n",
      "tempo_standard:C(instrument_, Treatment(reference='piano'))[T.bass]                                           -0.095    0.030 -3.163 0.002 -0.153 -0.036\n",
      "tempo_standard:C(instrument_, Treatment(reference='piano'))[T.drums]                                          -0.166    0.022 -7.631 0.000 -0.208 -0.123\n",
      "C(instrument_, Treatment(reference='piano'))[bass] Var                                                         0.022    0.045                           \n",
      "C(instrument_, Treatment(reference='piano'))[bass] x C(instrument_, Treatment(reference='piano'))[drums] Cov   0.008    0.026                           \n",
      "C(instrument_, Treatment(reference='piano'))[drums] Var                                                        0.013    0.026                           \n",
      "C(instrument_, Treatment(reference='piano'))[bass] x C(instrument_, Treatment(reference='piano'))[piano] Cov  -0.000    0.021                           \n",
      "C(instrument_, Treatment(reference='piano'))[drums] x C(instrument_, Treatment(reference='piano'))[piano] Cov  0.006    0.017                           \n",
      "C(instrument_, Treatment(reference='piano'))[piano] Var                                                        0.008    0.019                           \n",
      "C(instrument_, Treatment(reference='piano'))[bass] x tempo_standard Cov                                       -0.001    0.012                           \n",
      "C(instrument_, Treatment(reference='piano'))[drums] x tempo_standard Cov                                      -0.002    0.009                           \n",
      "C(instrument_, Treatment(reference='piano'))[piano] x tempo_standard Cov                                      -0.003    0.006                           \n",
      "tempo_standard Var                                                                                             0.001    0.003                           \n",
      "========================================================================================================================================================\n",
      "\n"
     ]
    }
   ],
   "source": [
    "md = smf.mixedlm(\n",
    "    \"bur_mean~tempo_standard*C(instrument_, Treatment(reference='piano'))\",\n",
    "    data=average,\n",
    "    groups=average['bandleader_first'],\n",
    "    re_formula=\"0 + tempo_standard + C(instrument_, Treatment(reference='piano'))\"\n",
    ").fit()\n",
    "print(md.summary())"
   ],
   "metadata": {
    "collapsed": false,
    "pycharm": {
     "name": "#%%\n"
    }
   }
  },
  {
   "cell_type": "code",
   "execution_count": 110,
   "outputs": [
    {
     "name": "stdout",
     "output_type": "stream",
     "text": [
      "conditional_r2: 0.6069052210554511\n",
      "marginal_r2: 0.5860129491841163\n"
     ]
    }
   ],
   "source": [
    "# Variance explained by the fixed effects: we need to use md.predict() with the underlying data to get this\n",
    "var_fixed = md.predict().var()\n",
    "# Variance explained by the random effects\n",
    "var_random = float(md.cov_re.to_numpy().mean())\n",
    "# Variance of the residuals\n",
    "var_resid = md.scale\n",
    "# Total variance of the model\n",
    "total_var = var_fixed + var_random + var_resid\n",
    "# Calculate the r2 values and append to the model\n",
    "print('conditional_r2:', (var_fixed + var_random) / total_var)\n",
    "print('marginal_r2:', var_fixed / total_var)"
   ],
   "metadata": {
    "collapsed": false,
    "pycharm": {
     "name": "#%%\n"
    }
   }
  },
  {
   "cell_type": "code",
   "execution_count": 111,
   "outputs": [
    {
     "name": "stdout",
     "output_type": "stream",
     "text": [
      "stdev of bandleader groups: 0.1354858567269509\n"
     ]
    }
   ],
   "source": [
    "stddev = np.std([v.iloc[0] for v in md.random_effects.values()])\n",
    "print('stdev of bandleader groups:', stddev)"
   ],
   "metadata": {
    "collapsed": false,
    "pycharm": {
     "name": "#%%\n"
    }
   }
  },
  {
   "cell_type": "markdown",
   "source": [
    "## Plot average BUR vs tempo"
   ],
   "metadata": {
    "collapsed": false,
    "pycharm": {
     "name": "#%% md\n"
    }
   }
  },
  {
   "cell_type": "code",
   "execution_count": null,
   "outputs": [],
   "source": [
    "class RegPlotBURTempo(vutils.BasePlot):\n",
    "    \"\"\"Creates a graph showing tempo vs mean BUR, with marginal distributions\"\"\"\n",
    "    # Disable convergence and user warnings here, raised when the model is created with bootstrapping\n",
    "    warnings.simplefilter('ignore', ConvergenceWarning)\n",
    "    warnings.simplefilter('ignore', UserWarning)\n",
    "    # Initial attributes for plotting\n",
    "    BURS_WITH_IMAGES = [0.5, 1, 2]\n",
    "    BUR_THRESHOLD = 15\n",
    "    N_BOOT = 100\n",
    "    BIN_MULTIPLER = 1.5\n",
    "    # These are keywords that we pass into our given plot types\n",
    "    LINE_KWS = dict(lw=vutils.LINEWIDTH * 2, ls=vutils.LINESTYLE)\n",
    "    FILL_KWS = dict(lw=0, ls=vutils.LINESTYLE, alpha=vutils.ALPHA)\n",
    "    SCATTER_KWS = dict(\n",
    "        hue_order=utils.INSTRUMENTS_TO_PERFORMER_ROLES.keys(),\n",
    "        palette=vutils.RGB, markers=['o', 's', 'D'], s=40,\n",
    "        edgecolor=vutils.BLACK, zorder=1\n",
    "    )\n",
    "    HIST_KWS = dict(\n",
    "        kde=False, color=vutils.BLACK, alpha=vutils.ALPHA,\n",
    "        lw=vutils.LINEWIDTH, ls=vutils.LINESTYLE\n",
    "    )\n",
    "    # Attributes for our model\n",
    "    MODEL = \"bur_mean ~ tempo_standard * C(instrument_, Treatment(reference='piano'))\"\n",
    "    RE_FORMULA = \"0 + tempo_standard + C(instrument_, Treatment(reference='piano'))\"\n",
    "\n",
    "    def __init__(self, bur_df: pd.DataFrame, **kwargs):\n",
    "        \"\"\"Called when initialising the class\"\"\"\n",
    "        self.corpus_title = 'corpus_chronology'\n",
    "        # Initialise the base plot with our given kwargs\n",
    "        super().__init__(figure_title=fr'bur_plots\\regplot_burtempo_{self.corpus_title}', **kwargs)\n",
    "        # Format the dataframe\n",
    "        self.average = self._format_df(bur_df)\n",
    "        # Create our initial model, using the actual data\n",
    "        self.md = self._mixedlm(self.average)\n",
    "        # Create our gridded plots\n",
    "        self.fig, self.ax = plt.subplots(\n",
    "            nrows=2, ncols=2, figsize=(vutils.WIDTH, vutils.WIDTH / 2),\n",
    "            gridspec_kw=dict(width_ratios=(11, 1), height_ratios=(1, 5)),\n",
    "        )\n",
    "        # The main ax for plotting the regression/scatter plot\n",
    "        self.main_ax = self.ax[1, 0]\n",
    "        # Marginal ax, for plotting histograms\n",
    "        self.marginal_ax = np.array([self.ax[0, 0], self.ax[1, 1]])\n",
    "        # Top right corner ax, which we can go ahead and disable\n",
    "        self.ax[0, 1].axis('off')\n",
    "\n",
    "    def _format_df(self, bur_df: pd.DataFrame) -> pd.DataFrame:\n",
    "        \"\"\"Formats the dataframe of raw BUR values\"\"\"\n",
    "        # Group by instrument and track, get the mean BUR value and number of BUR values\n",
    "        clean = (\n",
    "            bur_df.groupby(['instrument', 'mbz_id'])\n",
    "            .agg(dict(bur=['mean', 'count'], tempo='median', bandleader='first'))\n",
    "            .reset_index(drop=False)\n",
    "        )\n",
    "        # This resets the multi index and column names\n",
    "        clean.columns = ['_'.join(col).strip() for col in clean.columns.values]\n",
    "        # Drop BURs without enough values\n",
    "        clean = clean[clean['bur_count'] > self.BUR_THRESHOLD]\n",
    "        # Standardise the tempo into Z-scores and return\n",
    "        clean['tempo_standard'] = (clean['tempo_median'] - clean['tempo_median'].mean()) / clean['tempo_median'].std()\n",
    "        return clean\n",
    "\n",
    "    def add_bur_images(self, y):\n",
    "        \"\"\"Adds images for required BUR values\"\"\"\n",
    "        # Iterate through all of our BUR values\n",
    "        for x in self.BURS_WITH_IMAGES:\n",
    "            # Try and get the image of the notation type for this BUR value\n",
    "            try:\n",
    "                img = plt.imread(fr'{utils.get_project_root()}\\references\\images\\bur_notation\\bur_{x}.png')\n",
    "            except FileNotFoundError:\n",
    "                pass\n",
    "            # If we can get the image, then yield it to add to our plot\n",
    "            else:\n",
    "                yield mpl.offsetbox.AnnotationBbox(\n",
    "                    mpl.offsetbox.OffsetImage(img, clip_on=False, zoom=0.5), (y, np.log2(x)),\n",
    "                    frameon=False, xycoords='data', clip_on=False, annotation_clip=False\n",
    "                 )\n",
    "\n",
    "    def _mixedlm(self, model_data: pd.DataFrame):\n",
    "        \"\"\"Creates a mixed effects model with given parameters from a dataset\"\"\"\n",
    "        return smf.mixedlm(\n",
    "            self.MODEL, data=model_data, groups=model_data['bandleader_first'], re_formula=self.RE_FORMULA\n",
    "        ).fit()\n",
    "\n",
    "    def _get_line(self, model):\n",
    "        \"\"\"Creates data for a straight line by predicting values from a mixed effects model\"\"\"\n",
    "        # Get our intercept and tempo parameters from the model\n",
    "        intercept = model.params['Intercept']\n",
    "        tempo = model.params['tempo_standard']\n",
    "        # Get our bass parameters from the model\n",
    "        is_bass = model.params[\"C(instrument_, Treatment(reference='piano'))[T.bass]\"]\n",
    "        is_bass_tempo = model.params[\"tempo_standard:C(instrument_, Treatment(reference='piano'))[T.bass]\"]\n",
    "        # Get our drums parameters from the model\n",
    "        is_drums = model.params[\"C(instrument_, Treatment(reference='piano'))[T.drums]\"]\n",
    "        is_drums_tempo = model.params[\"tempo_standard:C(instrument_, Treatment(reference='piano'))[T.drums]\"]\n",
    "        # Get our piano parameters from the model\n",
    "        is_piano = 0\n",
    "        is_piano_tempo = 0\n",
    "        # This is the range of values we'll be iterating through, taken from the actual results\n",
    "        low_, high_ = int(np.floor(self.average['tempo_median'].min())), int(np.ceil(self.average['tempo_median'].max()))\n",
    "        mean_, std_ = np.array(range(low_, high_)).mean(), np.array(range(low_, high_)).std()\n",
    "        # Iterate through each BPM in our range\n",
    "        for bpm in range(low_, high_):\n",
    "            # Standardise the BPM (Z-score) according to the observed values\n",
    "            bpm_z = (bpm - mean_) / std_\n",
    "            tempo_coeff = tempo * bpm_z\n",
    "            # Iterate through each instrument and both coefficients\n",
    "            for instr_, coeff_, interact_ in zip(\n",
    "                utils.INSTRUMENTS_TO_PERFORMER_ROLES.keys(),\n",
    "                [is_piano, is_bass, is_drums],\n",
    "                [is_piano_tempo, is_bass_tempo, is_drums_tempo]\n",
    "            ):\n",
    "                # Construct the BUR value by following the regression equation\n",
    "                bur_ = intercept + tempo_coeff + coeff_ + (interact_ * bpm_z)\n",
    "                # Yield a dictionary of the results\n",
    "                yield dict(tempo=bpm, tempo_std=bpm_z, instr=instr_, bur=bur_)\n",
    "\n",
    "    def _format_bootstrap_lines(self, boot_models: list):\n",
    "        \"\"\"Formats data from a series of bootstrapped models into one dataframe of errors\"\"\"\n",
    "        # Get a straight line for each bootstrapped model and combine into one dataframe\n",
    "        big = pd.concat([pd.DataFrame(self._get_line(boot)) for boot in boot_models], axis=1)\n",
    "        # Iterate through each tempo value\n",
    "        for idx, row in big.iterrows():\n",
    "            sem = stats.sem(row['bur'].to_numpy())\n",
    "            # Get the standard error of the mean of the row\n",
    "            # Return a dictionary of results\n",
    "            yield dict(\n",
    "                tempo=row['tempo'].iloc[0],\n",
    "                instr=row['instr'].iloc[0],\n",
    "                sem=sem,\n",
    "                low_ci=np.percentile(row['bur'], 2.5),\n",
    "                high_ci=np.percentile(row['bur'], 97.5)\n",
    "            )\n",
    "\n",
    "    def _get_bootstrapped_sample(self):\n",
    "        \"\"\"Returns bootstrapped samples of the full dataset\"\"\"\n",
    "        def bootstrap(state: int):\n",
    "            \"\"\"Bootstrapping function\"\"\"\n",
    "            # Take a random sample of bandleaders and iterate through each\n",
    "            for _, leader in bandleaders.sample(frac=1, replace=True, random_state=state).items():\n",
    "                # Get all the data belonging to each bandleader\n",
    "                yield self.average[self.average['bandleader_first'] == leader]\n",
    "\n",
    "        # These are the names of all bandleaders\n",
    "        bandleaders = pd.Series(self.average['bandleader_first'].unique())\n",
    "        for i in range(self.N_BOOT):\n",
    "            # Print the current iteration to act as a log\n",
    "            print(i)\n",
    "            # Return each bootstrapped sample as a single dataframe\n",
    "            yield pd.concat(bootstrap(i), axis=0)\n",
    "\n",
    "    def _create_main_plot(self):\n",
    "        \"\"\"Plots regression and scatter plot onto the main axis, with bootstrapped errorbars\"\"\"\n",
    "        # Get the line for the actual data\n",
    "        line_df = pd.DataFrame(self._get_line(self.md))\n",
    "        # Bootstrap to get random samples, replacement unit is bandleader\n",
    "        boot_samples = self._get_bootstrapped_sample()\n",
    "        # Create model for each sample of data\n",
    "        boot_mds = [self._mixedlm(sample) for sample in boot_samples]\n",
    "        # Convert all bootstrapped models into one single dataframe of errors\n",
    "        boot_lines = pd.DataFrame(self._format_bootstrap_lines(boot_mds))\n",
    "        # Iterate through each instrument and line color\n",
    "        for instr_, col_ in zip(utils.INSTRUMENTS_TO_PERFORMER_ROLES.keys(), vutils.RGB):\n",
    "            # First temporary dataframe: our actual data for this instrument\n",
    "            temp_ = line_df[line_df['instr'] == instr_]\n",
    "            # Plot the actual data\n",
    "            self.main_ax.plot(temp_['tempo'], temp_['bur'], color=col_, **self.LINE_KWS)\n",
    "            # Second temporary dataframe: our bootstrapped data for this instrument\n",
    "            temp_boot_ = boot_lines[boot_lines['instr'] == instr_]\n",
    "            # Calculate the upper and lower bounds as mean +/- standard error\n",
    "            low_b = temp_['bur'] - (temp_boot_['sem'] * 1.96)\n",
    "            high_b = temp_['bur'] + (temp_boot_['sem'] * 1.96)\n",
    "            # Fill between the low and high bounds\n",
    "            self.main_ax.fill_between(temp_boot_['tempo'], temp_boot_['low_ci'], temp_boot_['high_ci'], color=col_, **self.FILL_KWS)\n",
    "        # Create the scatter plot\n",
    "        sns.scatterplot(\n",
    "            data=self.average, x='tempo_median', y='bur_mean', style='instrument_',\n",
    "            ax=self.main_ax, hue='instrument_', **self.SCATTER_KWS\n",
    "        )\n",
    "\n",
    "    def _create_marginal_plots(self):\n",
    "        \"\"\"Plots histograms and density estimates onto the marginal axis\"\"\"\n",
    "        # Top marginal plot\n",
    "        sns.histplot(\n",
    "            data=self.average, x='tempo_median', ax=self.marginal_ax[0],\n",
    "            bins=int(vutils.N_BINS * self.BIN_MULTIPLER),  **self.HIST_KWS\n",
    "        )\n",
    "        # Right marginal plot\n",
    "        sns.histplot(\n",
    "            data=self.average, y='bur_mean', ax=self.marginal_ax[1],\n",
    "            bins=int(vutils.N_BINS / self.BIN_MULTIPLER),  **self.HIST_KWS\n",
    "        )\n",
    "\n",
    "    def _create_plot(self):\n",
    "        \"\"\"Creates the main and marginal plots\"\"\"\n",
    "        self._create_main_plot()\n",
    "        self._create_marginal_plots()\n",
    "\n",
    "    def _format_marginal_ax(self):\n",
    "        \"\"\"Formats axis-level properties for marginal axis\"\"\"\n",
    "        # Remove correct spines from marginal axis\n",
    "        for spine, ax in zip(['left', \"bottom\"], self.marginal_ax.flatten()):\n",
    "            ax.spines[[spine, 'right', 'top']].set_visible(False)\n",
    "        # Set other features for the main axis\n",
    "        self.marginal_ax[0].set(\n",
    "            xlabel='', ylabel='', yticks=[0], yticklabels=[''], xticklabels=[], xlim=(100, 310),\n",
    "            xticks=[100, 150, 200, 250, 300]\n",
    "        )\n",
    "        self.marginal_ax[1].set(\n",
    "            xlabel='', ylabel='', xticks=[0], xticklabels=[''], yticklabels=[], ylim=(-1.35, 1.7),\n",
    "            yticks=[-1, 0, 1]\n",
    "        )\n",
    "\n",
    "    def _format_main_ax(self):\n",
    "        \"\"\"Formats axis-level properties for the main axis\"\"\"\n",
    "        # Add BUR images onto the right-hand side of the main plot\n",
    "        for artist in self.add_bur_images(y=305):\n",
    "            self.main_ax.add_artist(artist)\n",
    "        # Add a grid onto the plot\n",
    "        self.main_ax.grid(visible=True, axis='both', which='major', zorder=0, **vutils.GRID_KWS)\n",
    "        # Get our legend handles, and set their edge color to black\n",
    "        hand, _ = self.main_ax.get_legend_handles_labels()\n",
    "        for ha in hand:\n",
    "            ha.set_edgecolor(vutils.BLACK)\n",
    "        # Remove the old legend, then add the new one on\n",
    "        self.main_ax.get_legend().remove()\n",
    "        self.main_ax.legend(\n",
    "            hand, [i.title() for i in utils.INSTRUMENTS_TO_PERFORMER_ROLES.keys()],\n",
    "            loc='lower left', title='Instrument', frameon=True, framealpha=1,\n",
    "            edgecolor=vutils.BLACK\n",
    "        )\n",
    "        # Final attributes to set here\n",
    "        self.main_ax.set(\n",
    "            xticks=[100, 150, 200, 250, 300], yticks=[-1, 0, 1], xlim=(100, 310),\n",
    "            xlabel='Mean Tempo (BPM)', ylabel='Mean ${Log_2}$ BUR', ylim=(-1.35, 1.7)\n",
    "        )\n",
    "\n",
    "    def _format_ax(self):\n",
    "        \"\"\"Formats axis-level properties\"\"\"\n",
    "        # Run code for formatting main and marginal ax separately\n",
    "        self._format_main_ax()\n",
    "        self._format_marginal_ax()\n",
    "        # These lines of code apply to every ax on the plot\n",
    "        for a in [self.main_ax, *self.marginal_ax.flatten()]:\n",
    "            plt.setp(a.spines.values(), linewidth=vutils.LINEWIDTH)\n",
    "            a.tick_params(axis='both', bottom=True, width=vutils.TICKWIDTH)\n",
    "\n",
    "    def _format_fig(self):\n",
    "        \"\"\"Format figure-level properties\"\"\"\n",
    "        self.fig.subplots_adjust(left=0.05, right=0.99, top=0.99, bottom=0.09, hspace=0.1, wspace=0.05)\n",
    "\n",
    "\n",
    "RegPlotBURTempo(burs).create_plot()\n",
    "plt.show()"
   ],
   "metadata": {
    "collapsed": false,
    "pycharm": {
     "name": "#%%\n",
     "is_executing": true
    }
   }
  }
 ],
 "metadata": {
  "kernelspec": {
   "display_name": "Python 3",
   "language": "python",
   "name": "python3"
  },
  "language_info": {
   "codemirror_mode": {
    "name": "ipython",
    "version": 2
   },
   "file_extension": ".py",
   "mimetype": "text/x-python",
   "name": "python",
   "nbconvert_exporter": "python",
   "pygments_lexer": "ipython2",
   "version": "2.7.6"
  }
 },
 "nbformat": 4,
 "nbformat_minor": 0
}