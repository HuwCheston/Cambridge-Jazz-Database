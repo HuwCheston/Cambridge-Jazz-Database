{
 "cells": [
  {
   "cell_type": "markdown",
   "source": [
    "# Beat-Upbeat Ratio Distributions"
   ],
   "metadata": {
    "collapsed": false,
    "pycharm": {
     "name": "#%% md\n"
    }
   }
  },
  {
   "cell_type": "markdown",
   "source": [
    "## Import dependencies, set constants etc."
   ],
   "metadata": {
    "collapsed": false,
    "pycharm": {
     "name": "#%% md\n"
    }
   }
  },
  {
   "cell_type": "code",
   "execution_count": null,
   "outputs": [],
   "source": [
    "import matplotlib.pyplot as plt\n",
    "import numpy as np\n",
    "import pandas as pd\n",
    "import scipy.signal as signal\n",
    "import scipy.stats as stats\n",
    "import statsmodels.formula.api as smf\n",
    "from sklearn.mixture import GaussianMixture\n",
    "\n",
    "from src import utils\n",
    "from src.features.features_utils import FeatureExtractor\n",
    "from src.visualise.bur_plots import *"
   ],
   "metadata": {
    "collapsed": false,
    "pycharm": {
     "name": "#%%\n",
     "is_executing": true
    }
   }
  },
  {
   "cell_type": "code",
   "execution_count": 2,
   "outputs": [],
   "source": [
    "# These variables are used for the optimization process\n",
    "SEED = 42\n",
    "N_FOLDS = 5\n",
    "N_JOBS = -1\n",
    "N_BOOT = 999"
   ],
   "metadata": {
    "collapsed": false,
    "pycharm": {
     "name": "#%%\n"
    }
   }
  },
  {
   "cell_type": "code",
   "execution_count": 3,
   "outputs": [],
   "source": [
    "# Upper and lower bounds to use when thresholding BURs\n",
    "BUR_UPPER = 4.0\n",
    "BUR_LOWER = 0.25"
   ],
   "metadata": {
    "collapsed": false,
    "pycharm": {
     "name": "#%%\n"
    }
   }
  },
  {
   "cell_type": "code",
   "execution_count": 4,
   "outputs": [],
   "source": [
    "# Set the seed in NumPy for consistent results across function calls\n",
    "np.random.seed(SEED)"
   ],
   "metadata": {
    "collapsed": false,
    "pycharm": {
     "name": "#%%\n"
    }
   }
  },
  {
   "cell_type": "markdown",
   "source": [
    "## Load in data\n",
    "We start by loading in the data we extracted from our `corpus_chronology` in `src\\features\\extract_features.py`. This gives us a list of `FeatureExtractor` classes (defined in `src\\features\\features_utils.py`)."
   ],
   "metadata": {
    "collapsed": false,
    "pycharm": {
     "name": "#%% md\n"
    }
   }
  },
  {
   "cell_type": "code",
   "execution_count": 5,
   "outputs": [],
   "source": [
    "features: list[FeatureExtractor] = utils.unserialise_object(fr'{utils.get_project_root()}\\models\\extracted_features_corpus_chronology')"
   ],
   "metadata": {
    "collapsed": false,
    "pycharm": {
     "name": "#%%\n"
    }
   }
  },
  {
   "cell_type": "code",
   "execution_count": 6,
   "outputs": [],
   "source": [
    "res = []\n",
    "# Iterate through each track\n",
    "for track in features:\n",
    "    # Iterate through each instrument\n",
    "    for instr in utils.INSTRUMENTS_TO_PERFORMER_ROLES.keys():\n",
    "        # Iterate through each BUR by that instrument\n",
    "        for bur in track.BURs[instr].bur['burs'].dropna().to_list():\n",
    "            # Append a new dictionary\n",
    "            res.append(dict(mbz_id=track.metadata[instr]['mbz_id'], bur=np.log2(bur), instrument=instr, tempo=track.metadata[instr]['tempo'], bandleader=track.metadata[instr]['pianist']))\n",
    "burs = pd.DataFrame(res)"
   ],
   "metadata": {
    "collapsed": false,
    "pycharm": {
     "name": "#%%\n"
    }
   }
  },
  {
   "cell_type": "markdown",
   "source": [
    "## Clean data\n",
    "We drop BUR values lower than 0.25 and higher than 4 (see Corcoran & Frieler, 2021)"
   ],
   "metadata": {
    "collapsed": false,
    "pycharm": {
     "name": "#%% md\n"
    }
   }
  },
  {
   "cell_type": "code",
   "execution_count": 7,
   "outputs": [],
   "source": [
    "burs = burs[(burs['bur'] > np.log2(BUR_LOWER)) & (burs['bur'] < np.log2(BUR_UPPER))]"
   ],
   "metadata": {
    "collapsed": false,
    "pycharm": {
     "name": "#%%\n"
    }
   }
  },
  {
   "cell_type": "code",
   "execution_count": 8,
   "outputs": [
    {
     "data": {
      "text/plain": "instrument\nbass     0.056211\ndrums    0.721039\npiano    0.268612\nName: bur, dtype: float64"
     },
     "execution_count": 8,
     "metadata": {},
     "output_type": "execute_result"
    }
   ],
   "source": [
    "burs.groupby('instrument')['bur'].mean()"
   ],
   "metadata": {
    "collapsed": false,
    "pycharm": {
     "name": "#%%\n"
    }
   }
  },
  {
   "cell_type": "markdown",
   "source": [
    "Now we order our dataframe so that the instruments are in the correct order (piano -> bass -> drums)"
   ],
   "metadata": {
    "collapsed": false,
    "pycharm": {
     "name": "#%% md\n"
    }
   }
  },
  {
   "cell_type": "code",
   "execution_count": 9,
   "outputs": [],
   "source": [
    "burs = (\n",
    "    burs.set_index('instrument')\n",
    "    .loc[utils.INSTRUMENTS_TO_PERFORMER_ROLES.keys()]\n",
    "    .reset_index(drop=False)\n",
    ")"
   ],
   "metadata": {
    "collapsed": false,
    "pycharm": {
     "name": "#%%\n"
    }
   }
  },
  {
   "cell_type": "markdown",
   "source": [
    "## Plot the average BUR per instrument"
   ],
   "metadata": {
    "collapsed": false,
    "pycharm": {
     "name": "#%% md\n"
    }
   }
  },
  {
   "cell_type": "code",
   "execution_count": null,
   "outputs": [],
   "source": [
    "BarPlotBUR(burs).create_plot()\n",
    "plt.show()"
   ],
   "metadata": {
    "collapsed": false,
    "pycharm": {
     "name": "#%%\n",
     "is_executing": true
    }
   }
  },
  {
   "cell_type": "markdown",
   "source": [
    "## Compute the KDE and extract peaks"
   ],
   "metadata": {
    "collapsed": false,
    "pycharm": {
     "name": "#%% md\n"
    }
   }
  },
  {
   "cell_type": "code",
   "execution_count": 11,
   "outputs": [],
   "source": [
    "def get_peaks(data, len_data: int = 1000, **kwargs) -> np.ndarray:\n",
    "    \"\"\"Fits a kernel-density estimate to BUR data and extracts BUR peaks\"\"\"\n",
    "    # Fit the actual KDE to the data, using the default parameters\n",
    "    kde = stats.gaussian_kde(data.T, bw_method='silverman')\n",
    "    # Create a linear space of integers ranging from our lowest to our highest BUR\n",
    "    data_plot = np.linspace(data.min(), data.max(), len_data)[:, np.newaxis]\n",
    "    # Evaluate the KDE on our linear space of integers\n",
    "    kde_eval = kde.evaluate(data_plot.T)\n",
    "    # Find the peaks from our fitted KDE\n",
    "    peaks, _ = signal.find_peaks(kde_eval, **kwargs)\n",
    "    # Return the sorted peaks from our KDE: this will be an array of BUR values\n",
    "    return np.sort(data_plot[peaks].flatten())"
   ],
   "metadata": {
    "collapsed": false,
    "pycharm": {
     "name": "#%%\n"
    }
   }
  },
  {
   "cell_type": "code",
   "execution_count": 12,
   "outputs": [],
   "source": [
    "def bootstrap_peaks(data: np.array, actual_peaks: np.array, tol: float = 0.5) -> dict:\n",
    "    \"\"\"Bootstrap confidence intervals for an array of peaks\"\"\"\n",
    "    # We create a dictionary with lists for storing our bootstrapped peaks\n",
    "    boot_res = {pe: [] for pe in actual_peaks}\n",
    "    # We perform a few operations here, so we don't have to re-do them every loop\n",
    "    size = len(data)\n",
    "    data = data.flatten()\n",
    "    # For every bootstrapped sample\n",
    "    for i_ in range(1):\n",
    "        print(i_)\n",
    "        # Set the random seed\n",
    "        np.random.seed(i_)\n",
    "        # Take a random sample of our BURs, with replacement, and reshape\n",
    "        boot = np.random.choice(data, replace=True, size=size).reshape(-1, 1)\n",
    "        # Get the peaks for our bootstrapped sample\n",
    "        boot_peaks = set(get_peaks(boot))\n",
    "        # Iterate through the actual peaks of our BURs\n",
    "        for peak in actual_peaks:\n",
    "            # Try and find the closest value in our bootstrapped set\n",
    "            try:\n",
    "                closest_peak = min(boot_peaks, key=lambda x: abs(x - peak))\n",
    "            # If we've run out of bootstrapped peaks, break out and finish this sample early\n",
    "            except ValueError:\n",
    "                break\n",
    "            else:\n",
    "                # If the distance between our actual peak and the nearest bootstrapped peak exceeds our threshold\n",
    "                if abs(closest_peak - peak) > tol:\n",
    "                    # Then continue on to the next actual peak, without matching\n",
    "                    continue\n",
    "                else:\n",
    "                    # Otherwise, match our actual peak with this closest peak and remove it from the set\n",
    "                    boot_res[peak].append(closest_peak)\n",
    "                    boot_peaks.remove(closest_peak)\n",
    "    # Return a dictionary with\n",
    "    return {k: [np.nanpercentile(v, 5), np.nanpercentile(v, 95)] for k, v in boot_res.items()}"
   ],
   "metadata": {
    "collapsed": false,
    "pycharm": {
     "name": "#%%\n"
    }
   }
  },
  {
   "cell_type": "code",
   "execution_count": 13,
   "outputs": [
    {
     "name": "stdout",
     "output_type": "stream",
     "text": [
      "0\n",
      "0\n",
      "0\n"
     ]
    }
   ],
   "source": [
    "res_ = []\n",
    "for instr, grp in burs.groupby('instrument', sort=False):\n",
    "    X = grp['bur'].to_numpy().reshape(-1, 1)\n",
    "    grp_peaks = get_peaks(X)\n",
    "    ci_peaks = bootstrap_peaks(X, grp_peaks)\n",
    "    for num, (actual, (low, high)) in enumerate(ci_peaks.items()):\n",
    "        res_.append(dict(\n",
    "            instrument=instr,\n",
    "            peak_num=num,\n",
    "            peak=actual,\n",
    "            low=low,\n",
    "            high=high\n",
    "        ))\n",
    "peaks_df = pd.DataFrame(res_)"
   ],
   "metadata": {
    "collapsed": false,
    "pycharm": {
     "name": "#%%\n"
    }
   }
  },
  {
   "cell_type": "code",
   "execution_count": 14,
   "outputs": [
    {
     "data": {
      "text/plain": "  instrument  peak_num      peak       low      high  raw_peak\n0      piano         0  0.334334  0.310310  0.310310  1.260796\n1       bass         0  0.010515  0.018505  0.018505  1.007315\n2       bass         1  1.081162  1.065182  1.065182  2.115739\n3      drums         0 -0.678679 -0.678679 -0.678679  0.624737\n4      drums         1  1.163163  1.167167  1.167167  2.239479",
      "text/html": "<div>\n<style scoped>\n    .dataframe tbody tr th:only-of-type {\n        vertical-align: middle;\n    }\n\n    .dataframe tbody tr th {\n        vertical-align: top;\n    }\n\n    .dataframe thead th {\n        text-align: right;\n    }\n</style>\n<table border=\"1\" class=\"dataframe\">\n  <thead>\n    <tr style=\"text-align: right;\">\n      <th></th>\n      <th>instrument</th>\n      <th>peak_num</th>\n      <th>peak</th>\n      <th>low</th>\n      <th>high</th>\n      <th>raw_peak</th>\n    </tr>\n  </thead>\n  <tbody>\n    <tr>\n      <th>0</th>\n      <td>piano</td>\n      <td>0</td>\n      <td>0.334334</td>\n      <td>0.310310</td>\n      <td>0.310310</td>\n      <td>1.260796</td>\n    </tr>\n    <tr>\n      <th>1</th>\n      <td>bass</td>\n      <td>0</td>\n      <td>0.010515</td>\n      <td>0.018505</td>\n      <td>0.018505</td>\n      <td>1.007315</td>\n    </tr>\n    <tr>\n      <th>2</th>\n      <td>bass</td>\n      <td>1</td>\n      <td>1.081162</td>\n      <td>1.065182</td>\n      <td>1.065182</td>\n      <td>2.115739</td>\n    </tr>\n    <tr>\n      <th>3</th>\n      <td>drums</td>\n      <td>0</td>\n      <td>-0.678679</td>\n      <td>-0.678679</td>\n      <td>-0.678679</td>\n      <td>0.624737</td>\n    </tr>\n    <tr>\n      <th>4</th>\n      <td>drums</td>\n      <td>1</td>\n      <td>1.163163</td>\n      <td>1.167167</td>\n      <td>1.167167</td>\n      <td>2.239479</td>\n    </tr>\n  </tbody>\n</table>\n</div>"
     },
     "execution_count": 14,
     "metadata": {},
     "output_type": "execute_result"
    }
   ],
   "source": [
    "peaks_df['raw_peak'] = 2 ** peaks_df['peak']\n",
    "peaks_df"
   ],
   "metadata": {
    "collapsed": false,
    "pycharm": {
     "name": "#%%\n"
    }
   }
  },
  {
   "cell_type": "markdown",
   "source": [
    "## Plot the BUR distribution with density curve and peaks"
   ],
   "metadata": {
    "collapsed": false,
    "pycharm": {
     "name": "#%% md\n"
    }
   }
  },
  {
   "cell_type": "code",
   "execution_count": null,
   "outputs": [],
   "source": [
    "HistPlotBURByInstrument(burs, peaks_df).create_plot()\n",
    "plt.show()"
   ],
   "metadata": {
    "collapsed": false,
    "pycharm": {
     "name": "#%%\n",
     "is_executing": true
    }
   }
  },
  {
   "cell_type": "markdown",
   "source": [
    "## Create GMMs using given number of components"
   ],
   "metadata": {
    "collapsed": false,
    "pycharm": {
     "name": "#%% md\n"
    }
   }
  },
  {
   "cell_type": "code",
   "execution_count": 16,
   "outputs": [
    {
     "name": "stdout",
     "output_type": "stream",
     "text": [
      "[-0.34517166  1.04498657] [0.01051499 1.08116154] [0.71126845 0.28873155]\n",
      "[-0.42768708  1.03950669] [-0.67867868  1.16316316] [0.21705932 0.78294068]\n"
     ]
    }
   ],
   "source": [
    "for instr in ['bass', 'drums']:\n",
    "    data = peaks_df[peaks_df['instrument'] == instr]\n",
    "    peaks = data['peak'].to_numpy().reshape(-1, 1)\n",
    "    n_components = len(data)\n",
    "    gm = GaussianMixture(\n",
    "        random_state=42,\n",
    "        n_components=n_components,\n",
    "        means_init=peaks\n",
    "    )\n",
    "    gm.fit(burs[burs['instrument'] == instr]['bur'].to_numpy().reshape(-1, 1))\n",
    "    means = gm.means_.flatten()\n",
    "    means_init = gm.means_init.flatten()\n",
    "    weights = gm.weights_\n",
    "    print(gm.means_.flatten(), means_init, weights)"
   ],
   "metadata": {
    "collapsed": false,
    "pycharm": {
     "name": "#%%\n"
    }
   }
  },
  {
   "cell_type": "markdown",
   "source": [
    "## Model average tempo vs BUR"
   ],
   "metadata": {
    "collapsed": false,
    "pycharm": {
     "name": "#%% md\n"
    }
   }
  },
  {
   "cell_type": "code",
   "execution_count": null,
   "outputs": [],
   "source": [
    "average = burs.groupby(['instrument', 'mbz_id']).agg(dict(bur=['mean', 'count'], tempo='median', bandleader='first')).reset_index(drop=False)\n",
    "average.columns = ['_'.join(col).strip() for col in average.columns.values]\n",
    "average = average[average['bur_count'] > 15]\n",
    "average['tempo_standard'] = (average['tempo_median'] - average['tempo_median'].mean()) / average['tempo_median'].std()"
   ],
   "metadata": {
    "collapsed": false,
    "pycharm": {
     "name": "#%%\n",
     "is_executing": true
    }
   }
  },
  {
   "cell_type": "code",
   "execution_count": 109,
   "outputs": [
    {
     "name": "stdout",
     "output_type": "stream",
     "text": [
      "                                                         Mixed Linear Model Regression Results\n",
      "========================================================================================================================================================\n",
      "Model:                                             MixedLM                                 Dependent Variable:                                 bur_mean \n",
      "No. Observations:                                  751                                     Method:                                             REML     \n",
      "No. Groups:                                        10                                      Scale:                                              0.0693   \n",
      "Min. group size:                                   68                                      Log-Likelihood:                                     -100.8164\n",
      "Max. group size:                                   81                                      Converged:                                          Yes      \n",
      "Mean group size:                                   75.1                                                                                                 \n",
      "--------------------------------------------------------------------------------------------------------------------------------------------------------\n",
      "                                                                                                              Coef.  Std.Err.   z    P>|z| [0.025 0.975]\n",
      "--------------------------------------------------------------------------------------------------------------------------------------------------------\n",
      "Intercept                                                                                                      0.286    0.032  8.900 0.000  0.223  0.349\n",
      "C(instrument_, Treatment(reference='piano'))[T.bass]                                                          -0.258    0.062 -4.188 0.000 -0.379 -0.137\n",
      "C(instrument_, Treatment(reference='piano'))[T.drums]                                                          0.466    0.038 12.366 0.000  0.392  0.539\n",
      "tempo_standard                                                                                                -0.071    0.020 -3.593 0.000 -0.110 -0.032\n",
      "tempo_standard:C(instrument_, Treatment(reference='piano'))[T.bass]                                           -0.095    0.030 -3.163 0.002 -0.153 -0.036\n",
      "tempo_standard:C(instrument_, Treatment(reference='piano'))[T.drums]                                          -0.166    0.022 -7.631 0.000 -0.208 -0.123\n",
      "C(instrument_, Treatment(reference='piano'))[bass] Var                                                         0.022    0.045                           \n",
      "C(instrument_, Treatment(reference='piano'))[bass] x C(instrument_, Treatment(reference='piano'))[drums] Cov   0.008    0.026                           \n",
      "C(instrument_, Treatment(reference='piano'))[drums] Var                                                        0.013    0.026                           \n",
      "C(instrument_, Treatment(reference='piano'))[bass] x C(instrument_, Treatment(reference='piano'))[piano] Cov  -0.000    0.021                           \n",
      "C(instrument_, Treatment(reference='piano'))[drums] x C(instrument_, Treatment(reference='piano'))[piano] Cov  0.006    0.017                           \n",
      "C(instrument_, Treatment(reference='piano'))[piano] Var                                                        0.008    0.019                           \n",
      "C(instrument_, Treatment(reference='piano'))[bass] x tempo_standard Cov                                       -0.001    0.012                           \n",
      "C(instrument_, Treatment(reference='piano'))[drums] x tempo_standard Cov                                      -0.002    0.009                           \n",
      "C(instrument_, Treatment(reference='piano'))[piano] x tempo_standard Cov                                      -0.003    0.006                           \n",
      "tempo_standard Var                                                                                             0.001    0.003                           \n",
      "========================================================================================================================================================\n",
      "\n"
     ]
    }
   ],
   "source": [
    "md = smf.mixedlm(\n",
    "    \"bur_mean~tempo_standard*C(instrument_, Treatment(reference='piano'))\",\n",
    "    data=average,\n",
    "    groups=average['bandleader_first'],\n",
    "    re_formula=\"0 + tempo_standard + C(instrument_, Treatment(reference='piano'))\"\n",
    ").fit()\n",
    "print(md.summary())"
   ],
   "metadata": {
    "collapsed": false,
    "pycharm": {
     "name": "#%%\n"
    }
   }
  },
  {
   "cell_type": "code",
   "execution_count": 110,
   "outputs": [
    {
     "name": "stdout",
     "output_type": "stream",
     "text": [
      "conditional_r2: 0.6069052210554511\n",
      "marginal_r2: 0.5860129491841163\n"
     ]
    }
   ],
   "source": [
    "# Variance explained by the fixed effects: we need to use md.predict() with the underlying data to get this\n",
    "var_fixed = md.predict().var()\n",
    "# Variance explained by the random effects\n",
    "var_random = float(md.cov_re.to_numpy().mean())\n",
    "# Variance of the residuals\n",
    "var_resid = md.scale\n",
    "# Total variance of the model\n",
    "total_var = var_fixed + var_random + var_resid\n",
    "# Calculate the r2 values and append to the model\n",
    "print('conditional_r2:', (var_fixed + var_random) / total_var)\n",
    "print('marginal_r2:', var_fixed / total_var)"
   ],
   "metadata": {
    "collapsed": false,
    "pycharm": {
     "name": "#%%\n"
    }
   }
  },
  {
   "cell_type": "code",
   "execution_count": 111,
   "outputs": [
    {
     "name": "stdout",
     "output_type": "stream",
     "text": [
      "stdev of bandleader groups: 0.1354858567269509\n"
     ]
    }
   ],
   "source": [
    "stddev = np.std([v.iloc[0] for v in md.random_effects.values()])\n",
    "print('stdev of bandleader groups:', stddev)"
   ],
   "metadata": {
    "collapsed": false,
    "pycharm": {
     "name": "#%%\n"
    }
   }
  },
  {
   "cell_type": "markdown",
   "source": [
    "## Plot average BUR vs tempo"
   ],
   "metadata": {
    "collapsed": false,
    "pycharm": {
     "name": "#%% md\n"
    }
   }
  },
  {
   "cell_type": "code",
   "execution_count": null,
   "outputs": [],
   "source": [
    "RegPlotBURTempo(burs).create_plot()\n",
    "plt.show()"
   ],
   "metadata": {
    "collapsed": false,
    "pycharm": {
     "name": "#%%\n",
     "is_executing": true
    }
   }
  }
 ],
 "metadata": {
  "kernelspec": {
   "display_name": "Python 3",
   "language": "python",
   "name": "python3"
  },
  "language_info": {
   "codemirror_mode": {
    "name": "ipython",
    "version": 2
   },
   "file_extension": ".py",
   "mimetype": "text/x-python",
   "name": "python",
   "nbconvert_exporter": "python",
   "pygments_lexer": "ipython2",
   "version": "2.7.6"
  }
 },
 "nbformat": 4,
 "nbformat_minor": 0
}