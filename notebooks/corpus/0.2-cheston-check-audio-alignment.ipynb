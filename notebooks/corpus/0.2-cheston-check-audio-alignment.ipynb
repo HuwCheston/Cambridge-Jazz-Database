{
 "cells": [
  {
   "cell_type": "code",
   "execution_count": 15,
   "id": "9284f08c-d6ae-4d58-a397-3af40618bd7b",
   "metadata": {
    "pycharm": {
     "name": "#%%\n"
    }
   },
   "outputs": [],
   "source": [
    "from src import utils\n",
    "import numpy as np\n",
    "import os\n",
    "import librosa\n",
    "from joblib import Parallel, delayed\n",
    "import pandas as pd"
   ]
  },
  {
   "cell_type": "code",
   "execution_count": 2,
   "id": "1dfd63d1-babc-4126-8058-60963721d31a",
   "metadata": {
    "pycharm": {
     "name": "#%%\n"
    }
   },
   "outputs": [],
   "source": [
    "corp = utils.CorpusMaker.from_excel('corpus_updated', only_30_corpus=False).tracks"
   ]
  },
  {
   "cell_type": "code",
   "execution_count": 7,
   "id": "e9f5d5f7-aa92-4b14-bf43-dccb784426de",
   "metadata": {
    "pycharm": {
     "name": "#%%\n"
    }
   },
   "outputs": [],
   "source": [
    "proc_path = f'{utils.get_project_root()}/data/processed/mvsep_audio'\n",
    "raw_path = f'{utils.get_project_root()}/data/raw/audio'"
   ]
  },
  {
   "cell_type": "code",
   "execution_count": 44,
   "id": "c1b2a418-5e9e-404d-bb50-37dbc34660b6",
   "metadata": {
    "pycharm": {
     "name": "#%%\n"
    }
   },
   "outputs": [],
   "source": [
    "def checker(fpath):\n",
    "    procfiles = [i for i in os.listdir(proc_path) if fpath in i]\n",
    "    rawfiles = [i for i in os.listdir(raw_path) if fpath in i]\n",
    "    bigaudio = sum(librosa.load(os.path.join(proc_path, f), sr=utils.SAMPLE_RATE, mono=True, dtype=np.float64, duration=20, offset=10)[0] for f in procfiles)\n",
    "    rawaudio = sum(librosa.load(os.path.join(raw_path, f), sr=utils.SAMPLE_RATE, mono=True, dtype=np.float64, duration=20, offset=10)[0] for f in rawfiles)\n",
    "    # rawaudio = librosa.load(os.path.join(raw_path, fpath + '.wav'), sr=utils.SAMPLE_RATE, mono=True, dtype=np.float64, duration=10)[0]\n",
    "    assert bigaudio.shape == rawaudio.shape\n",
    "    return fpath, np.corrcoef(bigaudio, rawaudio)[0, 1]"
   ]
  },
  {
   "cell_type": "code",
   "execution_count": 45,
   "id": "254c482d-4917-40e5-9b9a-058e9a4b5497",
   "metadata": {
    "pycharm": {
     "name": "#%%\n"
    }
   },
   "outputs": [
    {
     "name": "stderr",
     "output_type": "stream",
     "text": [
      "[Parallel(n_jobs=-1)]: Using backend LokyBackend with 24 concurrent workers.\n",
      "[Parallel(n_jobs=-1)]: Done   2 tasks      | elapsed:    5.9s\n",
      "[Parallel(n_jobs=-1)]: Done  13 tasks      | elapsed:    7.6s\n",
      "[Parallel(n_jobs=-1)]: Done  24 tasks      | elapsed:   12.6s\n",
      "[Parallel(n_jobs=-1)]: Done  37 tasks      | elapsed:   16.0s\n",
      "[Parallel(n_jobs=-1)]: Done  50 tasks      | elapsed:   19.3s\n",
      "[Parallel(n_jobs=-1)]: Done  65 tasks      | elapsed:   25.6s\n",
      "[Parallel(n_jobs=-1)]: Done  80 tasks      | elapsed:   30.7s\n",
      "[Parallel(n_jobs=-1)]: Done  97 tasks      | elapsed:   32.6s\n",
      "[Parallel(n_jobs=-1)]: Done 114 tasks      | elapsed:   39.3s\n",
      "[Parallel(n_jobs=-1)]: Done 133 tasks      | elapsed:   45.2s\n",
      "[Parallel(n_jobs=-1)]: Done 152 tasks      | elapsed:   50.3s\n",
      "[Parallel(n_jobs=-1)]: Done 173 tasks      | elapsed:   56.9s\n",
      "[Parallel(n_jobs=-1)]: Done 194 tasks      | elapsed:  1.1min\n",
      "[Parallel(n_jobs=-1)]: Done 217 tasks      | elapsed:  1.2min\n",
      "[Parallel(n_jobs=-1)]: Done 240 tasks      | elapsed:  1.3min\n",
      "[Parallel(n_jobs=-1)]: Done 265 tasks      | elapsed:  1.4min\n",
      "[Parallel(n_jobs=-1)]: Done 290 tasks      | elapsed:  1.5min\n",
      "[Parallel(n_jobs=-1)]: Done 317 tasks      | elapsed:  1.6min\n",
      "[Parallel(n_jobs=-1)]: Done 344 tasks      | elapsed:  1.8min\n",
      "[Parallel(n_jobs=-1)]: Done 373 tasks      | elapsed:  1.9min\n",
      "[Parallel(n_jobs=-1)]: Done 402 tasks      | elapsed:  2.0min\n",
      "[Parallel(n_jobs=-1)]: Done 433 tasks      | elapsed:  2.1min\n",
      "[Parallel(n_jobs=-1)]: Done 464 tasks      | elapsed:  2.3min\n",
      "[Parallel(n_jobs=-1)]: Done 497 tasks      | elapsed:  2.4min\n",
      "[Parallel(n_jobs=-1)]: Done 530 tasks      | elapsed:  2.6min\n",
      "[Parallel(n_jobs=-1)]: Done 565 tasks      | elapsed:  2.7min\n",
      "[Parallel(n_jobs=-1)]: Done 600 tasks      | elapsed:  2.8min\n",
      "[Parallel(n_jobs=-1)]: Done 637 tasks      | elapsed:  2.9min\n",
      "[Parallel(n_jobs=-1)]: Done 674 tasks      | elapsed:  3.0min\n",
      "[Parallel(n_jobs=-1)]: Done 713 tasks      | elapsed:  3.1min\n",
      "[Parallel(n_jobs=-1)]: Done 752 tasks      | elapsed:  3.3min\n",
      "[Parallel(n_jobs=-1)]: Done 793 tasks      | elapsed:  3.4min\n",
      "[Parallel(n_jobs=-1)]: Done 834 tasks      | elapsed:  3.6min\n",
      "[Parallel(n_jobs=-1)]: Done 877 tasks      | elapsed:  3.7min\n",
      "[Parallel(n_jobs=-1)]: Done 920 tasks      | elapsed:  3.8min\n",
      "[Parallel(n_jobs=-1)]: Done 965 tasks      | elapsed:  4.0min\n",
      "[Parallel(n_jobs=-1)]: Done 1010 tasks      | elapsed:  4.1min\n",
      "[Parallel(n_jobs=-1)]: Done 1057 tasks      | elapsed:  4.3min\n",
      "[Parallel(n_jobs=-1)]: Done 1104 tasks      | elapsed:  4.5min\n",
      "[Parallel(n_jobs=-1)]: Done 1153 tasks      | elapsed:  4.6min\n",
      "[Parallel(n_jobs=-1)]: Done 1202 tasks      | elapsed:  4.8min\n",
      "[Parallel(n_jobs=-1)]: Done 1253 tasks      | elapsed:  5.0min\n",
      "[Parallel(n_jobs=-1)]: Done 1313 out of 1313 | elapsed:  5.3min finished\n"
     ]
    }
   ],
   "source": [
    "with Parallel(n_jobs=-1, backend='loky', verbose=10) as par:\n",
    "    res = par(delayed(checker)(fp['fname']) for fp in corp)"
   ]
  },
  {
   "cell_type": "code",
   "execution_count": 46,
   "id": "16595862-0234-47a7-800a-e04ee3bfbad0",
   "metadata": {
    "pycharm": {
     "name": "#%%\n"
    }
   },
   "outputs": [],
   "source": [
    "df = pd.DataFrame(res).rename(columns={0: 'track', 1:'r'})"
   ]
  },
  {
   "cell_type": "code",
   "execution_count": 47,
   "id": "61b81870-0a0e-4414-bf34-87c901fabb8e",
   "metadata": {
    "pycharm": {
     "name": "#%%\n"
    }
   },
   "outputs": [
    {
     "data": {
      "text/plain": [
       "array(['jonesh-swonderful-hintonmrosengardenb-1977-d3373c2a',\n",
       "       'jamala-raincheck-crosbyifournierv-1960-30cd5578',\n",
       "       'jamala-speaklow-crosbyifournierv-1960-566dfdda',\n",
       "       'evansb-swedishpastry-israelscbunkerl-1963-36012ad1',\n",
       "       'evansb-gloriasstep-gomezemorellm-1972-b519428f',\n",
       "       'evansb-upwiththelark-johnsonmlabarberaj-1980-a2bb66b1',\n",
       "       'evansb-likesomeoneinlove-johnsonmlabarberaj-1980-2f3f1a5e',\n",
       "       'evansb-thetwolonelypeople-johnsonmlabarberaj-1980-e5016fe2',\n",
       "       'evansb-daysofwineandroses-johnsonmlabarberaj-1980-964c123f',\n",
       "       'evansb-likesomeoneilove-johnsonmlabarberaj-1980-62b3c57e',\n",
       "       'evansb-lettertoevan-johnsonmlabarberaj-1980-d9ac22be',\n",
       "       'evansb-autumnleaves-johnsonmlabarberaj-1980-2955522b',\n",
       "       'petersono-liza-brownrthigpene-1959-fd4117b5',\n",
       "       'garlandr-sosorryplease-jonesspersipc-1961-f42fcd79'], dtype=object)"
      ]
     },
     "execution_count": 47,
     "metadata": {},
     "output_type": "execute_result"
    }
   ],
   "source": [
    "df[df['r'] < 0.8]['track'].values"
   ]
  },
  {
   "cell_type": "code",
   "execution_count": 48,
   "id": "a4ba0aea-e3a3-41cc-886a-065ac2a8e4ae",
   "metadata": {
    "pycharm": {
     "name": "#%%\n"
    }
   },
   "outputs": [
    {
     "data": {
      "text/plain": [
       "count    1313.000000\n",
       "mean        0.970371\n",
       "std         0.046837\n",
       "min         0.690320\n",
       "25%         0.949006\n",
       "50%         0.998857\n",
       "75%         0.999531\n",
       "max         0.999936\n",
       "Name: r, dtype: float64"
      ]
     },
     "execution_count": 48,
     "metadata": {},
     "output_type": "execute_result"
    }
   ],
   "source": [
    "df['r'].describe()"
   ]
  }
 ],
 "metadata": {
  "kernelspec": {
   "display_name": "Python 3 (ipykernel)",
   "language": "python",
   "name": "python3"
  },
  "language_info": {
   "codemirror_mode": {
    "name": "ipython",
    "version": 3
   },
   "file_extension": ".py",
   "mimetype": "text/x-python",
   "name": "python",
   "nbconvert_exporter": "python",
   "pygments_lexer": "ipython3",
   "version": "3.10.12"
  }
 },
 "nbformat": 4,
 "nbformat_minor": 5
}