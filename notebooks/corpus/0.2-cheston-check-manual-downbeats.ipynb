{
 "cells": [
  {
   "cell_type": "code",
   "execution_count": 1,
   "id": "5d7b8b47-d07a-4d80-97b0-58be616c219e",
   "metadata": {},
   "outputs": [],
   "source": [
    "import numpy as np\n",
    "\n",
    "from src import utils"
   ]
  },
  {
   "cell_type": "code",
   "execution_count": 2,
   "id": "66f1b6b6-64e1-43c6-8e4a-a42fac0ec773",
   "metadata": {},
   "outputs": [],
   "source": [
    "corp = utils.load_corpus_from_files(f'{utils.get_project_root()}/data/cambridge-jazz-trio-database-v02')"
   ]
  },
  {
   "cell_type": "markdown",
   "id": "c3ab8667-b40d-4320-a32a-1e8d8b19760b",
   "metadata": {},
   "source": [
    "# Check manual downbeat accuracy"
   ]
  },
  {
   "cell_type": "code",
   "execution_count": 3,
   "id": "0f0f5786-150b-4db4-a257-8d9d1cb92ed6",
   "metadata": {},
   "outputs": [],
   "source": [
    "man_res = []\n",
    "auto_res = []\n",
    "comp_res = []\n",
    "\n",
    "for track in corp:\n",
    "    if track.item['has_annotations']:\n",
    "        # Get downbeats implied from Tessa's annotations\n",
    "        db1 = track.item['first_downbeat']\n",
    "        tracked = track.ons['mix']\n",
    "        manual_db = tracked[np.argmin(abs(db1 - tracked))::track.item['time_signature']]\n",
    "        # Get the automatically tracked downbeats\n",
    "        auto_db = track.ons['downbeats_auto']\n",
    "        # Get the ground truth downbeats\n",
    "        fn = rf'{utils.get_project_root()}/references/manual_annotation/{track.item[\"fname\"]}_mix.txt'\n",
    "        txt = np.loadtxt(fn, delimiter='\\t', usecols=[0, 1])\n",
    "        # Subset ground truth beats to get only those marked as downbeats\n",
    "        gt = np.array([ts for ts, met in txt if int(str(met).split('.')[-1]) == 1])\n",
    "        # Compare accuracy\n",
    "        auto_f = track.compare_onset_detection_accuracy(onsets=auto_db, ref=gt)['f_score']\n",
    "        man_f = track.compare_onset_detection_accuracy(onsets=manual_db, ref=gt)['f_score']\n",
    "        comp_f = track.compare_onset_detection_accuracy(onsets=manual_db, ref=auto_db)['f_score']\n",
    "        # Append results to list\n",
    "        man_res.append(man_f)\n",
    "        auto_res.append(auto_f)\n",
    "        comp_res.append(comp_f)"
   ]
  },
  {
   "cell_type": "code",
   "execution_count": 7,
   "id": "9a4a6322-665d-40dc-b7e6-ec712ecd9c0e",
   "metadata": {},
   "outputs": [
    {
     "name": "stdout",
     "output_type": "stream",
     "text": [
      "0.7071032590668818\n"
     ]
    }
   ],
   "source": [
    "print(np.mean(man_res))"
   ]
  },
  {
   "cell_type": "code",
   "execution_count": 8,
   "id": "4f91fa47-d2d6-4b77-b78e-09ca26bb8fed",
   "metadata": {},
   "outputs": [
    {
     "name": "stdout",
     "output_type": "stream",
     "text": [
      "0.6279583903902597\n"
     ]
    }
   ],
   "source": [
    "print(np.mean(auto_res))"
   ]
  },
  {
   "cell_type": "code",
   "execution_count": 9,
   "id": "85d357f4-4c3c-4e5f-8331-fbee43cc98ac",
   "metadata": {},
   "outputs": [
    {
     "name": "stdout",
     "output_type": "stream",
     "text": [
      "0.5645856146806403\n"
     ]
    }
   ],
   "source": [
    "print(np.mean(comp_res))"
   ]
  },
  {
   "cell_type": "markdown",
   "id": "8f4e55c9-c5aa-4340-aca7-0a311a674fbf",
   "metadata": {},
   "source": [
    "# Check for octave errors in manual vs automatic annotations"
   ]
  },
  {
   "cell_type": "code",
   "execution_count": 10,
   "id": "fa68897b-56fe-42c2-aab6-96f2a3b85bb9",
   "metadata": {},
   "outputs": [],
   "source": [
    "def get_bar_avg_tempo(bar):\n",
    "    return np.mean(60 / np.diff(bar))\n",
    "\n",
    "def split_to_bars(beats, time_sig):\n",
    "    # Iterate through each beat\n",
    "    for ll in range(0, len(beats)):\n",
    "        # Get the upper limit (equivalent to one bar and subset\n",
    "        ul = ll + time_sig\n",
    "        bar = beats[ll: ul]\n",
    "        # If we've ran out of beats to process\n",
    "        if len(bar) < time_sig:\n",
    "            break\n",
    "        yield bar\n",
    "            "
   ]
  },
  {
   "cell_type": "code",
   "execution_count": 21,
   "id": "ec62a120-75cd-43b3-9388-513518947c60",
   "metadata": {},
   "outputs": [],
   "source": [
    "res = []\n",
    "for track in corp:\n",
    "    # Skip the track if we don't have ground truth annotations\n",
    "    if not track.item['has_annotations']:\n",
    "        continue\n",
    "    # We can just use the beat tracking results here\n",
    "    # Using the band timestamps won't change much\n",
    "    auto_beats = track.summary_dict['beats']\n",
    "    # Load in the manual beat tracking results\n",
    "    fn = rf'{utils.get_project_root()}/references/manual_annotation/{track.item[\"fname\"]}_mix.txt'\n",
    "    man_beats = np.loadtxt(fn, delimiter='\\t', usecols=[0])\n",
    "    # Subset beats into bars\n",
    "    auto_bars = split_to_bars(auto_beats, track.item['time_signature'] * 4)\n",
    "    man_bars = split_to_bars(man_beats, track.item['time_signature'] * 4)\n",
    "    # Get average tempo from bars\n",
    "    auto_temps = np.array([get_bar_avg_tempo(bar) for bar in auto_bars])\n",
    "    man_temps = np.array([get_bar_avg_tempo(bar) for bar in man_bars])\n",
    "    # Get absolute differnce in mean tempo from automatic/manual annotations\n",
    "    diff = auto_temps.mean() / man_temps.mean()\n",
    "    res.append(diff)\n"
   ]
  },
  {
   "cell_type": "code",
   "execution_count": 23,
   "id": "d6a7c26a-0ffc-41ae-88f4-8dccbecb6c1f",
   "metadata": {},
   "outputs": [
    {
     "name": "stdout",
     "output_type": "stream",
     "text": [
      "0.9994909134614671\n",
      "0.0027648771533463298\n"
     ]
    }
   ],
   "source": [
    "print(np.median(res))\n",
    "print(np.std(res))"
   ]
  },
  {
   "cell_type": "code",
   "execution_count": 24,
   "id": "95df8fac-e7af-4858-9554-34e45020d2ed",
   "metadata": {},
   "outputs": [
    {
     "name": "stdout",
     "output_type": "stream",
     "text": [
      "[0.9997497407005782, 0.9897424536223364, 0.9997483482193757, 0.9995086395236125, 1.0039960031901765, 0.9977069811947354, 0.9998522660206451, 0.9984412963764357, 1.0011414353480854, 0.9986139608456287, 1.0074785768279984, 0.9977585363496678, 0.9985529132379081, 0.9993407453721729, 1.0026313356270806, 0.9995245573888077, 0.9966976449668349, 0.9960682137871205, 0.9989473269715174, 1.0000000000418905, 0.9992620311729388, 0.9994621358338489, 0.9997771846130616, 0.9997539783462085, 0.9995225972061664, 1.0010060421669582, 0.9991846149344242, 0.9995072650391544, 0.9944510096252323, 0.9985914291941757, 1.0026897216691721, 0.999100638547221, 1.0002046421103856, 0.9994745618837797]\n"
     ]
    }
   ],
   "source": [
    "print(res)"
   ]
  },
  {
   "cell_type": "code",
   "execution_count": null,
   "id": "23760fcc-286b-4b88-a326-385c1f4c57e2",
   "metadata": {},
   "outputs": [],
   "source": []
  }
 ],
 "metadata": {
  "kernelspec": {
   "display_name": "Python 3 (ipykernel)",
   "language": "python",
   "name": "python3"
  },
  "language_info": {
   "codemirror_mode": {
    "name": "ipython",
    "version": 3
   },
   "file_extension": ".py",
   "mimetype": "text/x-python",
   "name": "python",
   "nbconvert_exporter": "python",
   "pygments_lexer": "ipython3",
   "version": "3.10.12"
  }
 },
 "nbformat": 4,
 "nbformat_minor": 5
}
