{
 "cells": [
  {
   "cell_type": "code",
   "execution_count": null,
   "metadata": {
    "collapsed": true,
    "ExecuteTime": {
     "end_time": "2023-07-25T10:35:09.927377Z",
     "start_time": "2023-07-25T10:35:00.585072900Z"
    },
    "pycharm": {
     "name": "#%%\n"
    }
   },
   "outputs": [],
   "source": [
    "import pandas as pd\n",
    "import numpy as np\n",
    "from itertools import permutations\n",
    "\n",
    "import src.utils.analyse_utils as autils\n",
    "from src.clean.make_dataset import CorpusMakerFromExcel"
   ]
  },
  {
   "cell_type": "code",
   "execution_count": null,
   "outputs": [],
   "source": [
    "corpus = CorpusMakerFromExcel(\n",
    "    fname='corpus_bill_evans',\n",
    "    bandleader='Bill Evans',\n",
    "    bandleader_role='pianist',\n",
    "    dump_json=False\n",
    ").tracks"
   ],
   "metadata": {
    "collapsed": false,
    "ExecuteTime": {
     "end_time": "2023-07-25T10:35:12.731916400Z",
     "start_time": "2023-07-25T10:35:09.931877100Z"
    },
    "pycharm": {
     "name": "#%%\n"
    }
   }
  },
  {
   "cell_type": "code",
   "execution_count": null,
   "outputs": [],
   "source": [
    "df = pd.DataFrame(corpus)\n",
    "df = pd.concat([df.drop(['musicians'], axis=1), df['musicians'].apply(pd.Series)], axis=1)\n",
    "df = pd.concat([df.drop(['timestamps'], axis=1), df['timestamps'].apply(pd.Series)], axis=1)"
   ],
   "metadata": {
    "collapsed": false,
    "ExecuteTime": {
     "end_time": "2023-07-25T10:39:25.302577400Z",
     "start_time": "2023-07-25T10:39:25.144080Z"
    },
    "pycharm": {
     "name": "#%%\n"
    }
   }
  },
  {
   "cell_type": "code",
   "execution_count": null,
   "outputs": [],
   "source": [
    "exclusion_ids = [\n",
    "    \"e3a24b59-114e-4163-aa05-e71f582f5098\",\n",
    "    \"d1b60961-c55e-4cec-861c-d23d9054e49d\",\n",
    "    \"cf4fe905-cc4e-4206-812e-47236cbe1598\",\n",
    "    \"8828ee88-55c0-4383-8f84-852592c1c817\",\n",
    "    \"5ad284e9-cacb-4477-be08-b65e11c4271a\",\n",
    "    \"616886f2-9997-4902-8bdf-4a1eff4f3720\",\n",
    "    \"2955522b-d70a-4862-9359-397ca4ed2b1d\",\n",
    "    \"0fc0ae4f-f8a7-4745-b682-94f1bfbf604c\",\n",
    "    \"ed6edc64-8f29-40c9-a036-6a24479a3eb4\",\n",
    "    \"426cf53f-23a9-46c8-96c2-451128bc6cdc\",\n",
    "    \"18569365-43f0-46ec-9500-7c3d14e9fd18\",\n",
    "    \"a47c25f3-1cd7-4b48-aa90-26998a00271a\",\n",
    "    \"360d7a67-b8ff-4002-8c5a-e5d87b74c214\",\n",
    "    \"b6e70afa-1184-4792-acf3-cb12b6e275bd\",\n",
    "    \"ed3a8a72-25d6-408e-8c97-8c1524508d8a\",\n",
    "    \"94d467a6-4cd0-416e-aa05-66addb8d648f\",\n",
    "    \"056f18dc-5b2f-41ff-840d-86f3e096b6b9\",\n",
    "    \"0397954a-3c7b-4879-a03b-b86ac769e23b\",\n",
    "    \"5ba04874-b4b9-4f95-a35f-60265a26d200\",\n",
    "    \"b0963cd3-311d-4a7b-b475-95a94bee6830\",\n",
    "    \"3ef5652b-6880-42eb-817f-36e3be565b68\"\n",
    "]"
   ],
   "metadata": {
    "collapsed": false,
    "ExecuteTime": {
     "end_time": "2023-07-25T10:39:25.739081400Z",
     "start_time": "2023-07-25T10:39:25.700582800Z"
    },
    "pycharm": {
     "name": "#%%\n"
    }
   }
  },
  {
   "cell_type": "code",
   "execution_count": null,
   "outputs": [],
   "source": [
    "has_manual_annotations = [\n",
    "    '96983faa-05bb-4900-b8f3-a6af4ec08290',\n",
    "    '29cee7e1-f0a4-4ee0-be3b-ad1129933c7a',\n",
    "    # '360d7a67-b8ff-4002-8c5a-e5d87b74c214',\n",
    "    '57707551-2a88-4a64-ae65-552f1b9ce4bc',\n",
    "    # '616886f2-9997-4902-8bdf-4a1eff4f3720',\n",
    "    '902d3125-5eab-4c81-b504-975ca7a8a841',\n",
    "    'd66bd275-f3ac-45b8-bdd8-60045917d694',\n",
    "    \"597be228-4b30-4d1b-909d-dbe4fb57d937\"\n",
    "]\n",
    "df['has_annotations'] = df['mbz_id'].isin(has_manual_annotations)"
   ],
   "metadata": {
    "collapsed": false,
    "ExecuteTime": {
     "end_time": "2023-07-25T10:39:26.329082300Z",
     "start_time": "2023-07-25T10:39:26.238586600Z"
    },
    "pycharm": {
     "name": "#%%\n"
    }
   }
  },
  {
   "cell_type": "code",
   "execution_count": null,
   "outputs": [],
   "source": [
    "parser = lambda x : pd.to_datetime(x, format=\"%H:%M:%S\") if len(x) > 5 else pd.to_datetime(x, format=\"%M:%S\")\n",
    "df['excerpt_duration'] = (df['end'].apply(parser) - df['start'].apply(parser))"
   ],
   "metadata": {
    "collapsed": false,
    "ExecuteTime": {
     "end_time": "2023-07-25T10:39:26.946083600Z",
     "start_time": "2023-07-25T10:39:26.734585500Z"
    },
    "pycharm": {
     "name": "#%%\n"
    }
   }
  },
  {
   "cell_type": "code",
   "execution_count": null,
   "outputs": [],
   "source": [
    "all_tracks = df.groupby(['bassist', 'drummer'])['excerpt_duration'].agg(['sum', lambda x: x.sum() / 10])\n",
    "only_annotated = df[df['has_annotations'] == True].groupby(['bassist', 'drummer'])['excerpt_duration'].sum()"
   ],
   "metadata": {
    "collapsed": false,
    "ExecuteTime": {
     "end_time": "2023-07-25T10:39:27.388585700Z",
     "start_time": "2023-07-25T10:39:27.352078900Z"
    },
    "pycharm": {
     "name": "#%%\n"
    }
   }
  },
  {
   "cell_type": "code",
   "execution_count": null,
   "outputs": [],
   "source": [
    "summary = pd.concat([all_tracks, only_annotated], axis=1)\n",
    "summary.columns = ['total', 'total/10', 'total_annotated']\n",
    "summary['total_annotated'] = summary['total_annotated'].fillna(pd.Timedelta(0))\n",
    "summary['total_required'] = (summary['total/10'] - summary['total_annotated']).dt.total_seconds()\n",
    "summary['total/10'] = summary['total/10'].dt.total_seconds()"
   ],
   "metadata": {
    "collapsed": false,
    "ExecuteTime": {
     "end_time": "2023-07-25T10:39:28.046583Z",
     "start_time": "2023-07-25T10:39:27.981585700Z"
    },
    "pycharm": {
     "name": "#%%\n"
    }
   }
  },
  {
   "cell_type": "code",
   "execution_count": null,
   "outputs": [],
   "source": [
    "def get_closest_match(nums: np.ndarray, targ: int, depth: int = 5) -> int:\n",
    "    permlist = [list(permutations(nums, r=i)) for i in range(1, depth)]\n",
    "    permlist = [item for sublist in permlist for item in sublist]\n",
    "    sumlist = [sum(l) for l in permlist]\n",
    "    maxpos = 0\n",
    "    for i in range(1, len(sumlist)):\n",
    "        if abs(sumlist[i] - targ) < abs(sumlist[maxpos] - targ):\n",
    "             maxpos = i\n",
    "    return np.where(np.in1d(nums, permlist[maxpos]))[0]\n",
    "\n",
    "\n",
    "to_annotate = []\n",
    "for idx, grp in df[(df['has_annotations'] == False)].groupby(['bassist', 'drummer']):\n",
    "    grp = grp[~grp['mbz_id'].isin(exclusion_ids)]\n",
    "    ids = grp['mbz_id'].values\n",
    "    vals = grp['excerpt_duration'].dt.total_seconds().values\n",
    "    su = summary.reset_index(drop=False)\n",
    "    target = su[(su['bassist'] == idx[0]) & (su['drummer'] == idx[1])]['total_required'].iloc[0]\n",
    "    closest_match = get_closest_match(vals, target)\n",
    "    to_annotate.extend(ids[closest_match])"
   ],
   "metadata": {
    "collapsed": false,
    "ExecuteTime": {
     "end_time": "2023-07-25T10:40:29.478080Z",
     "start_time": "2023-07-25T10:39:28.851085400Z"
    },
    "pycharm": {
     "name": "#%%\n"
    }
   }
  },
  {
   "cell_type": "code",
   "execution_count": null,
   "outputs": [],
   "source": [
    "sub1 = df[df['mbz_id'].isin(to_annotate)].drop_duplicates(subset=['bassist', 'drummer', 'excerpt_duration'])\n",
    "sub2 = pd.concat([df[df['has_annotations'] == True], pd.DataFrame(df.iloc[81]).transpose()], axis=0)\n",
    "pd.concat([\n",
    "    pd.concat([sub1, sub2], axis=0).groupby(['bassist', 'drummer'])['excerpt_duration'].sum().dt.total_seconds().rename('seconds_to_get'),\n",
    "    summary['total/10'].rename('seconds_required')\n",
    "    ],\n",
    "axis=1)\n"
   ],
   "metadata": {
    "collapsed": false,
    "ExecuteTime": {
     "end_time": "2023-07-25T10:40:29.664584300Z",
     "start_time": "2023-07-25T10:40:29.490580700Z"
    },
    "pycharm": {
     "name": "#%%\n"
    }
   }
  },
  {
   "cell_type": "code",
   "execution_count": null,
   "outputs": [],
   "source": [
    "big = pd.concat([sub1, sub2], axis=0)\n",
    "with open(rf'{autils.get_project_root()}\\references\\manual_annotation\\tracks_to_annotate.txt', 'w') as f:\n",
    "    for line in big.mbz_id.astype(str).to_list():\n",
    "        f.write(f\"{line}\\n\")"
   ],
   "metadata": {
    "collapsed": false,
    "ExecuteTime": {
     "end_time": "2023-07-25T10:40:35.603080600Z",
     "start_time": "2023-07-25T10:40:35.387586Z"
    },
    "pycharm": {
     "name": "#%%\n"
    }
   }
  },
  {
   "cell_type": "code",
   "execution_count": null,
   "outputs": [],
   "source": [
    "big.sort_values(by='track_name')[['track_name', 'recording_year', 'mbz_id', 'bassist', 'drummer', 'excerpt_duration']].to_clipboard()"
   ],
   "metadata": {
    "collapsed": false,
    "ExecuteTime": {
     "end_time": "2023-07-24T12:40:30.623003500Z",
     "start_time": "2023-07-24T12:40:30.387499900Z"
    },
    "pycharm": {
     "name": "#%%\n"
    }
   }
  },
  {
   "cell_type": "code",
   "execution_count": null,
   "outputs": [],
   "source": [
    "big"
   ],
   "metadata": {
    "collapsed": false,
    "ExecuteTime": {
     "end_time": "2023-07-25T10:41:26.154566500Z",
     "start_time": "2023-07-25T10:41:26.045067800Z"
    },
    "pycharm": {
     "name": "#%%\n"
    }
   }
  },
  {
   "cell_type": "code",
   "execution_count": null,
   "outputs": [],
   "source": [],
   "metadata": {
    "collapsed": false,
    "pycharm": {
     "name": "#%%\n"
    }
   }
  }
 ],
 "metadata": {
  "kernelspec": {
   "display_name": "Python 3",
   "language": "python",
   "name": "python3"
  },
  "language_info": {
   "codemirror_mode": {
    "name": "ipython",
    "version": 2
   },
   "file_extension": ".py",
   "mimetype": "text/x-python",
   "name": "python",
   "nbconvert_exporter": "python",
   "pygments_lexer": "ipython2",
   "version": "2.7.6"
  }
 },
 "nbformat": 4,
 "nbformat_minor": 0
}