{
 "cells": [
  {
   "cell_type": "markdown",
   "id": "5312625d-4e08-4b29-8a34-975f0fd2186b",
   "metadata": {
    "pycharm": {
     "name": "#%% md\n"
    }
   },
   "source": [
    "# Compare piano transcription methods"
   ]
  },
  {
   "cell_type": "code",
   "execution_count": 1,
   "id": "2ffb2128-3511-4083-925f-079af8874f38",
   "metadata": {
    "pycharm": {
     "name": "#%%\n"
    }
   },
   "outputs": [],
   "source": [
    "from src import utils\n",
    "from src.detect.onset_utils import OnsetMaker, bandpass_filter\n",
    "from src.detect.midi_utils import group_onsets\n",
    "from pretty_midi import PrettyMIDI\n",
    "import librosa\n",
    "from joblib import Parallel, delayed\n",
    "import numpy as np\n",
    "import pandas as pd\n",
    "import src.visualise.visualise_utils as vutils"
   ]
  },
  {
   "cell_type": "code",
   "execution_count": 62,
   "id": "f765e2b1-60b0-46a9-9a27-cf6c723a2d07",
   "metadata": {
    "pycharm": {
     "name": "#%%\n"
    }
   },
   "outputs": [],
   "source": [
    "corp = utils.CorpusMaker.from_excel('corpus_updated', only_annotated=True, only_30_corpus=False)"
   ]
  },
  {
   "cell_type": "markdown",
   "id": "287d4535-dcca-4296-b977-9774fd2ae321",
   "metadata": {
    "pycharm": {
     "name": "#%% md\n"
    }
   },
   "source": [
    "## Current approach"
   ]
  },
  {
   "cell_type": "code",
   "execution_count": 18,
   "id": "29bf8882-6bc0-4c9f-94a6-130719f0a192",
   "metadata": {
    "pycharm": {
     "name": "#%%\n"
    }
   },
   "outputs": [],
   "source": [
    "loaded = utils.load_corpus_from_files(f'{utils.get_project_root()}/data/cambridge-jazz-trio-database-v02')\n",
    "fns = set(track['fname'] for track in corp.tracks)\n",
    "res_cur = [{'track': t.item['fname'], 'method': 'current', **t.item['validation']['piano']} for t in loaded if t.item['validation']['piano'] is not None and t.item['fname'] in fns]"
   ]
  },
  {
   "cell_type": "markdown",
   "id": "86af02ff-f64b-4299-9359-48c921fe6a1a",
   "metadata": {
    "pycharm": {
     "name": "#%% md\n"
    }
   },
   "source": [
    "## Automatic MIDI transcription"
   ]
  },
  {
   "cell_type": "code",
   "execution_count": 19,
   "id": "2a9bac04-d2d7-4bf1-8acc-d2e2a6e57b71",
   "metadata": {
    "pycharm": {
     "name": "#%%\n"
    }
   },
   "outputs": [],
   "source": [
    "def auto_midi(item):\n",
    "    om = OnsetMaker(item, skip_processing=True)\n",
    "    mm = PrettyMIDI(f'{utils.get_project_root()}/data/cambridge-jazz-trio-database-v02/{item[\"fname\"]}/piano_midi.mid')\n",
    "    ons = [o.start for o in mm.instruments[0].notes]\n",
    "    fmt = group_onsets(ons, keep_func=np.min)\n",
    "    return {\n",
    "        'track': item['fname'],\n",
    "        'method': 'automatic_midi', \n",
    "        **om.compare_onset_detection_accuracy(\n",
    "            fname=rf'{om.references_dir}/manual_annotation/{item[\"fname\"]}_piano.txt',\n",
    "            onsets=fmt,\n",
    "        )\n",
    "    }"
   ]
  },
  {
   "cell_type": "code",
   "execution_count": 20,
   "id": "fb0bb5cf-44dd-4190-afac-f086f9d9c084",
   "metadata": {
    "pycharm": {
     "name": "#%%\n"
    }
   },
   "outputs": [],
   "source": [
    "# Fast enough to process consecutively\n",
    "res_mm = [auto_midi(i) for i in corp.tracks]"
   ]
  },
  {
   "cell_type": "markdown",
   "id": "ee767738-fce7-43c7-bc67-7ff22864bba0",
   "metadata": {
    "pycharm": {
     "name": "#%% md\n"
    }
   },
   "source": [
    "## Spectral flux"
   ]
  },
  {
   "cell_type": "code",
   "execution_count": 21,
   "id": "45482367-f747-41f5-9da1-d5cf639e86d0",
   "metadata": {
    "pycharm": {
     "name": "#%%\n"
    }
   },
   "outputs": [],
   "source": [
    "# Set the optimised defaults\n",
    "params_sf = {\n",
    "    \"wait\": 18,\n",
    "    \"delta\": 0.023021937161684,\n",
    "    \"pre_max\": 20,\n",
    "    \"post_max\": 22,\n",
    "    \"pre_avg\": 53,\n",
    "    \"post_avg\": 4\n",
    "}"
   ]
  },
  {
   "cell_type": "code",
   "execution_count": 22,
   "id": "db315d96-d03b-4772-b5d9-28ce14ec42d0",
   "metadata": {
    "pycharm": {
     "name": "#%%\n"
    }
   },
   "outputs": [],
   "source": [
    "def spec_flux(item):\n",
    "    made = OnsetMaker(item, skip_processing=False)\n",
    "    ons = librosa.onset.onset_detect(\n",
    "        y=made.audio['piano'],\n",
    "        sr=utils.SAMPLE_RATE,\n",
    "        hop_length=utils.HOP_LENGTH,\n",
    "        units='time',\n",
    "        **params_sf\n",
    "    )  \n",
    "    return {\n",
    "        'track': item['fname'],\n",
    "        'method': 'spectral_flux', \n",
    "        **made.compare_onset_detection_accuracy(\n",
    "            fname=rf'{made.references_dir}/manual_annotation/{item[\"fname\"]}_piano.txt',\n",
    "            onsets=ons,\n",
    "        )\n",
    "    }"
   ]
  },
  {
   "cell_type": "code",
   "execution_count": 23,
   "id": "1c1471cf-76ef-4d20-ac30-1ce144387418",
   "metadata": {
    "pycharm": {
     "name": "#%%\n"
    }
   },
   "outputs": [
    {
     "name": "stderr",
     "output_type": "stream",
     "text": [
      "[Parallel(n_jobs=-1)]: Using backend LokyBackend with 24 concurrent workers.\n",
      "[Parallel(n_jobs=-1)]: Done   3 out of  34 | elapsed:   15.8s remaining:  2.7min\n",
      "[Parallel(n_jobs=-1)]: Done   7 out of  34 | elapsed:   22.0s remaining:  1.4min\n",
      "/home/hwc31/Cambridge-Jazz-Trio-Database/src/detect/onset_utils.py:173: UserWarning: item evansb-nocovernominimum-koticktmotianp-1956-f675dc4a, track bass exceeds silence threshold: (0.8 > 0.33)\n",
      "  warnings.warn(\n",
      "[Parallel(n_jobs=-1)]: Done  11 out of  34 | elapsed:   37.3s remaining:  1.3min\n",
      "[Parallel(n_jobs=-1)]: Done  15 out of  34 | elapsed:   47.1s remaining:   59.6s\n",
      "[Parallel(n_jobs=-1)]: Done  19 out of  34 | elapsed:   51.4s remaining:   40.6s\n",
      "[Parallel(n_jobs=-1)]: Done  23 out of  34 | elapsed:   54.7s remaining:   26.2s\n",
      "[Parallel(n_jobs=-1)]: Done  27 out of  34 | elapsed:   55.8s remaining:   14.5s\n",
      "[Parallel(n_jobs=-1)]: Done  31 out of  34 | elapsed:   56.7s remaining:    5.5s\n",
      "[Parallel(n_jobs=-1)]: Done  34 out of  34 | elapsed:  1.0min finished\n"
     ]
    }
   ],
   "source": [
    "with Parallel(n_jobs=-1, backend='loky', verbose=10) as par:\n",
    "    res_sf = par(delayed(spec_flux)(i) for i in corp.tracks)"
   ]
  },
  {
   "cell_type": "markdown",
   "id": "0fd57bd8-4ebf-4515-931b-f8eaafe02ea1",
   "metadata": {
    "pycharm": {
     "name": "#%% md\n"
    }
   },
   "source": [
    "## Current approach, no filtering"
   ]
  },
  {
   "cell_type": "code",
   "execution_count": 24,
   "id": "069f44bf-6c88-4f84-85ac-e9ab902dd672",
   "metadata": {
    "pycharm": {
     "name": "#%%\n"
    }
   },
   "outputs": [],
   "source": [
    "def no_filter(item):\n",
    "    made = OnsetMaker(item, skip_processing=True)\n",
    "    fname = made._get_channel_override_fpath('piano', made.instrs['piano'])\n",
    "    made.audio = {}\n",
    "    y, _ = librosa.load(\n",
    "        path=fname,\n",
    "        sr=utils.SAMPLE_RATE,\n",
    "        mono=True,\n",
    "        offset=0,\n",
    "        duration=None,\n",
    "        dtype=np.float64,\n",
    "        res_type='soxr_vhq',\n",
    "    )\n",
    "    made.audio['piano'] = librosa.util.normalize(y)\n",
    "    ons = made.onset_detect_cnn('piano')\n",
    "    return {\n",
    "        'track': item['fname'],\n",
    "        'method': 'cnn_no_filter', \n",
    "        **made.compare_onset_detection_accuracy(\n",
    "            fname=rf'{made.references_dir}/manual_annotation/{item[\"fname\"]}_piano.txt',\n",
    "            onsets=ons,\n",
    "        )\n",
    "    }"
   ]
  },
  {
   "cell_type": "code",
   "execution_count": 25,
   "id": "bb9b764a-4b6a-44ff-951d-8d6c3c0bb5b4",
   "metadata": {
    "pycharm": {
     "name": "#%%\n"
    }
   },
   "outputs": [
    {
     "name": "stderr",
     "output_type": "stream",
     "text": [
      "[Parallel(n_jobs=-1)]: Using backend LokyBackend with 24 concurrent workers.\n",
      "[Parallel(n_jobs=-1)]: Done   3 out of  34 | elapsed:    2.2s remaining:   22.6s\n",
      "[Parallel(n_jobs=-1)]: Done   7 out of  34 | elapsed:    4.3s remaining:   16.7s\n",
      "[Parallel(n_jobs=-1)]: Done  11 out of  34 | elapsed:    6.3s remaining:   13.2s\n",
      "[Parallel(n_jobs=-1)]: Done  15 out of  34 | elapsed:    7.6s remaining:    9.6s\n",
      "[Parallel(n_jobs=-1)]: Done  19 out of  34 | elapsed:    8.7s remaining:    6.9s\n",
      "[Parallel(n_jobs=-1)]: Done  23 out of  34 | elapsed:    9.0s remaining:    4.3s\n",
      "[Parallel(n_jobs=-1)]: Done  27 out of  34 | elapsed:    9.3s remaining:    2.4s\n",
      "[Parallel(n_jobs=-1)]: Done  31 out of  34 | elapsed:    9.9s remaining:    1.0s\n",
      "[Parallel(n_jobs=-1)]: Done  34 out of  34 | elapsed:   10.6s finished\n"
     ]
    }
   ],
   "source": [
    "with Parallel(n_jobs=-1, backend='loky', verbose=10) as par:\n",
    "    res_nf = par(delayed(no_filter)(i) for i in corp.tracks)"
   ]
  },
  {
   "cell_type": "markdown",
   "id": "46b2dda7-89e2-4041-a13c-a606e5020b62",
   "metadata": {
    "pycharm": {
     "name": "#%% md\n"
    }
   },
   "source": [
    "## Current approach, more filter"
   ]
  },
  {
   "cell_type": "code",
   "execution_count": 26,
   "id": "5e8ccde5-00df-470b-b0b8-19f571980b4f",
   "metadata": {
    "pycharm": {
     "name": "#%%\n"
    }
   },
   "outputs": [],
   "source": [
    "def more_filter(item, lowcut, highcut):\n",
    "    made = OnsetMaker(item, skip_processing=True)\n",
    "    fname = made._get_channel_override_fpath('piano', made.instrs['piano'])\n",
    "    made.audio = {}\n",
    "    y, _ = librosa.load(\n",
    "        path=fname,\n",
    "        sr=utils.SAMPLE_RATE,\n",
    "        mono=True,\n",
    "        offset=0,\n",
    "        duration=None,\n",
    "        dtype=np.float64,\n",
    "        res_type='soxr_vhq',\n",
    "    )\n",
    "    y = bandpass_filter(\n",
    "        audio=y,\n",
    "        lowcut=lowcut,\n",
    "        highcut=highcut,\n",
    "        order=made.order\n",
    "    )\n",
    "    made.audio['piano'] = librosa.util.normalize(y)\n",
    "    ons = made.onset_detect_cnn('piano')\n",
    "    return {\n",
    "        'track': item['fname'],\n",
    "        'method': f'cnn_{lowcut}_{highcut}', \n",
    "        **made.compare_onset_detection_accuracy(\n",
    "            fname=rf'{made.references_dir}/manual_annotation/{item[\"fname\"]}_piano.txt',\n",
    "            onsets=ons,\n",
    "        )\n",
    "    }"
   ]
  },
  {
   "cell_type": "code",
   "execution_count": 27,
   "id": "d3e3b8d2-634f-41a3-a59b-19e2d1fe2005",
   "metadata": {
    "pycharm": {
     "name": "#%%\n"
    }
   },
   "outputs": [
    {
     "name": "stderr",
     "output_type": "stream",
     "text": [
      "[Parallel(n_jobs=-1)]: Using backend LokyBackend with 24 concurrent workers.\n",
      "[Parallel(n_jobs=-1)]: Done   3 out of  34 | elapsed:    2.4s remaining:   24.4s\n",
      "[Parallel(n_jobs=-1)]: Done   7 out of  34 | elapsed:    4.2s remaining:   16.3s\n",
      "[Parallel(n_jobs=-1)]: Done  11 out of  34 | elapsed:    6.7s remaining:   14.0s\n",
      "[Parallel(n_jobs=-1)]: Done  15 out of  34 | elapsed:    7.9s remaining:   10.0s\n",
      "[Parallel(n_jobs=-1)]: Done  19 out of  34 | elapsed:    9.1s remaining:    7.1s\n",
      "[Parallel(n_jobs=-1)]: Done  23 out of  34 | elapsed:    9.4s remaining:    4.5s\n",
      "[Parallel(n_jobs=-1)]: Done  27 out of  34 | elapsed:    9.7s remaining:    2.5s\n",
      "[Parallel(n_jobs=-1)]: Done  31 out of  34 | elapsed:   10.3s remaining:    1.0s\n",
      "[Parallel(n_jobs=-1)]: Done  34 out of  34 | elapsed:   11.5s finished\n"
     ]
    }
   ],
   "source": [
    "with Parallel(n_jobs=-1, backend='loky', verbose=10) as par:\n",
    "    res_220_1760 = par(delayed(more_filter)(i, 220, 1760) for i in corp.tracks)"
   ]
  },
  {
   "cell_type": "markdown",
   "id": "96096e09-ade9-49d2-b57f-66210c14a27a",
   "metadata": {
    "pycharm": {
     "name": "#%% md\n"
    }
   },
   "source": [
    "## Putting it all together"
   ]
  },
  {
   "cell_type": "code",
   "execution_count": 28,
   "id": "d6fa6536-ea9b-47c3-a9e5-0201ac424cd1",
   "metadata": {},
   "outputs": [],
   "source": [
    "def fmt(x):\n",
    "    x = x.dropna()\n",
    "    return f'{round(np.mean(x), 2)} ± {round(np.std(x), 2)}'"
   ]
  },
  {
   "cell_type": "code",
   "execution_count": 59,
   "id": "992737cd-6d67-416b-9409-e99d5a72391d",
   "metadata": {
    "pycharm": {
     "name": "#%%\n"
    }
   },
   "outputs": [],
   "source": [
    "df = pd.DataFrame(res_mm + res_sf + res_nf + res_220_1760)"
   ]
  },
  {
   "cell_type": "code",
   "execution_count": 60,
   "id": "14b67a21-82da-4646-8535-fb21e1261b47",
   "metadata": {},
   "outputs": [
    {
     "data": {
      "text/html": [
       "<div>\n",
       "<style scoped>\n",
       "    .dataframe tbody tr th:only-of-type {\n",
       "        vertical-align: middle;\n",
       "    }\n",
       "\n",
       "    .dataframe tbody tr th {\n",
       "        vertical-align: top;\n",
       "    }\n",
       "\n",
       "    .dataframe thead th {\n",
       "        text-align: right;\n",
       "    }\n",
       "</style>\n",
       "<table border=\"1\" class=\"dataframe\">\n",
       "  <thead>\n",
       "    <tr style=\"text-align: right;\">\n",
       "      <th>method</th>\n",
       "      <th>(1)</th>\n",
       "      <th>(2)</th>\n",
       "      <th>(3)</th>\n",
       "      <th>(4)</th>\n",
       "    </tr>\n",
       "  </thead>\n",
       "  <tbody>\n",
       "    <tr>\n",
       "      <th>F</th>\n",
       "      <td>0.77 ± 0.13</td>\n",
       "      <td>0.84 ± 0.06</td>\n",
       "      <td>0.92 ± 0.03</td>\n",
       "      <td>0.92 ± 0.03</td>\n",
       "    </tr>\n",
       "    <tr>\n",
       "      <th>P</th>\n",
       "      <td>0.71 ± 0.16</td>\n",
       "      <td>0.79 ± 0.1</td>\n",
       "      <td>0.9 ± 0.06</td>\n",
       "      <td>0.95 ± 0.03</td>\n",
       "    </tr>\n",
       "    <tr>\n",
       "      <th>R</th>\n",
       "      <td>0.86 ± 0.09</td>\n",
       "      <td>0.9 ± 0.04</td>\n",
       "      <td>0.93 ± 0.03</td>\n",
       "      <td>0.89 ± 0.05</td>\n",
       "    </tr>\n",
       "  </tbody>\n",
       "</table>\n",
       "</div>"
      ],
      "text/plain": [
       "method          (1)          (2)          (3)          (4)\n",
       "F       0.77 ± 0.13  0.84 ± 0.06  0.92 ± 0.03  0.92 ± 0.03\n",
       "P       0.71 ± 0.16   0.79 ± 0.1   0.9 ± 0.06  0.95 ± 0.03\n",
       "R       0.86 ± 0.09   0.9 ± 0.04  0.93 ± 0.03  0.89 ± 0.05"
      ]
     },
     "execution_count": 60,
     "metadata": {},
     "output_type": "execute_result"
    }
   ],
   "source": [
    "f = df.groupby('method')['f_score'].apply(fmt)\n",
    "p = df.groupby('method')['precision'].apply(fmt)\n",
    "r = df.groupby('method')['recall'].apply(fmt)\n",
    "(\n",
    "    pd.concat([f, p, r], axis=1)\n",
    "    .transpose()\n",
    "    .rename(\n",
    "        columns={'automatic_midi': \"(1)\", 'spectral_flux': \"(2)\", 'cnn_no_filter': \"(3)\", 'cnn_220_1760': \"(4)\"},\n",
    "        index={'f_score': 'F', 'precision': 'P', 'recall': 'R'}\n",
    "    )\n",
    "    [[\"(1)\", \"(2)\", \"(3)\", \"(4)\"]]\n",
    ")"
   ]
  },
  {
   "cell_type": "markdown",
   "id": "8df9d005-fc4c-42cd-ad7d-6a2dc0635f56",
   "metadata": {},
   "source": [
    "## F-score table for copying"
   ]
  },
  {
   "cell_type": "code",
   "execution_count": 63,
   "id": "e8114c41-f695-4ea1-9844-dd3a7277efc4",
   "metadata": {},
   "outputs": [
    {
     "name": "stdout",
     "output_type": "stream",
     "text": [
      "34\n"
     ]
    }
   ],
   "source": [
    "loaded = utils.load_corpus_from_files(f'{utils.get_project_root()}/data/cambridge-jazz-trio-database-v02')\n",
    "fns = set(track['fname'] for track in corp.tracks)\n",
    "bigres = []\n",
    "for t in loaded:\n",
    "    if t.item['fname'] in fns:\n",
    "        bigres.append(pd.DataFrame([{'track': t.item['fname'], 'instr': ins, **t.item['validation'][ins]} for ins in ['piano', 'bass', 'drums', 'mix', 'mix_downbeats']]))\n",
    "fdf = pd.concat(bigres)\n",
    "print(len(bigres)) # should be 34"
   ]
  },
  {
   "cell_type": "code",
   "execution_count": 64,
   "id": "12d29d1e-2bdb-4033-8651-9db21e17f642",
   "metadata": {},
   "outputs": [
    {
     "data": {
      "text/html": [
       "<div>\n",
       "<style scoped>\n",
       "    .dataframe tbody tr th:only-of-type {\n",
       "        vertical-align: middle;\n",
       "    }\n",
       "\n",
       "    .dataframe tbody tr th {\n",
       "        vertical-align: top;\n",
       "    }\n",
       "\n",
       "    .dataframe thead th {\n",
       "        text-align: right;\n",
       "    }\n",
       "</style>\n",
       "<table border=\"1\" class=\"dataframe\">\n",
       "  <thead>\n",
       "    <tr style=\"text-align: right;\">\n",
       "      <th>instr</th>\n",
       "      <th>Bass</th>\n",
       "      <th>Drums</th>\n",
       "      <th>Beats</th>\n",
       "      <th>Downbeats</th>\n",
       "      <th>Piano</th>\n",
       "    </tr>\n",
       "  </thead>\n",
       "  <tbody>\n",
       "    <tr>\n",
       "      <th>F</th>\n",
       "      <td>0.93 ± 0.05</td>\n",
       "      <td>0.95 ± 0.03</td>\n",
       "      <td>0.97 ± 0.05</td>\n",
       "      <td>0.63 ± 0.44</td>\n",
       "      <td>0.93 ± 0.03</td>\n",
       "    </tr>\n",
       "    <tr>\n",
       "      <th>P</th>\n",
       "      <td>0.94 ± 0.04</td>\n",
       "      <td>0.96 ± 0.04</td>\n",
       "      <td>0.97 ± 0.05</td>\n",
       "      <td>0.63 ± 0.44</td>\n",
       "      <td>0.93 ± 0.04</td>\n",
       "    </tr>\n",
       "    <tr>\n",
       "      <th>R</th>\n",
       "      <td>0.93 ± 0.07</td>\n",
       "      <td>0.94 ± 0.04</td>\n",
       "      <td>0.97 ± 0.05</td>\n",
       "      <td>0.63 ± 0.44</td>\n",
       "      <td>0.93 ± 0.04</td>\n",
       "    </tr>\n",
       "  </tbody>\n",
       "</table>\n",
       "</div>"
      ],
      "text/plain": [
       "instr         Bass        Drums        Beats    Downbeats        Piano\n",
       "F      0.93 ± 0.05  0.95 ± 0.03  0.97 ± 0.05  0.63 ± 0.44  0.93 ± 0.03\n",
       "P      0.94 ± 0.04  0.96 ± 0.04  0.97 ± 0.05  0.63 ± 0.44  0.93 ± 0.04\n",
       "R      0.93 ± 0.07  0.94 ± 0.04  0.97 ± 0.05  0.63 ± 0.44  0.93 ± 0.04"
      ]
     },
     "execution_count": 64,
     "metadata": {},
     "output_type": "execute_result"
    }
   ],
   "source": [
    "f = fdf.groupby('instr')['f_score'].apply(fmt)\n",
    "p = fdf.groupby('instr')['precision'].apply(fmt)\n",
    "r = fdf.groupby('instr')['recall'].apply(fmt)\n",
    "(\n",
    "    pd.concat([f, p, r], axis=1)\n",
    "    .transpose()\n",
    "    .rename(\n",
    "        columns={'bass': \"Bass\", 'drums': \"Drums\", 'piano': \"Piano\", 'mix': \"Beats\", \"mix_downbeats\": \"Downbeats\"},\n",
    "        index={'f_score': 'F', 'precision': 'P', 'recall': 'R'}\n",
    "    )\n",
    ")"
   ]
  },
  {
   "cell_type": "code",
   "execution_count": 65,
   "id": "a4212c10-fa2d-4294-92b1-2e578d92616c",
   "metadata": {},
   "outputs": [
    {
     "data": {
      "text/html": [
       "<div>\n",
       "<style scoped>\n",
       "    .dataframe tbody tr th:only-of-type {\n",
       "        vertical-align: middle;\n",
       "    }\n",
       "\n",
       "    .dataframe tbody tr th {\n",
       "        vertical-align: top;\n",
       "    }\n",
       "\n",
       "    .dataframe thead th {\n",
       "        text-align: right;\n",
       "    }\n",
       "</style>\n",
       "<table border=\"1\" class=\"dataframe\">\n",
       "  <thead>\n",
       "    <tr style=\"text-align: right;\">\n",
       "      <th></th>\n",
       "      <th>count</th>\n",
       "      <th>mean</th>\n",
       "      <th>std</th>\n",
       "      <th>min</th>\n",
       "      <th>25%</th>\n",
       "      <th>50%</th>\n",
       "      <th>75%</th>\n",
       "      <th>max</th>\n",
       "    </tr>\n",
       "    <tr>\n",
       "      <th>instr</th>\n",
       "      <th></th>\n",
       "      <th></th>\n",
       "      <th></th>\n",
       "      <th></th>\n",
       "      <th></th>\n",
       "      <th></th>\n",
       "      <th></th>\n",
       "      <th></th>\n",
       "    </tr>\n",
       "  </thead>\n",
       "  <tbody>\n",
       "    <tr>\n",
       "      <th>bass</th>\n",
       "      <td>34000.0</td>\n",
       "      <td>-4.286911</td>\n",
       "      <td>4.380241</td>\n",
       "      <td>-16.018750</td>\n",
       "      <td>-6.811371</td>\n",
       "      <td>-3.599585</td>\n",
       "      <td>-2.312851</td>\n",
       "      <td>4.008071</td>\n",
       "    </tr>\n",
       "    <tr>\n",
       "      <th>drums</th>\n",
       "      <td>34000.0</td>\n",
       "      <td>-3.537782</td>\n",
       "      <td>2.953177</td>\n",
       "      <td>-9.301071</td>\n",
       "      <td>-4.986423</td>\n",
       "      <td>-4.274213</td>\n",
       "      <td>-2.520374</td>\n",
       "      <td>3.074587</td>\n",
       "    </tr>\n",
       "    <tr>\n",
       "      <th>mix</th>\n",
       "      <td>34000.0</td>\n",
       "      <td>-4.819691</td>\n",
       "      <td>4.579224</td>\n",
       "      <td>-13.228514</td>\n",
       "      <td>-7.856931</td>\n",
       "      <td>-5.772287</td>\n",
       "      <td>-1.743990</td>\n",
       "      <td>5.006074</td>\n",
       "    </tr>\n",
       "    <tr>\n",
       "      <th>mix_downbeats</th>\n",
       "      <td>25000.0</td>\n",
       "      <td>-5.069938</td>\n",
       "      <td>4.494798</td>\n",
       "      <td>-12.498632</td>\n",
       "      <td>-8.224669</td>\n",
       "      <td>-5.947830</td>\n",
       "      <td>-0.627362</td>\n",
       "      <td>2.778432</td>\n",
       "    </tr>\n",
       "    <tr>\n",
       "      <th>piano</th>\n",
       "      <td>34000.0</td>\n",
       "      <td>-5.774872</td>\n",
       "      <td>2.277146</td>\n",
       "      <td>-10.774737</td>\n",
       "      <td>-7.067589</td>\n",
       "      <td>-6.045731</td>\n",
       "      <td>-4.447851</td>\n",
       "      <td>-0.579110</td>\n",
       "    </tr>\n",
       "  </tbody>\n",
       "</table>\n",
       "</div>"
      ],
      "text/plain": [
       "                 count      mean       std        min       25%       50%  \\\n",
       "instr                                                                       \n",
       "bass           34000.0 -4.286911  4.380241 -16.018750 -6.811371 -3.599585   \n",
       "drums          34000.0 -3.537782  2.953177  -9.301071 -4.986423 -4.274213   \n",
       "mix            34000.0 -4.819691  4.579224 -13.228514 -7.856931 -5.772287   \n",
       "mix_downbeats  25000.0 -5.069938  4.494798 -12.498632 -8.224669 -5.947830   \n",
       "piano          34000.0 -5.774872  2.277146 -10.774737 -7.067589 -6.045731   \n",
       "\n",
       "                    75%       max  \n",
       "instr                              \n",
       "bass          -2.312851  4.008071  \n",
       "drums         -2.520374  3.074587  \n",
       "mix           -1.743990  5.006074  \n",
       "mix_downbeats -0.627362  2.778432  \n",
       "piano         -4.447851 -0.579110  "
      ]
     },
     "execution_count": 65,
     "metadata": {},
     "output_type": "execute_result"
    }
   ],
   "source": [
    "fdf.groupby('instr')['mean_asynchrony'].describe() * 1000"
   ]
  },
  {
   "cell_type": "code",
   "execution_count": 66,
   "id": "7596cbdf-b762-44d0-a44c-1959158cd898",
   "metadata": {},
   "outputs": [
    {
     "data": {
      "text/plain": [
       "count    102.000000\n",
       "mean       0.935296\n",
       "std        0.037301\n",
       "min        0.731906\n",
       "25%        0.916129\n",
       "50%        0.944986\n",
       "75%        0.959358\n",
       "max        0.997436\n",
       "Name: f_score, dtype: float64"
      ]
     },
     "execution_count": 66,
     "metadata": {},
     "output_type": "execute_result"
    }
   ],
   "source": [
    "fdf[fdf['instr'].isin(['piano', 'bass', 'drums'])]['f_score'].describe()"
   ]
  },
  {
   "cell_type": "code",
   "execution_count": 38,
   "id": "7d5cf562-da33-428c-a16f-7cd85980ea1b",
   "metadata": {},
   "outputs": [
    {
     "data": {
      "text/plain": [
       "count    102000.000000\n",
       "mean         -4.533189\n",
       "std           3.418420\n",
       "min         -16.018750\n",
       "25%          -6.585747\n",
       "50%          -4.498220\n",
       "75%          -2.729725\n",
       "max           4.008071\n",
       "Name: mean_asynchrony, dtype: float64"
      ]
     },
     "execution_count": 38,
     "metadata": {},
     "output_type": "execute_result"
    }
   ],
   "source": [
    "fdf[fdf['instr'].isin(['piano', 'bass', 'drums'])]['mean_asynchrony'].describe() * 1000"
   ]
  },
  {
   "cell_type": "markdown",
   "id": "2e448896-fdeb-4f67-b6ed-cfbcf3b35ab4",
   "metadata": {},
   "source": [
    "## Get total number of MIDI events"
   ]
  },
  {
   "cell_type": "code",
   "execution_count": 40,
   "id": "177afee5-1637-49da-8f5a-5064cdcd6672",
   "metadata": {},
   "outputs": [
    {
     "data": {
      "text/plain": [
       "2174833"
      ]
     },
     "execution_count": 40,
     "metadata": {},
     "output_type": "execute_result"
    }
   ],
   "source": [
    "def midi_len(item):\n",
    "    mm = PrettyMIDI(f'{utils.get_project_root()}/data/cambridge-jazz-trio-database-v02/{item[\"fname\"]}/piano_midi.mid')\n",
    "    return len(mm.instruments[0].notes)\n",
    "\n",
    "corp = utils.CorpusMaker.from_excel('corpus_updated', only_annotated=False, only_30_corpus=False)\n",
    "# Fast enough to process consecutively\n",
    "nevents = sum(midi_len(i) for i in corp.tracks)\n",
    "nevents"
   ]
  }
 ],
 "metadata": {
  "kernelspec": {
   "display_name": "Python 3 (ipykernel)",
   "language": "python",
   "name": "python3"
  },
  "language_info": {
   "codemirror_mode": {
    "name": "ipython",
    "version": 3
   },
   "file_extension": ".py",
   "mimetype": "text/x-python",
   "name": "python",
   "nbconvert_exporter": "python",
   "pygments_lexer": "ipython3",
   "version": "3.10.12"
  }
 },
 "nbformat": 4,
 "nbformat_minor": 5
}
