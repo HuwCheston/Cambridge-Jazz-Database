{
 "cells": [
  {
   "cell_type": "code",
   "execution_count": 2,
   "metadata": {
    "collapsed": true,
    "ExecuteTime": {
     "end_time": "2023-07-25T10:35:09.927377Z",
     "start_time": "2023-07-25T10:35:00.585072900Z"
    },
    "pycharm": {
     "name": "#%%\n"
    }
   },
   "outputs": [],
   "source": [
    "import pandas as pd\n",
    "import numpy as np\n",
    "from itertools import permutations\n",
    "\n",
    "import src.utils.analyse_utils as autils\n",
    "from src.clean.make_dataset import CorpusMakerFromExcel"
   ]
  },
  {
   "cell_type": "code",
   "execution_count": 3,
   "outputs": [],
   "source": [
    "corpus = CorpusMakerFromExcel(\n",
    "    fname='corpus_bill_evans',\n",
    "    bandleader='Bill Evans',\n",
    "    bandleader_role='pianist',\n",
    "    dump_json=False\n",
    ").tracks"
   ],
   "metadata": {
    "collapsed": false,
    "ExecuteTime": {
     "end_time": "2023-07-25T10:35:12.731916400Z",
     "start_time": "2023-07-25T10:35:09.931877100Z"
    },
    "pycharm": {
     "name": "#%%\n"
    }
   }
  },
  {
   "cell_type": "code",
   "execution_count": 10,
   "outputs": [],
   "source": [
    "df = pd.DataFrame(corpus)\n",
    "df = pd.concat([df.drop(['musicians'], axis=1), df['musicians'].apply(pd.Series)], axis=1)\n",
    "df = pd.concat([df.drop(['timestamps'], axis=1), df['timestamps'].apply(pd.Series)], axis=1)"
   ],
   "metadata": {
    "collapsed": false,
    "ExecuteTime": {
     "end_time": "2023-07-25T10:39:25.302577400Z",
     "start_time": "2023-07-25T10:39:25.144080Z"
    },
    "pycharm": {
     "name": "#%%\n"
    }
   }
  },
  {
   "cell_type": "code",
   "execution_count": 11,
   "outputs": [],
   "source": [
    "exclusion_ids = [\n",
    "    \"e3a24b59-114e-4163-aa05-e71f582f5098\",\n",
    "    \"d1b60961-c55e-4cec-861c-d23d9054e49d\",\n",
    "    \"cf4fe905-cc4e-4206-812e-47236cbe1598\",\n",
    "    \"8828ee88-55c0-4383-8f84-852592c1c817\",\n",
    "    \"5ad284e9-cacb-4477-be08-b65e11c4271a\",\n",
    "    \"616886f2-9997-4902-8bdf-4a1eff4f3720\",\n",
    "    \"2955522b-d70a-4862-9359-397ca4ed2b1d\",\n",
    "    \"0fc0ae4f-f8a7-4745-b682-94f1bfbf604c\",\n",
    "    \"ed6edc64-8f29-40c9-a036-6a24479a3eb4\",\n",
    "    \"426cf53f-23a9-46c8-96c2-451128bc6cdc\",\n",
    "    \"18569365-43f0-46ec-9500-7c3d14e9fd18\",\n",
    "    \"a47c25f3-1cd7-4b48-aa90-26998a00271a\",\n",
    "    \"360d7a67-b8ff-4002-8c5a-e5d87b74c214\",\n",
    "    \"b6e70afa-1184-4792-acf3-cb12b6e275bd\",\n",
    "    \"ed3a8a72-25d6-408e-8c97-8c1524508d8a\",\n",
    "    \"94d467a6-4cd0-416e-aa05-66addb8d648f\",\n",
    "    \"056f18dc-5b2f-41ff-840d-86f3e096b6b9\",\n",
    "    \"0397954a-3c7b-4879-a03b-b86ac769e23b\",\n",
    "    \"5ba04874-b4b9-4f95-a35f-60265a26d200\",\n",
    "    \"b0963cd3-311d-4a7b-b475-95a94bee6830\",\n",
    "    \"3ef5652b-6880-42eb-817f-36e3be565b68\"\n",
    "]"
   ],
   "metadata": {
    "collapsed": false,
    "ExecuteTime": {
     "end_time": "2023-07-25T10:39:25.739081400Z",
     "start_time": "2023-07-25T10:39:25.700582800Z"
    },
    "pycharm": {
     "name": "#%%\n"
    }
   }
  },
  {
   "cell_type": "code",
   "execution_count": 12,
   "outputs": [],
   "source": [
    "has_manual_annotations = [\n",
    "    '96983faa-05bb-4900-b8f3-a6af4ec08290',\n",
    "    '29cee7e1-f0a4-4ee0-be3b-ad1129933c7a',\n",
    "    # '360d7a67-b8ff-4002-8c5a-e5d87b74c214',\n",
    "    '57707551-2a88-4a64-ae65-552f1b9ce4bc',\n",
    "    # '616886f2-9997-4902-8bdf-4a1eff4f3720',\n",
    "    '902d3125-5eab-4c81-b504-975ca7a8a841',\n",
    "    'd66bd275-f3ac-45b8-bdd8-60045917d694',\n",
    "    \"597be228-4b30-4d1b-909d-dbe4fb57d937\"\n",
    "]\n",
    "df['has_annotations'] = df['mbz_id'].isin(has_manual_annotations)"
   ],
   "metadata": {
    "collapsed": false,
    "ExecuteTime": {
     "end_time": "2023-07-25T10:39:26.329082300Z",
     "start_time": "2023-07-25T10:39:26.238586600Z"
    },
    "pycharm": {
     "name": "#%%\n"
    }
   }
  },
  {
   "cell_type": "code",
   "execution_count": 13,
   "outputs": [],
   "source": [
    "parser = lambda x : pd.to_datetime(x, format=\"%H:%M:%S\") if len(x) > 5 else pd.to_datetime(x, format=\"%M:%S\")\n",
    "df['excerpt_duration'] = (df['end'].apply(parser) - df['start'].apply(parser))"
   ],
   "metadata": {
    "collapsed": false,
    "ExecuteTime": {
     "end_time": "2023-07-25T10:39:26.946083600Z",
     "start_time": "2023-07-25T10:39:26.734585500Z"
    },
    "pycharm": {
     "name": "#%%\n"
    }
   }
  },
  {
   "cell_type": "code",
   "execution_count": 14,
   "outputs": [],
   "source": [
    "all_tracks = df.groupby(['bassist', 'drummer'])['excerpt_duration'].agg(['sum', lambda x: x.sum() / 10])\n",
    "only_annotated = df[df['has_annotations'] == True].groupby(['bassist', 'drummer'])['excerpt_duration'].sum()"
   ],
   "metadata": {
    "collapsed": false,
    "ExecuteTime": {
     "end_time": "2023-07-25T10:39:27.388585700Z",
     "start_time": "2023-07-25T10:39:27.352078900Z"
    },
    "pycharm": {
     "name": "#%%\n"
    }
   }
  },
  {
   "cell_type": "code",
   "execution_count": 15,
   "outputs": [],
   "source": [
    "summary = pd.concat([all_tracks, only_annotated], axis=1)\n",
    "summary.columns = ['total', 'total/10', 'total_annotated']\n",
    "summary['total_annotated'] = summary['total_annotated'].fillna(pd.Timedelta(0))\n",
    "summary['total_required'] = (summary['total/10'] - summary['total_annotated']).dt.total_seconds()\n",
    "summary['total/10'] = summary['total/10'].dt.total_seconds()"
   ],
   "metadata": {
    "collapsed": false,
    "ExecuteTime": {
     "end_time": "2023-07-25T10:39:28.046583Z",
     "start_time": "2023-07-25T10:39:27.981585700Z"
    },
    "pycharm": {
     "name": "#%%\n"
    }
   }
  },
  {
   "cell_type": "code",
   "execution_count": 16,
   "outputs": [],
   "source": [
    "def get_closest_match(nums: np.ndarray, targ: int, depth: int = 5) -> int:\n",
    "    permlist = [list(permutations(nums, r=i)) for i in range(1, depth)]\n",
    "    permlist = [item for sublist in permlist for item in sublist]\n",
    "    sumlist = [sum(l) for l in permlist]\n",
    "    maxpos = 0\n",
    "    for i in range(1, len(sumlist)):\n",
    "        if abs(sumlist[i] - targ) < abs(sumlist[maxpos] - targ):\n",
    "             maxpos = i\n",
    "    return np.where(np.in1d(nums, permlist[maxpos]))[0]\n",
    "\n",
    "\n",
    "to_annotate = []\n",
    "for idx, grp in df[(df['has_annotations'] == False)].groupby(['bassist', 'drummer']):\n",
    "    grp = grp[~grp['mbz_id'].isin(exclusion_ids)]\n",
    "    ids = grp['mbz_id'].values\n",
    "    vals = grp['excerpt_duration'].dt.total_seconds().values\n",
    "    su = summary.reset_index(drop=False)\n",
    "    target = su[(su['bassist'] == idx[0]) & (su['drummer'] == idx[1])]['total_required'].iloc[0]\n",
    "    closest_match = get_closest_match(vals, target)\n",
    "    to_annotate.extend(ids[closest_match])"
   ],
   "metadata": {
    "collapsed": false,
    "ExecuteTime": {
     "end_time": "2023-07-25T10:40:29.478080Z",
     "start_time": "2023-07-25T10:39:28.851085400Z"
    },
    "pycharm": {
     "name": "#%%\n"
    }
   }
  },
  {
   "cell_type": "code",
   "execution_count": 17,
   "outputs": [
    {
     "name": "stderr",
     "output_type": "stream",
     "text": [
      "C:\\Users\\huwch\\AppData\\Local\\Temp\\ipykernel_23912\\1814270054.py:4: FutureWarning: In a future version, object-dtype columns with all-bool values will not be included in reductions with bool_only=True. Explicitly cast to bool dtype instead.\n",
      "  pd.concat([sub1, sub2], axis=0).groupby(['bassist', 'drummer'])['excerpt_duration'].sum().dt.total_seconds().rename('seconds_to_get'),\n"
     ]
    },
    {
     "data": {
      "text/plain": "                                seconds_to_get  seconds_required\nbassist       drummer                                           \nChuck Israels Larry Bunker               123.0             126.4\nEddie Gomez   Eliot Zigmund              116.0             112.0\n              Jack DeJohnette            136.0             136.3\n              Marty Morell               489.0             489.3\n              Philly Joe Jones           159.0             158.7\nMarc Johnson  Joe LaBarbera              539.0             539.4\nScott LaFaro  Paul Motian                136.0             135.3",
      "text/html": "<div>\n<style scoped>\n    .dataframe tbody tr th:only-of-type {\n        vertical-align: middle;\n    }\n\n    .dataframe tbody tr th {\n        vertical-align: top;\n    }\n\n    .dataframe thead th {\n        text-align: right;\n    }\n</style>\n<table border=\"1\" class=\"dataframe\">\n  <thead>\n    <tr style=\"text-align: right;\">\n      <th></th>\n      <th></th>\n      <th>seconds_to_get</th>\n      <th>seconds_required</th>\n    </tr>\n    <tr>\n      <th>bassist</th>\n      <th>drummer</th>\n      <th></th>\n      <th></th>\n    </tr>\n  </thead>\n  <tbody>\n    <tr>\n      <th>Chuck Israels</th>\n      <th>Larry Bunker</th>\n      <td>123.0</td>\n      <td>126.4</td>\n    </tr>\n    <tr>\n      <th rowspan=\"4\" valign=\"top\">Eddie Gomez</th>\n      <th>Eliot Zigmund</th>\n      <td>116.0</td>\n      <td>112.0</td>\n    </tr>\n    <tr>\n      <th>Jack DeJohnette</th>\n      <td>136.0</td>\n      <td>136.3</td>\n    </tr>\n    <tr>\n      <th>Marty Morell</th>\n      <td>489.0</td>\n      <td>489.3</td>\n    </tr>\n    <tr>\n      <th>Philly Joe Jones</th>\n      <td>159.0</td>\n      <td>158.7</td>\n    </tr>\n    <tr>\n      <th>Marc Johnson</th>\n      <th>Joe LaBarbera</th>\n      <td>539.0</td>\n      <td>539.4</td>\n    </tr>\n    <tr>\n      <th>Scott LaFaro</th>\n      <th>Paul Motian</th>\n      <td>136.0</td>\n      <td>135.3</td>\n    </tr>\n  </tbody>\n</table>\n</div>"
     },
     "execution_count": 17,
     "metadata": {},
     "output_type": "execute_result"
    }
   ],
   "source": [
    "sub1 = df[df['mbz_id'].isin(to_annotate)].drop_duplicates(subset=['bassist', 'drummer', 'excerpt_duration'])\n",
    "sub2 = pd.concat([df[df['has_annotations'] == True], pd.DataFrame(df.iloc[81]).transpose()], axis=0)\n",
    "pd.concat([\n",
    "    pd.concat([sub1, sub2], axis=0).groupby(['bassist', 'drummer'])['excerpt_duration'].sum().dt.total_seconds().rename('seconds_to_get'),\n",
    "    summary['total/10'].rename('seconds_required')\n",
    "    ],\n",
    "axis=1)\n"
   ],
   "metadata": {
    "collapsed": false,
    "ExecuteTime": {
     "end_time": "2023-07-25T10:40:29.664584300Z",
     "start_time": "2023-07-25T10:40:29.490580700Z"
    },
    "pycharm": {
     "name": "#%%\n"
    }
   }
  },
  {
   "cell_type": "code",
   "execution_count": 18,
   "outputs": [
    {
     "name": "stderr",
     "output_type": "stream",
     "text": [
      "C:\\Users\\huwch\\AppData\\Local\\Temp\\ipykernel_23912\\4010287720.py:1: FutureWarning: In a future version, object-dtype columns with all-bool values will not be included in reductions with bool_only=True. Explicitly cast to bool dtype instead.\n",
      "  big = pd.concat([sub1, sub2], axis=0)\n"
     ]
    }
   ],
   "source": [
    "big = pd.concat([sub1, sub2], axis=0)\n",
    "with open(rf'{autils.get_project_root()}\\references\\manual_annotation\\tracks_to_annotate.txt', 'w') as f:\n",
    "    for line in big.mbz_id.astype(str).to_list():\n",
    "        f.write(f\"{line}\\n\")"
   ],
   "metadata": {
    "collapsed": false,
    "ExecuteTime": {
     "end_time": "2023-07-25T10:40:35.603080600Z",
     "start_time": "2023-07-25T10:40:35.387586Z"
    },
    "pycharm": {
     "name": "#%%\n"
    }
   }
  },
  {
   "cell_type": "code",
   "execution_count": 21,
   "outputs": [],
   "source": [
    "big.sort_values(by='track_name')[['track_name', 'recording_year', 'mbz_id', 'bassist', 'drummer', 'excerpt_duration']].to_clipboard()"
   ],
   "metadata": {
    "collapsed": false,
    "ExecuteTime": {
     "end_time": "2023-07-24T12:40:30.623003500Z",
     "start_time": "2023-07-24T12:40:30.387499900Z"
    },
    "pycharm": {
     "name": "#%%\n"
    }
   }
  },
  {
   "cell_type": "code",
   "execution_count": 22,
   "outputs": [
    {
     "data": {
      "text/plain": "                          track_name  \\\n12                Turn Out the Stars   \n21                        All of You   \n33      Wrap Your Troubles in Dreams   \n45          Youre Gonna Hear From Me   \n57                        Blues in F   \n80   Glorias Step take 1 interrupted   \n96                    Bills Hit Tune   \n101              Days of Wine  Roses   \n142           The Touch of Your Lips   \n147               Turn Out the Stars   \n163                        34 Skidoo   \n166                   A Sleeping Bee   \n192                           Nardis   \n200                           SeeSaw   \n4                      How About You   \n55                         Deed I Do   \n82                            Israel   \n93                     Autumn Leaves   \n184            How Deep Is the Ocean   \n197         Our Love Is Here to Stay   \n81               Glorias Step take 3   \n\n                                            album_name recording_year  \\\n12   Some Other Time The Lost Session From the Blac...           1968   \n21                         Complete Fantasy Recordings           1975   \n33                             Bill Evanss Finest Hour           1967   \n45                    The Complete Bill Evans on Verve           1966   \n57   Bill Evans Trio at Shellys ManneHole Hollywood...           1963   \n80       The Complete Village Vanguard Recordings 1961           1961   \n96                         His Last Concert in Germany           1980   \n101  Turn Out the Stars The Final Village Vanguard ...           1980   \n142                                     The Last Waltz           1980   \n147                                     The Last Waltz           1980   \n163                           Live In Paris 1972 Vol 3           1972   \n166                                      Autumn Leaves           1969   \n192                           Live In Paris 1972 Vol 3           1972   \n200                                       Since We Met           1974   \n4    Some Other Time The Lost Session From the Blac...           1968   \n55                    The Complete Bill Evans on Verve           1966   \n82                                        Explorations           1961   \n93   Turn Out the Stars The Final Village Vanguard ...           1980   \n184                                          Jazzhouse           1969   \n197                           Youre Gonna Hear From Me           1969   \n81       The Complete Village Vanguard Recordings 1961           1961   \n\n                channel_overrides                                mbz_id  \\\n12    {'drums': 'l', 'bass': 'r'}  7e8112aa-7274-46fc-9b41-5c6af74839ad   \n21                             {}  1324a29e-6075-4beb-861d-73f6de9be20a   \n33                  {'bass': 'l'}  a007f3a3-e9be-498b-b87c-f89a6ae4e523   \n45                  {'bass': 'l'}  f476cd37-454f-4f73-8b41-ad55c08aafad   \n57                  {'bass': 'l'}  22dcfe38-dd8d-47d6-9cb6-f21d811ad5dd   \n80                  {'bass': 'l'}  af9c1ed7-0406-4411-a53e-32c5350c9bf8   \n96    {'bass': 'l', 'drums': 'r'}  0f9d3126-c136-4809-bc19-0af1e50a1e4b   \n101                            {}  c2ab551d-aa62-4407-b2e8-28ed30e01573   \n142  {'piano': 'r', 'drums': 'l'}  86381970-d551-4570-b8b9-d525bab81fb5   \n147  {'piano': 'r', 'drums': 'l'}  d786dfbb-2d16-4559-a80e-8227e3e38e17   \n163                 {'bass': 'r'}  2ff369e4-b72e-4948-9b27-152d60f75a84   \n166                            {}  85b8621e-33b2-4ec9-804d-2f6acc31b013   \n192                 {'bass': 'r'}  1a057fb9-2773-4a90-b163-441032c10955   \n200                            {}  166c480f-4084-491d-a32a-8c899b0e9940   \n4     {'drums': 'l', 'bass': 'r'}  597be228-4b30-4d1b-909d-dbe4fb57d937   \n55                  {'bass': 'l'}  57707551-2a88-4a64-ae65-552f1b9ce4bc   \n82    {'bass': 'l', 'piano': 'r'}  96983faa-05bb-4900-b8f3-a6af4ec08290   \n93                             {}  902d3125-5eab-4c81-b504-975ca7a8a841   \n184   {'bass': 'l', 'piano': 'r'}  29cee7e1-f0a4-4ee0-be3b-ad1129933c7a   \n197   {'bass': 'l', 'piano': 'r'}  d66bd275-f3ac-45b8-bdd8-60045917d694   \n81                  {'bass': 'l'}  f72a8e95-4a9f-409a-aff7-8857540adf73   \n\n                      notes  \\\n12                            \n21                            \n33                            \n45                            \n57                            \n80                            \n96                            \n101                           \n142                           \n147                           \n163                           \n166                           \n192                           \n200                           \n4                             \n55                            \n82   has manual annotations   \n93                            \n184                           \n197           bootleg audio   \n81                            \n\n                                                 links excerpt_duration log  \\\n12   {'external': ['https://www.youtube.com/watch?v...  0 days 00:01:07  []   \n21   {'external': ['https://www.youtube.com/watch?v...  0 days 00:01:56  []   \n33   {'external': ['https://www.youtube.com/watch?v...  0 days 00:01:03  []   \n45   {'external': ['https://www.youtube.com/watch?v...  0 days 00:01:36  []   \n57   {'external': ['https://www.youtube.com/watch?v...  0 days 00:00:46  []   \n80   {'external': ['https://www.youtube.com/watch?v...  0 days 00:00:30  []   \n96   {'external': ['https://www.youtube.com/watch?v...  0 days 00:01:19  []   \n101  {'external': ['https://www.youtube.com/watch?v...  0 days 00:01:44  []   \n142  {'external': ['https://www.youtube.com/watch?v...  0 days 00:02:25  []   \n147  {'external': ['https://www.youtube.com/watch?v...  0 days 00:02:46  []   \n163  {'external': ['https://www.youtube.com/watch?v...  0 days 00:01:49  []   \n166  {'external': ['https://www.youtube.com/watch?v...  0 days 00:00:45  []   \n192  {'external': ['https://www.youtube.com/watch?v...  0 days 00:01:42  []   \n200  {'external': ['https://www.youtube.com/watch?v...  0 days 00:01:36  []   \n4    {'external': ['https://www.youtube.com/watch?v...  0 days 00:01:09  []   \n55   {'external': ['https://www.youtube.com/watch?v...  0 days 00:01:17  []   \n82   {'external': ['https://www.youtube.com/watch?v...  0 days 00:01:16  []   \n93   {'external': ['https://www.youtube.com/watch?v...  0 days 00:00:45  []   \n184  {'external': ['https://www.youtube.com/watch?v...  0 days 00:01:46  []   \n197  {'external': ['https://www.youtube.com/watch?v...  0 days 00:00:31  []   \n81   {'external': ['https://www.youtube.com/watch?v...  0 days 00:00:30  []   \n\n                                                photos     pianist  \\\n12   {'musicians': {'pianist': None, 'bassist': Non...  Bill Evans   \n21   {'musicians': {'pianist': None, 'bassist': Non...  Bill Evans   \n33   {'musicians': {'pianist': None, 'bassist': Non...  Bill Evans   \n45   {'musicians': {'pianist': None, 'bassist': Non...  Bill Evans   \n57   {'musicians': {'pianist': None, 'bassist': Non...  Bill Evans   \n80   {'musicians': {'pianist': None, 'bassist': Non...  Bill Evans   \n96   {'musicians': {'pianist': None, 'bassist': Non...  Bill Evans   \n101  {'musicians': {'pianist': None, 'bassist': Non...  Bill Evans   \n142  {'musicians': {'pianist': None, 'bassist': Non...  Bill Evans   \n147  {'musicians': {'pianist': None, 'bassist': Non...  Bill Evans   \n163  {'musicians': {'pianist': None, 'bassist': Non...  Bill Evans   \n166  {'musicians': {'pianist': None, 'bassist': Non...  Bill Evans   \n192  {'musicians': {'pianist': None, 'bassist': Non...  Bill Evans   \n200  {'musicians': {'pianist': None, 'bassist': Non...  Bill Evans   \n4    {'musicians': {'pianist': None, 'bassist': Non...  Bill Evans   \n55   {'musicians': {'pianist': None, 'bassist': Non...  Bill Evans   \n82   {'musicians': {'pianist': None, 'bassist': Non...  Bill Evans   \n93   {'musicians': {'pianist': None, 'bassist': Non...  Bill Evans   \n184  {'musicians': {'pianist': None, 'bassist': Non...  Bill Evans   \n197  {'musicians': {'pianist': None, 'bassist': Non...  Bill Evans   \n81   {'musicians': {'pianist': None, 'bassist': Non...  Bill Evans   \n\n           bassist           drummer   leader     start       end  \\\n12     Eddie Gomez   Jack DeJohnette  pianist     02:21     03:28   \n21     Eddie Gomez     Eliot Zigmund  pianist     01:41     03:37   \n33     Eddie Gomez  Philly Joe Jones  pianist     00:47     01:50   \n45     Eddie Gomez  Philly Joe Jones  pianist     02:39     04:15   \n57   Chuck Israels      Larry Bunker  pianist     03:01     03:47   \n80    Scott LaFaro       Paul Motian  pianist     01:52     02:22   \n96    Marc Johnson     Joe LaBarbera  pianist     04:36     05:55   \n101   Marc Johnson     Joe LaBarbera  pianist     02:14     03:58   \n142   Marc Johnson     Joe LaBarbera  pianist  01:06:00  01:08:25   \n147   Marc Johnson     Joe LaBarbera  pianist  00:26:44  00:29:30   \n163    Eddie Gomez      Marty Morell  pianist  01:57:52  01:59:41   \n166    Eddie Gomez      Marty Morell  pianist     07:33     08:18   \n192    Eddie Gomez      Marty Morell  pianist  02:45:15  02:46:57   \n200    Eddie Gomez      Marty Morell  pianist     02:33     04:09   \n4      Eddie Gomez   Jack DeJohnette  pianist     00:45     01:54   \n55   Chuck Israels      Larry Bunker  pianist     00:52     02:09   \n82    Scott LaFaro       Paul Motian  pianist     01:48     03:04   \n93    Marc Johnson     Joe LaBarbera  pianist     02:55     03:40   \n184    Eddie Gomez      Marty Morell  pianist     01:29     03:15   \n197    Eddie Gomez      Marty Morell  pianist     02:27     02:58   \n81    Scott LaFaro       Paul Motian  pianist     02:33     03:03   \n\n    has_annotations  \n12            False  \n21            False  \n33            False  \n45            False  \n57            False  \n80            False  \n96            False  \n101           False  \n142           False  \n147           False  \n163           False  \n166           False  \n192           False  \n200           False  \n4              True  \n55             True  \n82             True  \n93             True  \n184            True  \n197            True  \n81            False  ",
      "text/html": "<div>\n<style scoped>\n    .dataframe tbody tr th:only-of-type {\n        vertical-align: middle;\n    }\n\n    .dataframe tbody tr th {\n        vertical-align: top;\n    }\n\n    .dataframe thead th {\n        text-align: right;\n    }\n</style>\n<table border=\"1\" class=\"dataframe\">\n  <thead>\n    <tr style=\"text-align: right;\">\n      <th></th>\n      <th>track_name</th>\n      <th>album_name</th>\n      <th>recording_year</th>\n      <th>channel_overrides</th>\n      <th>mbz_id</th>\n      <th>notes</th>\n      <th>links</th>\n      <th>excerpt_duration</th>\n      <th>log</th>\n      <th>photos</th>\n      <th>pianist</th>\n      <th>bassist</th>\n      <th>drummer</th>\n      <th>leader</th>\n      <th>start</th>\n      <th>end</th>\n      <th>has_annotations</th>\n    </tr>\n  </thead>\n  <tbody>\n    <tr>\n      <th>12</th>\n      <td>Turn Out the Stars</td>\n      <td>Some Other Time The Lost Session From the Blac...</td>\n      <td>1968</td>\n      <td>{'drums': 'l', 'bass': 'r'}</td>\n      <td>7e8112aa-7274-46fc-9b41-5c6af74839ad</td>\n      <td></td>\n      <td>{'external': ['https://www.youtube.com/watch?v...</td>\n      <td>0 days 00:01:07</td>\n      <td>[]</td>\n      <td>{'musicians': {'pianist': None, 'bassist': Non...</td>\n      <td>Bill Evans</td>\n      <td>Eddie Gomez</td>\n      <td>Jack DeJohnette</td>\n      <td>pianist</td>\n      <td>02:21</td>\n      <td>03:28</td>\n      <td>False</td>\n    </tr>\n    <tr>\n      <th>21</th>\n      <td>All of You</td>\n      <td>Complete Fantasy Recordings</td>\n      <td>1975</td>\n      <td>{}</td>\n      <td>1324a29e-6075-4beb-861d-73f6de9be20a</td>\n      <td></td>\n      <td>{'external': ['https://www.youtube.com/watch?v...</td>\n      <td>0 days 00:01:56</td>\n      <td>[]</td>\n      <td>{'musicians': {'pianist': None, 'bassist': Non...</td>\n      <td>Bill Evans</td>\n      <td>Eddie Gomez</td>\n      <td>Eliot Zigmund</td>\n      <td>pianist</td>\n      <td>01:41</td>\n      <td>03:37</td>\n      <td>False</td>\n    </tr>\n    <tr>\n      <th>33</th>\n      <td>Wrap Your Troubles in Dreams</td>\n      <td>Bill Evanss Finest Hour</td>\n      <td>1967</td>\n      <td>{'bass': 'l'}</td>\n      <td>a007f3a3-e9be-498b-b87c-f89a6ae4e523</td>\n      <td></td>\n      <td>{'external': ['https://www.youtube.com/watch?v...</td>\n      <td>0 days 00:01:03</td>\n      <td>[]</td>\n      <td>{'musicians': {'pianist': None, 'bassist': Non...</td>\n      <td>Bill Evans</td>\n      <td>Eddie Gomez</td>\n      <td>Philly Joe Jones</td>\n      <td>pianist</td>\n      <td>00:47</td>\n      <td>01:50</td>\n      <td>False</td>\n    </tr>\n    <tr>\n      <th>45</th>\n      <td>Youre Gonna Hear From Me</td>\n      <td>The Complete Bill Evans on Verve</td>\n      <td>1966</td>\n      <td>{'bass': 'l'}</td>\n      <td>f476cd37-454f-4f73-8b41-ad55c08aafad</td>\n      <td></td>\n      <td>{'external': ['https://www.youtube.com/watch?v...</td>\n      <td>0 days 00:01:36</td>\n      <td>[]</td>\n      <td>{'musicians': {'pianist': None, 'bassist': Non...</td>\n      <td>Bill Evans</td>\n      <td>Eddie Gomez</td>\n      <td>Philly Joe Jones</td>\n      <td>pianist</td>\n      <td>02:39</td>\n      <td>04:15</td>\n      <td>False</td>\n    </tr>\n    <tr>\n      <th>57</th>\n      <td>Blues in F</td>\n      <td>Bill Evans Trio at Shellys ManneHole Hollywood...</td>\n      <td>1963</td>\n      <td>{'bass': 'l'}</td>\n      <td>22dcfe38-dd8d-47d6-9cb6-f21d811ad5dd</td>\n      <td></td>\n      <td>{'external': ['https://www.youtube.com/watch?v...</td>\n      <td>0 days 00:00:46</td>\n      <td>[]</td>\n      <td>{'musicians': {'pianist': None, 'bassist': Non...</td>\n      <td>Bill Evans</td>\n      <td>Chuck Israels</td>\n      <td>Larry Bunker</td>\n      <td>pianist</td>\n      <td>03:01</td>\n      <td>03:47</td>\n      <td>False</td>\n    </tr>\n    <tr>\n      <th>80</th>\n      <td>Glorias Step take 1 interrupted</td>\n      <td>The Complete Village Vanguard Recordings 1961</td>\n      <td>1961</td>\n      <td>{'bass': 'l'}</td>\n      <td>af9c1ed7-0406-4411-a53e-32c5350c9bf8</td>\n      <td></td>\n      <td>{'external': ['https://www.youtube.com/watch?v...</td>\n      <td>0 days 00:00:30</td>\n      <td>[]</td>\n      <td>{'musicians': {'pianist': None, 'bassist': Non...</td>\n      <td>Bill Evans</td>\n      <td>Scott LaFaro</td>\n      <td>Paul Motian</td>\n      <td>pianist</td>\n      <td>01:52</td>\n      <td>02:22</td>\n      <td>False</td>\n    </tr>\n    <tr>\n      <th>96</th>\n      <td>Bills Hit Tune</td>\n      <td>His Last Concert in Germany</td>\n      <td>1980</td>\n      <td>{'bass': 'l', 'drums': 'r'}</td>\n      <td>0f9d3126-c136-4809-bc19-0af1e50a1e4b</td>\n      <td></td>\n      <td>{'external': ['https://www.youtube.com/watch?v...</td>\n      <td>0 days 00:01:19</td>\n      <td>[]</td>\n      <td>{'musicians': {'pianist': None, 'bassist': Non...</td>\n      <td>Bill Evans</td>\n      <td>Marc Johnson</td>\n      <td>Joe LaBarbera</td>\n      <td>pianist</td>\n      <td>04:36</td>\n      <td>05:55</td>\n      <td>False</td>\n    </tr>\n    <tr>\n      <th>101</th>\n      <td>Days of Wine  Roses</td>\n      <td>Turn Out the Stars The Final Village Vanguard ...</td>\n      <td>1980</td>\n      <td>{}</td>\n      <td>c2ab551d-aa62-4407-b2e8-28ed30e01573</td>\n      <td></td>\n      <td>{'external': ['https://www.youtube.com/watch?v...</td>\n      <td>0 days 00:01:44</td>\n      <td>[]</td>\n      <td>{'musicians': {'pianist': None, 'bassist': Non...</td>\n      <td>Bill Evans</td>\n      <td>Marc Johnson</td>\n      <td>Joe LaBarbera</td>\n      <td>pianist</td>\n      <td>02:14</td>\n      <td>03:58</td>\n      <td>False</td>\n    </tr>\n    <tr>\n      <th>142</th>\n      <td>The Touch of Your Lips</td>\n      <td>The Last Waltz</td>\n      <td>1980</td>\n      <td>{'piano': 'r', 'drums': 'l'}</td>\n      <td>86381970-d551-4570-b8b9-d525bab81fb5</td>\n      <td></td>\n      <td>{'external': ['https://www.youtube.com/watch?v...</td>\n      <td>0 days 00:02:25</td>\n      <td>[]</td>\n      <td>{'musicians': {'pianist': None, 'bassist': Non...</td>\n      <td>Bill Evans</td>\n      <td>Marc Johnson</td>\n      <td>Joe LaBarbera</td>\n      <td>pianist</td>\n      <td>01:06:00</td>\n      <td>01:08:25</td>\n      <td>False</td>\n    </tr>\n    <tr>\n      <th>147</th>\n      <td>Turn Out the Stars</td>\n      <td>The Last Waltz</td>\n      <td>1980</td>\n      <td>{'piano': 'r', 'drums': 'l'}</td>\n      <td>d786dfbb-2d16-4559-a80e-8227e3e38e17</td>\n      <td></td>\n      <td>{'external': ['https://www.youtube.com/watch?v...</td>\n      <td>0 days 00:02:46</td>\n      <td>[]</td>\n      <td>{'musicians': {'pianist': None, 'bassist': Non...</td>\n      <td>Bill Evans</td>\n      <td>Marc Johnson</td>\n      <td>Joe LaBarbera</td>\n      <td>pianist</td>\n      <td>00:26:44</td>\n      <td>00:29:30</td>\n      <td>False</td>\n    </tr>\n    <tr>\n      <th>163</th>\n      <td>34 Skidoo</td>\n      <td>Live In Paris 1972 Vol 3</td>\n      <td>1972</td>\n      <td>{'bass': 'r'}</td>\n      <td>2ff369e4-b72e-4948-9b27-152d60f75a84</td>\n      <td></td>\n      <td>{'external': ['https://www.youtube.com/watch?v...</td>\n      <td>0 days 00:01:49</td>\n      <td>[]</td>\n      <td>{'musicians': {'pianist': None, 'bassist': Non...</td>\n      <td>Bill Evans</td>\n      <td>Eddie Gomez</td>\n      <td>Marty Morell</td>\n      <td>pianist</td>\n      <td>01:57:52</td>\n      <td>01:59:41</td>\n      <td>False</td>\n    </tr>\n    <tr>\n      <th>166</th>\n      <td>A Sleeping Bee</td>\n      <td>Autumn Leaves</td>\n      <td>1969</td>\n      <td>{}</td>\n      <td>85b8621e-33b2-4ec9-804d-2f6acc31b013</td>\n      <td></td>\n      <td>{'external': ['https://www.youtube.com/watch?v...</td>\n      <td>0 days 00:00:45</td>\n      <td>[]</td>\n      <td>{'musicians': {'pianist': None, 'bassist': Non...</td>\n      <td>Bill Evans</td>\n      <td>Eddie Gomez</td>\n      <td>Marty Morell</td>\n      <td>pianist</td>\n      <td>07:33</td>\n      <td>08:18</td>\n      <td>False</td>\n    </tr>\n    <tr>\n      <th>192</th>\n      <td>Nardis</td>\n      <td>Live In Paris 1972 Vol 3</td>\n      <td>1972</td>\n      <td>{'bass': 'r'}</td>\n      <td>1a057fb9-2773-4a90-b163-441032c10955</td>\n      <td></td>\n      <td>{'external': ['https://www.youtube.com/watch?v...</td>\n      <td>0 days 00:01:42</td>\n      <td>[]</td>\n      <td>{'musicians': {'pianist': None, 'bassist': Non...</td>\n      <td>Bill Evans</td>\n      <td>Eddie Gomez</td>\n      <td>Marty Morell</td>\n      <td>pianist</td>\n      <td>02:45:15</td>\n      <td>02:46:57</td>\n      <td>False</td>\n    </tr>\n    <tr>\n      <th>200</th>\n      <td>SeeSaw</td>\n      <td>Since We Met</td>\n      <td>1974</td>\n      <td>{}</td>\n      <td>166c480f-4084-491d-a32a-8c899b0e9940</td>\n      <td></td>\n      <td>{'external': ['https://www.youtube.com/watch?v...</td>\n      <td>0 days 00:01:36</td>\n      <td>[]</td>\n      <td>{'musicians': {'pianist': None, 'bassist': Non...</td>\n      <td>Bill Evans</td>\n      <td>Eddie Gomez</td>\n      <td>Marty Morell</td>\n      <td>pianist</td>\n      <td>02:33</td>\n      <td>04:09</td>\n      <td>False</td>\n    </tr>\n    <tr>\n      <th>4</th>\n      <td>How About You</td>\n      <td>Some Other Time The Lost Session From the Blac...</td>\n      <td>1968</td>\n      <td>{'drums': 'l', 'bass': 'r'}</td>\n      <td>597be228-4b30-4d1b-909d-dbe4fb57d937</td>\n      <td></td>\n      <td>{'external': ['https://www.youtube.com/watch?v...</td>\n      <td>0 days 00:01:09</td>\n      <td>[]</td>\n      <td>{'musicians': {'pianist': None, 'bassist': Non...</td>\n      <td>Bill Evans</td>\n      <td>Eddie Gomez</td>\n      <td>Jack DeJohnette</td>\n      <td>pianist</td>\n      <td>00:45</td>\n      <td>01:54</td>\n      <td>True</td>\n    </tr>\n    <tr>\n      <th>55</th>\n      <td>Deed I Do</td>\n      <td>The Complete Bill Evans on Verve</td>\n      <td>1966</td>\n      <td>{'bass': 'l'}</td>\n      <td>57707551-2a88-4a64-ae65-552f1b9ce4bc</td>\n      <td></td>\n      <td>{'external': ['https://www.youtube.com/watch?v...</td>\n      <td>0 days 00:01:17</td>\n      <td>[]</td>\n      <td>{'musicians': {'pianist': None, 'bassist': Non...</td>\n      <td>Bill Evans</td>\n      <td>Chuck Israels</td>\n      <td>Larry Bunker</td>\n      <td>pianist</td>\n      <td>00:52</td>\n      <td>02:09</td>\n      <td>True</td>\n    </tr>\n    <tr>\n      <th>82</th>\n      <td>Israel</td>\n      <td>Explorations</td>\n      <td>1961</td>\n      <td>{'bass': 'l', 'piano': 'r'}</td>\n      <td>96983faa-05bb-4900-b8f3-a6af4ec08290</td>\n      <td>has manual annotations</td>\n      <td>{'external': ['https://www.youtube.com/watch?v...</td>\n      <td>0 days 00:01:16</td>\n      <td>[]</td>\n      <td>{'musicians': {'pianist': None, 'bassist': Non...</td>\n      <td>Bill Evans</td>\n      <td>Scott LaFaro</td>\n      <td>Paul Motian</td>\n      <td>pianist</td>\n      <td>01:48</td>\n      <td>03:04</td>\n      <td>True</td>\n    </tr>\n    <tr>\n      <th>93</th>\n      <td>Autumn Leaves</td>\n      <td>Turn Out the Stars The Final Village Vanguard ...</td>\n      <td>1980</td>\n      <td>{}</td>\n      <td>902d3125-5eab-4c81-b504-975ca7a8a841</td>\n      <td></td>\n      <td>{'external': ['https://www.youtube.com/watch?v...</td>\n      <td>0 days 00:00:45</td>\n      <td>[]</td>\n      <td>{'musicians': {'pianist': None, 'bassist': Non...</td>\n      <td>Bill Evans</td>\n      <td>Marc Johnson</td>\n      <td>Joe LaBarbera</td>\n      <td>pianist</td>\n      <td>02:55</td>\n      <td>03:40</td>\n      <td>True</td>\n    </tr>\n    <tr>\n      <th>184</th>\n      <td>How Deep Is the Ocean</td>\n      <td>Jazzhouse</td>\n      <td>1969</td>\n      <td>{'bass': 'l', 'piano': 'r'}</td>\n      <td>29cee7e1-f0a4-4ee0-be3b-ad1129933c7a</td>\n      <td></td>\n      <td>{'external': ['https://www.youtube.com/watch?v...</td>\n      <td>0 days 00:01:46</td>\n      <td>[]</td>\n      <td>{'musicians': {'pianist': None, 'bassist': Non...</td>\n      <td>Bill Evans</td>\n      <td>Eddie Gomez</td>\n      <td>Marty Morell</td>\n      <td>pianist</td>\n      <td>01:29</td>\n      <td>03:15</td>\n      <td>True</td>\n    </tr>\n    <tr>\n      <th>197</th>\n      <td>Our Love Is Here to Stay</td>\n      <td>Youre Gonna Hear From Me</td>\n      <td>1969</td>\n      <td>{'bass': 'l', 'piano': 'r'}</td>\n      <td>d66bd275-f3ac-45b8-bdd8-60045917d694</td>\n      <td>bootleg audio</td>\n      <td>{'external': ['https://www.youtube.com/watch?v...</td>\n      <td>0 days 00:00:31</td>\n      <td>[]</td>\n      <td>{'musicians': {'pianist': None, 'bassist': Non...</td>\n      <td>Bill Evans</td>\n      <td>Eddie Gomez</td>\n      <td>Marty Morell</td>\n      <td>pianist</td>\n      <td>02:27</td>\n      <td>02:58</td>\n      <td>True</td>\n    </tr>\n    <tr>\n      <th>81</th>\n      <td>Glorias Step take 3</td>\n      <td>The Complete Village Vanguard Recordings 1961</td>\n      <td>1961</td>\n      <td>{'bass': 'l'}</td>\n      <td>f72a8e95-4a9f-409a-aff7-8857540adf73</td>\n      <td></td>\n      <td>{'external': ['https://www.youtube.com/watch?v...</td>\n      <td>0 days 00:00:30</td>\n      <td>[]</td>\n      <td>{'musicians': {'pianist': None, 'bassist': Non...</td>\n      <td>Bill Evans</td>\n      <td>Scott LaFaro</td>\n      <td>Paul Motian</td>\n      <td>pianist</td>\n      <td>02:33</td>\n      <td>03:03</td>\n      <td>False</td>\n    </tr>\n  </tbody>\n</table>\n</div>"
     },
     "execution_count": 22,
     "metadata": {},
     "output_type": "execute_result"
    }
   ],
   "source": [
    "big"
   ],
   "metadata": {
    "collapsed": false,
    "ExecuteTime": {
     "end_time": "2023-07-25T10:41:26.154566500Z",
     "start_time": "2023-07-25T10:41:26.045067800Z"
    },
    "pycharm": {
     "name": "#%%\n"
    }
   }
  },
  {
   "cell_type": "code",
   "execution_count": null,
   "outputs": [],
   "source": [],
   "metadata": {
    "collapsed": false,
    "pycharm": {
     "name": "#%%\n"
    }
   }
  }
 ],
 "metadata": {
  "kernelspec": {
   "display_name": "Python 3",
   "language": "python",
   "name": "python3"
  },
  "language_info": {
   "codemirror_mode": {
    "name": "ipython",
    "version": 2
   },
   "file_extension": ".py",
   "mimetype": "text/x-python",
   "name": "python",
   "nbconvert_exporter": "python",
   "pygments_lexer": "ipython2",
   "version": "2.7.6"
  }
 },
 "nbformat": 4,
 "nbformat_minor": 0
}