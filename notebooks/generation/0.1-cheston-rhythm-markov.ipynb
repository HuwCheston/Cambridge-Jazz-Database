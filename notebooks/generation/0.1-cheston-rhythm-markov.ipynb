{
 "cells": [
  {
   "cell_type": "markdown",
   "source": [
    "# Markov Chains for Rhythm Generation\n",
    "\n",
    "Here we generate a few mock licks from the BUR data with simple Markov chains"
   ],
   "metadata": {
    "collapsed": false,
    "pycharm": {
     "name": "#%% md\n"
    }
   }
  },
  {
   "cell_type": "markdown",
   "source": [
    "## Load imports, set constants"
   ],
   "metadata": {
    "collapsed": false,
    "pycharm": {
     "name": "#%% md\n"
    }
   }
  },
  {
   "cell_type": "code",
   "execution_count": 22,
   "outputs": [],
   "source": [
    "import random\n",
    "import numpy as np\n",
    "from joblib import Parallel, delayed\n",
    "from collections import defaultdict\n",
    "from pretty_midi import note_name_to_number, Note, Instrument, PrettyMIDI\n",
    "import soundfile as sf\n",
    "\n",
    "from src import utils\n",
    "from src.detect.onset_utils import OnsetMaker\n",
    "from src.features.rhythm_features import BeatUpbeatRatio"
   ],
   "metadata": {
    "collapsed": false,
    "pycharm": {
     "name": "#%%\n"
    }
   }
  },
  {
   "cell_type": "code",
   "execution_count": 2,
   "outputs": [],
   "source": [
    "# Upper and lower bounds to use when thresholding BURs\n",
    "BUR_UPPER = 4.0\n",
    "BUR_LOWER = 0.25"
   ],
   "metadata": {
    "collapsed": false,
    "pycharm": {
     "name": "#%%\n"
    }
   }
  },
  {
   "cell_type": "code",
   "execution_count": 3,
   "outputs": [],
   "source": [
    "# N in our Ngram\n",
    "NGRAM_SIZE = 3"
   ],
   "metadata": {
    "collapsed": false,
    "pycharm": {
     "name": "#%%\n"
    }
   }
  },
  {
   "cell_type": "code",
   "execution_count": 4,
   "outputs": [],
   "source": [
    "BEAT_DUR = 0.3"
   ],
   "metadata": {
    "collapsed": false,
    "pycharm": {
     "name": "#%%\n"
    }
   }
  },
  {
   "cell_type": "code",
   "execution_count": 5,
   "outputs": [],
   "source": [
    "DESIRED_PIANISTS = ['Bill Evans', 'Oscar Peterson']\n",
    "DESIRED_DRUMMERS = ['Jack DeJohnette', 'Ed Thigpen']"
   ],
   "metadata": {
    "collapsed": false,
    "pycharm": {
     "name": "#%%\n"
    }
   }
  },
  {
   "cell_type": "markdown",
   "source": [
    "## Load in data"
   ],
   "metadata": {
    "collapsed": false,
    "pycharm": {
     "name": "#%% md\n"
    }
   }
  },
  {
   "cell_type": "code",
   "execution_count": 6,
   "outputs": [],
   "source": [
    "allonsets: list[OnsetMaker] = utils.load_corpus_from_files(f'{utils.get_project_root()}/data/cambridge-jazz-trio-database-v02')"
   ],
   "metadata": {
    "collapsed": false,
    "pycharm": {
     "name": "#%%\n"
    }
   }
  },
  {
   "cell_type": "markdown",
   "source": [
    "## Extract BURs"
   ],
   "metadata": {
    "collapsed": false,
    "pycharm": {
     "name": "#%% md\n"
    }
   }
  },
  {
   "cell_type": "code",
   "execution_count": 7,
   "outputs": [],
   "source": [
    "def bur_extract(track, instr: str = 'piano', precision: int = 1):\n",
    "    track_res = {}\n",
    "    # Subset to get my onsets and partner onsets as separate dataframes\n",
    "    my_onsets = track.ons[instr]\n",
    "    my_beats = track.summary_dict[instr]\n",
    "    # Extract BURs using our feature class\n",
    "    bm = BeatUpbeatRatio(my_onsets=my_onsets, my_beats=my_beats, clean_outliers=False)\n",
    "    # Iterate through every log BUR by that musician\n",
    "    burs = [round(i, precision) if not np.isnan(i) else i for i in bm.bur['burs'].dropna().values]\n",
    "    # Chunk the BURs according to the N-gram size\n",
    "    burs_chunked = [burs[i: i + NGRAM_SIZE] for i in range(0, len(burs), NGRAM_SIZE)]\n",
    "    # Iterate through each chunk\n",
    "    for chunk in burs_chunked:\n",
    "        # If we don't have enough BURs\n",
    "        if len(chunk) < NGRAM_SIZE:\n",
    "            continue\n",
    "        # If any of our BURs are outside the threshold, then drop them\n",
    "        if any(not BUR_LOWER <= x <= BUR_UPPER for x in chunk):\n",
    "            continue\n",
    "        # Split into previous and next BURs\n",
    "        prev_burs = tuple(chunk[:-1])\n",
    "        next_bur = chunk[-1]\n",
    "        # Append the next BUR\n",
    "        if prev_burs not in track_res.keys():\n",
    "            track_res[prev_burs] = []\n",
    "        track_res[prev_burs].append(next_bur)\n",
    "    # Return the results for this track\n",
    "    return track_res"
   ],
   "metadata": {
    "collapsed": false,
    "pycharm": {
     "name": "#%%\n"
    }
   }
  },
  {
   "cell_type": "code",
   "execution_count": 8,
   "outputs": [],
   "source": [
    "def combine_dicts(lod: list[dict]) -> defaultdict:\n",
    "    dd = defaultdict(list)\n",
    "    for d in lod:\n",
    "        for key, value in d.items():\n",
    "            dd[key].extend(value)\n",
    "    return dict(dd)"
   ],
   "metadata": {
    "collapsed": false,
    "pycharm": {
     "name": "#%%\n"
    }
   }
  },
  {
   "cell_type": "code",
   "execution_count": 9,
   "outputs": [
    {
     "name": "stderr",
     "output_type": "stream",
     "text": [
      "[Parallel(n_jobs=1)]: Using backend SequentialBackend with 1 concurrent workers.\n",
      "[Parallel(n_jobs=1)]: Done   1 out of   1 | elapsed:    0.0s remaining:    0.0s\n",
      "[Parallel(n_jobs=1)]: Done   2 out of   2 | elapsed:    0.0s remaining:    0.0s\n",
      "[Parallel(n_jobs=1)]: Done   3 out of   3 | elapsed:    0.0s remaining:    0.0s\n",
      "[Parallel(n_jobs=1)]: Done   4 out of   4 | elapsed:    0.0s remaining:    0.0s\n",
      "[Parallel(n_jobs=1)]: Done   5 out of   5 | elapsed:    0.0s remaining:    0.0s\n",
      "[Parallel(n_jobs=1)]: Done   6 out of   6 | elapsed:    0.0s remaining:    0.0s\n",
      "[Parallel(n_jobs=1)]: Done   7 out of   7 | elapsed:    0.0s remaining:    0.0s\n",
      "[Parallel(n_jobs=1)]: Done   8 out of   8 | elapsed:    0.0s remaining:    0.0s\n",
      "[Parallel(n_jobs=1)]: Done   9 out of   9 | elapsed:    0.0s remaining:    0.0s\n",
      "[Parallel(n_jobs=1)]: Done 254 out of 254 | elapsed:    2.5s finished\n",
      "[Parallel(n_jobs=1)]: Using backend SequentialBackend with 1 concurrent workers.\n",
      "[Parallel(n_jobs=1)]: Done   1 out of   1 | elapsed:    0.0s remaining:    0.0s\n",
      "[Parallel(n_jobs=1)]: Done   2 out of   2 | elapsed:    0.0s remaining:    0.0s\n",
      "[Parallel(n_jobs=1)]: Done   3 out of   3 | elapsed:    0.0s remaining:    0.0s\n",
      "[Parallel(n_jobs=1)]: Done   4 out of   4 | elapsed:    0.0s remaining:    0.0s\n",
      "[Parallel(n_jobs=1)]: Done   5 out of   5 | elapsed:    0.0s remaining:    0.0s\n",
      "[Parallel(n_jobs=1)]: Done   6 out of   6 | elapsed:    0.0s remaining:    0.0s\n",
      "[Parallel(n_jobs=1)]: Done   7 out of   7 | elapsed:    0.0s remaining:    0.0s\n",
      "[Parallel(n_jobs=1)]: Done   8 out of   8 | elapsed:    0.0s remaining:    0.0s\n",
      "[Parallel(n_jobs=1)]: Done   9 out of   9 | elapsed:    0.0s remaining:    0.0s\n",
      "[Parallel(n_jobs=1)]: Done 119 out of 119 | elapsed:    1.8s finished\n"
     ]
    }
   ],
   "source": [
    "allres = {}\n",
    "for pianist in DESIRED_PIANISTS:\n",
    "    proc = [i for i in allonsets if i.item['pianist'] == pianist]\n",
    "    with Parallel(n_jobs=1, verbose=10) as par:\n",
    "        temp = par(delayed(bur_extract)(t) for t in proc)\n",
    "    allres[pianist] = combine_dicts(temp)"
   ],
   "metadata": {
    "collapsed": false,
    "pycharm": {
     "name": "#%%\n"
    }
   }
  },
  {
   "cell_type": "markdown",
   "source": [
    "## Create the Markov Chain"
   ],
   "metadata": {
    "collapsed": false,
    "pycharm": {
     "name": "#%% md\n"
    }
   }
  },
  {
   "cell_type": "code",
   "execution_count": 31,
   "outputs": [],
   "source": [
    "dl_notes = ['C5', 'B4', 'C5', 'C#5', 'D5', 'C#5', 'D5', 'Eb5', 'Fb5', 'Eb5', 'Fb5', 'Eb5', 'D5', 'Db5', 'C5', 'Bb4', 'Ab4', 'Bb4', 'G4', 'Ab4', 'Bb4', 'Ab4', 'G4', 'F4', 'B3', 'D4', 'F4', 'Ab4', 'B4', 'G5', 'F5', 'E5', 'Eb5', 'Db5', 'C5', 'Bb4', 'A4', 'Gb4', 'F4', 'Eb4', 'Db4', 'F4', 'Ab4', 'C5', 'Bb4', 'Ab4', 'G4', 'F4', 'Ab4']\n",
    "dl_midi = [note_name_to_number(n) for n in dl_notes]"
   ],
   "metadata": {
    "collapsed": false,
    "pycharm": {
     "name": "#%%\n"
    }
   }
  },
  {
   "cell_type": "code",
   "execution_count": 12,
   "outputs": [],
   "source": [
    "def get_random_bur(bl, chain_val):\n",
    "    random_bur = random.sample(bl[chain_val], 1)[0]\n",
    "    newkey = tuple((*chain_val[1:], random_bur))\n",
    "    return newkey\n",
    "\n",
    "\n",
    "def create_chain(bur_list, chain_len: int):\n",
    "    # Our first BUR is set to the most common BUR for this pianist\n",
    "    starting_bur = [i for i in bur_list.keys() if len(bur_list[i]) == max(len(v) for v in bur_list.values())][0]\n",
    "    chai = [starting_bur]\n",
    "    # Iterate through the number of values we want in our chain\n",
    "    for i in range(chain_len):\n",
    "        # Get a random BUR\n",
    "        random_bur = get_random_bur(bur_list, chai[i])\n",
    "        # Use our modal BUR if the random BUR isn't valid\n",
    "        if random_bur not in bur_list.keys():\n",
    "            random_bur = starting_bur\n",
    "        chai.append(random_bur)\n",
    "    # Return the full chain\n",
    "    return [float(i[-1]) for i in chai]"
   ],
   "metadata": {
    "collapsed": false,
    "pycharm": {
     "name": "#%%\n"
    }
   }
  },
  {
   "cell_type": "code",
   "execution_count": null,
   "outputs": [],
   "source": [
    "chains = {pia: create_chain(bur, chain_len=int(len(dl_midi) / 2)) for pia, bur in allres.items()}"
   ],
   "metadata": {
    "collapsed": false,
    "pycharm": {
     "name": "#%%\n"
    }
   }
  },
  {
   "cell_type": "markdown",
   "source": [
    "## Render the chains to audio"
   ],
   "metadata": {
    "collapsed": false,
    "pycharm": {
     "name": "#%% md\n"
    }
   }
  },
  {
   "cell_type": "code",
   "execution_count": 55,
   "outputs": [],
   "source": [
    "def convert_to_midi(chain, pitches, beat_dur: float):\n",
    "    notes = []\n",
    "    for i, ((note1, note2), bur) in enumerate(zip(zip(pitches[::2], pitches[1::2]), chain)):\n",
    "        lb = (beat_dur / (bur + 1))\n",
    "        b1 = bur * lb\n",
    "        b2 = 1 * lb\n",
    "        n1 = Note(velocity=50, pitch=note1, start=i * beat_dur, end=(i * beat_dur) + b1)\n",
    "        n2 = Note(velocity=50, pitch=note2, start=(i * beat_dur) + b1, end=(i * beat_dur) + b1 + b2)\n",
    "        notes.append(n1)\n",
    "        notes.append(n2)\n",
    "    return notes"
   ],
   "metadata": {
    "collapsed": false,
    "pycharm": {
     "name": "#%%\n"
    }
   }
  },
  {
   "cell_type": "code",
   "execution_count": 15,
   "outputs": [],
   "source": [
    "note = {pia: convert_to_midi(ch, dl_midi, BEAT_DUR) for pia, ch in chains.items()}"
   ],
   "metadata": {
    "collapsed": false,
    "pycharm": {
     "name": "#%%\n"
    }
   }
  },
  {
   "cell_type": "code",
   "execution_count": 81,
   "outputs": [],
   "source": [
    "def synthesize(nts):\n",
    "    ins = Instrument(program=0)\n",
    "    ins.notes = nts\n",
    "    return ins.synthesize(utils.SAMPLE_RATE, wave=np.sin)"
   ],
   "metadata": {
    "collapsed": false,
    "pycharm": {
     "name": "#%%\n"
    }
   }
  },
  {
   "cell_type": "code",
   "execution_count": 42,
   "outputs": [],
   "source": [
    "for pia, no in note.items():\n",
    "    audio = synthesize(no)\n",
    "    f = f'{utils.get_project_root()}/reports/generation_examples/{pia.split(\" \")[1].lower()}_scale_{NGRAM_SIZE}gram.wav'\n",
    "    with open(f, 'wb') as fp:\n",
    "        sf.write(fp, audio, utils.SAMPLE_RATE)"
   ],
   "metadata": {
    "collapsed": false,
    "pycharm": {
     "name": "#%%\n"
    }
   }
  },
  {
   "cell_type": "markdown",
   "source": [
    "## Drummers"
   ],
   "metadata": {
    "collapsed": false,
    "pycharm": {
     "name": "#%% md\n"
    }
   }
  },
  {
   "cell_type": "code",
   "execution_count": 58,
   "outputs": [
    {
     "name": "stderr",
     "output_type": "stream",
     "text": [
      "[Parallel(n_jobs=1)]: Using backend SequentialBackend with 1 concurrent workers.\n",
      "[Parallel(n_jobs=1)]: Done   1 out of   1 | elapsed:    0.0s remaining:    0.0s\n",
      "[Parallel(n_jobs=1)]: Done   2 out of   2 | elapsed:    0.0s remaining:    0.0s\n",
      "[Parallel(n_jobs=1)]: Done   3 out of   3 | elapsed:    0.0s remaining:    0.0s\n",
      "[Parallel(n_jobs=1)]: Done   4 out of   4 | elapsed:    0.0s remaining:    0.0s\n",
      "[Parallel(n_jobs=1)]: Done   5 out of   5 | elapsed:    0.0s remaining:    0.0s\n",
      "[Parallel(n_jobs=1)]: Done   6 out of   6 | elapsed:    0.0s remaining:    0.0s\n",
      "[Parallel(n_jobs=1)]: Done   7 out of   7 | elapsed:    0.0s remaining:    0.0s\n",
      "[Parallel(n_jobs=1)]: Done   8 out of   8 | elapsed:    0.0s remaining:    0.0s\n",
      "[Parallel(n_jobs=1)]: Done   9 out of   9 | elapsed:    0.0s remaining:    0.0s\n",
      "[Parallel(n_jobs=1)]: Done  84 out of  84 | elapsed:    1.8s finished\n",
      "[Parallel(n_jobs=1)]: Using backend SequentialBackend with 1 concurrent workers.\n",
      "[Parallel(n_jobs=1)]: Done   1 out of   1 | elapsed:    0.0s remaining:    0.0s\n",
      "[Parallel(n_jobs=1)]: Done   2 out of   2 | elapsed:    0.0s remaining:    0.0s\n",
      "[Parallel(n_jobs=1)]: Done   3 out of   3 | elapsed:    0.0s remaining:    0.0s\n",
      "[Parallel(n_jobs=1)]: Done   4 out of   4 | elapsed:    0.0s remaining:    0.0s\n",
      "[Parallel(n_jobs=1)]: Done   5 out of   5 | elapsed:    0.0s remaining:    0.0s\n",
      "[Parallel(n_jobs=1)]: Done   6 out of   6 | elapsed:    0.0s remaining:    0.0s\n",
      "[Parallel(n_jobs=1)]: Done   7 out of   7 | elapsed:    0.0s remaining:    0.0s\n",
      "[Parallel(n_jobs=1)]: Done   8 out of   8 | elapsed:    0.0s remaining:    0.0s\n",
      "[Parallel(n_jobs=1)]: Done   9 out of   9 | elapsed:    0.0s remaining:    0.0s\n",
      "[Parallel(n_jobs=1)]: Done 104 out of 104 | elapsed:    1.0s finished\n"
     ]
    }
   ],
   "source": [
    "drumres = {}\n",
    "for drummer in DESIRED_DRUMMERS:\n",
    "    proc = [i for i in allonsets if i.item['musicians']['drummer'] == drummer]\n",
    "    with Parallel(n_jobs=1, verbose=10) as par:\n",
    "        temp = par(delayed(bur_extract)(t, 'drums', 2) for t in proc)\n",
    "    drumres[drummer] = combine_dicts(temp)"
   ],
   "metadata": {
    "collapsed": false,
    "pycharm": {
     "name": "#%%\n"
    }
   }
  },
  {
   "cell_type": "code",
   "execution_count": 59,
   "outputs": [],
   "source": [
    "drumchain = {dru: create_chain(bur, chain_len=32 * 4) for dru, bur in drumres.items()}"
   ],
   "metadata": {
    "collapsed": false,
    "pycharm": {
     "name": "#%%\n"
    }
   }
  },
  {
   "cell_type": "code",
   "execution_count": 60,
   "outputs": [],
   "source": [
    "tempo = [0.24, 0.3, 0.4]\n",
    "for temp in tempo:\n",
    "    for dru, ch in drumchain.items():\n",
    "        midi = convert_to_midi(ch, [51 for _ in range(len(ch))], temp)\n",
    "        count = 1\n",
    "        newvals = []\n",
    "        for i in midi:\n",
    "            if count != 2:\n",
    "                newvals.append(i)\n",
    "            count = count + 1 if count < 4 else 1\n",
    "\n",
    "        f = f'{utils.get_project_root()}/reports/generation_examples/{dru.split(\" \")[1].lower()}_ride_{round(60 / temp)}bpm.mid'\n",
    "        # with open(f, 'wb') as fp:\n",
    "        ins = Instrument(program=0)\n",
    "        ins.notes = newvals\n",
    "        pm = PrettyMIDI()\n",
    "        pm.instruments = [ins]\n",
    "        pm.write(f)"
   ],
   "metadata": {
    "collapsed": false,
    "pycharm": {
     "name": "#%%\n"
    }
   }
  },
  {
   "cell_type": "markdown",
   "source": [
    "## Experimenting with Pitch"
   ],
   "metadata": {
    "collapsed": false,
    "pycharm": {
     "name": "#%% md\n"
    }
   }
  },
  {
   "cell_type": "code",
   "execution_count": 21,
   "outputs": [],
   "source": [
    "from src.detect.midi_utils import MelodyMaker"
   ],
   "metadata": {
    "collapsed": false,
    "pycharm": {
     "name": "#%%\n"
    }
   }
  },
  {
   "cell_type": "code",
   "execution_count": 96,
   "outputs": [],
   "source": [
    "NGRAM_SIZE = 6\n",
    "\n",
    "def extract_midi_ngs(track):\n",
    "    track_res = {}\n",
    "    mm = MelodyMaker(f'{utils.get_project_root()}/data/cambridge-jazz-trio-database-v02/{track.item[\"fname\"]}/piano_midi.mid', track)\n",
    "    mel = mm.extract_melody()\n",
    "    ints = mm.extract_intervals(list(mel))\n",
    "    accepts = [i.interval for i in ints if abs(i.interval) < 12]\n",
    "    chunks = [accepts[i: i + NGRAM_SIZE] for i in range(0, len(accepts), NGRAM_SIZE)]\n",
    "    # Iterate through each chunk\n",
    "    for chunk in chunks:\n",
    "        # If we don't have enough BURs\n",
    "        if len(chunk) < NGRAM_SIZE:\n",
    "            continue\n",
    "        # Split into previous and next BURs\n",
    "        prev = tuple(chunk[:-1])\n",
    "        nex = chunk[-1]\n",
    "        # Append the next BUR\n",
    "        if prev not in track_res.keys():\n",
    "            track_res[prev] = []\n",
    "        track_res[prev].append(nex)\n",
    "    return track_res"
   ],
   "metadata": {
    "collapsed": false,
    "pycharm": {
     "name": "#%%\n"
    }
   }
  },
  {
   "cell_type": "code",
   "execution_count": 97,
   "outputs": [
    {
     "name": "stderr",
     "output_type": "stream",
     "text": [
      "[Parallel(n_jobs=-1)]: Using backend LokyBackend with 12 concurrent workers.\n",
      "[Parallel(n_jobs=-1)]: Done   1 tasks      | elapsed:   34.9s\n",
      "[Parallel(n_jobs=-1)]: Done   8 tasks      | elapsed:   36.0s\n",
      "[Parallel(n_jobs=-1)]: Done  17 tasks      | elapsed:   36.6s\n",
      "[Parallel(n_jobs=-1)]: Done  26 tasks      | elapsed:   37.3s\n",
      "[Parallel(n_jobs=-1)]: Done  37 tasks      | elapsed:   38.1s\n",
      "[Parallel(n_jobs=-1)]: Done  48 tasks      | elapsed:   38.6s\n",
      "[Parallel(n_jobs=-1)]: Done  61 tasks      | elapsed:   39.0s\n",
      "[Parallel(n_jobs=-1)]: Done  74 tasks      | elapsed:   39.8s\n",
      "[Parallel(n_jobs=-1)]: Done  89 tasks      | elapsed:   40.7s\n",
      "[Parallel(n_jobs=-1)]: Done 104 tasks      | elapsed:   41.4s\n",
      "[Parallel(n_jobs=-1)]: Done 121 tasks      | elapsed:   42.0s\n",
      "[Parallel(n_jobs=-1)]: Done 138 tasks      | elapsed:   42.9s\n",
      "[Parallel(n_jobs=-1)]: Done 157 tasks      | elapsed:   44.1s\n",
      "[Parallel(n_jobs=-1)]: Done 176 tasks      | elapsed:   45.2s\n",
      "[Parallel(n_jobs=-1)]: Done 197 tasks      | elapsed:   46.3s\n",
      "[Parallel(n_jobs=-1)]: Done 218 tasks      | elapsed:   47.2s\n",
      "[Parallel(n_jobs=-1)]: Done 254 out of 254 | elapsed:   49.1s finished\n",
      "[Parallel(n_jobs=-1)]: Using backend LokyBackend with 12 concurrent workers.\n",
      "[Parallel(n_jobs=-1)]: Done   1 tasks      | elapsed:    2.3s\n",
      "[Parallel(n_jobs=-1)]: Done   8 tasks      | elapsed:    2.4s\n",
      "[Parallel(n_jobs=-1)]: Done  17 tasks      | elapsed:    2.5s\n",
      "[Parallel(n_jobs=-1)]: Done  26 tasks      | elapsed:    2.6s\n",
      "[Parallel(n_jobs=-1)]: Done  37 tasks      | elapsed:    2.7s\n",
      "[Parallel(n_jobs=-1)]: Done  48 tasks      | elapsed:    2.8s\n",
      "[Parallel(n_jobs=-1)]: Done  61 tasks      | elapsed:    2.9s\n",
      "[Parallel(n_jobs=-1)]: Batch computation too fast (0.1998s.) Setting batch_size=2.\n",
      "[Parallel(n_jobs=-1)]: Done  74 tasks      | elapsed:    3.0s\n",
      "[Parallel(n_jobs=-1)]: Done  89 tasks      | elapsed:    3.2s\n",
      "[Parallel(n_jobs=-1)]: Done 112 tasks      | elapsed:    3.3s\n",
      "[Parallel(n_jobs=-1)]: Done 146 tasks      | elapsed:    3.5s\n",
      "[Parallel(n_jobs=-1)]: Done 180 tasks      | elapsed:    3.8s\n",
      "[Parallel(n_jobs=-1)]: Done 218 tasks      | elapsed:    4.0s\n",
      "[Parallel(n_jobs=-1)]: Done 254 out of 254 | elapsed:    4.1s finished\n"
     ]
    }
   ],
   "source": [
    "be = [t for t in allonsets if t.item['bandleader'] == 'Bill Evans']\n",
    "with Parallel(n_jobs=-1, verbose=10) as par:\n",
    "    allmidi = par(delayed(extract_midi_ngs)(t) for t in be)\n",
    "    allburs = par(delayed(bur_extract)(t) for t in be)"
   ],
   "metadata": {
    "collapsed": false,
    "pycharm": {
     "name": "#%%\n"
    }
   }
  },
  {
   "cell_type": "code",
   "execution_count": 124,
   "outputs": [],
   "source": [
    "cds_mid = combine_dicts(allmidi)\n",
    "ch_mid = create_chain(cds_mid, chain_len=12)"
   ],
   "metadata": {
    "collapsed": false,
    "pycharm": {
     "name": "#%%\n"
    }
   }
  },
  {
   "cell_type": "code",
   "execution_count": 125,
   "outputs": [],
   "source": [
    "possible = [\n",
    "    *[str(i) + '3' for i in utils.ALL_PITCHES],\n",
    "    *[str(i) + '4' for i in utils.ALL_PITCHES],\n",
    "    *[str(i) + '5' for i in utils.ALL_PITCHES],\n",
    "    *[str(i) + '6' for i in utils.ALL_PITCHES],\n",
    "    *[str(i) + '7' for i in utils.ALL_PITCHES],\n",
    "]\n",
    "\n",
    "allpitches = [24]\n",
    "for i, val in enumerate(ch_mid):\n",
    "    allpitches.append(int(allpitches[i] + val))\n",
    "pitch_chain = [possible[i] for i in allpitches]"
   ],
   "metadata": {
    "collapsed": false,
    "pycharm": {
     "name": "#%%\n"
    }
   }
  },
  {
   "cell_type": "code",
   "execution_count": 126,
   "outputs": [],
   "source": [
    "cds_bur = combine_dicts(allburs)\n",
    "ch_bur = create_chain(cds_bur, chain_len=12)"
   ],
   "metadata": {
    "collapsed": false,
    "pycharm": {
     "name": "#%%\n"
    }
   }
  },
  {
   "cell_type": "code",
   "execution_count": 127,
   "outputs": [],
   "source": [
    "audio = synthesize(convert_to_midi(ch_bur, [note_name_to_number(n) for n in pitch_chain], BEAT_DUR))\n",
    "f = f'{utils.get_project_root()}/reports/generation_examples/generate_3.wav'\n",
    "with open(f, 'wb') as fp:\n",
    "    sf.write(fp, audio, utils.SAMPLE_RATE)"
   ],
   "metadata": {
    "collapsed": false,
    "pycharm": {
     "name": "#%%\n"
    }
   }
  }
 ],
 "metadata": {
  "kernelspec": {
   "display_name": "Python 3",
   "language": "python",
   "name": "python3"
  },
  "language_info": {
   "codemirror_mode": {
    "name": "ipython",
    "version": 2
   },
   "file_extension": ".py",
   "mimetype": "text/x-python",
   "name": "python",
   "nbconvert_exporter": "python",
   "pygments_lexer": "ipython2",
   "version": "2.7.6"
  }
 },
 "nbformat": 4,
 "nbformat_minor": 0
}