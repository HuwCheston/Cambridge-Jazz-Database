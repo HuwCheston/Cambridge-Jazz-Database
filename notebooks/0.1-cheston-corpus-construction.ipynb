{
 "cells": [
  {
   "cell_type": "markdown",
   "metadata": {},
   "source": [
    "# Building a Representative Corpus of Jazz Piano Trio Recordings\n",
    "\n",
    "Procedure:\n",
    "1. Authenticate with both LastFM and Musicbrainz APIs;\n",
    "2. Scrape LastFM to get a list of the most popular jazz artists with 'trio' in their name;\n",
    "3. Cross-reference the artists scraped from LastFM with two reference jazz discographies, removing those who don't feature in either;\n",
    "4. Scrape Musicbrainz using the artist names and gather information on each of their releases;\n",
    "5. Using the release information, group find the number of tracks recorded by all combinations of musicians that recorded under each act name;\n",
    "6. Find the top 30 combinations of musicians who recorded the greatest number of tracks."
   ]
  },
  {
   "cell_type": "markdown",
   "metadata": {},
   "source": [
    "## Import dependencies, set constants etc."
   ]
  },
  {
   "cell_type": "code",
   "execution_count": 1,
   "metadata": {
    "ExecuteTime": {
     "end_time": "2023-06-22T13:59:05.350345800Z",
     "start_time": "2023-06-22T13:58:42.741829400Z"
    }
   },
   "outputs": [],
   "source": [
    "import pandas as pd\n",
    "import numpy as np\n",
    "import dotenv\n",
    "import requests\n",
    "import hashlib\n",
    "import os\n",
    "import logging\n",
    "import matplotlib.pyplot as plt\n",
    "import seaborn as sns\n",
    "import musicbrainzngs\n",
    "import warnings\n",
    "from ast import literal_eval\n",
    "from builtins import any as b_any\n",
    "from datetime import timedelta, datetime\n",
    "from dateutil.parser import parse, ParserError\n",
    "from tqdm.notebook import tqdm\n",
    "from requests.exceptions import ConnectionError\n",
    "import csv\n",
    "from collections import defaultdict\n",
    "\n",
    "import src.utils.analyse_utils as autils"
   ]
  },
  {
   "cell_type": "code",
   "execution_count": 2,
   "metadata": {
    "ExecuteTime": {
     "end_time": "2023-06-22T14:09:29.451549500Z",
     "start_time": "2023-06-22T14:09:29.432052200Z"
    }
   },
   "outputs": [],
   "source": [
    "# These options just make the outputs from each cell look cleaner\n",
    "pd.set_option('display.max_rows', 20)\n",
    "pd.options.mode.chained_assignment = None\n",
    "logging.getLogger().setLevel(logging.ERROR)\n",
    "plt.rcParams.update({'font.size': 18})\n",
    "plt.style.use('default')"
   ]
  },
  {
   "cell_type": "code",
   "execution_count": 3,
   "metadata": {
    "ExecuteTime": {
     "end_time": "2023-06-22T14:09:29.916752800Z",
     "start_time": "2023-06-22T14:09:29.902717300Z"
    }
   },
   "outputs": [],
   "source": [
    "# These variables are constants and can be changed if needed\n",
    "N_PAGES = 500  # The number of LastFM pages to scrape artist information from\n",
    "N_ARTISTS = 500  # The number of artists per LastFM page\n",
    "LASTFM_ENDPOINT = \"https://ws.audioscrobbler.com/2.0\"  # This is the LastFM API root directory that we will make our calls to\n",
    "GENRE = 'jazz'  # The LastFM genre to scrape for artist names\n",
    "SEARCH_TAG = 'trio'  # Only consider artists that have this tag in their name\n",
    "USABLE_TRACKS_WORST_CASE = 1/4    # In the worst case, we assume that only this percentage of total tracks will be usable in the corpus"
   ]
  },
  {
   "cell_type": "code",
   "execution_count": 4,
   "metadata": {
    "ExecuteTime": {
     "end_time": "2023-06-22T14:09:30.259254400Z",
     "start_time": "2023-06-22T14:09:30.244719800Z"
    }
   },
   "outputs": [],
   "source": [
    "# Define the reader function to load in the required text file\n",
    "reader = lambda f: open(fr'{autils.get_project_root()}\\references\\corpus_construction\\{f}.txt', \"r\").read().splitlines()"
   ]
  },
  {
   "cell_type": "markdown",
   "metadata": {},
   "source": [
    "## Authenticate APIs\n",
    "\n",
    "To access the LastFM API, we need an API key, which must be applied for manually. The procedure for doing so is out of scope for this notebook. Follow the advice given in the [LastFM API documentation](https://www.last.fm/api/authentication): you will first need to register for a user account before you can apply for an API key.\n",
    "\n",
    "Once you have an API key, this should be stored as an environment variables within a file called `.env` that is saved in the root directory of this project folder. Define the LastFM key as `LASTFM_API_KEY`. This will then be loaded in automatically using the `dotenv` package within the following few lines.\n",
    "\n",
    "Musicbrainz does not currently require authentication, beyond setting a user agent. You should store a contact email in `.env`, under the `CONTACT_EMAIL` variable."
   ]
  },
  {
   "cell_type": "code",
   "execution_count": 5,
   "metadata": {
    "ExecuteTime": {
     "end_time": "2023-06-22T14:09:31.061864100Z",
     "start_time": "2023-06-22T14:09:30.989364300Z"
    }
   },
   "outputs": [
    {
     "data": {
      "text/plain": [
       "True"
      ]
     },
     "execution_count": 5,
     "metadata": {},
     "output_type": "execute_result"
    }
   ],
   "source": [
    "# Load in the environment variables we require for authentication\n",
    "dotenv.load_dotenv(rf\"{autils.get_project_root()}\\.env\")"
   ]
  },
  {
   "cell_type": "code",
   "execution_count": 6,
   "metadata": {
    "ExecuteTime": {
     "end_time": "2023-06-22T14:09:31.417366300Z",
     "start_time": "2023-06-22T14:09:31.404364100Z"
    }
   },
   "outputs": [],
   "source": [
    "# Load in our LastFM API key from .env\n",
    "LASTFM_API_KEY = os.getenv('LASTFM_API_KEY')"
   ]
  },
  {
   "cell_type": "code",
   "execution_count": 7,
   "metadata": {
    "ExecuteTime": {
     "end_time": "2023-06-22T14:09:31.761117300Z",
     "start_time": "2023-06-22T14:09:31.746116Z"
    }
   },
   "outputs": [],
   "source": [
    "# This is all the authentication required for Musicbrainz\n",
    "CONTACT_EMAIL = os.getenv('CONTACT_EMAIL')\n",
    "LISTENBRAINZ_URL = 'https://listenbrainz.org/player/?recording_mbids='\n",
    "musicbrainzngs.set_useragent('Jazz-Corpus-Analysis', 1, CONTACT_EMAIL)"
   ]
  },
  {
   "cell_type": "code",
   "execution_count": 8,
   "metadata": {
    "ExecuteTime": {
     "end_time": "2023-06-22T14:09:32.485302300Z",
     "start_time": "2023-06-22T14:09:32.089801700Z"
    }
   },
   "outputs": [],
   "source": [
    "# These authentication variables aren't currently used, but are created now in case we do end up using them later\n",
    "LASTFM_SHARED_SECRET = os.getenv('LASTFM_SHARED_SECRET')\n",
    "LASTFM_TOKEN = eval(\n",
    "    requests.get(f\"{LASTFM_ENDPOINT}/?method=auth.gettoken&api_key={LASTFM_API_KEY}&format=json\").text\n",
    ")['token']\n",
    "LASTFM_API_SIGNATURE = hashlib.md5(\n",
    "    f\"api_key{LASTFM_API_KEY}methodauth.getSessiontoken{LASTFM_TOKEN}{LASTFM_SHARED_SECRET}\".encode('utf-8')\n",
    ")"
   ]
  },
  {
   "cell_type": "markdown",
   "metadata": {},
   "source": [
    "## Scrape artist data from LastFM using API\n",
    "\n",
    "The following cells scrape data from the LastFM API using the information and keys created in the cells above."
   ]
  },
  {
   "cell_type": "code",
   "execution_count": null,
   "metadata": {},
   "outputs": [],
   "source": [
    "def get_total_streams(mbid: str) -> dict:\n",
    "    \"\"\"Gets the total number of streams for an artist by their ID, across all tracks and albums\"\"\"\n",
    "    # Make the API request\n",
    "    request = requests.get(\n",
    "        f\"{LASTFM_ENDPOINT}/?method=artist.getinfo&mbid={mbid}&api_key={LASTFM_API_KEY}&format=json\"\n",
    "    ).json()\n",
    "    # Get the required variable from the request JSON object\n",
    "    return {'playcount': request['artist']['stats']['playcount']}\n",
    "\n",
    "\n",
    "def get_top_n_track_streams(mbid: str, num_tracks: int = 3) -> dict:\n",
    "    \"\"\"Gets the number of streams for the top n tracks by an artist, by their ID\"\"\"\n",
    "    # Make the API request\n",
    "    request = requests.get(\n",
    "        f\"{LASTFM_ENDPOINT}/?method=artist.gettoptracks&mbid={mbid}&api_key={LASTFM_API_KEY}&format=json\"\n",
    "    ).json()\n",
    "    res_ = {}\n",
    "    # Iterate through the required number of tracks\n",
    "    for tr in range(num_tracks):\n",
    "        # Get the name and play count from the given track\n",
    "        res_[f'track_{tr + 1}_name'] = request['toptracks']['track'][tr]['name']\n",
    "        res_[f'track_{tr + 1}_plays'] = request['toptracks']['track'][tr]['playcount']\n",
    "    return res_"
   ]
  },
  {
   "cell_type": "code",
   "execution_count": null,
   "metadata": {},
   "outputs": [],
   "source": [
    "def process_artist(artist_: dict) -> dict:\n",
    "    \"\"\"Central function for processing data from a single artist scraped from LastFM\"\"\"\n",
    "    if SEARCH_TAG.upper() in str(artist_['name']).upper():\n",
    "        # We make everything upper case to address any case-sensitivity issues\n",
    "        return {\n",
    "            **artist_,\n",
    "            **get_total_streams(mbid=artist_['mbid']),\n",
    "            **get_top_n_track_streams(mbid=artist_['mbid']),\n",
    "        }"
   ]
  },
  {
   "cell_type": "code",
   "execution_count": null,
   "metadata": {},
   "outputs": [],
   "source": [
    "# Empty list to hold our processed data\n",
    "trios = []"
   ]
  },
  {
   "cell_type": "code",
   "execution_count": null,
   "metadata": {},
   "outputs": [],
   "source": [
    "# Iterate through each page of artists on LastFM\n",
    "for i in tqdm(range(1, N_PAGES)):\n",
    "    # Make the API request\n",
    "    try:\n",
    "        tag = requests.get(\n",
    "            f\"{LASTFM_ENDPOINT}/?method=tag.gettopartists&tag={GENRE}&api_key={LASTFM_API_KEY}&page={i}&perpage={N_ARTISTS}&format=json\"\n",
    "        )\n",
    "    # If we time out, log and then continue to the next page\n",
    "    except ConnectionError as e:\n",
    "        print(e)\n",
    "        pass\n",
    "    # If we receive data, iterate through each artist in turn and process it\n",
    "    else:\n",
    "        for k, v in tag.json().items():\n",
    "            for k_, v_ in v.items():\n",
    "                for lastfm_artist in v_:\n",
    "                    # Try and process the data for one artist\n",
    "                    try:\n",
    "                        trios.append(process_artist(lastfm_artist))\n",
    "                    # Catch errors resulting from irregular item construction, timeouts, and continue\n",
    "                    except (TypeError, KeyError, ConnectionError) as e:\n",
    "                        pass"
   ]
  },
  {
   "cell_type": "code",
   "execution_count": null,
   "metadata": {},
   "outputs": [],
   "source": [
    "# Concatenate the artist information and drop any duplicates (by ID)\n",
    "df = (\n",
    "    pd.DataFrame([t for t in trios if t is not None])\n",
    "    .drop_duplicates(subset=['mbid'])\n",
    "    .drop(columns=['image', 'streamable', '@attr'])\n",
    ")"
   ]
  },
  {
   "cell_type": "markdown",
   "metadata": {},
   "source": [
    "## Subset data to only include artists in reference discographies\n",
    "\n",
    "In order to ensure that the artists we include in the corpus played a non-trivial role in jazz history, we cross-reference the list of artists scraped from LastFM with two reference discographies, defined as:\n",
    "\n",
    "- Gioia, T. (2011). The History of Jazz (2nd ed.). New York: Oxford University Press. (`gioia`)\n",
    "- Levine, M. (2011). The Jazz Theory Book. Sebastopol: Sher Music Company. (`levine`)\n",
    "\n",
    "If an artist can be found in the dataset scraped from LastFM AND one of the following discographies AND it passes a final manual check against the inclusion criteria, then they can be included in the corpus."
   ]
  },
  {
   "cell_type": "code",
   "execution_count": null,
   "metadata": {},
   "outputs": [],
   "source": [
    "# Load in the reference discographies and list of appropriate artists\n",
    "levine = reader('levine')\n",
    "gioia = reader('gioia')\n",
    "appropriate = reader('appropriate')"
   ]
  },
  {
   "cell_type": "code",
   "execution_count": null,
   "metadata": {},
   "outputs": [],
   "source": [
    "# Subset the dataframe to include artists in one of the two discographies & that are acceptable to the inclusion criteria\n",
    "df_cut = df[(df['name'].isin(levine)) | (df['name'].isin(gioia))]\n",
    "df_cut = df[(df['name'].isin(appropriate))].reset_index(drop=True)"
   ]
  },
  {
   "cell_type": "code",
   "execution_count": null,
   "metadata": {},
   "outputs": [],
   "source": [
    "df_cut.to_csv(fr'{autils.get_project_root()}\\references\\corpus_construction\\lastfm_piano_trio_search.csv')"
   ]
  },
  {
   "cell_type": "code",
   "execution_count": null,
   "metadata": {},
   "outputs": [],
   "source": [
    "try:\n",
    "    df_cut\n",
    "except NameError:\n",
    "    df_cut = pd.read_csv(fr'{autils.get_project_root()}\\references\\corpus_construction\\lastfm_piano_trio_search.csv')"
   ]
  },
  {
   "cell_type": "markdown",
   "metadata": {},
   "source": [
    "## Scrape release metadata from Musicbrainz\n",
    "\n",
    "Once we have our list of artists from LastFM, we can now turn to scraping [Musicbrainz](https://musicbrainz.org/) to gather information on their individual releases. This will enable us to understand how many trio releases individual bandleaders made, and how many tracks were on each of these releases. This will also allow us to scrape information about the individual performers on each record, which can then be used to estimate the different networks of musicians that formed part of a named 'trio' over time."
   ]
  },
  {
   "cell_type": "code",
   "execution_count": null,
   "metadata": {},
   "outputs": [],
   "source": [
    "def get_mbz_artist_id(artist_str):\n",
    "    \"\"\"Searches Musicbrainz using an artist's name and returns the ID with the closest match\"\"\"\n",
    "    return musicbrainzngs.search_artists(artist=artist_str)['artist-list'][0]['id']\n",
    "\n",
    "def get_mbz_artist_release_groups(\n",
    "        artist_id_,\n",
    "        release_types: tuple = ('album', 'live'),\n",
    "        limit: int = 100,\n",
    "):\n",
    "    \"\"\"Returns all release groups associated with a particular artist, by their musicbrainz ID.\n",
    "\n",
    "    A release group is, essentially, a 'master' recording that may have been printed and pressed under\n",
    "    multiple different titles, in different formats, and in different countries over the years.\n",
    "    \"\"\"\n",
    "    for release_type in release_types:\n",
    "        # This gets the item offset\n",
    "        offset = int(np.floor(musicbrainzngs.browse_release_groups(\n",
    "            artist=artist_id_,\n",
    "            release_type=release_type,\n",
    "            limit=1,\n",
    "        )['release-group-count'] / 100))\n",
    "        for off in range(offset + 1):\n",
    "            yield from musicbrainzngs.browse_release_groups(\n",
    "                artist=artist_id_,\n",
    "                release_type=release_type,\n",
    "                limit=limit,\n",
    "                includes=['artist-credits'],\n",
    "                offset=off\n",
    "            )['release-group-list']\n",
    "\n",
    "\n",
    "def get_earliest_mbz_release_from_release_group(\n",
    "        release_grp_: dict,\n",
    "        release_status: tuple = 'official',\n",
    "        limit: int = 100,\n",
    ") -> dict | None:\n",
    "    \"\"\"Get the information relating to the first release of a record from a release group\"\"\"\n",
    "\n",
    "    # Browse musicbrainz to get all releases under this release group\n",
    "    releases_ = musicbrainzngs.browse_releases(\n",
    "        release_group=release_grp_['id'],\n",
    "        release_status=release_status,\n",
    "        limit=limit,    # We don't use offsets here, we won't have more than 100 unique releases of one record\n",
    "    )['release-list']\n",
    "    # Empty lists to store our release data and ID variables\n",
    "    dates = []\n",
    "    ids = []\n",
    "    # Iterate through all the releases of this record\n",
    "    for rel in releases_:\n",
    "        # Try and parse the date to a machine-readable format, and keep the ID too\n",
    "        try:\n",
    "            dates.append(parse(rel['date'], fuzzy=True))\n",
    "        # If we don't have a date for this release, continue to the next one\n",
    "        except KeyError:\n",
    "            continue\n",
    "        # Keep the IDs of any releases where we also have dates\n",
    "        else:\n",
    "            ids.append(rel['id'])\n",
    "    # Return the release whose ID matches the ID of the chronologically-earliest release\n",
    "    try:\n",
    "        return [rel for rel in releases_ if rel['id'] == ids[np.argmin(dates)]][0]\n",
    "    # If none of the releases have dates associated with them, try and return the first release in the list\n",
    "    except (ValueError, IndexError):\n",
    "        try:\n",
    "            return releases_[0]\n",
    "        # If we have an error here, it's because we don't have any releases in the first place, so return None\n",
    "        except IndexError:\n",
    "            return None\n",
    "\n",
    "\n",
    "def getter(collection: str, attribute: str, nest: str = None, fallback=''):\n",
    "    \"\"\"Simple wrapper function for attempting to get an item from a dictionary\"\"\"\n",
    "    try:\n",
    "        # If we've passed a nest level in, subset our collection by this level\n",
    "        if nest is not None:\n",
    "            collection = collection[nest]\n",
    "        return collection[attribute]\n",
    "    # If we don't have our attribute in the dictionary, return our fallback (empty string)\n",
    "    except KeyError:\n",
    "        return fallback\n",
    "\n",
    "\n",
    "def get_work_info(track):\n",
    "    try:\n",
    "        work_list = track['recording']['work-relation-list']\n",
    "    except KeyError:\n",
    "        return {}\n",
    "    else:\n",
    "        for work in work_list:\n",
    "            yield {\n",
    "                'work_begin': getter(work, 'begin'),\n",
    "                'work_end': getter(work, 'end'),\n",
    "                'work_title': getter(work, 'title', nest='work'),\n",
    "                'work_type': getter(work, 'type'),\n",
    "            }\n",
    "\n",
    "\n",
    "def get_release_info(rel):\n",
    "    return {\n",
    "        'release_title': getter(rel, 'title', nest='release'),\n",
    "        'release_status': getter(rel, 'status', nest='release'),\n",
    "        'release_quality': getter(rel, 'quality', nest='release'),\n",
    "        'release_id': getter(rel, 'id', nest='release'),\n",
    "        'release_packaging': getter(rel, 'packaging', nest='release'),\n",
    "        'release_date': getter(rel, 'date', nest='release'),\n",
    "        'release_country': getter(rel, 'country', nest='release'),\n",
    "    }\n",
    "\n",
    "def get_artist_info(track):\n",
    "    try:\n",
    "        artist_list = track['recording']['artist-relation-list']\n",
    "    except KeyError:\n",
    "        return {}\n",
    "    else:\n",
    "        for artist_ in artist_list:\n",
    "            yield {\n",
    "                'artist_id': getter(artist_, 'id', nest='artist'),\n",
    "                'artist_role': getter(artist_, 'attribute-list'),\n",
    "                'artist_name': getter(artist_, 'name', nest='artist'),\n",
    "                'artist_type': getter(artist_, 'type'),\n",
    "                'artist_begin': getter(artist_, 'begin'),\n",
    "                'artist_end': getter(artist_, 'end'),\n",
    "                'artist_details': getter(artist_, 'disambiguation', nest='artist'),\n",
    "            }\n",
    "\n",
    "def get_release_artist(track):\n",
    "    try:\n",
    "        return [getter(a['artist'], 'name') for a in track['recording']['artist-credit'] if isinstance(a, dict)]\n",
    "    except (KeyError, TypeError):\n",
    "        return ''\n",
    "\n",
    "\n",
    "def get_recording_info(track):\n",
    "    return {\n",
    "        'recording_position': getter(track, 'position'),\n",
    "        'recording_number': getter(track, 'number'),\n",
    "        'recording_length': getter(track, 'length'),\n",
    "        'recording_id_for_lbz': getter(track, 'id', nest='recording'),\n",
    "        'recording_title': getter(track, 'title', nest='recording'),\n",
    "        'track_id_maybe_not_needed': getter(track, 'id')\n",
    "    }\n",
    "\n",
    "\n",
    "def parse_mbz_release_info(release: dict, searched_artist_name: str) -> dict:\n",
    "    \"\"\"Parses artist and contributor info from a musicbrainz release\"\"\"\n",
    "    # Get the release by our ID and include the values we need\n",
    "    rel = musicbrainzngs.get_release_by_id(\n",
    "        id=release['id'],\n",
    "        includes=[\n",
    "            'artist-credits',\n",
    "            'labels',\n",
    "            'recordings',\n",
    "            'recording-level-rels',\n",
    "            'work-rels',\n",
    "            'work-level-rels',\n",
    "            'artist-rels'\n",
    "        ],\n",
    "        release_status=['official']\n",
    "    )\n",
    "    release_info = get_release_info(rel)\n",
    "    # Medium list: the list of 'things' in a release, e.g. individual CDs, discs\n",
    "    try:\n",
    "        medium_list = rel['release']['medium-list']\n",
    "    except KeyError:\n",
    "        return\n",
    "    else:\n",
    "        for medium in medium_list:\n",
    "            # Track list: the list of pieces/songs/tracks on a medium\n",
    "            try:\n",
    "                track_list = medium['track-list']\n",
    "            except KeyError:\n",
    "                continue\n",
    "            else:\n",
    "                for track in track_list:\n",
    "                    yield {\n",
    "                        'searched_artist_name': searched_artist_name,\n",
    "                        'release_artist': get_release_artist(track),\n",
    "                        **release_info,\n",
    "                        **get_recording_info(track),\n",
    "                        'artist_list': list(get_artist_info(track)),\n",
    "                        'work_list': list(get_work_info(track)),\n",
    "                    }\n",
    "\n",
    "\n",
    "def get_artist_title_for_writing(name):\n",
    "    \"\"\"Replaces invalid characters in an artist name string so that it can be saved\"\"\"\n",
    "    return name.replace(\" \", \"_\").replace(\"\\\\\", \"_\").replace('/', '_').lower()\n",
    "\n",
    "def write_artist_release_info_to_csv(artist_releases: list, artist_name: str):\n",
    "    \"\"\"Dumps release information from a particular artist to a .csv file\"\"\"\n",
    "    pd.DataFrame(artist_releases).to_csv(fr'{autils.get_project_root()}\\references\\corpus_construction\\musicbrainz_search\\{artist_name}.csv')\n",
    "\n",
    "\n",
    "# Obtain the list of artists that we've already processed\n",
    "preprocessed = os.listdir(fr'{autils.get_project_root()}\\references\\corpus_construction\\musicbrainz_search')\n",
    "# Read in the list of valid artist names from our text file\n",
    "musicbrainz_artists = pd.read_csv(fr'{autils.get_project_root()}\\references\\corpus_construction\\musicbrainz_artists.csv')['artist'].to_list()\n",
    "# Iterate over every artist (with a progress bar)\n",
    "for artist in tqdm(musicbrainz_artists):\n",
    "    # Skip processing the artist if we've already done so in the past\n",
    "    if f\"{get_artist_title_for_writing(artist)}.csv\" in preprocessed:\n",
    "        continue\n",
    "    res = []\n",
    "    # Get the ID of our artist from Musicbrainz\n",
    "    artist_id = get_mbz_artist_id(artist)\n",
    "    # Get all release groups under that artist ID\n",
    "    release_grps = list(get_mbz_artist_release_groups(artist_id))\n",
    "    for release_grp in tqdm(release_grps, desc=f\"{artist}, MBID: {artist_id.upper()}\"):\n",
    "        # Get the earliest release for that release group\n",
    "        earliest_release = get_earliest_mbz_release_from_release_group(release_grp)\n",
    "        if earliest_release is not None:\n",
    "            # Parse artist info from the earliest release\n",
    "            release_info = list(parse_mbz_release_info(earliest_release, artist))\n",
    "            # Extend the list we're creating\n",
    "            res.extend(release_info)\n",
    "    # Once we've scraped all the releases for an artist, we can dump the information to a csv.\n",
    "    write_artist_release_info_to_csv(res, get_artist_title_for_writing(artist))"
   ]
  },
  {
   "cell_type": "markdown",
   "metadata": {},
   "source": [
    "## Clean Musicbrainz output"
   ]
  },
  {
   "cell_type": "markdown",
   "metadata": {},
   "source": [
    "### Load the musicbrainz search results\n",
    "\n",
    "For every bandleader obtained from the LastFM search, we dumped `.csv` files from scraping Musicbrainz. Now, we'll load these all in as a single `pd.DataFrame` object."
   ]
  },
  {
   "cell_type": "code",
   "execution_count": 9,
   "metadata": {
    "ExecuteTime": {
     "end_time": "2023-06-22T14:09:45.165841600Z",
     "start_time": "2023-06-22T14:09:45.154338600Z"
    }
   },
   "outputs": [],
   "source": [
    "def process_release_with_multiple_works(work_list):\n",
    "    \"\"\"For recordings associated with multiple works, e.g. medleys, process data to get one result for the recording\"\"\"\n",
    "    works = defaultdict(set)\n",
    "    for d in work_list:\n",
    "        for k, v in d.items():\n",
    "            works[k].add(v)\n",
    "    works = dict(works)\n",
    "    for k, v in works.items():\n",
    "        try:\n",
    "            works[k] = [i for i in works[k] if i != ''][0]\n",
    "        except IndexError:\n",
    "            works[k] = ''\n",
    "    return works"
   ]
  },
  {
   "cell_type": "code",
   "execution_count": 10,
   "metadata": {
    "ExecuteTime": {
     "end_time": "2023-06-22T14:10:20.667581200Z",
     "start_time": "2023-06-22T14:09:45.559025800Z"
    }
   },
   "outputs": [
    {
     "data": {
      "application/vnd.jupyter.widget-view+json": {
       "model_id": "1cc85f9cb8f440c78d2c1356d0abfd82",
       "version_major": 2,
       "version_minor": 0
      },
      "text/plain": [
       "  0%|          | 0/84 [00:00<?, ?it/s]"
      ]
     },
     "metadata": {},
     "output_type": "display_data"
    }
   ],
   "source": [
    "rows = []\n",
    "search_dir = fr\"{autils.get_project_root()}\\references\\corpus_construction\\musicbrainz_search\"\n",
    "for file in tqdm(os.listdir(search_dir)):\n",
    "    with open(search_dir + '\\\\' + file, encoding='utf8') as f:\n",
    "        for row in csv.DictReader(f, skipinitialspace=True):\n",
    "            work_list = literal_eval(row['work_list'])\n",
    "            if len(work_list) == 0:\n",
    "                works = {col: '' for col in ['work_begin', 'work_end', 'work_title', 'work_type']}\n",
    "            elif len(work_list) == 1:\n",
    "                works = work_list[0]\n",
    "            elif len(work_list) > 1:\n",
    "                works = process_release_with_multiple_works(work_list)\n",
    "            art_list = literal_eval(row['artist_list'])\n",
    "            row.pop('artist_list', None)\n",
    "            row.pop('work_list', None)\n",
    "            for art in art_list:\n",
    "                rows.append(row | art | works)\n",
    "\n",
    "mbz = pd.DataFrame(rows).reset_index(drop=True)"
   ]
  },
  {
   "cell_type": "markdown",
   "metadata": {},
   "source": [
    "### Get the estimated date of recording\n",
    "\n",
    "This is complicated. Musicbrainz gives us four dates we can readily access, relating to when a recording was made. These are called `artist_begin`, `artist_end`, `work_begin`, and `work_end`. In many cases, these will all be the same. In some situations, such as when a recording was made over multiple days, however, we will get a range of dates, corresponding to the first and last date of recording. What we can do here is interpolate between the 25th and 75th quantile date in these range, to estimate the day of recording.\n",
    "\n",
    "We use quantiles, rather than first/last date, to account for issues where a date may have been entered incorrectly (e.g. [`Return to Forever`](https://musicbrainz.org/recording/64a92f98-fd34-4346-8a31-295858b3dbb6), Stanley Clarke's `artist_begin` is `1772`, rather than `1972` as it is for the other performers)"
   ]
  },
  {
   "cell_type": "code",
   "execution_count": 11,
   "metadata": {
    "ExecuteTime": {
     "end_time": "2023-06-22T14:10:39.234533700Z",
     "start_time": "2023-06-22T14:10:20.668542600Z"
    }
   },
   "outputs": [],
   "source": [
    "# For any release, set missing dates equal to the most frequently observed date for that release\n",
    "mbz_ = mbz.copy(deep=True)\n",
    "for idx, grp in mbz_.groupby('release_id'):\n",
    "    # Get all dates as one list\n",
    "    sub = grp[['artist_begin', 'artist_end', 'work_begin', 'work_end']].melt().drop('variable',axis=1)['value']\n",
    "    # Get non-missing dates\n",
    "    non_zero = sub[sub != '']\n",
    "    # Try and get the most commonly observed date, or use NaN if all dates are missing\n",
    "    mode = np.nan\n",
    "    try:\n",
    "        mode = non_zero.mode().iloc[0]\n",
    "    except IndexError:\n",
    "        mode = np.nan\n",
    "    finally:\n",
    "        # Set missing dates equal to the mode/nan\n",
    "        for col in ['artist_begin', 'artist_end', 'work_begin', 'work_end']:\n",
    "            mbz_.loc[grp[grp[col] == ''][col].index, col] = mode"
   ]
  },
  {
   "cell_type": "code",
   "execution_count": 12,
   "metadata": {
    "ExecuteTime": {
     "end_time": "2023-06-22T14:11:33.681555200Z",
     "start_time": "2023-06-22T14:10:39.238531200Z"
    }
   },
   "outputs": [],
   "source": [
    "# Correct date columns to datetime object\n",
    "def parser(x):\n",
    "    if isinstance(x, float):\n",
    "        x = np.floor(x)\n",
    "    try:\n",
    "        return parse(str(x), fuzzy=True, default=datetime(3000, 1, 1, 0, 0))\n",
    "    except ParserError:\n",
    "        return pd.NaT\n",
    "\n",
    "\n",
    "for col in ['release_date', 'artist_begin', 'artist_end', 'work_begin', 'work_end']:\n",
    "    mbz_[col] = mbz_[col].apply(parser)"
   ]
  },
  {
   "cell_type": "code",
   "execution_count": 13,
   "metadata": {
    "ExecuteTime": {
     "end_time": "2023-06-22T14:11:48.995030400Z",
     "start_time": "2023-06-22T14:11:33.686565200Z"
    }
   },
   "outputs": [],
   "source": [
    "# For all of our available dates, interpolate between the 25th and 75th quantile date to estimate the day of recording\n",
    "def interpolate_date(grp) -> datetime:\n",
    "    \"\"\"Interpolate between an array of datetime objects\"\"\"\n",
    "    melt = grp[['artist_begin', 'artist_end', 'work_begin', 'work_end']].melt().drop('variable',axis=1)['value']\n",
    "    begin = melt.quantile(0.25).to_pydatetime()\n",
    "    end = melt.quantile(0.75).to_pydatetime()\n",
    "    try:\n",
    "        diff = timedelta(seconds=(end - begin).total_seconds() / 2)\n",
    "        grp['recording_date_estimate'] = begin + diff\n",
    "    except ValueError:\n",
    "        grp['recording_date_estimate'] = pd.NaT\n",
    "    return grp['recording_date_estimate']\n",
    "\n",
    "\n",
    "mbz_['recording_date_estimate'] = mbz_.groupby('release_id', group_keys=False).apply(interpolate_date)"
   ]
  },
  {
   "cell_type": "markdown",
   "metadata": {},
   "source": [
    "### Clean artist type and role variables"
   ]
  },
  {
   "cell_type": "code",
   "execution_count": 14,
   "metadata": {
    "ExecuteTime": {
     "end_time": "2023-06-22T14:11:49.222570200Z",
     "start_time": "2023-06-22T14:11:48.997530700Z"
    }
   },
   "outputs": [],
   "source": [
    "# Transfer information on performer type to role column\n",
    "for ty in ['vocal', 'performing orchestra', 'samples from artist', 'misc']:\n",
    "    mbz_.loc[mbz_['artist_type'] == ty, 'artist_role'] = f\"['{ty}']\"\n",
    "    mbz_.loc[mbz_['artist_type'] == ty, 'artist_type'] = 'instrument'"
   ]
  },
  {
   "cell_type": "code",
   "execution_count": 15,
   "metadata": {
    "ExecuteTime": {
     "end_time": "2023-06-22T14:11:51.476553900Z",
     "start_time": "2023-06-22T14:11:49.226531Z"
    }
   },
   "outputs": [],
   "source": [
    "# Convert the string representation of a list column to an actual Python list, catching invalid rows\n",
    "mbz_['artist_role_'] = mbz_['artist_role'].apply(lambda ro: literal_eval(str(ro)) if str(ro) != '' else '')"
   ]
  },
  {
   "cell_type": "markdown",
   "metadata": {},
   "source": [
    "### Drop non-performer contributor types\n",
    "These are mostly producers, mixing engineers, etc. who are credited on releases but did not actually perform on them"
   ]
  },
  {
   "cell_type": "code",
   "execution_count": 16,
   "metadata": {
    "ExecuteTime": {
     "end_time": "2023-06-22T14:11:51.752067Z",
     "start_time": "2023-06-22T14:11:51.478528400Z"
    }
   },
   "outputs": [],
   "source": [
    "mbz_ = mbz_[mbz_['artist_type'].isin(['instrument', 'performer'])]"
   ]
  },
  {
   "cell_type": "markdown",
   "metadata": {},
   "source": [
    "### Drop tracks containing invalid instruments\n",
    "\n",
    "When we scraped Musicbrainz, we collected all recordings made by a particular bandleader: this includes their trio recordings, but also recordings made in any other configuration, such as quartets, quintets, big band, solo recordings, etc. We need to remove these by dropping any tracks where an instrument that is not part of the standard piano-bass-drums lineup was reported to have performed."
   ]
  },
  {
   "cell_type": "code",
   "execution_count": 17,
   "metadata": {
    "ExecuteTime": {
     "end_time": "2023-06-22T14:11:51.760563700Z",
     "start_time": "2023-06-22T14:11:51.757528800Z"
    }
   },
   "outputs": [],
   "source": [
    "# We need at least three artists to be credited as playing these instruments\n",
    "include_instrs = [\n",
    "    'bass', 'drums', 'piano',\n",
    "]\n",
    "# Disqualify a release if it contains these instruments\n",
    "# TODO: can we create this list iteratively?\n",
    "exclude_instrs = [\n",
    "    'French horn', 'woodwind', 'solo', 'reeds', 'membranophone', 'oboe', 'harmonica', 'flugelhorn', 'gumbri', 'piccolo', 'bell', 'harp', 'congas', 'bongos', 'mellophone', 'accordion', 'tabla', 'washtub bass', 'tambourine', 'clavinet', 'additional', 'chamberlin', 'banjo', 'marimba', 'baritone', 'brass', 'saxophone', 'clarinet', 'trombone', 'guitar', 'strings', 'cello', 'viol', 'vibraphone', 'electric', 'flute', 'tuba', 'oon', 'percussion', 'foot stomps', 'bass drum', 'celesta', 'tack', 'keyboard', 'Rhodes', 'timpani', 'duo', 'organ', 'electronic', 'synthesizer', 'vocal', 'executive', 'co', 'recorder', 'vocoder', 'slit drum', 'family', 'performing orchestra', 'samples from artist', 'misc'\n",
    "]"
   ]
  },
  {
   "cell_type": "code",
   "execution_count": 18,
   "metadata": {
    "ExecuteTime": {
     "end_time": "2023-06-22T14:12:01.851069700Z",
     "start_time": "2023-06-22T14:11:51.766530900Z"
    }
   },
   "outputs": [],
   "source": [
    "def check_instrument(row: pd.Series) -> bool:\n",
    "    \"\"\"Returns True if an artist performed a valid instrument and did not perform an invalid instrument\"\"\"\n",
    "    try:\n",
    "        return all([\n",
    "            any([b_any(word.lower() in x.lower() for x in row) for word in include_instrs]),\n",
    "            not any([b_any(word.lower() in x.lower() for x in row) for word in exclude_instrs])\n",
    "        ])\n",
    "    except TypeError:\n",
    "        return False\n",
    "\n",
    "# TODO: we can probably simplify this\n",
    "mbz_['include_release'] = mbz_['artist_role_'].apply(check_instrument)\n",
    "# Drop tracks containing at least one invalid instrument\n",
    "mbz_ = (\n",
    "    mbz_.groupby(['recording_title', 'recording_title', 'recording_id_for_lbz'])\n",
    "        .filter(lambda x: not any(x['include_release'] == False))\n",
    ")"
   ]
  },
  {
   "cell_type": "code",
   "execution_count": 19,
   "metadata": {
    "ExecuteTime": {
     "end_time": "2023-06-22T14:12:07.537029Z",
     "start_time": "2023-06-22T14:12:01.858566800Z"
    }
   },
   "outputs": [],
   "source": [
    "# Assert that all tracks only contain valid instruments\n",
    "assert all(\n",
    "    [len(grp[grp['include_release'] == False]) == 0 for idx, grp in mbz_.groupby(['recording_title', 'release_title', 'recording_id_for_lbz'])]\n",
    ")"
   ]
  },
  {
   "cell_type": "markdown",
   "metadata": {},
   "source": [
    "### Drop duplicates of one recording"
   ]
  },
  {
   "cell_type": "code",
   "execution_count": 20,
   "metadata": {
    "ExecuteTime": {
     "end_time": "2023-06-22T14:12:07.615533900Z",
     "start_time": "2023-06-22T14:12:07.540030300Z"
    }
   },
   "outputs": [],
   "source": [
    "mbz_ = mbz_.drop_duplicates(subset=['recording_title', 'recording_length', 'release_title', 'recording_id_for_lbz', 'artist_name'], keep='first')"
   ]
  },
  {
   "cell_type": "markdown",
   "metadata": {},
   "source": [
    "### Format instrument names\n",
    "\n",
    "The names of instruments returned from Musicbrainz aren't standardized: for example, `piano` may be referred to using `piano`, `grand piano`, `piano (solo)`, among others. We can format these fairly easily."
   ]
  },
  {
   "cell_type": "code",
   "execution_count": 21,
   "metadata": {
    "ExecuteTime": {
     "end_time": "2023-06-22T14:12:07.880055Z",
     "start_time": "2023-06-22T14:12:07.620526100Z"
    }
   },
   "outputs": [],
   "source": [
    "def format_instrument(row: pd.Series):\n",
    "    checks = [b_any(word in x for x in row) for word in include_instrs]\n",
    "    return ''.join(np.array(include_instrs)[np.where(checks)[0]])\n",
    "\n",
    "mbz_['artist_instrument'] = mbz_['artist_role_'].apply(format_instrument)"
   ]
  },
  {
   "cell_type": "markdown",
   "metadata": {},
   "source": [
    "### Drop recordings containing more than one performer on a single instrument\n",
    "\n",
    "These are recordings where more than one performer played on a single instrument in the trio configuration. These usually have fairly obvious-to-spot titles, for instance `An Evening with Herbie Hancock & Chick Corea` (contains both Herbie & Chick on piano), `Ray Brown's New Two Bass Hits` (contains both Ray Brown and Pierre Boussaguet on double bass). We can remove these by simply dropping any tracks where we have more than one unique credit for a particular trio instrument."
   ]
  },
  {
   "cell_type": "code",
   "execution_count": 22,
   "metadata": {
    "ExecuteTime": {
     "end_time": "2023-06-22T14:12:19.975028600Z",
     "start_time": "2023-06-22T14:12:07.882034200Z"
    }
   },
   "outputs": [],
   "source": [
    "mbz_ = (\n",
    "    mbz_.groupby(['recording_title', 'recording_length', 'release_title', 'recording_id_for_lbz',])\n",
    "        .filter(lambda x: not any(len(g) > 1 for _, g in x.groupby('artist_instrument')))\n",
    ")"
   ]
  },
  {
   "cell_type": "markdown",
   "metadata": {},
   "source": [
    "### Drop recordings that do not contain a full trio\n",
    "\n",
    "It's quite common on an album to have occasional tracks that may only include a subset of the overall trio -- e.g. piano solos, duets between pianist and bassist. For examples, see both versions of `Epilogue` on `Everybody Digs Bill Evans`, by the `Bill Evans Trio`. We need to remove these."
   ]
  },
  {
   "cell_type": "code",
   "execution_count": 23,
   "metadata": {
    "ExecuteTime": {
     "end_time": "2023-06-22T14:12:22.039029800Z",
     "start_time": "2023-06-22T14:12:19.977568500Z"
    }
   },
   "outputs": [],
   "source": [
    "mbz_ = (\n",
    "    mbz_.groupby(['recording_title', 'recording_length', 'release_title', 'recording_id_for_lbz',])\n",
    "        .filter(lambda x: sorted(x['artist_instrument'].unique()) == sorted(include_instrs))\n",
    ")"
   ]
  },
  {
   "cell_type": "markdown",
   "metadata": {},
   "source": [
    "### Pivot the dataframe to get the whole ensemble on one row\n",
    "\n",
    "The tracks that are left in the dataframe should contain one pianist, one bassist, and one drummer only. We can now pivot the dataframe to get all of these performers on the same row, making it easier to work with combinations of performers."
   ]
  },
  {
   "cell_type": "code",
   "execution_count": 24,
   "metadata": {
    "ExecuteTime": {
     "end_time": "2023-06-22T14:12:22.196033200Z",
     "start_time": "2023-06-22T14:12:22.043568400Z"
    }
   },
   "outputs": [],
   "source": [
    "piv = mbz_.pivot_table(\n",
    "    index=['searched_artist_name', 'recording_title', 'release_title', 'recording_length', 'recording_id_for_lbz', 'release_artist', 'release_date', 'release_country', 'work_begin', 'work_end', 'recording_position', 'recording_date_estimate'],\n",
    "    columns=['artist_instrument'],\n",
    "    aggfunc='first',\n",
    "    values='artist_name'\n",
    ").reset_index(drop=False)"
   ]
  },
  {
   "cell_type": "markdown",
   "metadata": {},
   "source": [
    "### Drop recordings not made by the leader\n",
    "\n",
    "Occasionally, we can run into issues where the artist we initially searched for is not present on a track. For an example, see the album [`Just One of Those Things`](https://musicbrainz.org/release/b1f218be-3aaf-4b7c-a9ca-fab91c29f82e). We searched for `Bud Powell` to find this release, but some of the tracks on the album are by the `Duke Jordan Trio`, who we did not search for. We need to drop the tracks on this album where `Bud Powell` is not recorded as playing either piano, bass or drums."
   ]
  },
  {
   "cell_type": "code",
   "execution_count": 25,
   "metadata": {
    "ExecuteTime": {
     "end_time": "2023-06-22T14:12:26.455526400Z",
     "start_time": "2023-06-22T14:12:22.202030800Z"
    }
   },
   "outputs": [],
   "source": [
    "def filter_non_leader_recordings(row: pd.Series):\n",
    "    \"\"\"Filters tracks where the searched for leader does not appear as a performer on a track\"\"\"\n",
    "    # We accomplish the filtering by looking for overlaps of at least two words between the artist name we searched for and one of the artists in the trio.\n",
    "    # This means that cases where we searched for 'The Bill Evans Trio' will pass, provided that Bill Evans can be found on either piano, bass, or drums.\n",
    "    return any(len(set(row['searched_artist_name'].split()) & set(art.split())) >= 2 for art in row[['bass', 'drums', 'piano']].to_list())\n",
    "\n",
    "piv_ = piv[piv.apply(filter_non_leader_recordings, axis=1)]"
   ]
  },
  {
   "cell_type": "markdown",
   "metadata": {},
   "source": [
    "### Drop incomplete and exceptionally short tracks\n",
    "\n",
    "Occasionally albums contain tracks which are very short. This is especially common on live albums, which may include tracks variously containing words like `Introduction`, `Warm-up`, `Announcement`, etc. These usually don't actually contain any playing, and just consist of the venue MC announcing the name of the artist and the audience applauding them. In other cases, compilation albums may include tracks labelled as `Breakdown`, `False Start`, `Fragment`, etc. These are takes that don't contain a full performance and instead break down, often after only a few bars. We can remove these tracks by first dropping tracks which contain words like `warm-up`', `false start` etc. in their name, and then setting a hard cut-off to drop any track with a duration of less than half a minute."
   ]
  },
  {
   "cell_type": "code",
   "execution_count": 26,
   "metadata": {
    "ExecuteTime": {
     "end_time": "2023-06-22T14:12:26.522567500Z",
     "start_time": "2023-06-22T14:12:26.458062600Z"
    }
   },
   "outputs": [],
   "source": [
    "removers = ['false', 'announ', 'introd', 'warm', 'fragment', 'final', 'break', 'epilogue']\n",
    "for remover in removers:\n",
    "    piv_ = piv_[~piv_['recording_title'].str.lower().str.contains(remover)]"
   ]
  },
  {
   "cell_type": "code",
   "execution_count": 27,
   "metadata": {
    "ExecuteTime": {
     "end_time": "2023-06-22T14:12:26.533529Z",
     "start_time": "2023-06-22T14:12:26.525029200Z"
    }
   },
   "outputs": [],
   "source": [
    "# Drop recordings that do not have track runtimes provided\n",
    "piv_ = piv_[piv_['recording_length'] != '']"
   ]
  },
  {
   "cell_type": "code",
   "execution_count": 28,
   "metadata": {
    "ExecuteTime": {
     "end_time": "2023-06-22T14:12:26.568029Z",
     "start_time": "2023-06-22T14:12:26.533529Z"
    }
   },
   "outputs": [],
   "source": [
    "piv_['recording_length_'] = piv_['recording_length'].astype(int).apply(lambda x: timedelta(milliseconds=x))\n",
    "piv_ = piv_[piv_['recording_length_'] > timedelta(seconds=30)]"
   ]
  },
  {
   "cell_type": "markdown",
   "metadata": {},
   "source": [
    "### Convert performer names to first initial/surname\n",
    "\n",
    "The names for some performers are inconsistently labelled on Musicbrainz; for example, the bassist `Eddie Gomez` is also occasionally labelled as `Edward M. Gomez`. We can account for this by converting all performer names into a common format, this being the first initial of their first name and their surname. So, `Eddie Gomez` and `Edward M. Gomez` would both become `E. Gomez`."
   ]
  },
  {
   "cell_type": "code",
   "execution_count": 29,
   "metadata": {
    "ExecuteTime": {
     "end_time": "2023-06-22T14:12:26.646032100Z",
     "start_time": "2023-06-22T14:12:26.572531200Z"
    }
   },
   "outputs": [],
   "source": [
    "def initials(a):\n",
    "    \"\"\"Converts a list of strings of arbitrary length to their first initial\"\"\"\n",
    "    if len(a) == 0:\n",
    "        return ''\n",
    "    return ''.join(map(lambda li: li[0] + '.', [a[0]]))\n",
    "\n",
    "def abbreviate(s):\n",
    "    \"\"\"Abbreviates a name to surname, first initial\"\"\"\n",
    "    l = s.split()\n",
    "    return f'{l[-1]}, {initials(l[0:-1])}'\n",
    "\n",
    "for instr in include_instrs:\n",
    "    piv_[f'{instr}_'] = piv_[instr].apply(abbreviate).apply(lambda s: \"\".join(c for c in s if ord(c)<128))"
   ]
  },
  {
   "cell_type": "code",
   "execution_count": 30,
   "metadata": {
    "ExecuteTime": {
     "end_time": "2023-06-22T14:12:26.656531600Z",
     "start_time": "2023-06-22T14:12:26.649553400Z"
    }
   },
   "outputs": [],
   "source": [
    "# We can also convert track numbers to integers\n",
    "piv_['recording_position'] = piv_['recording_position'].astype(int)"
   ]
  },
  {
   "cell_type": "markdown",
   "metadata": {},
   "source": [
    "### Match artist names with bandleaders"
   ]
  },
  {
   "cell_type": "code",
   "execution_count": 31,
   "metadata": {
    "ExecuteTime": {
     "end_time": "2023-06-22T14:12:26.685570600Z",
     "start_time": "2023-06-22T14:12:26.659530400Z"
    }
   },
   "outputs": [],
   "source": [
    "bls = pd.read_csv(fr'{autils.get_project_root()}\\references\\corpus_construction\\musicbrainz_artists.csv')\n",
    "clean = pd.merge(piv_, bls, left_on='searched_artist_name', right_on='artist')"
   ]
  },
  {
   "cell_type": "code",
   "execution_count": 32,
   "metadata": {
    "ExecuteTime": {
     "end_time": "2023-06-22T14:12:26.692067600Z",
     "start_time": "2023-06-22T14:12:26.686529700Z"
    }
   },
   "outputs": [],
   "source": [
    "# For artists who are currently alive, replace their date of death with today\n",
    "now = datetime.now().strftime('%Y-%m-%d')\n",
    "clean['death'] = clean['death'].fillna(now)"
   ]
  },
  {
   "cell_type": "code",
   "execution_count": 33,
   "metadata": {
    "ExecuteTime": {
     "end_time": "2023-06-22T14:12:27.272027500Z",
     "start_time": "2023-06-22T14:12:26.695031100Z"
    }
   },
   "outputs": [],
   "source": [
    "clean['birth'] = clean['birth'].apply(parser)\n",
    "clean['death'] = clean['death'].apply(parser)"
   ]
  },
  {
   "cell_type": "markdown",
   "metadata": {},
   "source": [
    "### Drop tracks by the same artist duplicated across several albums\n",
    "\n",
    "Sometimes, as in the case of compilation albums, the same track can be duplicated across multiple releases. While there is no sure-fire way to accomodate all cases where this might have happened without dropping all tracks with duplicate names -- and potentially dropping alternate takes as a result! -- one way is to search group by tracks with the same name and combination of performers, and then drop any which have very similar durations."
   ]
  },
  {
   "cell_type": "code",
   "execution_count": 34,
   "metadata": {
    "ExecuteTime": {
     "end_time": "2023-06-22T14:12:37.589530200Z",
     "start_time": "2023-06-22T14:12:27.276031800Z"
    }
   },
   "outputs": [],
   "source": [
    "clean = clean.reset_index(drop=True)\n",
    "for idx, grp in clean.groupby(['bandleader', 'recording_title', 'piano', 'bass', 'drums']):\n",
    "    lead = grp['recording_length_'].sort_values().diff()\n",
    "    if len(lead) > 1:\n",
    "        clean = clean.drop(lead[lead < timedelta(seconds=3)].index)"
   ]
  },
  {
   "cell_type": "code",
   "execution_count": 35,
   "metadata": {
    "ExecuteTime": {
     "end_time": "2023-06-22T14:12:37.627033900Z",
     "start_time": "2023-06-22T14:12:37.591028300Z"
    }
   },
   "outputs": [],
   "source": [
    "# We can also drop duplicates that have the same musicbrainz id\n",
    "clean = clean.drop_duplicates(subset=['bandleader', 'recording_id_for_lbz'], keep='first')"
   ]
  },
  {
   "cell_type": "markdown",
   "metadata": {},
   "source": [
    "## Remove tracks recorded after a bandleader's death/before their birth\n",
    "\n",
    "This is usually just due to faulty record keeping on Musicbrainz: e.g. a few tracks on Bill Evans Trio, [Live At The Penthouse Seattle 1966](https://musicbrainz.org/release/f8197342-b35e-4783-b8d8-2bf542cfb51c) are listed as being recorded in 1996, rather than 1966."
   ]
  },
  {
   "cell_type": "code",
   "execution_count": 36,
   "metadata": {
    "ExecuteTime": {
     "end_time": "2023-06-22T14:12:37.628030Z",
     "start_time": "2023-06-22T14:12:37.617030Z"
    }
   },
   "outputs": [],
   "source": [
    "clean = clean[(clean['death'] > clean['recording_date_estimate']) & (clean['birth'] < clean['recording_date_estimate'])]"
   ]
  },
  {
   "cell_type": "markdown",
   "metadata": {},
   "source": [
    "### Get the names of the 10 bandleaders with the most recordings"
   ]
  },
  {
   "cell_type": "code",
   "execution_count": 37,
   "metadata": {
    "ExecuteTime": {
     "end_time": "2023-06-22T14:12:37.692045800Z",
     "start_time": "2023-06-22T14:12:37.650033600Z"
    }
   },
   "outputs": [],
   "source": [
    "clean['trio'] = clean[['piano_', 'bass_', 'drums_']].agg('/'.join, axis=1)"
   ]
  },
  {
   "cell_type": "code",
   "execution_count": 38,
   "metadata": {
    "ExecuteTime": {
     "end_time": "2023-06-22T14:12:37.777567500Z",
     "start_time": "2023-06-22T14:12:37.698033700Z"
    }
   },
   "outputs": [
    {
     "data": {
      "text/plain": [
       "['Bill Evans',\n",
       " 'Keith Jarrett',\n",
       " 'Ahmad Jamal',\n",
       " 'Oscar Peterson',\n",
       " 'Bud Powell',\n",
       " 'Junior Mance',\n",
       " 'Tommy Flanagan',\n",
       " 'Kenny Barron',\n",
       " 'Teddy Wilson',\n",
       " 'McCoy Tyner']"
      ]
     },
     "execution_count": 38,
     "metadata": {},
     "output_type": "execute_result"
    }
   ],
   "source": [
    "small = clean.groupby('bandleader').agg({'recording_title': 'count', 'recording_length_': 'sum'}).reset_index(drop=False)\n",
    "small['recording_length_'] = small['recording_length_'].dt.total_seconds()\n",
    "leaders = small.sort_values(by='recording_length_', ascending=False)['bandleader'][:10].to_list()\n",
    "leaders"
   ]
  },
  {
   "cell_type": "code",
   "execution_count": 39,
   "metadata": {
    "ExecuteTime": {
     "end_time": "2023-06-22T14:12:37.788067700Z",
     "start_time": "2023-06-22T14:12:37.719032Z"
    }
   },
   "outputs": [],
   "source": [
    "include = clean[clean['bandleader'].isin(leaders)]"
   ]
  },
  {
   "cell_type": "code",
   "execution_count": 40,
   "metadata": {
    "ExecuteTime": {
     "end_time": "2023-06-22T14:12:37.791028800Z",
     "start_time": "2023-06-22T14:12:37.739527600Z"
    }
   },
   "outputs": [
    {
     "data": {
      "text/plain": [
       "Bill Evans        1107\n",
       "Ahmad Jamal        406\n",
       "Bud Powell         349\n",
       "Oscar Peterson     304\n",
       "Teddy Wilson       253\n",
       "Keith Jarrett      222\n",
       "Tommy Flanagan     163\n",
       "Junior Mance       151\n",
       "Kenny Barron       121\n",
       "McCoy Tyner        120\n",
       "Name: bandleader, dtype: int64"
      ]
     },
     "execution_count": 40,
     "metadata": {},
     "output_type": "execute_result"
    }
   ],
   "source": [
    "include['bandleader'].value_counts()"
   ]
  },
  {
   "cell_type": "markdown",
   "metadata": {},
   "source": [
    "## Subset included data using anchor points"
   ]
  },
  {
   "cell_type": "code",
   "execution_count": 41,
   "metadata": {
    "ExecuteTime": {
     "end_time": "2023-06-22T14:12:37.791569Z",
     "start_time": "2023-06-22T14:12:37.763536300Z"
    }
   },
   "outputs": [],
   "source": [
    "def get_anchorpoint(df, n_tracks = 50):\n",
    "    first = df['recording_date_estimate'].min()\n",
    "    last = df['recording_date_estimate'].max()\n",
    "    with warnings.catch_warnings():\n",
    "        warnings.simplefilter('ignore')\n",
    "        return [\n",
    "            a.to_pydatetime() for a in pd.date_range(\n",
    "                first, last, n_tracks, normalize=True, inclusive='both'\n",
    "            ).to_list()\n",
    "        ]\n",
    "\n",
    "def get_anchorranges(anchors):\n",
    "    start = []\n",
    "    end = []\n",
    "    for a1, a2, a3 in zip(anchors[:], anchors[1:], anchors[2:]):\n",
    "        start.append(a2 - ((a2 - a1) / 2))\n",
    "        end.append(a2 + ((a3 - a2) / 2))\n",
    "    start.insert(0, anchors[0])\n",
    "    end.insert(0, anchors[0] + (anchors[1] - anchors[0]) / 2)\n",
    "    start.append(anchors[-1] - (anchors[-1] - anchors[-2]) / 2)\n",
    "    end.append(anchors[-1] + timedelta(days=1))\n",
    "    return [(s, a, e) for s, a, e in zip(start, anchors, end)]\n",
    "\n",
    "\n",
    "def subset_df_by_anchor(grp: pd.DataFrame, anc_range: tuple):\n",
    "    cols = [\n",
    "        'anchor_number',\n",
    "        'anchor_point',\n",
    "        'recording_date_estimate',\n",
    "        'days_from_anchor',\n",
    "        'bandleader',\n",
    "        'piano',\n",
    "        'bass',\n",
    "        'drums',\n",
    "        'recording_title',\n",
    "        'recording_position',\n",
    "        'release_title',\n",
    "        'recording_length_',\n",
    "        'recording_id_for_lbz'\n",
    "    ]\n",
    "    for num, (start, anc, end) in enumerate(anc_range, 1):\n",
    "        subset = grp[(grp['recording_date_estimate'] >= start) & (grp['recording_date_estimate'] < end)]\n",
    "        subset['recording_length_'] = subset[\"recording_length_\"].astype(str).str.replace('0 days 00:', '')\n",
    "        subset['recording_id_for_lbz'] = LISTENBRAINZ_URL + subset['recording_id_for_lbz']\n",
    "        subset['anchor_number'] = num\n",
    "        subset['anchor_point'] = anc.strftime('%Y-%m-%d')\n",
    "        subset['days_from_anchor'] = (subset['recording_date_estimate'] - anc).abs().dt.days\n",
    "        yield (\n",
    "            subset[cols]\n",
    "                  .sort_values(['days_from_anchor', 'release_title', 'recording_position'])\n",
    "                  .reset_index(drop=True)\n",
    "        )"
   ]
  },
  {
   "cell_type": "code",
   "execution_count": 42,
   "metadata": {
    "ExecuteTime": {
     "end_time": "2023-06-22T15:01:51.107804100Z",
     "start_time": "2023-06-22T15:01:51.010804300Z"
    }
   },
   "outputs": [
    {
     "data": {
      "text/html": [
       "<div>\n",
       "<style scoped>\n",
       "    .dataframe tbody tr th:only-of-type {\n",
       "        vertical-align: middle;\n",
       "    }\n",
       "\n",
       "    .dataframe tbody tr th {\n",
       "        vertical-align: top;\n",
       "    }\n",
       "\n",
       "    .dataframe thead th {\n",
       "        text-align: right;\n",
       "    }\n",
       "</style>\n",
       "<table border=\"1\" class=\"dataframe\">\n",
       "  <thead>\n",
       "    <tr style=\"text-align: right;\">\n",
       "      <th></th>\n",
       "      <th>searched_artist_name</th>\n",
       "      <th>recording_title</th>\n",
       "      <th>release_title</th>\n",
       "      <th>recording_length</th>\n",
       "      <th>recording_id_for_lbz</th>\n",
       "      <th>release_artist</th>\n",
       "      <th>release_date</th>\n",
       "      <th>release_country</th>\n",
       "      <th>work_begin</th>\n",
       "      <th>work_end</th>\n",
       "      <th>recording_position</th>\n",
       "      <th>recording_date_estimate</th>\n",
       "      <th>bass</th>\n",
       "      <th>drums</th>\n",
       "      <th>piano</th>\n",
       "      <th>recording_length_</th>\n",
       "      <th>bass_</th>\n",
       "      <th>drums_</th>\n",
       "      <th>piano_</th>\n",
       "      <th>bandleader</th>\n",
       "      <th>artist</th>\n",
       "      <th>birth</th>\n",
       "      <th>death</th>\n",
       "      <th>Unnamed: 4</th>\n",
       "      <th>trio</th>\n",
       "    </tr>\n",
       "  </thead>\n",
       "  <tbody>\n",
       "    <tr>\n",
       "      <th>73</th>\n",
       "      <td>Ahmad Jamal</td>\n",
       "      <td>In a Sentimental Mood</td>\n",
       "      <td>I Remember Duke, Hoagy &amp; Strayhorn</td>\n",
       "      <td>561133</td>\n",
       "      <td>7ec2539e-dc8d-4c77-bf6e-9693ab8f31ed</td>\n",
       "      <td>['Ahmad Jamal']</td>\n",
       "      <td>1995-01-24</td>\n",
       "      <td>US</td>\n",
       "      <td>1994-06-02</td>\n",
       "      <td>1994-06-03</td>\n",
       "      <td>3</td>\n",
       "      <td>1994-06-02 12:00:00</td>\n",
       "      <td>Ephriam Wolfolk</td>\n",
       "      <td>Artie Dixson</td>\n",
       "      <td>Ahmad Jamal</td>\n",
       "      <td>0 days 00:09:21.133000</td>\n",
       "      <td>Wolfolk, E.</td>\n",
       "      <td>Dixson, A.</td>\n",
       "      <td>Jamal, A.</td>\n",
       "      <td>Ahmad Jamal</td>\n",
       "      <td>Ahmad Jamal</td>\n",
       "      <td>1930-07-02</td>\n",
       "      <td>2023-04-16</td>\n",
       "      <td>NaN</td>\n",
       "      <td>Jamal, A./Wolfolk, E./Dixson, A.</td>\n",
       "    </tr>\n",
       "    <tr>\n",
       "      <th>74</th>\n",
       "      <td>Ahmad Jamal</td>\n",
       "      <td>'Round Midnight</td>\n",
       "      <td>Live at the Montreal Jazz Festival 1985</td>\n",
       "      <td>408000</td>\n",
       "      <td>127aa133-9a7e-4cbf-8508-b773b76102c5</td>\n",
       "      <td>['Ahmad Jamal']</td>\n",
       "      <td>1986-01-01</td>\n",
       "      <td>XE</td>\n",
       "      <td>1985-07-01</td>\n",
       "      <td>1985-07-01</td>\n",
       "      <td>2</td>\n",
       "      <td>1985-07-01 00:00:00</td>\n",
       "      <td>James Cammack</td>\n",
       "      <td>Herlin Riley</td>\n",
       "      <td>Ahmad Jamal</td>\n",
       "      <td>0 days 00:06:48</td>\n",
       "      <td>Cammack, J.</td>\n",
       "      <td>Riley, H.</td>\n",
       "      <td>Jamal, A.</td>\n",
       "      <td>Ahmad Jamal</td>\n",
       "      <td>Ahmad Jamal</td>\n",
       "      <td>1930-07-02</td>\n",
       "      <td>2023-04-16</td>\n",
       "      <td>NaN</td>\n",
       "      <td>Jamal, A./Cammack, J./Riley, H.</td>\n",
       "    </tr>\n",
       "    <tr>\n",
       "      <th>76</th>\n",
       "      <td>Ahmad Jamal</td>\n",
       "      <td>(Put Another Nickel in) Music! Music! Music!</td>\n",
       "      <td>But Not for Me / Live at the Pershing Lounge 1958</td>\n",
       "      <td>176160</td>\n",
       "      <td>49500d8e-99e0-4418-915e-9256efa8904c</td>\n",
       "      <td>['The Ahmad Jamal Trio']</td>\n",
       "      <td>2017-11-10</td>\n",
       "      <td>ES</td>\n",
       "      <td>1958-01-16</td>\n",
       "      <td>1958-01-16</td>\n",
       "      <td>4</td>\n",
       "      <td>1958-01-16 12:00:00</td>\n",
       "      <td>Israel Crosby</td>\n",
       "      <td>Vernell Fournier</td>\n",
       "      <td>Ahmad Jamal</td>\n",
       "      <td>0 days 00:02:56.160000</td>\n",
       "      <td>Crosby, I.</td>\n",
       "      <td>Fournier, V.</td>\n",
       "      <td>Jamal, A.</td>\n",
       "      <td>Ahmad Jamal</td>\n",
       "      <td>Ahmad Jamal</td>\n",
       "      <td>1930-07-02</td>\n",
       "      <td>2023-04-16</td>\n",
       "      <td>NaN</td>\n",
       "      <td>Jamal, A./Crosby, I./Fournier, V.</td>\n",
       "    </tr>\n",
       "    <tr>\n",
       "      <th>78</th>\n",
       "      <td>Ahmad Jamal</td>\n",
       "      <td>A Beautiful Friendship</td>\n",
       "      <td>Cry Young</td>\n",
       "      <td>186238</td>\n",
       "      <td>81e7ee21-7d96-41d2-81de-269b77ec1ca8</td>\n",
       "      <td>['Ahmad Jamal']</td>\n",
       "      <td>1967-01-01</td>\n",
       "      <td></td>\n",
       "      <td>1967-06-01</td>\n",
       "      <td>1967-06-01</td>\n",
       "      <td>1</td>\n",
       "      <td>1967-06-06 12:00:00</td>\n",
       "      <td>Jamil Nasser</td>\n",
       "      <td>Frank Gant</td>\n",
       "      <td>Ahmad Jamal</td>\n",
       "      <td>0 days 00:03:06.238000</td>\n",
       "      <td>Nasser, J.</td>\n",
       "      <td>Gant, F.</td>\n",
       "      <td>Jamal, A.</td>\n",
       "      <td>Ahmad Jamal</td>\n",
       "      <td>Ahmad Jamal</td>\n",
       "      <td>1930-07-02</td>\n",
       "      <td>2023-04-16</td>\n",
       "      <td>NaN</td>\n",
       "      <td>Jamal, A./Nasser, J./Gant, F.</td>\n",
       "    </tr>\n",
       "    <tr>\n",
       "      <th>80</th>\n",
       "      <td>Ahmad Jamal</td>\n",
       "      <td>A Gal in Calico</td>\n",
       "      <td>Ahmad’s Blues</td>\n",
       "      <td>284266</td>\n",
       "      <td>9eda061f-f9b8-45a5-8a42-708f0010c895</td>\n",
       "      <td>['Ahmad Jamal']</td>\n",
       "      <td>1994-01-01</td>\n",
       "      <td>US</td>\n",
       "      <td>1958-09-06</td>\n",
       "      <td>1958-09-06</td>\n",
       "      <td>12</td>\n",
       "      <td>1958-09-06 00:00:00</td>\n",
       "      <td>Israel Crosby</td>\n",
       "      <td>Vernell Fournier</td>\n",
       "      <td>Ahmad Jamal</td>\n",
       "      <td>0 days 00:04:44.266000</td>\n",
       "      <td>Crosby, I.</td>\n",
       "      <td>Fournier, V.</td>\n",
       "      <td>Jamal, A.</td>\n",
       "      <td>Ahmad Jamal</td>\n",
       "      <td>Ahmad Jamal</td>\n",
       "      <td>1930-07-02</td>\n",
       "      <td>2023-04-16</td>\n",
       "      <td>NaN</td>\n",
       "      <td>Jamal, A./Crosby, I./Fournier, V.</td>\n",
       "    </tr>\n",
       "    <tr>\n",
       "      <th>...</th>\n",
       "      <td>...</td>\n",
       "      <td>...</td>\n",
       "      <td>...</td>\n",
       "      <td>...</td>\n",
       "      <td>...</td>\n",
       "      <td>...</td>\n",
       "      <td>...</td>\n",
       "      <td>...</td>\n",
       "      <td>...</td>\n",
       "      <td>...</td>\n",
       "      <td>...</td>\n",
       "      <td>...</td>\n",
       "      <td>...</td>\n",
       "      <td>...</td>\n",
       "      <td>...</td>\n",
       "      <td>...</td>\n",
       "      <td>...</td>\n",
       "      <td>...</td>\n",
       "      <td>...</td>\n",
       "      <td>...</td>\n",
       "      <td>...</td>\n",
       "      <td>...</td>\n",
       "      <td>...</td>\n",
       "      <td>...</td>\n",
       "      <td>...</td>\n",
       "    </tr>\n",
       "    <tr>\n",
       "      <th>6360</th>\n",
       "      <td>Tommy Flanagan Trio</td>\n",
       "      <td>Velvet Moon</td>\n",
       "      <td>The Tommy Flanagan Trio</td>\n",
       "      <td>324049</td>\n",
       "      <td>a342f849-bece-43bd-9300-c9db24b62162</td>\n",
       "      <td>['Tommy Flanagan Trio']</td>\n",
       "      <td>1960-01-01</td>\n",
       "      <td>US</td>\n",
       "      <td>1960-05-18</td>\n",
       "      <td>1960-05-18</td>\n",
       "      <td>3</td>\n",
       "      <td>1960-05-18 00:00:00</td>\n",
       "      <td>Tommy Potter</td>\n",
       "      <td>Roy Haynes</td>\n",
       "      <td>Tommy Flanagan</td>\n",
       "      <td>0 days 00:05:24.049000</td>\n",
       "      <td>Potter, T.</td>\n",
       "      <td>Haynes, R.</td>\n",
       "      <td>Flanagan, T.</td>\n",
       "      <td>Tommy Flanagan</td>\n",
       "      <td>Tommy Flanagan Trio</td>\n",
       "      <td>1930-03-16</td>\n",
       "      <td>2001-11-16</td>\n",
       "      <td>NaN</td>\n",
       "      <td>Flanagan, T./Potter, T./Haynes, R.</td>\n",
       "    </tr>\n",
       "    <tr>\n",
       "      <th>6361</th>\n",
       "      <td>Tommy Flanagan Trio</td>\n",
       "      <td>Verdandi (take 2)</td>\n",
       "      <td>The Complete Overseas Session</td>\n",
       "      <td>128000</td>\n",
       "      <td>16c36220-86ac-408d-890b-50db8e985e3e</td>\n",
       "      <td>['Tommy Flanagan Trio']</td>\n",
       "      <td>2010-01-01</td>\n",
       "      <td></td>\n",
       "      <td>1957-08-15</td>\n",
       "      <td>1957-08-15</td>\n",
       "      <td>12</td>\n",
       "      <td>1957-08-15 00:00:00</td>\n",
       "      <td>Wilbur Little</td>\n",
       "      <td>Elvin Jones</td>\n",
       "      <td>Tommy Flanagan</td>\n",
       "      <td>0 days 00:02:08</td>\n",
       "      <td>Little, W.</td>\n",
       "      <td>Jones, E.</td>\n",
       "      <td>Flanagan, T.</td>\n",
       "      <td>Tommy Flanagan</td>\n",
       "      <td>Tommy Flanagan Trio</td>\n",
       "      <td>1930-03-16</td>\n",
       "      <td>2001-11-16</td>\n",
       "      <td>NaN</td>\n",
       "      <td>Flanagan, T./Little, W./Jones, E.</td>\n",
       "    </tr>\n",
       "    <tr>\n",
       "      <th>6362</th>\n",
       "      <td>Tommy Flanagan Trio</td>\n",
       "      <td>Willow Weep for Me (take 1)</td>\n",
       "      <td>The Complete Overseas Session</td>\n",
       "      <td>353000</td>\n",
       "      <td>1858d1eb-27c2-44fc-878c-523b8ab37f68</td>\n",
       "      <td>['Tommy Flanagan Trio']</td>\n",
       "      <td>2010-01-01</td>\n",
       "      <td></td>\n",
       "      <td>1957-08-15</td>\n",
       "      <td>1957-08-15</td>\n",
       "      <td>15</td>\n",
       "      <td>1957-08-15 00:00:00</td>\n",
       "      <td>Wilbur Little</td>\n",
       "      <td>Elvin Jones</td>\n",
       "      <td>Tommy Flanagan</td>\n",
       "      <td>0 days 00:05:53</td>\n",
       "      <td>Little, W.</td>\n",
       "      <td>Jones, E.</td>\n",
       "      <td>Flanagan, T.</td>\n",
       "      <td>Tommy Flanagan</td>\n",
       "      <td>Tommy Flanagan Trio</td>\n",
       "      <td>1930-03-16</td>\n",
       "      <td>2001-11-16</td>\n",
       "      <td>NaN</td>\n",
       "      <td>Flanagan, T./Little, W./Jones, E.</td>\n",
       "    </tr>\n",
       "    <tr>\n",
       "      <th>6363</th>\n",
       "      <td>Tommy Flanagan Trio</td>\n",
       "      <td>Willow Weep for Me (take 2)</td>\n",
       "      <td>The Complete Overseas Session</td>\n",
       "      <td>387000</td>\n",
       "      <td>b32d07af-2312-4dc0-9ab3-f0a888129fc2</td>\n",
       "      <td>['Tommy Flanagan Trio']</td>\n",
       "      <td>2010-01-01</td>\n",
       "      <td></td>\n",
       "      <td>1957-08-15</td>\n",
       "      <td>1957-08-15</td>\n",
       "      <td>9</td>\n",
       "      <td>1957-08-15 00:00:00</td>\n",
       "      <td>Wilbur Little</td>\n",
       "      <td>Elvin Jones</td>\n",
       "      <td>Tommy Flanagan</td>\n",
       "      <td>0 days 00:06:27</td>\n",
       "      <td>Little, W.</td>\n",
       "      <td>Jones, E.</td>\n",
       "      <td>Flanagan, T.</td>\n",
       "      <td>Tommy Flanagan</td>\n",
       "      <td>Tommy Flanagan Trio</td>\n",
       "      <td>1930-03-16</td>\n",
       "      <td>2001-11-16</td>\n",
       "      <td>NaN</td>\n",
       "      <td>Flanagan, T./Little, W./Jones, E.</td>\n",
       "    </tr>\n",
       "    <tr>\n",
       "      <th>6364</th>\n",
       "      <td>Tommy Flanagan Trio</td>\n",
       "      <td>You Got to My Head</td>\n",
       "      <td>The Tommy Flanagan Trio</td>\n",
       "      <td>272536</td>\n",
       "      <td>54cfa7d6-dd34-45e4-b13a-e61791cb420c</td>\n",
       "      <td>['Tommy Flanagan Trio']</td>\n",
       "      <td>1960-01-01</td>\n",
       "      <td>US</td>\n",
       "      <td>1960-05-18</td>\n",
       "      <td>1960-05-18</td>\n",
       "      <td>2</td>\n",
       "      <td>1960-05-18 00:00:00</td>\n",
       "      <td>Tommy Potter</td>\n",
       "      <td>Roy Haynes</td>\n",
       "      <td>Tommy Flanagan</td>\n",
       "      <td>0 days 00:04:32.536000</td>\n",
       "      <td>Potter, T.</td>\n",
       "      <td>Haynes, R.</td>\n",
       "      <td>Flanagan, T.</td>\n",
       "      <td>Tommy Flanagan</td>\n",
       "      <td>Tommy Flanagan Trio</td>\n",
       "      <td>1930-03-16</td>\n",
       "      <td>2001-11-16</td>\n",
       "      <td>NaN</td>\n",
       "      <td>Flanagan, T./Potter, T./Haynes, R.</td>\n",
       "    </tr>\n",
       "  </tbody>\n",
       "</table>\n",
       "<p>3196 rows × 25 columns</p>\n",
       "</div>"
      ],
      "text/plain": [
       "     searched_artist_name                               recording_title  \\\n",
       "73            Ahmad Jamal                         In a Sentimental Mood   \n",
       "74            Ahmad Jamal                               'Round Midnight   \n",
       "76            Ahmad Jamal  (Put Another Nickel in) Music! Music! Music!   \n",
       "78            Ahmad Jamal                        A Beautiful Friendship   \n",
       "80            Ahmad Jamal                               A Gal in Calico   \n",
       "...                   ...                                           ...   \n",
       "6360  Tommy Flanagan Trio                                   Velvet Moon   \n",
       "6361  Tommy Flanagan Trio                             Verdandi (take 2)   \n",
       "6362  Tommy Flanagan Trio                   Willow Weep for Me (take 1)   \n",
       "6363  Tommy Flanagan Trio                   Willow Weep for Me (take 2)   \n",
       "6364  Tommy Flanagan Trio                            You Got to My Head   \n",
       "\n",
       "                                          release_title recording_length  \\\n",
       "73                   I Remember Duke, Hoagy & Strayhorn           561133   \n",
       "74              Live at the Montreal Jazz Festival 1985           408000   \n",
       "76    But Not for Me / Live at the Pershing Lounge 1958           176160   \n",
       "78                                            Cry Young           186238   \n",
       "80                                        Ahmad’s Blues           284266   \n",
       "...                                                 ...              ...   \n",
       "6360                            The Tommy Flanagan Trio           324049   \n",
       "6361                      The Complete Overseas Session           128000   \n",
       "6362                      The Complete Overseas Session           353000   \n",
       "6363                      The Complete Overseas Session           387000   \n",
       "6364                            The Tommy Flanagan Trio           272536   \n",
       "\n",
       "                      recording_id_for_lbz            release_artist  \\\n",
       "73    7ec2539e-dc8d-4c77-bf6e-9693ab8f31ed           ['Ahmad Jamal']   \n",
       "74    127aa133-9a7e-4cbf-8508-b773b76102c5           ['Ahmad Jamal']   \n",
       "76    49500d8e-99e0-4418-915e-9256efa8904c  ['The Ahmad Jamal Trio']   \n",
       "78    81e7ee21-7d96-41d2-81de-269b77ec1ca8           ['Ahmad Jamal']   \n",
       "80    9eda061f-f9b8-45a5-8a42-708f0010c895           ['Ahmad Jamal']   \n",
       "...                                    ...                       ...   \n",
       "6360  a342f849-bece-43bd-9300-c9db24b62162   ['Tommy Flanagan Trio']   \n",
       "6361  16c36220-86ac-408d-890b-50db8e985e3e   ['Tommy Flanagan Trio']   \n",
       "6362  1858d1eb-27c2-44fc-878c-523b8ab37f68   ['Tommy Flanagan Trio']   \n",
       "6363  b32d07af-2312-4dc0-9ab3-f0a888129fc2   ['Tommy Flanagan Trio']   \n",
       "6364  54cfa7d6-dd34-45e4-b13a-e61791cb420c   ['Tommy Flanagan Trio']   \n",
       "\n",
       "     release_date release_country work_begin   work_end  recording_position  \\\n",
       "73     1995-01-24              US 1994-06-02 1994-06-03                   3   \n",
       "74     1986-01-01              XE 1985-07-01 1985-07-01                   2   \n",
       "76     2017-11-10              ES 1958-01-16 1958-01-16                   4   \n",
       "78     1967-01-01                 1967-06-01 1967-06-01                   1   \n",
       "80     1994-01-01              US 1958-09-06 1958-09-06                  12   \n",
       "...           ...             ...        ...        ...                 ...   \n",
       "6360   1960-01-01              US 1960-05-18 1960-05-18                   3   \n",
       "6361   2010-01-01                 1957-08-15 1957-08-15                  12   \n",
       "6362   2010-01-01                 1957-08-15 1957-08-15                  15   \n",
       "6363   2010-01-01                 1957-08-15 1957-08-15                   9   \n",
       "6364   1960-01-01              US 1960-05-18 1960-05-18                   2   \n",
       "\n",
       "     recording_date_estimate             bass             drums  \\\n",
       "73       1994-06-02 12:00:00  Ephriam Wolfolk      Artie Dixson   \n",
       "74       1985-07-01 00:00:00    James Cammack      Herlin Riley   \n",
       "76       1958-01-16 12:00:00    Israel Crosby  Vernell Fournier   \n",
       "78       1967-06-06 12:00:00     Jamil Nasser        Frank Gant   \n",
       "80       1958-09-06 00:00:00    Israel Crosby  Vernell Fournier   \n",
       "...                      ...              ...               ...   \n",
       "6360     1960-05-18 00:00:00     Tommy Potter        Roy Haynes   \n",
       "6361     1957-08-15 00:00:00    Wilbur Little       Elvin Jones   \n",
       "6362     1957-08-15 00:00:00    Wilbur Little       Elvin Jones   \n",
       "6363     1957-08-15 00:00:00    Wilbur Little       Elvin Jones   \n",
       "6364     1960-05-18 00:00:00     Tommy Potter        Roy Haynes   \n",
       "\n",
       "               piano      recording_length_        bass_        drums_  \\\n",
       "73       Ahmad Jamal 0 days 00:09:21.133000  Wolfolk, E.    Dixson, A.   \n",
       "74       Ahmad Jamal        0 days 00:06:48  Cammack, J.     Riley, H.   \n",
       "76       Ahmad Jamal 0 days 00:02:56.160000   Crosby, I.  Fournier, V.   \n",
       "78       Ahmad Jamal 0 days 00:03:06.238000   Nasser, J.      Gant, F.   \n",
       "80       Ahmad Jamal 0 days 00:04:44.266000   Crosby, I.  Fournier, V.   \n",
       "...              ...                    ...          ...           ...   \n",
       "6360  Tommy Flanagan 0 days 00:05:24.049000   Potter, T.    Haynes, R.   \n",
       "6361  Tommy Flanagan        0 days 00:02:08   Little, W.     Jones, E.   \n",
       "6362  Tommy Flanagan        0 days 00:05:53   Little, W.     Jones, E.   \n",
       "6363  Tommy Flanagan        0 days 00:06:27   Little, W.     Jones, E.   \n",
       "6364  Tommy Flanagan 0 days 00:04:32.536000   Potter, T.    Haynes, R.   \n",
       "\n",
       "            piano_      bandleader               artist      birth      death  \\\n",
       "73       Jamal, A.     Ahmad Jamal          Ahmad Jamal 1930-07-02 2023-04-16   \n",
       "74       Jamal, A.     Ahmad Jamal          Ahmad Jamal 1930-07-02 2023-04-16   \n",
       "76       Jamal, A.     Ahmad Jamal          Ahmad Jamal 1930-07-02 2023-04-16   \n",
       "78       Jamal, A.     Ahmad Jamal          Ahmad Jamal 1930-07-02 2023-04-16   \n",
       "80       Jamal, A.     Ahmad Jamal          Ahmad Jamal 1930-07-02 2023-04-16   \n",
       "...            ...             ...                  ...        ...        ...   \n",
       "6360  Flanagan, T.  Tommy Flanagan  Tommy Flanagan Trio 1930-03-16 2001-11-16   \n",
       "6361  Flanagan, T.  Tommy Flanagan  Tommy Flanagan Trio 1930-03-16 2001-11-16   \n",
       "6362  Flanagan, T.  Tommy Flanagan  Tommy Flanagan Trio 1930-03-16 2001-11-16   \n",
       "6363  Flanagan, T.  Tommy Flanagan  Tommy Flanagan Trio 1930-03-16 2001-11-16   \n",
       "6364  Flanagan, T.  Tommy Flanagan  Tommy Flanagan Trio 1930-03-16 2001-11-16   \n",
       "\n",
       "      Unnamed: 4                                trio  \n",
       "73           NaN    Jamal, A./Wolfolk, E./Dixson, A.  \n",
       "74           NaN     Jamal, A./Cammack, J./Riley, H.  \n",
       "76           NaN   Jamal, A./Crosby, I./Fournier, V.  \n",
       "78           NaN       Jamal, A./Nasser, J./Gant, F.  \n",
       "80           NaN   Jamal, A./Crosby, I./Fournier, V.  \n",
       "...          ...                                 ...  \n",
       "6360         NaN  Flanagan, T./Potter, T./Haynes, R.  \n",
       "6361         NaN   Flanagan, T./Little, W./Jones, E.  \n",
       "6362         NaN   Flanagan, T./Little, W./Jones, E.  \n",
       "6363         NaN   Flanagan, T./Little, W./Jones, E.  \n",
       "6364         NaN  Flanagan, T./Potter, T./Haynes, R.  \n",
       "\n",
       "[3196 rows x 25 columns]"
      ]
     },
     "execution_count": 42,
     "metadata": {},
     "output_type": "execute_result"
    }
   ],
   "source": [
    "include"
   ]
  },
  {
   "cell_type": "markdown",
   "metadata": {},
   "source": [
    "## Write subsetted data as Excel spreadsheet"
   ]
  },
  {
   "cell_type": "code",
   "execution_count": 183,
   "metadata": {
    "ExecuteTime": {
     "end_time": "2023-06-21T11:33:48.493474300Z",
     "start_time": "2023-06-21T11:33:43.459975Z"
    }
   },
   "outputs": [],
   "source": [
    "df_dict = {}\n",
    "for idx, grp in include.groupby('bandleader'):\n",
    "    anchors = get_anchorpoint(grp)\n",
    "    anchorranges = get_anchorranges(anchors)\n",
    "    subs = pd.concat(subset_df_by_anchor(grp, anchorranges)).reset_index(drop=True)\n",
    "    assert len(subs) == len(grp)\n",
    "    df_dict[idx] = subs"
   ]
  },
  {
   "cell_type": "code",
   "execution_count": 185,
   "metadata": {
    "ExecuteTime": {
     "end_time": "2023-06-21T11:33:58.875974600Z",
     "start_time": "2023-06-21T11:33:57.977474500Z"
    }
   },
   "outputs": [],
   "source": [
    "fp = fr'{autils.get_project_root()}\\references\\corpus_construction\\anchor_search.xlsx'\n",
    "with pd.ExcelWriter(fp, engine='openpyxl') as writer:\n",
    "    for key, df in df_dict.items():\n",
    "        df.to_excel(writer, sheet_name=f'{key}', index=False)"
   ]
  },
  {
   "cell_type": "markdown",
   "metadata": {},
   "source": [
    "## Visualize the results!"
   ]
  },
  {
   "cell_type": "markdown",
   "metadata": {},
   "source": [
    "### Plot bandleaders with most number of tracks, and with longest total length of recordings"
   ]
  },
  {
   "cell_type": "code",
   "execution_count": 106,
   "metadata": {
    "ExecuteTime": {
     "end_time": "2023-06-22T15:26:35.730518400Z",
     "start_time": "2023-06-22T15:26:34.858519200Z"
    }
   },
   "outputs": [
    {
     "data": {
      "image/png": "[encoded data removed]",
      "text/plain": [
       "<Figure size 800x500 with 1 Axes>"
      ]
     },
     "metadata": {},
     "output_type": "display_data"
    }
   ],
   "source": [
    "small = clean.groupby('bandleader').agg({'recording_title': 'count', 'recording_length_': 'sum'}).reset_index(drop=False)\n",
    "small['recording_length_'] = small['recording_length_'].dt.total_seconds()\n",
    "fig, ax = plt.subplots(1, 1, figsize=(8, 5))\n",
    "hand, lab_ = None, None\n",
    "for var, lab in zip(['recording_length_'], ['Total length of tracks (seconds)',]):\n",
    "    temp = small.sort_values(by=var, ascending=False).reset_index(drop=True)\n",
    "    temp['color'] = temp.index < 10\n",
    "    g = sns.barplot(temp, x='bandleader', y=var, ax=ax, estimator=np.sum, hue='color', dodge=False, edgecolor='black', lw=1)\n",
    "    g.set_xticks(g.get_xticks(), g.get_xticklabels(), rotation=45, ha='right')\n",
    "    g.set(ylabel=lab, xlabel='Bandleader')\n",
    "    g.tick_params(width=2, which='both')\n",
    "    plt.setp(g.spines.values(), linewidth=2)\n",
    "    hand, lab_ = g.get_legend_handles_labels()\n",
    "    g.get_legend().remove()\n",
    "fig.legend(hand, lab_, loc='right', title='Include?', frameon=False)\n",
    "fig.subplots_adjust(top=0.9, bottom=0.1, left=0.1, right=0.87)\n",
    "plt.show()"
   ]
  },
  {
   "cell_type": "code",
   "execution_count": 59,
   "metadata": {
    "ExecuteTime": {
     "end_time": "2023-06-22T15:07:02.619081400Z",
     "start_time": "2023-06-22T15:07:02.128621400Z"
    }
   },
   "outputs": [
    {
     "data": {
      "image/png": "[encoded data removed]",
      "text/plain": [
       "<Figure size 1000x500 with 1 Axes>"
      ]
     },
     "metadata": {},
     "output_type": "display_data"
    }
   ],
   "source": [
    "fig, ax = plt.subplots(1, 1, figsize=(10, 5))\n",
    "include = clean[clean['bandleader'].isin(leaders)]\n",
    "include['year'] = include['recording_date_estimate'].dt.year\n",
    "g = sns.histplot(data=include, x='year', hue='bandleader',  lw=1, element='poly')\n",
    "g.set(xlabel='Date of recording', ylabel='Density of releases')\n",
    "g.tick_params(width=2, which='both')\n",
    "plt.setp(g.spines.values(), linewidth=2)\n",
    "sns.move_legend(g, loc='right', title='Bandleader', bbox_to_anchor=(1.25, 0.5), frameon=False)\n",
    "plt.show()"
   ]
  },
  {
   "cell_type": "code",
   "execution_count": null,
   "metadata": {},
   "outputs": [],
   "source": [
    "fig, ax = plt.subplots(nrows=3, ncols=4, figsize=(30, 20), sharex=False, sharey=False)\n",
    "for a, (idx, grp) in zip(ax.flatten(), include.groupby('bandleader')):\n",
    "    grp['track_length_'] = grp['track_length_'].dt.total_seconds()\n",
    "    grp = grp.melt('track_length_', ['piano_', 'bass_', 'drums_']).reset_index(drop=True).groupby('value').agg({'track_length_': 'sum', 'variable': 'first'}).reset_index(drop=False).sort_values(by=['variable', 'track_length_'], ascending=False)\n",
    "    g = sns.barplot(data=grp, x='value', y='track_length_', hue='variable', ax=a, dodge=False, hue_order=['piano_','bass_', 'drums_'], edgecolor='black', lw=1)\n",
    "    g.set_xticks(g.get_xticks(), g.get_xticklabels(), rotation=45, ha='right')\n",
    "    g.set(xlabel='', ylabel='', title=idx)\n",
    "    hand, lab = g.get_legend_handles_labels()\n",
    "    g.get_legend().remove()\n",
    "fig.legend(hand, ['Piano', 'Bass', 'Drums'], loc='lower right', bbox_to_anchor=(0.75, 0.15), fontsize=20, title_fontsize=20, frameon=False, title='Instrument')\n",
    "for a in ax.flatten()[-2:]:\n",
    "    a.axis('off')\n",
    "fig.supylabel('Time performed (seconds)')\n",
    "fig.subplots_adjust(wspace=0.15, hspace=0.3, left=0.05)\n",
    "plt.show()"
   ]
  },
  {
   "cell_type": "code",
   "execution_count": 94,
   "metadata": {
    "ExecuteTime": {
     "end_time": "2023-06-22T15:20:28.789556500Z",
     "start_time": "2023-06-22T15:20:28.775115800Z"
    }
   },
   "outputs": [
    {
     "data": {
      "text/plain": [
       "73      1994.505556\n",
       "74      1985.586111\n",
       "76      1958.127778\n",
       "78      1967.516667\n",
       "80      1958.766667\n",
       "           ...     \n",
       "6360    1960.466667\n",
       "6361    1957.708333\n",
       "6362    1957.708333\n",
       "6363    1957.708333\n",
       "6364    1960.466667\n",
       "Name: date, Length: 3196, dtype: float64"
      ]
     },
     "execution_count": 94,
     "metadata": {},
     "output_type": "execute_result"
    }
   ],
   "source": [
    "include['date']"
   ]
  },
  {
   "cell_type": "code",
   "execution_count": 107,
   "metadata": {
    "ExecuteTime": {
     "end_time": "2023-06-22T15:27:15.157178500Z",
     "start_time": "2023-06-22T15:27:12.448182300Z"
    }
   },
   "outputs": [
    {
     "data": {
      "image/png": "[encoded data removed]",
      "text/plain": [
       "<Figure size 800x500 with 1 Axes>"
      ]
     },
     "metadata": {},
     "output_type": "display_data"
    }
   ],
   "source": [
    "# sns.kdeplot(include, x='seconds', hue='bandleader', multiple='stack', common_norm=False, common_grid=True, log_scale=True)\n",
    "include['seconds'] = include['recording_length_'].dt.total_seconds()\n",
    "include['date'] = include['recording_date_estimate'].dt.year + ((include['recording_date_estimate'].dt.month + include['recording_date_estimate'].dt.day / 30)/ 12)\n",
    "include['death_'] = include['death'].dt.year.astype(str).replace('2023', '')\n",
    "include['bandleader_'] = include['bandleader'] + '\\n' + include['birth'].dt.year.astype(str) + '-' + include['death_']\n",
    "# include['year_'] = include['year'] + pd.to_timedelta(np.random.randint(1,1000000,len(include)))\n",
    "f, ax = plt.subplots(figsize=(8, 5))\n",
    "sns.boxplot(x=\"date\", y=\"bandleader_\", data=include,\n",
    "            whis=[0, 100], width=.6, palette=\"vlag\")\n",
    "sns.stripplot(x=\"date\", y=\"bandleader_\", data=include,\n",
    "              size=2, color=\".3\", linewidth=0)\n",
    "ax.xaxis.grid(True)\n",
    "ax.set(ylabel=\"\", xlabel='Recording date', xlim=(1930, 2020))\n",
    "sns.despine(trim=True, left=True)"
   ]
  },
  {
   "cell_type": "code",
   "execution_count": 113,
   "metadata": {},
   "outputs": [
    {
     "name": "stdout",
     "output_type": "stream",
     "text": [
      "example.html\n"
     ]
    },
    {
     "data": {
      "text/html": [
       "\n",
       "        <iframe\n",
       "            width=\"100%\"\n",
       "            height=\"600px\"\n",
       "            src=\"example.html\"\n",
       "            frameborder=\"0\"\n",
       "            allowfullscreen\n",
       "            \n",
       "        ></iframe>\n",
       "        "
      ],
      "text/plain": [
       "<IPython.lib.display.IFrame at 0x1e7a0871870>"
      ]
     },
     "execution_count": 113,
     "metadata": {},
     "output_type": "execute_result"
    }
   ],
   "source": [
    "from pyvis.network import Network\n",
    "import networkx as nx\n",
    "\n",
    "g = include.drop_duplicates(subset=['bass_', 'drums_', 'bandleader']).melt('bandleader', ['bass_', 'drums_'])\n",
    "got_net = Network(notebook=True, cdn_resources='remote', height='600px', width='100%')\n",
    "\n",
    "sources = g['bandleader']\n",
    "targets = g['value']\n",
    "rewards = g['variable']\n",
    "\n",
    "\n",
    "edge_data = zip(sources, targets, rewards)\n",
    "for src, dst, reward in edge_data:\n",
    "    got_net.add_node(src, title=src, color='green')\n",
    "    if reward == 'bass_':\n",
    "        got_net.add_node(dst, title=dst, color='red')\n",
    "    if reward == 'drums_':\n",
    "        got_net.add_node(dst, title=dst, color='blue')\n",
    "    got_net.add_edge(src, dst)\n",
    "    \n",
    "got_net.show_buttons()\n",
    "got_net.show('example.html', )"
   ]
  },
  {
   "cell_type": "code",
   "execution_count": null,
   "metadata": {},
   "outputs": [],
   "source": []
  }
 ],
 "metadata": {
  "kernelspec": {
   "display_name": "Python 3 (ipykernel)",
   "language": "python",
   "name": "python3"
  },
  "language_info": {
   "codemirror_mode": {
    "name": "ipython",
    "version": 3
   },
   "file_extension": ".py",
   "mimetype": "text/x-python",
   "name": "python",
   "nbconvert_exporter": "python",
   "pygments_lexer": "ipython3",
   "version": "3.10.2"
  },
  "pycharm": {
   "stem_cell": {
    "cell_type": "raw",
    "metadata": {
     "collapsed": false
    },
    "source": [
     "## Import dependencies\n"
    ]
   }
  }
 },
 "nbformat": 4,
 "nbformat_minor": 1
}
