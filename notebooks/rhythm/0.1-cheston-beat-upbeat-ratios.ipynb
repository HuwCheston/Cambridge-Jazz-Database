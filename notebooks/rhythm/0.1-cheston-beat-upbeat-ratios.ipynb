{
 "cells": [
  {
   "cell_type": "markdown",
   "source": [
    "# Beat-Upbeat Ratio Distributions"
   ],
   "metadata": {
    "collapsed": false,
    "pycharm": {
     "name": "#%% md\n"
    }
   }
  },
  {
   "cell_type": "markdown",
   "source": [
    "## Import dependencies, set constants etc."
   ],
   "metadata": {
    "collapsed": false,
    "pycharm": {
     "name": "#%% md\n"
    }
   }
  },
  {
   "cell_type": "code",
   "execution_count": null,
   "outputs": [],
   "source": [
    "import matplotlib.pyplot as plt\n",
    "import numpy as np\n",
    "import pandas as pd\n",
    "import scipy.signal as signal\n",
    "import scipy.stats as stats\n",
    "import statsmodels.formula.api as smf\n",
    "\n",
    "from src import utils\n",
    "from src.detect.detect_utils import OnsetMaker\n",
    "from src.features.rhythm_features import BeatUpbeatRatio\n",
    "from src.visualise.bur_plots import *"
   ],
   "metadata": {
    "collapsed": false,
    "pycharm": {
     "name": "#%%\n"
    }
   }
  },
  {
   "cell_type": "code",
   "execution_count": null,
   "outputs": [],
   "source": [
    "# These variables are used for the optimization process\n",
    "SEED = 42\n",
    "N_FOLDS = 5\n",
    "N_JOBS = -1\n",
    "N_BOOT = 999"
   ],
   "metadata": {
    "collapsed": false,
    "pycharm": {
     "name": "#%%\n"
    }
   }
  },
  {
   "cell_type": "code",
   "execution_count": null,
   "outputs": [],
   "source": [
    "# Upper and lower bounds to use when thresholding BURs\n",
    "BUR_UPPER = 4.0\n",
    "BUR_LOWER = 0.25"
   ],
   "metadata": {
    "collapsed": false,
    "pycharm": {
     "name": "#%%\n"
    }
   }
  },
  {
   "cell_type": "code",
   "execution_count": null,
   "outputs": [],
   "source": [
    "# Set the seed in NumPy for consistent results across function calls\n",
    "np.random.seed(SEED)"
   ],
   "metadata": {
    "collapsed": false,
    "pycharm": {
     "name": "#%%\n"
    }
   }
  },
  {
   "cell_type": "markdown",
   "source": [
    "## Load in data\n",
    "We start by loading in our onset data. This gives us a list of `OnsetMaker` classes (defined in `src\\detect\\detect_utils.py`)."
   ],
   "metadata": {
    "collapsed": false,
    "pycharm": {
     "name": "#%% md\n"
    }
   }
  },
  {
   "cell_type": "code",
   "execution_count": null,
   "outputs": [],
   "source": [
    "onsets: list[OnsetMaker] = utils.unserialise_object(fr'{utils.get_project_root()}\\models\\matched_onsets_corpus_chronology')"
   ],
   "metadata": {
    "collapsed": false,
    "pycharm": {
     "name": "#%%\n"
    }
   }
  },
  {
   "cell_type": "code",
   "execution_count": null,
   "outputs": [],
   "source": [
    "res = []\n",
    "# Iterate through each track\n",
    "for num, track in enumerate(onsets, 1):\n",
    "    print(f'{num} / {len(onsets)}')\n",
    "    # Convert the summary dictionary (dictionary of arrays) to a dataframe\n",
    "    summary_dict = pd.DataFrame(track.summary_dict)\n",
    "    # Iterate through each instrument\n",
    "    for instr in utils.INSTRUMENTS_TO_PERFORMER_ROLES.keys():\n",
    "        # Subset to get my onsets and partner onsets as separate dataframes\n",
    "        my_onsets = track.ons[instr]\n",
    "        my_beats = summary_dict[instr]\n",
    "        # Extract BURs using our feature class\n",
    "        bm = BeatUpbeatRatio(my_onsets=my_onsets, my_beats=my_beats, clean_outliers=False)\n",
    "        # Iterate through every log BUR by that musician\n",
    "        for bur in bm.bur_log['burs'].dropna().values:\n",
    "            # Append a new dictionary\n",
    "            res.append(dict(\n",
    "                mbz_id=track.item['mbz_id'],\n",
    "                bur=bur,\n",
    "                instrument=instr,\n",
    "                tempo=track.tempo,\n",
    "                bandleader=track.item['pianist']\n",
    "            ))\n",
    "burs = pd.DataFrame(res)"
   ],
   "metadata": {
    "collapsed": false,
    "pycharm": {
     "name": "#%%\n"
    }
   }
  },
  {
   "cell_type": "markdown",
   "source": [
    "Before we do any cleaning, get the total number of beat-upbeat ratios"
   ],
   "metadata": {
    "collapsed": false,
    "pycharm": {
     "name": "#%% md\n"
    }
   }
  },
  {
   "cell_type": "code",
   "execution_count": null,
   "outputs": [],
   "source": [
    "total_no_clean = burs[burs['instrument'] == 'piano'].shape[0]\n",
    "print(total_no_clean)"
   ],
   "metadata": {
    "collapsed": false,
    "pycharm": {
     "name": "#%%\n"
    }
   }
  },
  {
   "cell_type": "markdown",
   "source": [
    "## Clean data\n",
    "We drop BUR values lower than 0.25 and higher than 4 (see Corcoran & Frieler, 2021)"
   ],
   "metadata": {
    "collapsed": false,
    "pycharm": {
     "name": "#%% md\n"
    }
   }
  },
  {
   "cell_type": "code",
   "execution_count": null,
   "outputs": [],
   "source": [
    "burs = burs[(burs['bur'] > np.log2(BUR_LOWER)) & (burs['bur'] < np.log2(BUR_UPPER))]"
   ],
   "metadata": {
    "collapsed": false,
    "pycharm": {
     "name": "#%%\n"
    }
   }
  },
  {
   "cell_type": "markdown",
   "source": [
    "Now we can get the total number of BURs after cleaning"
   ],
   "metadata": {
    "collapsed": false,
    "pycharm": {
     "name": "#%% md\n"
    }
   }
  },
  {
   "cell_type": "code",
   "execution_count": null,
   "outputs": [],
   "source": [
    "total_after_clean = burs[burs['instrument'] == 'piano'].shape[0]\n",
    "print(total_after_clean)\n",
    "print(1 - (total_after_clean / total_no_clean))"
   ],
   "metadata": {
    "collapsed": false,
    "pycharm": {
     "name": "#%%\n"
    }
   }
  },
  {
   "cell_type": "markdown",
   "source": [
    "We can also get the number of BURs per instrument"
   ],
   "metadata": {
    "collapsed": false,
    "pycharm": {
     "name": "#%% md\n"
    }
   }
  },
  {
   "cell_type": "code",
   "execution_count": null,
   "outputs": [],
   "source": [
    "burs.groupby('instrument')['bur'].count()"
   ],
   "metadata": {
    "collapsed": false,
    "pycharm": {
     "name": "#%%\n"
    }
   }
  },
  {
   "cell_type": "code",
   "execution_count": null,
   "outputs": [],
   "source": [
    "np.exp(burs['bur'].mean())"
   ],
   "metadata": {
    "collapsed": false,
    "pycharm": {
     "name": "#%%\n"
    }
   }
  },
  {
   "cell_type": "code",
   "execution_count": null,
   "outputs": [],
   "source": [
    "burs.groupby('instrument')['bur'].mean()"
   ],
   "metadata": {
    "collapsed": false,
    "pycharm": {
     "name": "#%%\n"
    }
   }
  },
  {
   "cell_type": "code",
   "execution_count": null,
   "outputs": [],
   "source": [
    "burs.groupby('instrument')['bur'].mean().apply(np.exp)"
   ],
   "metadata": {
    "collapsed": false,
    "pycharm": {
     "name": "#%%\n"
    }
   }
  },
  {
   "cell_type": "code",
   "execution_count": null,
   "outputs": [],
   "source": [
    "means = []\n",
    "pno = burs[burs['instrument'] == 'piano']\n",
    "for state in range(10000):\n",
    "    if state % 10 == 0:\n",
    "        print(state)\n",
    "    bls = pd.Series(pno['bandleader'].unique()).sample(frac=1, replace=True, random_state=state)\n",
    "    means.append(pd.concat(pno[(pno['bandleader'] == bl)]['bur'] for bl in bls).mean())\n",
    "print(np.percentile(means, 2.5), np.percentile(means, 97.5))"
   ],
   "metadata": {
    "collapsed": false,
    "pycharm": {
     "name": "#%%\n"
    }
   }
  },
  {
   "cell_type": "markdown",
   "source": [
    "Now we order our dataframe so that the instruments are in the correct order (piano -> bass -> drums)"
   ],
   "metadata": {
    "collapsed": false,
    "pycharm": {
     "name": "#%% md\n"
    }
   }
  },
  {
   "cell_type": "code",
   "execution_count": null,
   "outputs": [],
   "source": [
    "burs = (\n",
    "    burs.set_index('instrument')\n",
    "    .loc[utils.INSTRUMENTS_TO_PERFORMER_ROLES.keys()]\n",
    "    .reset_index(drop=False)\n",
    ")"
   ],
   "metadata": {
    "collapsed": false,
    "pycharm": {
     "name": "#%%\n"
    }
   }
  },
  {
   "cell_type": "code",
   "execution_count": null,
   "outputs": [],
   "source": [
    "jm = burs[(burs['instrument'] == 'piano')]['bur']\n",
    "means = [jm.sample(frac=1, replace=True, random_state=i).mean() for i in range(10000)]\n",
    "print(np.quantile(means, 0.025), np.quantile(means, 0.975))"
   ],
   "metadata": {
    "collapsed": false,
    "pycharm": {
     "name": "#%%\n"
    }
   }
  },
  {
   "cell_type": "code",
   "execution_count": null,
   "outputs": [],
   "source": [
    "np.log2(BUR_LOWER)"
   ],
   "metadata": {
    "collapsed": false,
    "pycharm": {
     "name": "#%%\n"
    }
   }
  },
  {
   "cell_type": "markdown",
   "source": [
    "## Plot the average BUR per instrument"
   ],
   "metadata": {
    "collapsed": false,
    "pycharm": {
     "name": "#%% md\n"
    }
   }
  },
  {
   "cell_type": "code",
   "execution_count": null,
   "outputs": [],
   "source": [
    "BarPlotBUR(burs).create_plot()\n",
    "plt.show()"
   ],
   "metadata": {
    "collapsed": false,
    "pycharm": {
     "name": "#%%\n"
    }
   }
  },
  {
   "cell_type": "markdown",
   "source": [
    "## Plot BUR distribution per performer"
   ],
   "metadata": {
    "collapsed": false,
    "pycharm": {
     "name": "#%% md\n"
    }
   }
  },
  {
   "cell_type": "code",
   "execution_count": null,
   "outputs": [],
   "source": [
    "ViolinPlotBURs(burs, include_images=False).create_plot()\n",
    "plt.show()"
   ],
   "metadata": {
    "collapsed": false,
    "pycharm": {
     "name": "#%%\n"
    }
   }
  },
  {
   "cell_type": "markdown",
   "source": [
    "## Compute the KDE and extract peaks"
   ],
   "metadata": {
    "collapsed": false,
    "pycharm": {
     "name": "#%% md\n"
    }
   }
  },
  {
   "cell_type": "code",
   "execution_count": null,
   "outputs": [],
   "source": [
    "def get_peaks(data, len_data: int = 1000, **kwargs) -> np.ndarray:\n",
    "    \"\"\"Fits a kernel-density estimate to BUR data and extracts BUR peaks\"\"\"\n",
    "    # Fit the actual KDE to the data, using the default parameters\n",
    "    kde = stats.gaussian_kde(data.T, bw_method='silverman')\n",
    "    # Create a linear space of integers ranging from our lowest to our highest BUR\n",
    "    data_plot = np.linspace(data.min(), data.max(), len_data)[:, np.newaxis]\n",
    "    # Evaluate the KDE on our linear space of integers\n",
    "    kde_eval = kde.evaluate(data_plot.T)\n",
    "    # Find the peaks from our fitted KDE\n",
    "    peaks, _ = signal.find_peaks(kde_eval, **kwargs)\n",
    "    # Return the sorted peaks from our KDE: this will be an array of BUR values\n",
    "    return np.sort(data_plot[peaks].flatten())"
   ],
   "metadata": {
    "collapsed": false,
    "pycharm": {
     "name": "#%%\n"
    }
   }
  },
  {
   "cell_type": "code",
   "execution_count": null,
   "outputs": [],
   "source": [
    "from joblib import Parallel, delayed\n",
    "import src.visualise.visualise_utils as vutils\n",
    "\n",
    "def bootstrap_peaks(data: np.array, actual_peaks: np.array, tol: float = 0.5) -> dict:\n",
    "    \"\"\"Bootstrap confidence intervals for an array of peaks\"\"\"\n",
    "    def _boot(state, actual_peak) -> float:\n",
    "        \"\"\"Bootstrapping function for an individual peak\"\"\"\n",
    "        # Set the random seed\n",
    "        np.random.seed(state)\n",
    "        # Take a random sample of our BURs, with replacement, and reshape\n",
    "        boot = np.random.choice(data, replace=True, size=size).reshape(-1, 1)\n",
    "        # Get the peaks for our bootstrapped sample\n",
    "        boot_peaks = np.array(get_peaks(boot))\n",
    "        # Get the distances between each bootstrapped peak and the actual peak\n",
    "        distance = np.abs(np.unique(boot_peaks) - actual_peak)\n",
    "        # Iterate through the peaks by minimum distance to actual peak\n",
    "        for boot_peak in boot_peaks[np.argsort(distance)]:\n",
    "            # If the distance to the peak is less than the tolerance\n",
    "            if abs(boot_peak - actual_peak) <= tol:\n",
    "                # We can return this bootstrapped peaks\n",
    "                return boot_peak\n",
    "        # Otherwise, if we have no matches, return NaN\n",
    "        return np.nan\n",
    "\n",
    "    # We perform a few operations here, so we don't have to re-do them every loop\n",
    "    size = len(data)\n",
    "    data = data.flatten()\n",
    "    # For every peak, get all bootstrapped peaks\n",
    "    boot_res = {peak: [Parallel(n_jobs=-1, verbose=10)(delayed(_boot)(st, peak) for st in range(vutils.N_BOOT))] for peak in actual_peaks}\n",
    "    # Return a dictionary with confidence intervals for each peak\n",
    "    return {k: [np.nanpercentile(v, 2.5), np.nanpercentile(v, 97.5)] for k, v in boot_res.items()}"
   ],
   "metadata": {
    "collapsed": false,
    "pycharm": {
     "name": "#%%\n"
    }
   }
  },
  {
   "cell_type": "code",
   "execution_count": null,
   "outputs": [],
   "source": [
    "res_ = []\n",
    "for instr, grp in burs.groupby('instrument', sort=False):\n",
    "    X = grp['bur'].to_numpy().reshape(-1, 1)\n",
    "    grp_peaks = get_peaks(X)\n",
    "    ci_peaks = bootstrap_peaks(X, grp_peaks)\n",
    "    for num, (actual, (low, high)) in enumerate(ci_peaks.items()):\n",
    "        res_.append(dict(\n",
    "            instrument=instr,\n",
    "            peak_num=num,\n",
    "            peak=actual,\n",
    "            low=low,\n",
    "            high=high\n",
    "        ))\n",
    "peaks_df = pd.DataFrame(res_)"
   ],
   "metadata": {
    "collapsed": false,
    "pycharm": {
     "name": "#%%\n"
    }
   }
  },
  {
   "cell_type": "code",
   "execution_count": null,
   "outputs": [],
   "source": [
    "print(peaks_df)"
   ],
   "metadata": {
    "collapsed": false,
    "pycharm": {
     "name": "#%%\n"
    }
   }
  },
  {
   "cell_type": "markdown",
   "source": [
    "## Estimate density of distribution between peaks"
   ],
   "metadata": {
    "collapsed": false,
    "pycharm": {
     "name": "#%% md\n"
    }
   }
  },
  {
   "cell_type": "code",
   "execution_count": null,
   "outputs": [],
   "source": [
    "def estimate_density(peaks, burs):\n",
    "    # Peak 1\n",
    "    p1 = burs[burs <= (peaks[1] + peaks[0]) / 2]\n",
    "    p1_len = (len(p1) / len(burs)) * 100\n",
    "    # Peak 2\n",
    "    p2 = burs[burs > (peaks[1] + peaks[0]) / 2]\n",
    "    p2_len = (len(p2) / len(burs)) * 100\n",
    "    return p1_len, p2_len\n",
    "\n",
    "\n",
    "bass_peaks = peaks_df[peaks_df['instrument'] == 'bass']['peak'].sort_values().values\n",
    "bass_weight = estimate_density(\n",
    "    bass_peaks,\n",
    "    burs[burs['instrument'] == 'bass']['bur']\n",
    ")\n",
    "print(bass_weight)\n",
    "# drums_peaks = peaks_df[peaks_df['instrument'] == 'drums']['peak'].sort_values().values\n",
    "# drums_weight = estimate_density(\n",
    "#     drums_peaks,\n",
    "#     burs[burs['instrument'] == 'drums']['bur']\n",
    "# )\n",
    "# print(drums_weight)"
   ],
   "metadata": {
    "collapsed": false,
    "pycharm": {
     "name": "#%%\n"
    }
   }
  },
  {
   "cell_type": "code",
   "execution_count": null,
   "outputs": [],
   "source": [
    "bandleaders = pd.Series(burs['bandleader'].unique())\n",
    "bandleaders_sample = [bandleaders.sample(replace=True, frac=1) for i in range(1000)]\n",
    "for instr, instr_peaks in zip(['bass'], [bass_peaks]):\n",
    "    boot_low, boot_high = [], []\n",
    "    for n, sample in enumerate(bandleaders_sample):\n",
    "        print(n)\n",
    "        data = []\n",
    "        for _, bandleader in sample.items():\n",
    "            data.extend(burs[(burs['bandleader'] == bandleader) & (burs['instrument'] == instr)]['bur'].to_list())\n",
    "        low, high = estimate_density(instr_peaks, pd.Series(data),)\n",
    "        boot_low.append(low)\n",
    "        boot_high.append(high)\n",
    "    print(instr, 'low_peak', stats.sem(boot_low) * 1.96)\n",
    "    print(instr, 'high_peak', stats.sem(boot_high) * 1.96)"
   ],
   "metadata": {
    "collapsed": false,
    "pycharm": {
     "name": "#%%\n"
    }
   }
  },
  {
   "cell_type": "markdown",
   "source": [
    "## Plot the BUR distribution with density curve and peaks"
   ],
   "metadata": {
    "collapsed": false,
    "pycharm": {
     "name": "#%% md\n"
    }
   }
  },
  {
   "cell_type": "code",
   "execution_count": null,
   "outputs": [],
   "source": [
    "HistPlotBURByInstrument(burs, peaks_df).create_plot()\n",
    "plt.show()"
   ],
   "metadata": {
    "collapsed": false,
    "pycharm": {
     "name": "#%%\n"
    }
   }
  },
  {
   "cell_type": "markdown",
   "source": [
    "## Model average tempo vs BUR"
   ],
   "metadata": {
    "collapsed": false,
    "pycharm": {
     "name": "#%% md\n"
    }
   }
  },
  {
   "cell_type": "code",
   "execution_count": null,
   "outputs": [],
   "source": [
    "average = burs.groupby(['instrument', 'mbz_id']).agg(dict(bur=['mean', 'count'], tempo='median', bandleader='first')).reset_index(drop=False)\n",
    "average.columns = ['_'.join(col).strip() for col in average.columns.values]\n",
    "print(len(average[average['bur_count'] < 15]))\n",
    "average = average[average['bur_count'] > 15]\n"
   ],
   "metadata": {
    "collapsed": false,
    "pycharm": {
     "name": "#%%\n"
    }
   }
  },
  {
   "cell_type": "code",
   "execution_count": null,
   "outputs": [],
   "source": [
    "average['tempo_standard'] = (average['tempo_median'] - average['tempo_median'].mean()) / average['tempo_median'].std()"
   ],
   "metadata": {
    "collapsed": false,
    "pycharm": {
     "name": "#%%\n"
    }
   }
  },
  {
   "cell_type": "code",
   "execution_count": null,
   "outputs": [],
   "source": [
    "print(average['tempo_median'].mean())\n",
    "print(average['tempo_median'].std())"
   ],
   "metadata": {
    "collapsed": false,
    "pycharm": {
     "name": "#%%\n"
    }
   }
  },
  {
   "cell_type": "code",
   "execution_count": null,
   "outputs": [],
   "source": [
    "md = smf.mixedlm(\n",
    "    \"bur_mean ~ tempo_standard * C(instrument_, Treatment(reference='piano'))\",\n",
    "    data=average,\n",
    "    groups=average['bandleader_first'],\n",
    "    re_formula=\"0 + tempo_standard + C(instrument_, Treatment(reference='piano'))\"\n",
    ").fit()\n",
    "print(md.summary())"
   ],
   "metadata": {
    "collapsed": false,
    "pycharm": {
     "name": "#%%\n"
    }
   }
  },
  {
   "cell_type": "code",
   "execution_count": null,
   "outputs": [],
   "source": [
    "(md.params['tempo_standard'] / average['tempo_median'].std()) * 10"
   ],
   "metadata": {
    "collapsed": false,
    "pycharm": {
     "name": "#%%\n"
    }
   }
  },
  {
   "cell_type": "code",
   "execution_count": null,
   "outputs": [],
   "source": [
    "# Variance explained by the fixed effects: we need to use md.predict() with the underlying data to get this\n",
    "var_fixed = md.predict().var()\n",
    "# Variance explained by the random effects\n",
    "var_random = float(md.cov_re.to_numpy().mean())\n",
    "# Variance of the residuals\n",
    "var_resid = md.scale\n",
    "# Total variance of the model\n",
    "total_var = var_fixed + var_random + var_resid\n",
    "# Calculate the r2 values and append to the model\n",
    "print('conditional_r2:', (var_fixed + var_random) / total_var)\n",
    "print('marginal_r2:', var_fixed / total_var)"
   ],
   "metadata": {
    "collapsed": false,
    "pycharm": {
     "name": "#%%\n"
    }
   }
  },
  {
   "cell_type": "code",
   "execution_count": null,
   "outputs": [],
   "source": [
    "stddev = np.std([v.iloc[0] for v in md.random_effects.values()])\n",
    "print('stdev of bandleader groups:', stddev)"
   ],
   "metadata": {
    "collapsed": false,
    "pycharm": {
     "name": "#%%\n"
    }
   }
  },
  {
   "cell_type": "markdown",
   "source": [
    "## Plot average BUR vs tempo"
   ],
   "metadata": {
    "collapsed": false,
    "pycharm": {
     "name": "#%% md\n"
    }
   }
  },
  {
   "cell_type": "code",
   "execution_count": null,
   "outputs": [],
   "source": [
    "RegPlotBURTempo(burs).create_plot()\n",
    "plt.show()"
   ],
   "metadata": {
    "collapsed": false,
    "pycharm": {
     "name": "#%%\n"
    }
   }
  },
  {
   "cell_type": "code",
   "execution_count": null,
   "outputs": [],
   "source": [],
   "metadata": {
    "collapsed": false,
    "pycharm": {
     "name": "#%%\n"
    }
   }
  }
 ],
 "metadata": {
  "kernelspec": {
   "display_name": "Python 3",
   "language": "python",
   "name": "python3"
  },
  "language_info": {
   "codemirror_mode": {
    "name": "ipython",
    "version": 2
   },
   "file_extension": ".py",
   "mimetype": "text/x-python",
   "name": "python",
   "nbconvert_exporter": "python",
   "pygments_lexer": "ipython2",
   "version": "2.7.6"
  }
 },
 "nbformat": 4,
 "nbformat_minor": 0
}