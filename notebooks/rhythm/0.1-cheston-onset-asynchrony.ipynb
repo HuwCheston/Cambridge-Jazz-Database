{
 "cells": [
  {
   "cell_type": "markdown",
   "source": [
    "# Onset asynchrony"
   ],
   "metadata": {
    "collapsed": false,
    "pycharm": {
     "name": "#%% md\n"
    }
   }
  },
  {
   "cell_type": "markdown",
   "source": [
    "## Import dependencies, set constants etc."
   ],
   "metadata": {
    "collapsed": false,
    "pycharm": {
     "name": "#%% md\n"
    }
   }
  },
  {
   "cell_type": "code",
   "execution_count": null,
   "metadata": {
    "collapsed": true,
    "pycharm": {
     "name": "#%%\n"
    }
   },
   "outputs": [],
   "source": [
    "from itertools import pairwise, combinations\n",
    "\n",
    "import matplotlib.pyplot as plt\n",
    "import numpy as np\n",
    "import pandas as pd\n",
    "import statsmodels.formula.api as smf\n",
    "\n",
    "import src.visualise.visualise_utils as vutils\n",
    "from src import utils\n",
    "from src.features.rhythm_features import ProportionalAsynchrony\n",
    "from src.visualise.asynchrony_plots import *"
   ]
  },
  {
   "cell_type": "markdown",
   "source": [
    "## Load in data\n",
    "We need to unserialise our list of onsets first"
   ],
   "metadata": {
    "collapsed": false,
    "pycharm": {
     "name": "#%% md\n"
    }
   }
  },
  {
   "cell_type": "code",
   "execution_count": null,
   "outputs": [],
   "source": [
    "onsets: list = utils.unserialise_object(fr'{utils.get_project_root()}\\models\\matched_onsets_corpus_chronology')"
   ],
   "metadata": {
    "collapsed": false,
    "pycharm": {
     "name": "#%%\n"
    }
   }
  },
  {
   "cell_type": "markdown",
   "source": [
    "## Get position of marked beats\n",
    "Now we can iterate through successive downbeats in a performance and express the position of each marked beat proportionally."
   ],
   "metadata": {
    "collapsed": false,
    "pycharm": {
     "name": "#%% md\n"
    }
   }
  },
  {
   "cell_type": "code",
   "execution_count": null,
   "outputs": [],
   "source": [
    "asynchronies = []\n",
    "# Iterate over every track\n",
    "for num, track in enumerate(onsets, 1):\n",
    "    print(f'{num} / {len(onsets)}')\n",
    "    # if track.item['time_signature'] == 3:\n",
    "    #     continue\n",
    "    bandleader = track.item['pianist']\n",
    "    tempo = track.tempo\n",
    "    temp = pd.DataFrame(track.summary_dict)\n",
    "    idx = temp[temp['metre_manual'] == 1].index\n",
    "    # Iterate through successive downbeats\n",
    "    for downbeat1, downbeat2 in pairwise(idx):\n",
    "        # Get all the beats marked between our two downbeats (beat 1 bar 1, beat 1 bar 2)\n",
    "        bw = temp[(downbeat1 <= temp.index) & (temp.index < downbeat2)]\n",
    "        sub = bw[utils.INSTRUMENTS_TO_PERFORMER_ROLES.keys()]\n",
    "        # Get the first downbeat of the first bar, and the last downbeat of the second\n",
    "        first, last = temp[temp.index == downbeat1]['beats'].iloc[0], temp[temp.index == downbeat2]['beats'].iloc[0]\n",
    "        # Scale our onsets to be proportional with our first and last values\n",
    "        prop = (sub - first) / (last - first)\n",
    "        # Drop values after 1/16th note or before 1/32nd note\n",
    "        upper_bound = (((bw['metre_manual'] - 1) * 1/4) + 1/16)\n",
    "        lower_bound = ((bw['metre_manual'] - 1) * 1/4) - 1/32\n",
    "        for col in prop.columns:\n",
    "            prop[col][(prop[col] < lower_bound) | (prop[col] > upper_bound)] = np.nan\n",
    "        # Convert values to degrees\n",
    "        prop *= 360\n",
    "        prop = pd.concat([prop, bw['metre_manual']], axis=1)\n",
    "        # Iterate through each column and add values to our list\n",
    "        for instr in utils.INSTRUMENTS_TO_PERFORMER_ROLES.keys():\n",
    "            for _, val in prop[[instr, 'metre_manual']].dropna().iterrows():\n",
    "                asynchronies.append(dict(instr=instr, asynchrony=val[instr], beat=val['metre_manual'], bandleader=bandleader, tempo=tempo))\n",
    "df = pd.DataFrame(asynchronies)"
   ],
   "metadata": {
    "collapsed": false,
    "pycharm": {
     "name": "#%%\n"
    }
   }
  },
  {
   "cell_type": "code",
   "execution_count": null,
   "outputs": [],
   "source": [
    "print(df[df['instr'] == 'piano'].shape)"
   ],
   "metadata": {
    "collapsed": false,
    "pycharm": {
     "name": "#%%\n"
    }
   }
  },
  {
   "cell_type": "markdown",
   "source": [
    "## Clean dataset"
   ],
   "metadata": {
    "collapsed": false,
    "pycharm": {
     "name": "#%% md\n"
    }
   }
  },
  {
   "cell_type": "code",
   "execution_count": null,
   "outputs": [],
   "source": [
    "# First, we sort the dataset so that instruments are in the order piano-bass-drums -- this is for hue mapping\n",
    "df = (\n",
    "    df.set_index('instr')\n",
    "    .loc[utils.INSTRUMENTS_TO_PERFORMER_ROLES.keys()]\n",
    "    .reset_index(drop=False)\n",
    ")"
   ],
   "metadata": {
    "collapsed": false,
    "pycharm": {
     "name": "#%%\n"
    }
   }
  },
  {
   "cell_type": "code",
   "execution_count": null,
   "outputs": [],
   "source": [
    "# Offset the asynchrony column so that drums average beat 1 is shifted to 0\n",
    "df['asynchrony_offset'] = df['asynchrony'] - df[(df['instr'] == 'drums') & (df['beat'] == 1)]['asynchrony'].mean()\n",
    "# Adjust the asynchrony values so that asynchrony is independent of beat location\n",
    "df['asynchrony_adjusted'] = (df['asynchrony'] / 360) - ((df['beat'] - 1) * 1/4)\n",
    "# Adjust the offset beat values\n",
    "df['asynchrony_adjusted_offset'] = (df['asynchrony_offset'] / 360) - ((df['beat'] - 1) * 1/4)"
   ],
   "metadata": {
    "collapsed": false,
    "pycharm": {
     "name": "#%%\n"
    }
   }
  },
  {
   "cell_type": "markdown",
   "source": [
    "## Create circular plot of asynchrony by beat number"
   ],
   "metadata": {
    "collapsed": false,
    "pycharm": {
     "name": "#%% md\n"
    }
   }
  },
  {
   "cell_type": "code",
   "execution_count": null,
   "outputs": [],
   "source": [
    "PolarPlotAsynchrony(df).create_plot()\n",
    "plt.show()"
   ],
   "metadata": {
    "collapsed": false,
    "pycharm": {
     "name": "#%%\n"
    }
   }
  },
  {
   "cell_type": "markdown",
   "source": [
    "## Bootstrap peaks in KDE"
   ],
   "metadata": {
    "collapsed": false,
    "pycharm": {
     "name": "#%% md\n"
    }
   }
  },
  {
   "cell_type": "code",
   "execution_count": null,
   "outputs": [],
   "source": [
    "BarPlotProportionalAsynchrony(df).create_plot()"
   ],
   "metadata": {
    "collapsed": false,
    "pycharm": {
     "name": "#%%\n"
    }
   }
  },
  {
   "cell_type": "markdown",
   "source": [
    "## Plot histogram of beat distribution"
   ],
   "metadata": {
    "collapsed": false,
    "pycharm": {
     "name": "#%% md\n"
    }
   }
  },
  {
   "cell_type": "code",
   "execution_count": null,
   "outputs": [],
   "source": [
    "HistPlotProportionalAsynchrony(df).create_plot()\n",
    "plt.show()"
   ],
   "metadata": {
    "collapsed": false,
    "pycharm": {
     "name": "#%%\n"
    }
   }
  },
  {
   "cell_type": "markdown",
   "source": [
    "## Bootstrap differences per instrument"
   ],
   "metadata": {
    "collapsed": false,
    "pycharm": {
     "name": "#%% md\n"
    }
   }
  },
  {
   "cell_type": "code",
   "execution_count": null,
   "outputs": [],
   "source": [
    "grouped = df.groupby(['bandleader', 'instr', 'beat']).mean().reset_index(drop=False)\n",
    "bootstraps = []\n",
    "for i1, i2 in combinations(grouped['instr'].unique(), 2):\n",
    "    print(i1, i2)\n",
    "    val1 = grouped[grouped['instr'] == i1]['asynchrony_adjusted_offset']\n",
    "    val2 = grouped[grouped['instr'] == i2]['asynchrony_adjusted_offset']\n",
    "    true_mean = val1.mean() - val2.mean()\n",
    "    boots = [val1.sample(frac=1, random_state=s, replace=True).mean() - val2.sample(frac=1, random_state=s, replace=True).mean() for s in range(vutils.N_BOOT)]\n",
    "    bootstraps.append(dict(instr1=i1, instr2=i2, low=np.percentile(boots, 2.5), mean=true_mean, high=np.percentile(boots, 97.5)))\n",
    "pd.DataFrame(bootstraps)"
   ],
   "metadata": {
    "collapsed": false,
    "pycharm": {
     "name": "#%%\n"
    }
   }
  },
  {
   "cell_type": "markdown",
   "source": [
    "## Model differences in piano 'lateness' vs tempo"
   ],
   "metadata": {
    "collapsed": false,
    "pycharm": {
     "name": "#%% md\n"
    }
   }
  },
  {
   "cell_type": "code",
   "execution_count": null,
   "outputs": [],
   "source": [
    "tempo_res = []\n",
    "for idx, grp in df.groupby(['bandleader', 'tempo']):\n",
    "    if len(grp.dropna()) < 15:\n",
    "        continue\n",
    "\n",
    "    piano = grp[grp['instr'] == 'piano']['asynchrony_adjusted_offset'].mean()\n",
    "    for instr in ['bass', 'drums']:\n",
    "        other = grp[grp['instr'] == instr]['asynchrony_adjusted_offset'].mean()\n",
    "        other_diff = piano - other\n",
    "        tempo_res.append(dict(bandleader=idx[0], tempo=idx[1], instr=instr, diff=other_diff))\n",
    "tempo_df = pd.DataFrame(tempo_res).dropna()\n",
    "tempo_df['tempo_standard'] = (tempo_df['tempo'] - tempo_df['tempo'].mean()) / tempo_df['tempo'].std()"
   ],
   "metadata": {
    "collapsed": false,
    "pycharm": {
     "name": "#%%\n"
    }
   }
  },
  {
   "cell_type": "code",
   "execution_count": null,
   "outputs": [],
   "source": [
    "tempo_df.head()"
   ],
   "metadata": {
    "collapsed": false,
    "pycharm": {
     "name": "#%%\n"
    }
   }
  },
  {
   "cell_type": "code",
   "execution_count": null,
   "outputs": [],
   "source": [
    "tempo_df.shape"
   ],
   "metadata": {
    "collapsed": false,
    "pycharm": {
     "name": "#%%\n"
    }
   }
  },
  {
   "cell_type": "code",
   "execution_count": null,
   "outputs": [],
   "source": [
    "RegPlotPianistAsynchrony(tempo_df).create_plot()\n",
    "plt.show()"
   ],
   "metadata": {
    "collapsed": false,
    "pycharm": {
     "name": "#%%\n"
    }
   }
  },
  {
   "cell_type": "code",
   "execution_count": null,
   "outputs": [],
   "source": [
    "md = smf.mixedlm(\n",
    "    \"diff ~ tempo_standard * C(instr, Treatment(reference='bass'))\",\n",
    "    data=tempo_df,\n",
    "    groups=tempo_df['bandleader'],\n",
    "    re_formula=\"0 + tempo_standard + C(instr, Treatment(reference='bass'))\"\n",
    ").fit()\n",
    "print(md.summary())\n",
    "# Variance explained by the fixed effects: we need to use md.predict() with the underlying data to get this\n",
    "var_fixed = md.predict().var()\n",
    "# Variance explained by the random effects\n",
    "var_random = float(md.cov_re.to_numpy().mean())\n",
    "# Variance of the residuals\n",
    "var_resid = md.scale\n",
    "# Total variance of the model\n",
    "total_var = var_fixed + var_random + var_resid\n",
    "# Calculate the r2 values and append to the model\n",
    "print('conditional_r2:', (var_fixed + var_random) / total_var)\n",
    "print('marginal_r2:', var_fixed / total_var)"
   ],
   "metadata": {
    "collapsed": false,
    "pycharm": {
     "name": "#%%\n"
    }
   }
  },
  {
   "cell_type": "code",
   "execution_count": null,
   "outputs": [],
   "source": [
    "md.params * 400"
   ],
   "metadata": {
    "collapsed": false,
    "pycharm": {
     "name": "#%%\n"
    }
   }
  },
  {
   "cell_type": "markdown",
   "source": [
    "## Drums autocorrelation weak v strong beats"
   ],
   "metadata": {
    "collapsed": false,
    "pycharm": {
     "name": "#%% md\n"
    }
   }
  },
  {
   "cell_type": "code",
   "execution_count": null,
   "outputs": [],
   "source": [
    "weak_iois = []\n",
    "strong_iois = []\n",
    "# Iterate over every track\n",
    "for num, track in enumerate(onsets[:1], 1):\n",
    "    print(f'{num} / {len(onsets)}')\n",
    "    if track.item['time_signature'] == 3:\n",
    "        continue\n",
    "    temp = pd.DataFrame(track.summary_dict)[['drums', 'metre_manual']]\n",
    "    temp['ioi'] = temp['drums'].diff()\n",
    "    print(temp)"
   ],
   "metadata": {
    "collapsed": false,
    "pycharm": {
     "name": "#%%\n"
    }
   }
  },
  {
   "cell_type": "markdown",
   "source": [
    "## Get piano - drums/bass asynchronies"
   ],
   "metadata": {
    "collapsed": false,
    "pycharm": {
     "name": "#%% md\n"
    }
   }
  },
  {
   "cell_type": "code",
   "execution_count": null,
   "outputs": [],
   "source": [
    "asynchronies = []\n",
    "# Iterate over every track\n",
    "for num, track in enumerate(onsets, 1):\n",
    "    print(f'{num} / {len(onsets)}')\n",
    "    # if track.item['time_signature'] == 3:\n",
    "    #     continue\n",
    "    summary_df = pd.DataFrame(track.summary_dict)\n",
    "    asy = ProportionalAsynchrony(summary_df=summary_df, my_instr_name='piano').asynchronies\n",
    "    piano = asy[asy['instr'] == 'piano'].reset_index(drop=True)['asynchrony_adjusted']\n",
    "    bass = asy[asy['instr'] == 'bass'].reset_index(drop=True)['asynchrony_adjusted']\n",
    "    drums = asy[asy['instr'] == 'drums'].reset_index(drop=True)['asynchrony_adjusted']\n",
    "    bass_asy = (piano - bass).dropna().values\n",
    "    drums_asy = (piano - drums).dropna().values\n",
    "    bass_drums_asy = (bass - drums).dropna().values\n",
    "    for instr, asyncs in zip(['bass', 'drums', 'bass_drums'], [bass_asy, drums_asy, bass_drums_asy]):\n",
    "        for async_ in asyncs:\n",
    "            asynchronies.append(dict(instr=instr, bandleader=track.item['pianist'], asynchrony=async_))"
   ],
   "metadata": {
    "collapsed": false,
    "pycharm": {
     "name": "#%%\n"
    }
   }
  },
  {
   "cell_type": "code",
   "execution_count": null,
   "outputs": [],
   "source": [
    "asy_df = pd.DataFrame(asynchronies)"
   ],
   "metadata": {
    "collapsed": false,
    "pycharm": {
     "name": "#%%\n"
    }
   }
  },
  {
   "cell_type": "code",
   "execution_count": null,
   "outputs": [],
   "source": [
    "asy_df.groupby('instr').mean() * 100 * 4"
   ],
   "metadata": {
    "collapsed": false,
    "pycharm": {
     "name": "#%%\n"
    }
   }
  },
  {
   "cell_type": "code",
   "execution_count": null,
   "outputs": [],
   "source": [
    "jm = asy_df[(asy_df['instr'] == 'bass') & (asy_df['bandleader'] == 'Bud Powell')]['asynchrony']\n",
    "means = [jm.sample(frac=1, replace=True, random_state=i).mean() for i in range(10000)]\n",
    "print(np.quantile(means, 0.025), np.quantile(means, 0.975))"
   ],
   "metadata": {
    "collapsed": false,
    "pycharm": {
     "name": "#%%\n"
    }
   }
  },
  {
   "cell_type": "code",
   "execution_count": null,
   "outputs": [],
   "source": [
    "HistPlotProportionalAsynchronyTriosPiano(asy_df, include_images=True).create_plot()\n",
    "plt.show()"
   ],
   "metadata": {
    "collapsed": false,
    "pycharm": {
     "name": "#%%\n"
    }
   }
  },
  {
   "cell_type": "code",
   "execution_count": null,
   "outputs": [],
   "source": [
    "from joblib import Parallel, delayed\n",
    "\n",
    "def process(state_, instr_):\n",
    "    bls_ = pd.Series(asy_df['bandleader'].unique()).sample(frac=1, replace=True, random_state=state_)\n",
    "    means_ = pd.concat(asy_df[(asy_df['bandleader'] == bl) & (asy_df['instr'] == instr_)]['asynchrony'] for bl in bls_).mean()\n",
    "    return means_\n",
    "\n",
    "for instr in ['bass_drums']:\n",
    "    means = Parallel(n_jobs=-1, verbose=10)(delayed(process)(state, instr) for state in range(vutils.N_BOOT))\n",
    "    print(instr, asy_df[asy_df['instr'] == instr]['asynchrony'].mean(), np.percentile(means, 2.5), np.percentile(means, 97.5))"
   ],
   "metadata": {
    "collapsed": false,
    "pycharm": {
     "name": "#%%\n"
    }
   }
  },
  {
   "cell_type": "code",
   "execution_count": null,
   "outputs": [],
   "source": [],
   "metadata": {
    "collapsed": false,
    "pycharm": {
     "name": "#%%\n"
    }
   }
  }
 ],
 "metadata": {
  "kernelspec": {
   "display_name": "Python 3",
   "language": "python",
   "name": "python3"
  },
  "language_info": {
   "codemirror_mode": {
    "name": "ipython",
    "version": 2
   },
   "file_extension": ".py",
   "mimetype": "text/x-python",
   "name": "python",
   "nbconvert_exporter": "python",
   "pygments_lexer": "ipython2",
   "version": "2.7.6"
  }
 },
 "nbformat": 4,
 "nbformat_minor": 0
}