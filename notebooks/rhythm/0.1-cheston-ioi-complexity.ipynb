{
 "cells": [
  {
   "cell_type": "markdown",
   "source": [
    "# IOI complexity and event density"
   ],
   "metadata": {
    "collapsed": false,
    "pycharm": {
     "name": "#%% md\n"
    }
   }
  },
  {
   "cell_type": "markdown",
   "source": [
    "## Import dependencies, set constants etc."
   ],
   "metadata": {
    "collapsed": false,
    "pycharm": {
     "name": "#%% md\n"
    }
   }
  },
  {
   "cell_type": "code",
   "execution_count": null,
   "outputs": [],
   "source": [
    "import matplotlib.pyplot as plt\n",
    "import numpy as np\n",
    "import pandas as pd\n",
    "import scipy.stats as stats\n",
    "\n",
    "from src import utils\n",
    "from src.features.rhythm_features import IOIComplexity\n",
    "from src.visualise.complexity_plots import *"
   ],
   "metadata": {
    "collapsed": false,
    "pycharm": {
     "name": "#%%\n"
    }
   }
  },
  {
   "cell_type": "markdown",
   "source": [
    "## Load in data"
   ],
   "metadata": {
    "collapsed": false,
    "pycharm": {
     "name": "#%% md\n"
    }
   }
  },
  {
   "cell_type": "code",
   "execution_count": null,
   "outputs": [],
   "source": [
    "onsets = utils.unserialise_object(fr'{utils.get_project_root()}\\models\\matched_onsets_corpus_chronology.p')"
   ],
   "metadata": {
    "collapsed": false,
    "pycharm": {
     "name": "#%%\n"
    }
   }
  },
  {
   "cell_type": "code",
   "execution_count": null,
   "outputs": [],
   "source": [
    "fracs = [1, 1/2, 5/12, 3/8, 1/3, 1/4, 1/6, 1/8, 1/12, 0]\n",
    "fracs_s = [r'>$\\frac{1}{2}$', r'$\\frac{1}{2}$', r'$\\frac{5}{12}$', r'$\\frac{3}{8}$', r'$\\frac{1}{3}$', r'$\\frac{1}{4}$', r'$\\frac{1}{6}$', r'$\\frac{1}{8}$', r'$\\frac{1}{12}$', r'<$\\frac{1}{12}$']\n",
    "assert sorted(fracs, reverse=True) == fracs"
   ],
   "metadata": {
    "collapsed": false,
    "pycharm": {
     "name": "#%%\n"
    }
   }
  },
  {
   "cell_type": "code",
   "execution_count": null,
   "outputs": [],
   "source": [
    "res = []\n",
    "for instr in ['piano']:\n",
    "    for track in onsets:\n",
    "        # if track.item['time_signature'] == 3:\n",
    "        #     continue\n",
    "        tempo = 60 / track.tempo\n",
    "        iois = pd.Series(track.ons[instr]).diff().dropna().to_list()\n",
    "        for ioi in iois:\n",
    "            prop_ioi = ioi / tempo\n",
    "            if prop_ioi > 4:\n",
    "                continue\n",
    "            prop_ioi /= 4\n",
    "            bin_ = min(fracs, key=lambda x: abs(x - prop_ioi))\n",
    "            res.append(dict(instr=instr, ioi=ioi, prop_ioi=prop_ioi, bin=bin_))\n",
    "rhythm = pd.DataFrame(res)"
   ],
   "metadata": {
    "collapsed": false,
    "pycharm": {
     "name": "#%%\n"
    }
   }
  },
  {
   "cell_type": "markdown",
   "source": [
    "## Stacked bar plot of all IOIs"
   ],
   "metadata": {
    "collapsed": false,
    "pycharm": {
     "name": "#%% md\n"
    }
   }
  },
  {
   "cell_type": "code",
   "execution_count": null,
   "outputs": [],
   "source": [
    "import src.visualise.visualise_utils as vutils\n",
    "\n",
    "class BarPlotTotalBinsPiano(BarPlotTotalBins):\n",
    "    def __init__(self, ioi_df, **kwargs):\n",
    "        super().__init__(ioi_df, **kwargs)\n",
    "        self.figure_title = fr'complexity_plots\\barplot_totalbins_piano_{self.corpus_title}'\n",
    "\n",
    "    def _create_plot(self):\n",
    "        return self.df.plot(\n",
    "            kind='bar', stacked=True, ax=self.ax, color=vutils.RED, zorder=10,\n",
    "            lw=vutils.LINEWIDTH, edgecolor=vutils.BLACK, ylabel='Count',\n",
    "            xlabel='Bin'\n",
    "        )\n",
    "\n",
    "    def _format_ax(self):\n",
    "        self.ax.set(xticklabels=reversed(fracs_s))\n",
    "        self.ax.tick_params(axis='both', width=vutils.TICKWIDTH, color=vutils.BLACK, rotation=0)\n",
    "        plt.setp(self.ax.spines.values(), linewidth=vutils.LINEWIDTH, color=vutils.BLACK)\n",
    "        self.ax.grid(zorder=0, axis='y', **vutils.GRID_KWS)\n",
    "        self.ax.get_legend().remove()\n",
    "        self._add_notation_images(y=75000)\n",
    "        ax_t = self.ax.secondary_xaxis('top')\n",
    "        ax_t.set_xticks(self.ax.get_xticks(), labels=[])\n",
    "        ax_t.tick_params(width=vutils.TICKWIDTH)\n",
    "\n",
    "BarPlotTotalBinsPiano(rhythm).create_plot()\n",
    "plt.show()"
   ],
   "metadata": {
    "collapsed": false,
    "pycharm": {
     "name": "#%%\n"
    }
   }
  },
  {
   "cell_type": "code",
   "execution_count": null,
   "outputs": [],
   "source": [
    "rhythm.shape"
   ],
   "metadata": {
    "collapsed": false,
    "pycharm": {
     "name": "#%%\n"
    }
   }
  },
  {
   "cell_type": "code",
   "execution_count": null,
   "outputs": [],
   "source": [
    "rhythm['bin'].value_counts(normalize=False)"
   ],
   "metadata": {
    "collapsed": false,
    "pycharm": {
     "name": "#%%\n"
    }
   }
  },
  {
   "cell_type": "markdown",
   "source": [
    "## Histogram plot of proportional IOI durations and bins"
   ],
   "metadata": {
    "collapsed": false,
    "pycharm": {
     "name": "#%% md\n"
    }
   }
  },
  {
   "cell_type": "code",
   "execution_count": null,
   "outputs": [],
   "source": [
    "HistPlotBins(rhythm).create_plot()\n",
    "plt.show()"
   ],
   "metadata": {
    "collapsed": false,
    "pycharm": {
     "name": "#%%\n"
    }
   }
  },
  {
   "cell_type": "markdown",
   "source": [
    "## Define our extractor class for calculating IOI complexity (to be added to `src.features.features_utils`"
   ],
   "metadata": {
    "collapsed": false,
    "pycharm": {
     "name": "#%% md\n"
    }
   }
  },
  {
   "cell_type": "code",
   "execution_count": null,
   "outputs": [],
   "source": [
    "cdfs = []\n",
    "total_score = 0\n",
    "for num, t in enumerate(onsets):\n",
    "    print(f'{num} / {len(onsets)}')\n",
    "    downbeats = t.ons['downbeats_manual']\n",
    "    tempo = t.tempo\n",
    "    time_signature = t.item['time_signature']\n",
    "    # if time_signature == 3:\n",
    "    #     continue\n",
    "    for instr in ['piano']:\n",
    "        my_onsets = t.ons[instr]\n",
    "        cdf = IOIComplexity(\n",
    "            my_onsets=my_onsets,\n",
    "            downbeats=downbeats,\n",
    "            tempo=tempo,\n",
    "            time_signature=time_signature\n",
    "        )\n",
    "        total_score += len(cdf.complexity_df)\n",
    "        cdf = cdf.complexity_df.mean().to_dict()\n",
    "        cdf['mbz_id'] = t.item['mbz_id']\n",
    "        cdf['instr'] = instr\n",
    "        cdf['tempo'] = t.tempo\n",
    "        cdfs.append(cdf)\n",
    "print(total_score)"
   ],
   "metadata": {
    "collapsed": false,
    "pycharm": {
     "name": "#%%\n"
    }
   }
  },
  {
   "cell_type": "markdown",
   "source": [
    "## Get the correlation of onset density and complexity"
   ],
   "metadata": {
    "collapsed": false,
    "pycharm": {
     "name": "#%% md\n"
    }
   }
  },
  {
   "cell_type": "code",
   "execution_count": null,
   "outputs": [],
   "source": [
    "average = pd.DataFrame(cdfs).drop(columns=['bar_range']).dropna(subset=['lz77', 'n_onsets'])\n",
    "average['n_onsets'] = average['n_onsets'].astype(float)\n",
    "average.head()"
   ],
   "metadata": {
    "collapsed": false,
    "pycharm": {
     "name": "#%%\n"
    }
   }
  },
  {
   "cell_type": "code",
   "execution_count": null,
   "outputs": [],
   "source": [
    "1 - average.corr() ** 2"
   ],
   "metadata": {
    "collapsed": false,
    "pycharm": {
     "name": "#%%\n"
    }
   }
  },
  {
   "cell_type": "code",
   "execution_count": null,
   "outputs": [],
   "source": [
    "average.shape"
   ],
   "metadata": {
    "collapsed": false,
    "pycharm": {
     "name": "#%%\n"
    }
   }
  },
  {
   "cell_type": "markdown",
   "source": [
    "## Bootstrap mean complexity/density"
   ],
   "metadata": {
    "collapsed": false,
    "pycharm": {
     "name": "#%% md\n"
    }
   }
  },
  {
   "cell_type": "code",
   "execution_count": null,
   "outputs": [],
   "source": [
    "average.groupby('instr').mean(numeric_only=True)"
   ],
   "metadata": {
    "collapsed": false,
    "pycharm": {
     "name": "#%%\n"
    }
   }
  },
  {
   "cell_type": "code",
   "execution_count": null,
   "outputs": [],
   "source": [
    "for idx, grp in average.groupby('instr'):\n",
    "    for var in ['n_onsets', 'lz77']:\n",
    "        true_mean = grp[var].mean()\n",
    "        boots = [grp[var].sample(frac=1, replace=True, random_state=i).mean() for i in range(100)]\n",
    "        low, high = np.percentile(boots, 2.5,), np.percentile(boots, 97.5)\n",
    "        print(idx, var, low, true_mean, high)"
   ],
   "metadata": {
    "collapsed": false,
    "pycharm": {
     "name": "#%%\n"
    }
   }
  },
  {
   "cell_type": "markdown",
   "source": [
    "## Plot average complexity and density"
   ],
   "metadata": {
    "collapsed": false,
    "pycharm": {
     "name": "#%% md\n"
    }
   }
  },
  {
   "cell_type": "code",
   "execution_count": null,
   "outputs": [],
   "source": [
    "BarPlotComplexityDensity(average).create_plot()\n",
    "plt.show()"
   ],
   "metadata": {
    "collapsed": false,
    "pycharm": {
     "name": "#%%\n"
    }
   }
  },
  {
   "cell_type": "markdown",
   "source": [
    "## Plot relationships between tempo and complexity/density"
   ],
   "metadata": {
    "collapsed": false,
    "pycharm": {
     "name": "#%% md\n"
    }
   }
  },
  {
   "cell_type": "code",
   "execution_count": null,
   "outputs": [],
   "source": [
    "RegPlotTempoDensityComplexity(average).create_plot()\n",
    "plt.show()"
   ],
   "metadata": {
    "collapsed": false,
    "pycharm": {
     "name": "#%%\n"
    }
   }
  },
  {
   "cell_type": "code",
   "execution_count": null,
   "outputs": [],
   "source": [
    "stats.pearsonr(average.dropna()['tempo'], average.dropna()['n_onsets'])"
   ],
   "metadata": {
    "collapsed": false,
    "pycharm": {
     "name": "#%%\n"
    }
   }
  },
  {
   "cell_type": "code",
   "execution_count": null,
   "outputs": [],
   "source": [
    "average.dropna().shape"
   ],
   "metadata": {
    "collapsed": false,
    "pycharm": {
     "name": "#%%\n"
    }
   }
  }
 ],
 "metadata": {
  "kernelspec": {
   "display_name": "Python 3",
   "language": "python",
   "name": "python3"
  },
  "language_info": {
   "codemirror_mode": {
    "name": "ipython",
    "version": 2
   },
   "file_extension": ".py",
   "mimetype": "text/x-python",
   "name": "python",
   "nbconvert_exporter": "python",
   "pygments_lexer": "ipython2",
   "version": "2.7.6"
  }
 },
 "nbformat": 4,
 "nbformat_minor": 0
}