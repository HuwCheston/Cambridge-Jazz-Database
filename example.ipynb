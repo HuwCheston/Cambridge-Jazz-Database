{
 "cells": [
  {
   "cell_type": "markdown",
   "source": [
    "# Cambridge Jazz Trio Database\n",
    "## Process a track using our pipeline\n",
    "\n",
    "This short notebook contains an example script for processing a track using our pipeline, extracting features, making predictions, and creating plots."
   ],
   "metadata": {
    "collapsed": false,
    "pycharm": {
     "name": "#%% md\n"
    }
   },
   "id": "70a449900a85dc6"
  },
  {
   "cell_type": "code",
   "outputs": [],
   "source": [
    "import subprocess"
   ],
   "metadata": {
    "collapsed": false,
    "ExecuteTime": {
     "end_time": "2024-01-31T13:29:00.087737604Z",
     "start_time": "2024-01-31T13:29:00.023540092Z"
    },
    "pycharm": {
     "name": "#%%\n"
    }
   },
   "id": "b1cd2ddccf7c00af",
   "execution_count": 8
  },
  {
   "cell_type": "code",
   "execution_count": 9,
   "id": "initial_id",
   "metadata": {
    "collapsed": true,
    "ExecuteTime": {
     "end_time": "2024-01-31T13:29:00.581298117Z",
     "start_time": "2024-01-31T13:29:00.578343340Z"
    },
    "pycharm": {
     "name": "#%%\n"
    }
   },
   "outputs": [],
   "source": [
    "# Replace this with a path to a local .WAV file (or upload one to Jupyter)\n",
    "URL = \"path/to/audio.wav\"\n",
    "# Replace these with timestamps corresponding with the sections to analyse\n",
    "BEGIN = \"02:50\"\n",
    "END = \"03:40\""
   ]
  },
  {
   "cell_type": "code",
   "outputs": [
    {
     "name": "stderr",
     "output_type": "stream",
     "text": [
      "2024-01-31 13:29:02,498 - __main__ - INFO - downloading and separating source audio ...\n",
      "2024-01-31 13:29:02,498 - __main__ - INFO - processing \"s9cdvcpolek\"\n",
      "2024-01-31 13:29:02,557 - __main__ - INFO - ... skipping download, item present locally\n",
      "2024-01-31 13:29:02,559 - __main__ - INFO - ... skipping separation, items present locally\n",
      "2024-01-31 13:29:02,559 - __main__ - INFO - ... finished processing item\n",
      "2024-01-31 13:29:02,559 - __main__ - INFO - ... the audio can be found in s9cdvcpolek/data\n",
      "2024-01-31 13:29:02,559 - __main__ - INFO - running detection on separated audio ...\n",
      "/home/huwcheston/PycharmProjects/Cambridge-Jazz-Trio-Database/src/detect/detect_utils.py:185: UserWarning: item s9cdvcpolek, track bass exceeds silence threshold: (1 > 0.33)\n",
      "  warnings.warn(\n",
      "2024-01-31 13:29:08,080 - __main__ - INFO - ... detecting beats\n",
      "2024-01-31 13:29:28,667 - __main__ - INFO - ... detecting onsets\n",
      "2024-01-31 13:29:33,371 - __main__ - INFO - ... the annotations can be found in s9cdvcpolek/annotations\n",
      "2024-01-31 13:29:33,371 - __main__ - INFO - extracting features from detected annotations ...\n",
      "/home/huwcheston/PycharmProjects/Cambridge-Jazz-Trio-Database/src/process.py:140: UserWarning: Feature bass_prop_async_nanmean did not extract from the track correctly. Replacing with average obtained rom dataset (0.01). This may invalidate any predictions made for this track!\n",
      "  warnings.warn(message)\n",
      "/home/huwcheston/PycharmProjects/Cambridge-Jazz-Trio-Database/src/process.py:140: UserWarning: Feature bass_prop_async_nanstd did not extract from the track correctly. Replacing with average obtained rom dataset (0.0). This may invalidate any predictions made for this track!\n",
      "  warnings.warn(message)\n",
      "/home/huwcheston/PycharmProjects/Cambridge-Jazz-Trio-Database/src/process.py:140: UserWarning: Feature self_coupling did not extract from the track correctly. Replacing with average obtained rom dataset (-0.5). This may invalidate any predictions made for this track!\n",
      "  warnings.warn(message)\n",
      "/home/huwcheston/PycharmProjects/Cambridge-Jazz-Trio-Database/src/process.py:140: UserWarning: Feature coupling_drums did not extract from the track correctly. Replacing with average obtained rom dataset (0.68). This may invalidate any predictions made for this track!\n",
      "  warnings.warn(message)\n",
      "/home/huwcheston/PycharmProjects/Cambridge-Jazz-Trio-Database/src/process.py:140: UserWarning: Feature coupling_bass did not extract from the track correctly. Replacing with average obtained rom dataset (0.42). This may invalidate any predictions made for this track!\n",
      "  warnings.warn(message)\n",
      "/home/huwcheston/PycharmProjects/Cambridge-Jazz-Trio-Database/src/process.py:140: UserWarning: Feature coupling_piano_drums did not extract from the track correctly. Replacing with average obtained rom dataset (0.14). This may invalidate any predictions made for this track!\n",
      "  warnings.warn(message)\n",
      "/home/huwcheston/PycharmProjects/Cambridge-Jazz-Trio-Database/src/process.py:140: UserWarning: Feature coupling_piano_bass did not extract from the track correctly. Replacing with average obtained rom dataset (0.14). This may invalidate any predictions made for this track!\n",
      "  warnings.warn(message)\n",
      "2024-01-31 13:29:33,815 - __main__ - INFO - ... predicted pianist is Bud Powell (top 3 predictions: Bud Powell: 36.0%, Bill Evans: 22.0%, McCoy Tyner: 10.0%)\n",
      "2024-01-31 13:29:33,815 - __main__ - INFO - ... the features can be found in s9cdvcpolek/outputs\n",
      "2024-01-31 13:29:33,815 - __main__ - INFO - done !\n"
     ]
    },
    {
     "data": {
      "text/plain": "0"
     },
     "execution_count": 10,
     "metadata": {},
     "output_type": "execute_result"
    }
   ],
   "source": [
    "subprocess.call(\n",
    "    'python3 src/process.py '\n",
    "    f'-i {URL} '\n",
    "    f'--begin {BEGIN} '\n",
    "    f'--end {END}',\n",
    "    shell=True\n",
    ")"
   ],
   "metadata": {
    "collapsed": false,
    "ExecuteTime": {
     "end_time": "2024-01-31T13:29:34.100597446Z",
     "start_time": "2024-01-31T13:29:01.097063844Z"
    },
    "pycharm": {
     "name": "#%%\n"
    }
   },
   "id": "2b265ecff99360aa",
   "execution_count": 10
  }
 ],
 "metadata": {
  "kernelspec": {
   "display_name": "Python 3",
   "language": "python",
   "name": "python3"
  },
  "language_info": {
   "codemirror_mode": {
    "name": "ipython",
    "version": 2
   },
   "file_extension": ".py",
   "mimetype": "text/x-python",
   "name": "python",
   "nbconvert_exporter": "python",
   "pygments_lexer": "ipython2",
   "version": "2.7.6"
  }
 },
 "nbformat": 4,
 "nbformat_minor": 5
}