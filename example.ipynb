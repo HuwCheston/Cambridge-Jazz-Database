{
 "cells": [
  {
   "cell_type": "markdown",
   "source": [
    "# Cambridge Jazz Trio Database\n",
    "## Process a track using our pipeline\n",
    "\n",
    "This short notebook contains an example script for processing a track using our pipeline, extracting features, making predictions, and creating plots."
   ],
   "metadata": {
    "collapsed": false,
    "pycharm": {
     "name": "#%% md\n"
    },
    "id": "70a449900a85dc6"
   },
   "id": "70a449900a85dc6"
  },
  {
   "cell_type": "markdown",
   "source": [
    "## Setup code\n",
    "Run this first!"
   ],
   "metadata": {
    "id": "P-JtLdU0xcWR",
    "pycharm": {
     "name": "#%% md\n"
    }
   },
   "id": "P-JtLdU0xcWR"
  },
  {
   "cell_type": "code",
   "source": [
    "# Clone the repository\n",
    "!git clone https://github.com/HuwCheston/Cambridge-Jazz-Trio-Database.git\n",
    "%cd /content/Cambridge-Jazz-Trio-Database/\n",
    "# Install the requirements\n",
    "!pip install -r requirements.txt\n",
    "# Final things to build\n",
    "!bash postBuild"
   ],
   "metadata": {
    "id": "f3YaMz5wo_jU",
    "pycharm": {
     "name": "#%%\n"
    }
   },
   "id": "f3YaMz5wo_jU",
   "execution_count": null,
   "outputs": []
  },
  {
   "cell_type": "markdown",
   "source": [
    "## Process track"
   ],
   "metadata": {
    "id": "krkiWyyJxnNh",
    "pycharm": {
     "name": "#%% md\n"
    }
   },
   "id": "krkiWyyJxnNh"
  },
  {
   "cell_type": "code",
   "execution_count": null,
   "id": "initial_id",
   "metadata": {
    "collapsed": true,
    "ExecuteTime": {
     "end_time": "2024-01-31T13:29:00.581298117Z",
     "start_time": "2024-01-31T13:29:00.578343340Z"
    },
    "pycharm": {
     "name": "#%%\n"
    },
    "id": "initial_id"
   },
   "outputs": [],
   "source": [
    "# Replace this with link to a track on YouTube (or upload a .wav to Colab)\n",
    "LINK = \"path/to/youtube/url/or/local.wav\"\n",
    "# Replace these with timestamps corresponding with the sections to analyse\n",
    "# Timestamps should be in \"%M:%S\" format, or can be None to use all audio\n",
    "BEGIN = None\n",
    "END = None"
   ]
  },
  {
   "cell_type": "code",
   "source": [
    "# Run this command after defining the variables above to process\n",
    "!python3 src/process.py -i $LINK --begin $BEGIN --end $END"
   ],
   "metadata": {
    "id": "AJ_MCcN8q95N",
    "pycharm": {
     "name": "#%%\n"
    }
   },
   "id": "AJ_MCcN8q95N",
   "execution_count": null,
   "outputs": []
  }
 ],
 "metadata": {
  "kernelspec": {
   "display_name": "Python 3",
   "language": "python",
   "name": "python3"
  },
  "language_info": {
   "codemirror_mode": {
    "name": "ipython",
    "version": 2
   },
   "file_extension": ".py",
   "mimetype": "text/x-python",
   "name": "python",
   "nbconvert_exporter": "python",
   "pygments_lexer": "ipython2",
   "version": "2.7.6"
  },
  "colab": {
   "provenance": []
  }
 },
 "nbformat": 4,
 "nbformat_minor": 5
}